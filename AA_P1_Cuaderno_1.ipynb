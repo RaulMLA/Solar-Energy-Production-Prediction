{
  "nbformat": 4,
  "nbformat_minor": 0,
  "metadata": {
    "colab": {
      "provenance": []
    },
    "kernelspec": {
      "name": "python3",
      "display_name": "Python 3"
    },
    "language_info": {
      "name": "python"
    }
  },
  "cells": [
    {
      "cell_type": "markdown",
      "source": [
        "![LogoUC3M](https://www.fundacion.uc3m.es/wp-content/uploads/2018/11/Logo-UC3M-nuevo.png)\n",
        "\n",
        "### Aprendizaje Automático · Grado en Ingeniería Informática · Curso 2022/23\n",
        "---\n",
        "# **Cuaderno 1** - Práctica 1: Predicción de la producción de energía\n",
        "***Grupo Reducido 82 - Grupo de laboratorio 13***\n",
        "\n",
        "\n",
        "\n",
        "\n"
      ],
      "metadata": {
        "id": "Pi-MaiIDcg-k"
      }
    },
    {
      "cell_type": "markdown",
      "source": [
        "# **Carga de datos**\n"
      ],
      "metadata": {
        "id": "ZhN55A3nYDX1"
      }
    },
    {
      "cell_type": "markdown",
      "source": [
        "Para comenzar, importaremos las librerías que necesitamos:\n",
        "\n",
        "+ `linear-tree`: Implementación de los modelos de árboles.\n",
        "+ `statsmodels`: Para los intervalos de confianza.\n"
      ],
      "metadata": {
        "id": "6Q0_UawDiu3S"
      }
    },
    {
      "cell_type": "code",
      "source": [
        "!pip install --upgrade linear-tree\n",
        "!pip install statsmodels"
      ],
      "metadata": {
        "colab": {
          "base_uri": "https://localhost:8080/"
        },
        "id": "fCk36Clg98Mp",
        "outputId": "0892cbe5-e587-49c4-d370-d7c40549a8c5"
      },
      "execution_count": 17,
      "outputs": [
        {
          "output_type": "stream",
          "name": "stdout",
          "text": [
            "Looking in indexes: https://pypi.org/simple, https://us-python.pkg.dev/colab-wheels/public/simple/\n",
            "Requirement already satisfied: linear-tree in /usr/local/lib/python3.9/dist-packages (0.3.5)\n",
            "Requirement already satisfied: scipy in /usr/local/lib/python3.9/dist-packages (from linear-tree) (1.10.1)\n",
            "Requirement already satisfied: scikit-learn>=0.24.2 in /usr/local/lib/python3.9/dist-packages (from linear-tree) (1.2.2)\n",
            "Requirement already satisfied: numpy in /usr/local/lib/python3.9/dist-packages (from linear-tree) (1.22.4)\n",
            "Requirement already satisfied: joblib>=1.1.1 in /usr/local/lib/python3.9/dist-packages (from scikit-learn>=0.24.2->linear-tree) (1.1.1)\n",
            "Requirement already satisfied: threadpoolctl>=2.0.0 in /usr/local/lib/python3.9/dist-packages (from scikit-learn>=0.24.2->linear-tree) (3.1.0)\n",
            "Looking in indexes: https://pypi.org/simple, https://us-python.pkg.dev/colab-wheels/public/simple/\n",
            "Requirement already satisfied: statsmodels in /usr/local/lib/python3.9/dist-packages (0.13.5)\n",
            "Requirement already satisfied: pandas>=0.25 in /usr/local/lib/python3.9/dist-packages (from statsmodels) (1.4.4)\n",
            "Requirement already satisfied: packaging>=21.3 in /usr/local/lib/python3.9/dist-packages (from statsmodels) (23.0)\n",
            "Requirement already satisfied: numpy>=1.17 in /usr/local/lib/python3.9/dist-packages (from statsmodels) (1.22.4)\n",
            "Requirement already satisfied: scipy>=1.3 in /usr/local/lib/python3.9/dist-packages (from statsmodels) (1.10.1)\n",
            "Requirement already satisfied: patsy>=0.5.2 in /usr/local/lib/python3.9/dist-packages (from statsmodels) (0.5.3)\n",
            "Requirement already satisfied: python-dateutil>=2.8.1 in /usr/local/lib/python3.9/dist-packages (from pandas>=0.25->statsmodels) (2.8.2)\n",
            "Requirement already satisfied: pytz>=2020.1 in /usr/local/lib/python3.9/dist-packages (from pandas>=0.25->statsmodels) (2022.7.1)\n",
            "Requirement already satisfied: six in /usr/local/lib/python3.9/dist-packages (from patsy>=0.5.2->statsmodels) (1.16.0)\n"
          ]
        }
      ]
    },
    {
      "cell_type": "markdown",
      "source": [
        "Una vez instaladas las bibliotecas necesarias, importamos **Numpy** y **Pandas** ya que los necesitaremos para el desarrollo de la práctica.\n",
        "Destacar que nos referiremos a **Numpy** como *np* y a **Pandas** como *pd* por simplicidad."
      ],
      "metadata": {
        "id": "lejQonv8bVNv"
      }
    },
    {
      "cell_type": "code",
      "source": [
        "import numpy as np\n",
        "import pandas as pd"
      ],
      "metadata": {
        "id": "_rQEBPIB-C17"
      },
      "execution_count": 18,
      "outputs": []
    },
    {
      "cell_type": "markdown",
      "source": [
        "A continuación, cargaremos los datos necesarios. Dado que somos el grupo 13, usaremos los dos conjuntos de datos correspondientes.</br></br>\n",
        "Por una parte, tenemos los **datos disponibles**, que nos servirán para entrenar, \n",
        "evaluar y construir el modelo final y por otra parte los **datos de competición** sobre los que usaremos el modelo final para hacer las predicciones correspondientes.</br></br>"
      ],
      "metadata": {
        "id": "j-WhTPVNb05b"
      }
    },
    {
      "cell_type": "code",
      "source": [
        "# Datos disponibles.\n",
        "disp_df = pd.read_csv(\"disp_st13ns1.txt.bz2\",\n",
        "                      compression=\"bz2\",\n",
        "                      index_col=0)\n",
        "\n",
        "# Datos competición.\n",
        "comp_df = pd.read_csv(\"comp_st13ns1.txt.bz2\",\n",
        "                      compression=\"bz2\",\n",
        "                      index_col=0)\n",
        "\n",
        "# Mostramos la información de cada conjunto de datos.\n",
        "print(f\"El conjunto de datos disponibles tiene {len(disp_df)} instancias.\")\n",
        "print(f\"El conjunto de datos de competición tiene {len(disp_df)} instancias.\")"
      ],
      "metadata": {
        "colab": {
          "base_uri": "https://localhost:8080/",
          "height": 49
        },
        "id": "4HeVvq-ublhz",
        "outputId": "8fcd532d-2b5a-4a60-b191-13d5bd01ea92"
      },
      "execution_count": 19,
      "outputs": [
        {
          "output_type": "display_data",
          "data": {
            "text/plain": [
              "El conjunto de datos disponibles tiene \u001b[1;36m4380\u001b[0m instancias.\n"
            ],
            "text/html": [
              "<pre style=\"white-space:pre;overflow-x:auto;line-height:normal;font-family:Menlo,'DejaVu Sans Mono',consolas,'Courier New',monospace\">El conjunto de datos disponibles tiene <span style=\"color: #008080; text-decoration-color: #008080; font-weight: bold\">4380</span> instancias.\n",
              "</pre>\n"
            ]
          },
          "metadata": {}
        },
        {
          "output_type": "display_data",
          "data": {
            "text/plain": [
              "El conjunto de datos de competición tiene \u001b[1;36m4380\u001b[0m instancias.\n"
            ],
            "text/html": [
              "<pre style=\"white-space:pre;overflow-x:auto;line-height:normal;font-family:Menlo,'DejaVu Sans Mono',consolas,'Courier New',monospace\">El conjunto de datos de competición tiene <span style=\"color: #008080; text-decoration-color: #008080; font-weight: bold\">4380</span> instancias.\n",
              "</pre>\n"
            ]
          },
          "metadata": {}
        }
      ]
    },
    {
      "cell_type": "markdown",
      "source": [
        "A continuación, separamos la **matriz de atributos** (**X**) y el **vector de la variable de respuesta** *salida* (**y**)."
      ],
      "metadata": {
        "id": "1udUEI81enqH"
      }
    },
    {
      "cell_type": "code",
      "source": [
        "# Datos.\n",
        "X = disp_df.drop('salida', axis=1)\n",
        "\n",
        "# Etiquetas.\n",
        "y = disp_df.salida"
      ],
      "metadata": {
        "id": "OwSjZBG3CQaR"
      },
      "execution_count": 20,
      "outputs": []
    },
    {
      "cell_type": "markdown",
      "source": [
        "También, definiremos las funciones auxiliares que nos ayudarán a evaluar nuestro desarrollo."
      ],
      "metadata": {
        "id": "AwOuLpzP52Y5"
      }
    },
    {
      "cell_type": "code",
      "source": [
        "from sklearn import metrics\n",
        "\n",
        "def mse (y_test, y_test_pred):\n",
        "    '''Mean squared error.'''\n",
        "    return metrics.mean_squared_error(y_test, y_test_pred)\n",
        "\n",
        "def rmse (y_test, y_test_pred):\n",
        "    '''Root mean squared error.'''\n",
        "    return np.sqrt(mse(y_test, y_test_pred))\n",
        "\n",
        "def mae (y_test, y_test_pred):\n",
        "    '''Mean absolute error.'''\n",
        "    return metrics.mean_absolute_error(y_test, y_test_pred)"
      ],
      "metadata": {
        "id": "rmV2DFIV6EBf"
      },
      "execution_count": 21,
      "outputs": []
    },
    {
      "cell_type": "markdown",
      "source": [
        "Adicionalmente vamos a usar la biblioteca rich que nos permite mostrar las salidas por consola de manera más clara."
      ],
      "metadata": {
        "id": "UZt2lZoS8Dm3"
      }
    },
    {
      "cell_type": "code",
      "source": [
        "from rich import print"
      ],
      "metadata": {
        "id": "YXXzIFbj8Nf_"
      },
      "execution_count": 22,
      "outputs": []
    },
    {
      "cell_type": "markdown",
      "source": [
        "# **Análisis Exploratorio de Datos (EDA)**\n",
        "\n",
        "*   Elemento de lista\n",
        "*   Elemento de lista\n",
        "\n",
        "\n",
        "Antes de comenzar, destacar que dado que los resultados deben ser reproducibles, hemos fijado la **semilla de números aleatorios** en los lugares adecuados. Para ello, hemos seleccionado como semilla el número del grupo de prácticas (*13*).</br></br>\n",
        "Para poder realizar el análisis exploratorio de datos, llevaremos a cabo los siguientes pasos:\n",
        "\n",
        "+ Número de instancias y atributos.\n",
        "+ Tipo de atributos (numéricos o categóricos).\n",
        "+ Missing values.\n",
        "+ Tipo de problema (clasificación o regresión).\n"
      ],
      "metadata": {
        "id": "zH13876u6V7b"
      }
    },
    {
      "cell_type": "markdown",
      "source": [
        "### **Número de instancias y atributos**\n",
        "Los **datos disponibles** cuentan con 75 atributos y la variable de respuesta *salida*. Contiene 12 años de datos considerando una instancia por día y todos los años de 365 días. Por tanto, contamos con un total de **4380 instancias**.</br></br>\n",
        "\n",
        "Los **datos de competición** cuentan con las mismas 75 variables de entrada que los datos disponibles y se trata de un conjunto con 2 años de datos y una instancia por día. En este caso, no se proporciona la variable de respuesta salida, dado que usaremos nuestro modelo final para hacer predicciones sobre estos datos como ya hemos indicado antes. Por tanto, contamos con un total de **733 instancias**.</br></br>\n",
        "\n",
        "A continuación, profundizaremos más en los atributos, su significado y nomenclatura.</br></br>\n",
        "\n",
        "Como podemos ver en la siguiente tabla, contamos con **15 atributos** diferentes, cada uno de ellos con su respectivo nombre (identificador) y con su unidad concreta. Estos atributos corresponden con **variables meteorológicas** diversas.</br></br>\n",
        "\n",
        "| Atributo | Descripción | Unidades |\n",
        "| :- | :- | -: |\n",
        "| `apcp_sfc` | Precipitación acumulada de 3 horas en la superficie. | $\\dfrac{kg}{m^2}$ |\n",
        "| `dlwrf_sfc` | Promedio de flujo radiativo de onda larga hacia abajo en la superficie. | $\\dfrac{W}{m^2}$ |\n",
        "| `dswrf_sfc` | Promedio de flujo radiativo de onda corta hacia abajo en la superficie. | $\\dfrac{W}{m^2}$ |\n",
        "| `pres_msl` | La presión del aire al nivel medio del mar. | $Pa$ |\n",
        "| pwat_eatm\t | Agua precipitable sobre toda la profundidad de la atmósfera. | $\\dfrac{kg}{m^2}$ |\n",
        "| `spfh_2m`\t | Humedad específica a 2 m sobre el suelo. | $\\dfrac{kg}{kg}$ |\n",
        "| `tcdc_eatm`\t | Cobertura total de nubes sobre toda la profundidad de la atmósfera. | $\\%$ |\n",
        "| `tcolc_eatm` | Condensado total integrado en la columna sobre toda la atmósfera. | $\\dfrac{kg}{m^2}$ |\n",
        "| `tmax_2m` | Temperatura máxima en las últimas 3 horas a 2 m sobre el suelo. | $K$ |\n",
        "| `tmin_2m` | Temperatura mínima en las últimas 3 horas a 2 m sobre el suelo. | $K$ |\n",
        "| `tmp_2m` | Temperatura actual a 2 m sobre el suelo.\t| $K$ |\n",
        "| `tmp_sfc` | Temperatura de la superficie. | $K$ |\n",
        "| `ulwrf_sfc` | Radiación ascendente de onda larga en la superficie. | $\\dfrac{kg}{m^2}$ |\n",
        "| `ulwrf_tatm` | Radiación ascendente de onda larga en la parte superior de la atmósfera. | $\\dfrac{kg}{m^2}$ |\n",
        "| `uswrf_sfc` | Radiación ascendente de onda corta en la superficie. | $\\dfrac{kg}{m^2}$ |\n",
        "\n",
        "</br>Partiendo de los 15 atributos que podemos observar en la tabla anterior, se indica una variable en los datos para cada uno ellos en 5 momentos del día. Esto es, contamos con:</br></br>\n",
        "\n",
        "$5\\;instantes\\;de\\;tiempo\\;\\cdot\\;15\\;variables\\;meteorológicas\\;=\\;75\\;variables\\;de\\;entrada$\n",
        "\n",
        "</br>Los instantes de tiempo vienen dados por una numeración del 1 al 5:\n",
        "+ 1 $\\rightarrow$ 12h\n",
        "+ 2 $\\rightarrow$ 15h\n",
        "+ 3 $\\rightarrow$ 18h\n",
        "+ 4 $\\rightarrow$ 21h\n",
        "+ 5 $\\rightarrow$ 24h\n",
        "\n",
        "</br>Por tanto, cada variable meteorológica aparece en el conjunto de datos 5 veces, una por cada instante de tiempo. El instante de tiempo se indica en el subíndice $i$, donde $i=1,2,3,4,5$. Por ejemplo, $apcp\\_sfc_1$ es la variable que indica la precipitación acumulada de 3 horas en la superficie a las 12h (instante de tiempo 1)."
      ],
      "metadata": {
        "id": "ipUSxR_Cr8-W"
      }
    },
    {
      "cell_type": "markdown",
      "source": [
        "## **Tipo de atributos**.\n",
        "Dentro de los diferentes tipos de atributos de los datos podemos encontrar los categóricos, numéricos u ordinales.</br></br>\n",
        "\n",
        "En el caso de nuestros datos, podemos ver como claramente todos ellos son **atributos numéricos reales** a excepción de la variable de respuesta *salida*, la cual es un **atributo numérico entero**.</br></br>\n",
        "\n",
        "Por tanto, dado que todos los datos con los que vamos a tratar son atributos numéricos, no tendremos que transformar ninguna variable categórica en one-hot-encoding, dado que no vamos a lidiar con ninguna variable de este tipo.\n"
      ],
      "metadata": {
        "id": "-OgKhQTDsCF1"
      }
    },
    {
      "cell_type": "code",
      "source": [
        "# Mostramos todos los datos.\n",
        "print('Matriz de atributos:\\n\\n', X)\n",
        "print('\\n\\nVector de la variable de respuesta:\\n\\n', y)\n",
        "\n",
        "# Mostramos el tipo de dato de una variable meteorológica y de un valor de la variable de respuesta.\n",
        "print('\\nEjemplo de tipo de dato de variable meteorológica:', type(X['apcp_sf1_1'][0]))\n",
        "print('Ejemplo de tipo de dato de variable de respuesta:', type(y[0]))"
      ],
      "metadata": {
        "id": "9SKPmjWDo3Fi",
        "outputId": "5ecc373f-18b2-42b8-a902-3367c60fba7d",
        "colab": {
          "base_uri": "https://localhost:8080/",
          "height": 1000
        }
      },
      "execution_count": 23,
      "outputs": [
        {
          "output_type": "display_data",
          "data": {
            "text/plain": [
              "Matriz de atributos:\n",
              "\n",
              "        apcp_sf1_1  apcp_sf2_1  apcp_sf3_1  apcp_sf4_1  apcp_sf5_1  dlwrf_s1_1  \\\n",
              "V1       \u001b[1;36m0.000000\u001b[0m    \u001b[1;36m0.000000\u001b[0m    \u001b[1;36m0.000000\u001b[0m    \u001b[1;36m0.000000\u001b[0m    \u001b[1;36m0.000000\u001b[0m  \u001b[1;36m276.583582\u001b[0m   \n",
              "V2       \u001b[1;36m0.000000\u001b[0m    \u001b[1;36m0.000000\u001b[0m    \u001b[1;36m0.011818\u001b[0m    \u001b[1;36m0.037273\u001b[0m    \u001b[1;36m0.543636\u001b[0m  \u001b[1;36m249.089505\u001b[0m   \n",
              "V3       \u001b[1;36m0.014545\u001b[0m    \u001b[1;36m0.000000\u001b[0m    \u001b[1;36m0.000000\u001b[0m    \u001b[1;36m0.000000\u001b[0m    \u001b[1;36m0.002727\u001b[0m  \u001b[1;36m229.461820\u001b[0m   \n",
              "V4       \u001b[1;36m0.000000\u001b[0m    \u001b[1;36m0.009091\u001b[0m    \u001b[1;36m0.000000\u001b[0m    \u001b[1;36m0.000000\u001b[0m    \u001b[1;36m0.000000\u001b[0m  \u001b[1;36m239.590321\u001b[0m   \n",
              "V5       \u001b[1;36m0.000000\u001b[0m    \u001b[1;36m0.000000\u001b[0m    \u001b[1;36m0.000000\u001b[0m    \u001b[1;36m0.000000\u001b[0m    \u001b[1;36m0.000000\u001b[0m  \u001b[1;36m230.253657\u001b[0m   \n",
              "\u001b[33m...\u001b[0m           \u001b[33m...\u001b[0m         \u001b[33m...\u001b[0m         \u001b[33m...\u001b[0m         \u001b[33m...\u001b[0m         \u001b[33m...\u001b[0m         \u001b[33m...\u001b[0m   \n",
              "V4376    \u001b[1;36m0.000909\u001b[0m    \u001b[1;36m0.114545\u001b[0m    \u001b[1;36m0.352727\u001b[0m    \u001b[1;36m0.882727\u001b[0m    \u001b[1;36m1.379091\u001b[0m  \u001b[1;36m284.532288\u001b[0m   \n",
              "V4377    \u001b[1;36m0.000909\u001b[0m    \u001b[1;36m0.000000\u001b[0m    \u001b[1;36m0.000000\u001b[0m    \u001b[1;36m0.000000\u001b[0m    \u001b[1;36m0.000000\u001b[0m  \u001b[1;36m251.460183\u001b[0m   \n",
              "V4378    \u001b[1;36m0.000000\u001b[0m    \u001b[1;36m0.000000\u001b[0m    \u001b[1;36m0.000000\u001b[0m    \u001b[1;36m0.000000\u001b[0m    \u001b[1;36m0.000000\u001b[0m  \u001b[1;36m268.446164\u001b[0m   \n",
              "V4379    \u001b[1;36m0.000000\u001b[0m    \u001b[1;36m0.000000\u001b[0m    \u001b[1;36m0.000000\u001b[0m    \u001b[1;36m0.000000\u001b[0m    \u001b[1;36m0.000000\u001b[0m  \u001b[1;36m268.225686\u001b[0m   \n",
              "V4380    \u001b[1;36m0.000000\u001b[0m    \u001b[1;36m0.000000\u001b[0m    \u001b[1;36m0.000000\u001b[0m    \u001b[1;36m0.000000\u001b[0m    \u001b[1;36m0.000000\u001b[0m  \u001b[1;36m268.385348\u001b[0m   \n",
              "\n",
              "       dlwrf_s2_1  dlwrf_s3_1  dlwrf_s4_1  dlwrf_s5_1  \u001b[33m...\u001b[0m  ulwrf_t1_1  \\\n",
              "V1     \u001b[1;36m246.514368\u001b[0m  \u001b[1;36m251.629031\u001b[0m  \u001b[1;36m264.832217\u001b[0m  \u001b[1;36m262.468350\u001b[0m  \u001b[33m...\u001b[0m  \u001b[1;36m201.425894\u001b[0m   \n",
              "V2     \u001b[1;36m282.460488\u001b[0m  \u001b[1;36m297.254822\u001b[0m  \u001b[1;36m315.532651\u001b[0m  \u001b[1;36m310.292719\u001b[0m  \u001b[33m...\u001b[0m  \u001b[1;36m230.836691\u001b[0m   \n",
              "V3     \u001b[1;36m215.177840\u001b[0m  \u001b[1;36m218.042184\u001b[0m  \u001b[1;36m245.620031\u001b[0m  \u001b[1;36m246.749223\u001b[0m  \u001b[33m...\u001b[0m  \u001b[1;36m226.019290\u001b[0m   \n",
              "V4     \u001b[1;36m261.169269\u001b[0m  \u001b[1;36m271.857217\u001b[0m  \u001b[1;36m258.001828\u001b[0m  \u001b[1;36m247.076775\u001b[0m  \u001b[33m...\u001b[0m  \u001b[1;36m235.784869\u001b[0m   \n",
              "V5     \u001b[1;36m235.563414\u001b[0m  \u001b[1;36m243.941731\u001b[0m  \u001b[1;36m266.031791\u001b[0m  \u001b[1;36m269.572826\u001b[0m  \u001b[33m...\u001b[0m  \u001b[1;36m231.005317\u001b[0m   \n",
              "\u001b[33m...\u001b[0m           \u001b[33m...\u001b[0m         \u001b[33m...\u001b[0m         \u001b[33m...\u001b[0m         \u001b[33m...\u001b[0m  \u001b[33m...\u001b[0m         \u001b[33m...\u001b[0m   \n",
              "V4376  \u001b[1;36m277.760515\u001b[0m  \u001b[1;36m293.636938\u001b[0m  \u001b[1;36m337.863753\u001b[0m  \u001b[1;36m330.097956\u001b[0m  \u001b[33m...\u001b[0m  \u001b[1;36m236.903184\u001b[0m   \n",
              "V4377  \u001b[1;36m244.463848\u001b[0m  \u001b[1;36m248.985195\u001b[0m  \u001b[1;36m266.057689\u001b[0m  \u001b[1;36m265.432201\u001b[0m  \u001b[33m...\u001b[0m  \u001b[1;36m244.682028\u001b[0m   \n",
              "V4378  \u001b[1;36m271.475733\u001b[0m  \u001b[1;36m274.081410\u001b[0m  \u001b[1;36m287.933849\u001b[0m  \u001b[1;36m284.624115\u001b[0m  \u001b[33m...\u001b[0m  \u001b[1;36m239.584692\u001b[0m   \n",
              "V4379  \u001b[1;36m263.890245\u001b[0m  \u001b[1;36m271.744013\u001b[0m  \u001b[1;36m291.337566\u001b[0m  \u001b[1;36m291.260448\u001b[0m  \u001b[33m...\u001b[0m  \u001b[1;36m270.318764\u001b[0m   \n",
              "V4380  \u001b[1;36m265.254364\u001b[0m  \u001b[1;36m271.679615\u001b[0m  \u001b[1;36m291.476737\u001b[0m  \u001b[1;36m288.541684\u001b[0m  \u001b[33m...\u001b[0m  \u001b[1;36m247.253002\u001b[0m   \n",
              "\n",
              "       ulwrf_t2_1  ulwrf_t3_1  ulwrf_t4_1  ulwrf_t5_1  uswrf_s1_1  uswrf_s2_1  \\\n",
              "V1     \u001b[1;36m249.504475\u001b[0m  \u001b[1;36m251.942089\u001b[0m  \u001b[1;36m258.069677\u001b[0m  \u001b[1;36m254.249663\u001b[0m         \u001b[1;36m0.0\u001b[0m    \u001b[1;36m9.181818\u001b[0m   \n",
              "V2     \u001b[1;36m200.094627\u001b[0m  \u001b[1;36m202.663639\u001b[0m  \u001b[1;36m196.833872\u001b[0m  \u001b[1;36m202.962007\u001b[0m         \u001b[1;36m0.0\u001b[0m    \u001b[1;36m4.545455\u001b[0m   \n",
              "V3     \u001b[1;36m232.556009\u001b[0m  \u001b[1;36m233.298932\u001b[0m  \u001b[1;36m211.631876\u001b[0m  \u001b[1;36m210.620375\u001b[0m         \u001b[1;36m0.0\u001b[0m   \u001b[1;36m13.909091\u001b[0m   \n",
              "V4     \u001b[1;36m235.189503\u001b[0m  \u001b[1;36m236.216754\u001b[0m  \u001b[1;36m244.018491\u001b[0m  \u001b[1;36m239.049223\u001b[0m         \u001b[1;36m0.0\u001b[0m    \u001b[1;36m5.454545\u001b[0m   \n",
              "V5     \u001b[1;36m230.797569\u001b[0m  \u001b[1;36m233.680077\u001b[0m  \u001b[1;36m252.037280\u001b[0m  \u001b[1;36m246.291591\u001b[0m         \u001b[1;36m0.0\u001b[0m    \u001b[1;36m9.000000\u001b[0m   \n",
              "\u001b[33m...\u001b[0m           \u001b[33m...\u001b[0m         \u001b[33m...\u001b[0m         \u001b[33m...\u001b[0m         \u001b[33m...\u001b[0m         \u001b[33m...\u001b[0m         \u001b[33m...\u001b[0m   \n",
              "V4376  \u001b[1;36m236.348444\u001b[0m  \u001b[1;36m224.870748\u001b[0m  \u001b[1;36m175.644218\u001b[0m  \u001b[1;36m190.153040\u001b[0m         \u001b[1;36m0.0\u001b[0m    \u001b[1;36m6.818182\u001b[0m   \n",
              "V4377  \u001b[1;36m243.310976\u001b[0m  \u001b[1;36m248.244164\u001b[0m  \u001b[1;36m263.429332\u001b[0m  \u001b[1;36m260.205636\u001b[0m         \u001b[1;36m0.0\u001b[0m   \u001b[1;36m10.000000\u001b[0m   \n",
              "V4378  \u001b[1;36m221.705779\u001b[0m  \u001b[1;36m236.372099\u001b[0m  \u001b[1;36m273.823583\u001b[0m  \u001b[1;36m274.388403\u001b[0m         \u001b[1;36m0.0\u001b[0m    \u001b[1;36m7.909091\u001b[0m   \n",
              "V4379  \u001b[1;36m257.707263\u001b[0m  \u001b[1;36m254.163126\u001b[0m  \u001b[1;36m281.832139\u001b[0m  \u001b[1;36m277.711556\u001b[0m         \u001b[1;36m0.0\u001b[0m    \u001b[1;36m9.727273\u001b[0m   \n",
              "V4380  \u001b[1;36m241.352363\u001b[0m  \u001b[1;36m245.428872\u001b[0m  \u001b[1;36m257.719322\u001b[0m  \u001b[1;36m257.394481\u001b[0m         \u001b[1;36m0.0\u001b[0m    \u001b[1;36m9.000000\u001b[0m   \n",
              "\n",
              "       uswrf_s3_1  uswrf_s4_1  uswrf_s5_1  \n",
              "V1      \u001b[1;36m49.000000\u001b[0m  \u001b[1;36m103.000000\u001b[0m   \u001b[1;36m68.000000\u001b[0m  \n",
              "V2      \u001b[1;36m19.000000\u001b[0m   \u001b[1;36m47.272727\u001b[0m   \u001b[1;36m32.909091\u001b[0m  \n",
              "V3      \u001b[1;36m77.636364\u001b[0m  \u001b[1;36m141.090909\u001b[0m   \u001b[1;36m90.454545\u001b[0m  \n",
              "V4      \u001b[1;36m28.909091\u001b[0m   \u001b[1;36m90.818182\u001b[0m   \u001b[1;36m62.636364\u001b[0m  \n",
              "V5      \u001b[1;36m47.181818\u001b[0m  \u001b[1;36m102.272727\u001b[0m   \u001b[1;36m67.636364\u001b[0m  \n",
              "\u001b[33m...\u001b[0m           \u001b[33m...\u001b[0m         \u001b[33m...\u001b[0m         \u001b[33m...\u001b[0m  \n",
              "V4376   \u001b[1;36m28.545455\u001b[0m   \u001b[1;36m27.181818\u001b[0m   \u001b[1;36m18.727273\u001b[0m  \n",
              "V4377   \u001b[1;36m50.090909\u001b[0m  \u001b[1;36m104.545455\u001b[0m   \u001b[1;36m68.454545\u001b[0m  \n",
              "V4378   \u001b[1;36m46.909091\u001b[0m  \u001b[1;36m102.000000\u001b[0m   \u001b[1;36m67.000000\u001b[0m  \n",
              "V4379   \u001b[1;36m48.181818\u001b[0m  \u001b[1;36m104.909091\u001b[0m   \u001b[1;36m68.818182\u001b[0m  \n",
              "V4380   \u001b[1;36m47.000000\u001b[0m   \u001b[1;36m98.636364\u001b[0m   \u001b[1;36m64.818182\u001b[0m  \n",
              "\n",
              "\u001b[1m[\u001b[0m\u001b[1;36m4380\u001b[0m rows x \u001b[1;36m75\u001b[0m columns\u001b[1m]\u001b[0m\n"
            ],
            "text/html": [
              "<pre style=\"white-space:pre;overflow-x:auto;line-height:normal;font-family:Menlo,'DejaVu Sans Mono',consolas,'Courier New',monospace\">Matriz de atributos:\n",
              "\n",
              "        apcp_sf1_1  apcp_sf2_1  apcp_sf3_1  apcp_sf4_1  apcp_sf5_1  dlwrf_s1_1  \\\n",
              "V1       <span style=\"color: #008080; text-decoration-color: #008080; font-weight: bold\">0.000000</span>    <span style=\"color: #008080; text-decoration-color: #008080; font-weight: bold\">0.000000</span>    <span style=\"color: #008080; text-decoration-color: #008080; font-weight: bold\">0.000000</span>    <span style=\"color: #008080; text-decoration-color: #008080; font-weight: bold\">0.000000</span>    <span style=\"color: #008080; text-decoration-color: #008080; font-weight: bold\">0.000000</span>  <span style=\"color: #008080; text-decoration-color: #008080; font-weight: bold\">276.583582</span>   \n",
              "V2       <span style=\"color: #008080; text-decoration-color: #008080; font-weight: bold\">0.000000</span>    <span style=\"color: #008080; text-decoration-color: #008080; font-weight: bold\">0.000000</span>    <span style=\"color: #008080; text-decoration-color: #008080; font-weight: bold\">0.011818</span>    <span style=\"color: #008080; text-decoration-color: #008080; font-weight: bold\">0.037273</span>    <span style=\"color: #008080; text-decoration-color: #008080; font-weight: bold\">0.543636</span>  <span style=\"color: #008080; text-decoration-color: #008080; font-weight: bold\">249.089505</span>   \n",
              "V3       <span style=\"color: #008080; text-decoration-color: #008080; font-weight: bold\">0.014545</span>    <span style=\"color: #008080; text-decoration-color: #008080; font-weight: bold\">0.000000</span>    <span style=\"color: #008080; text-decoration-color: #008080; font-weight: bold\">0.000000</span>    <span style=\"color: #008080; text-decoration-color: #008080; font-weight: bold\">0.000000</span>    <span style=\"color: #008080; text-decoration-color: #008080; font-weight: bold\">0.002727</span>  <span style=\"color: #008080; text-decoration-color: #008080; font-weight: bold\">229.461820</span>   \n",
              "V4       <span style=\"color: #008080; text-decoration-color: #008080; font-weight: bold\">0.000000</span>    <span style=\"color: #008080; text-decoration-color: #008080; font-weight: bold\">0.009091</span>    <span style=\"color: #008080; text-decoration-color: #008080; font-weight: bold\">0.000000</span>    <span style=\"color: #008080; text-decoration-color: #008080; font-weight: bold\">0.000000</span>    <span style=\"color: #008080; text-decoration-color: #008080; font-weight: bold\">0.000000</span>  <span style=\"color: #008080; text-decoration-color: #008080; font-weight: bold\">239.590321</span>   \n",
              "V5       <span style=\"color: #008080; text-decoration-color: #008080; font-weight: bold\">0.000000</span>    <span style=\"color: #008080; text-decoration-color: #008080; font-weight: bold\">0.000000</span>    <span style=\"color: #008080; text-decoration-color: #008080; font-weight: bold\">0.000000</span>    <span style=\"color: #008080; text-decoration-color: #008080; font-weight: bold\">0.000000</span>    <span style=\"color: #008080; text-decoration-color: #008080; font-weight: bold\">0.000000</span>  <span style=\"color: #008080; text-decoration-color: #008080; font-weight: bold\">230.253657</span>   \n",
              "<span style=\"color: #808000; text-decoration-color: #808000\">...</span>           <span style=\"color: #808000; text-decoration-color: #808000\">...</span>         <span style=\"color: #808000; text-decoration-color: #808000\">...</span>         <span style=\"color: #808000; text-decoration-color: #808000\">...</span>         <span style=\"color: #808000; text-decoration-color: #808000\">...</span>         <span style=\"color: #808000; text-decoration-color: #808000\">...</span>         <span style=\"color: #808000; text-decoration-color: #808000\">...</span>   \n",
              "V4376    <span style=\"color: #008080; text-decoration-color: #008080; font-weight: bold\">0.000909</span>    <span style=\"color: #008080; text-decoration-color: #008080; font-weight: bold\">0.114545</span>    <span style=\"color: #008080; text-decoration-color: #008080; font-weight: bold\">0.352727</span>    <span style=\"color: #008080; text-decoration-color: #008080; font-weight: bold\">0.882727</span>    <span style=\"color: #008080; text-decoration-color: #008080; font-weight: bold\">1.379091</span>  <span style=\"color: #008080; text-decoration-color: #008080; font-weight: bold\">284.532288</span>   \n",
              "V4377    <span style=\"color: #008080; text-decoration-color: #008080; font-weight: bold\">0.000909</span>    <span style=\"color: #008080; text-decoration-color: #008080; font-weight: bold\">0.000000</span>    <span style=\"color: #008080; text-decoration-color: #008080; font-weight: bold\">0.000000</span>    <span style=\"color: #008080; text-decoration-color: #008080; font-weight: bold\">0.000000</span>    <span style=\"color: #008080; text-decoration-color: #008080; font-weight: bold\">0.000000</span>  <span style=\"color: #008080; text-decoration-color: #008080; font-weight: bold\">251.460183</span>   \n",
              "V4378    <span style=\"color: #008080; text-decoration-color: #008080; font-weight: bold\">0.000000</span>    <span style=\"color: #008080; text-decoration-color: #008080; font-weight: bold\">0.000000</span>    <span style=\"color: #008080; text-decoration-color: #008080; font-weight: bold\">0.000000</span>    <span style=\"color: #008080; text-decoration-color: #008080; font-weight: bold\">0.000000</span>    <span style=\"color: #008080; text-decoration-color: #008080; font-weight: bold\">0.000000</span>  <span style=\"color: #008080; text-decoration-color: #008080; font-weight: bold\">268.446164</span>   \n",
              "V4379    <span style=\"color: #008080; text-decoration-color: #008080; font-weight: bold\">0.000000</span>    <span style=\"color: #008080; text-decoration-color: #008080; font-weight: bold\">0.000000</span>    <span style=\"color: #008080; text-decoration-color: #008080; font-weight: bold\">0.000000</span>    <span style=\"color: #008080; text-decoration-color: #008080; font-weight: bold\">0.000000</span>    <span style=\"color: #008080; text-decoration-color: #008080; font-weight: bold\">0.000000</span>  <span style=\"color: #008080; text-decoration-color: #008080; font-weight: bold\">268.225686</span>   \n",
              "V4380    <span style=\"color: #008080; text-decoration-color: #008080; font-weight: bold\">0.000000</span>    <span style=\"color: #008080; text-decoration-color: #008080; font-weight: bold\">0.000000</span>    <span style=\"color: #008080; text-decoration-color: #008080; font-weight: bold\">0.000000</span>    <span style=\"color: #008080; text-decoration-color: #008080; font-weight: bold\">0.000000</span>    <span style=\"color: #008080; text-decoration-color: #008080; font-weight: bold\">0.000000</span>  <span style=\"color: #008080; text-decoration-color: #008080; font-weight: bold\">268.385348</span>   \n",
              "\n",
              "       dlwrf_s2_1  dlwrf_s3_1  dlwrf_s4_1  dlwrf_s5_1  <span style=\"color: #808000; text-decoration-color: #808000\">...</span>  ulwrf_t1_1  \\\n",
              "V1     <span style=\"color: #008080; text-decoration-color: #008080; font-weight: bold\">246.514368</span>  <span style=\"color: #008080; text-decoration-color: #008080; font-weight: bold\">251.629031</span>  <span style=\"color: #008080; text-decoration-color: #008080; font-weight: bold\">264.832217</span>  <span style=\"color: #008080; text-decoration-color: #008080; font-weight: bold\">262.468350</span>  <span style=\"color: #808000; text-decoration-color: #808000\">...</span>  <span style=\"color: #008080; text-decoration-color: #008080; font-weight: bold\">201.425894</span>   \n",
              "V2     <span style=\"color: #008080; text-decoration-color: #008080; font-weight: bold\">282.460488</span>  <span style=\"color: #008080; text-decoration-color: #008080; font-weight: bold\">297.254822</span>  <span style=\"color: #008080; text-decoration-color: #008080; font-weight: bold\">315.532651</span>  <span style=\"color: #008080; text-decoration-color: #008080; font-weight: bold\">310.292719</span>  <span style=\"color: #808000; text-decoration-color: #808000\">...</span>  <span style=\"color: #008080; text-decoration-color: #008080; font-weight: bold\">230.836691</span>   \n",
              "V3     <span style=\"color: #008080; text-decoration-color: #008080; font-weight: bold\">215.177840</span>  <span style=\"color: #008080; text-decoration-color: #008080; font-weight: bold\">218.042184</span>  <span style=\"color: #008080; text-decoration-color: #008080; font-weight: bold\">245.620031</span>  <span style=\"color: #008080; text-decoration-color: #008080; font-weight: bold\">246.749223</span>  <span style=\"color: #808000; text-decoration-color: #808000\">...</span>  <span style=\"color: #008080; text-decoration-color: #008080; font-weight: bold\">226.019290</span>   \n",
              "V4     <span style=\"color: #008080; text-decoration-color: #008080; font-weight: bold\">261.169269</span>  <span style=\"color: #008080; text-decoration-color: #008080; font-weight: bold\">271.857217</span>  <span style=\"color: #008080; text-decoration-color: #008080; font-weight: bold\">258.001828</span>  <span style=\"color: #008080; text-decoration-color: #008080; font-weight: bold\">247.076775</span>  <span style=\"color: #808000; text-decoration-color: #808000\">...</span>  <span style=\"color: #008080; text-decoration-color: #008080; font-weight: bold\">235.784869</span>   \n",
              "V5     <span style=\"color: #008080; text-decoration-color: #008080; font-weight: bold\">235.563414</span>  <span style=\"color: #008080; text-decoration-color: #008080; font-weight: bold\">243.941731</span>  <span style=\"color: #008080; text-decoration-color: #008080; font-weight: bold\">266.031791</span>  <span style=\"color: #008080; text-decoration-color: #008080; font-weight: bold\">269.572826</span>  <span style=\"color: #808000; text-decoration-color: #808000\">...</span>  <span style=\"color: #008080; text-decoration-color: #008080; font-weight: bold\">231.005317</span>   \n",
              "<span style=\"color: #808000; text-decoration-color: #808000\">...</span>           <span style=\"color: #808000; text-decoration-color: #808000\">...</span>         <span style=\"color: #808000; text-decoration-color: #808000\">...</span>         <span style=\"color: #808000; text-decoration-color: #808000\">...</span>         <span style=\"color: #808000; text-decoration-color: #808000\">...</span>  <span style=\"color: #808000; text-decoration-color: #808000\">...</span>         <span style=\"color: #808000; text-decoration-color: #808000\">...</span>   \n",
              "V4376  <span style=\"color: #008080; text-decoration-color: #008080; font-weight: bold\">277.760515</span>  <span style=\"color: #008080; text-decoration-color: #008080; font-weight: bold\">293.636938</span>  <span style=\"color: #008080; text-decoration-color: #008080; font-weight: bold\">337.863753</span>  <span style=\"color: #008080; text-decoration-color: #008080; font-weight: bold\">330.097956</span>  <span style=\"color: #808000; text-decoration-color: #808000\">...</span>  <span style=\"color: #008080; text-decoration-color: #008080; font-weight: bold\">236.903184</span>   \n",
              "V4377  <span style=\"color: #008080; text-decoration-color: #008080; font-weight: bold\">244.463848</span>  <span style=\"color: #008080; text-decoration-color: #008080; font-weight: bold\">248.985195</span>  <span style=\"color: #008080; text-decoration-color: #008080; font-weight: bold\">266.057689</span>  <span style=\"color: #008080; text-decoration-color: #008080; font-weight: bold\">265.432201</span>  <span style=\"color: #808000; text-decoration-color: #808000\">...</span>  <span style=\"color: #008080; text-decoration-color: #008080; font-weight: bold\">244.682028</span>   \n",
              "V4378  <span style=\"color: #008080; text-decoration-color: #008080; font-weight: bold\">271.475733</span>  <span style=\"color: #008080; text-decoration-color: #008080; font-weight: bold\">274.081410</span>  <span style=\"color: #008080; text-decoration-color: #008080; font-weight: bold\">287.933849</span>  <span style=\"color: #008080; text-decoration-color: #008080; font-weight: bold\">284.624115</span>  <span style=\"color: #808000; text-decoration-color: #808000\">...</span>  <span style=\"color: #008080; text-decoration-color: #008080; font-weight: bold\">239.584692</span>   \n",
              "V4379  <span style=\"color: #008080; text-decoration-color: #008080; font-weight: bold\">263.890245</span>  <span style=\"color: #008080; text-decoration-color: #008080; font-weight: bold\">271.744013</span>  <span style=\"color: #008080; text-decoration-color: #008080; font-weight: bold\">291.337566</span>  <span style=\"color: #008080; text-decoration-color: #008080; font-weight: bold\">291.260448</span>  <span style=\"color: #808000; text-decoration-color: #808000\">...</span>  <span style=\"color: #008080; text-decoration-color: #008080; font-weight: bold\">270.318764</span>   \n",
              "V4380  <span style=\"color: #008080; text-decoration-color: #008080; font-weight: bold\">265.254364</span>  <span style=\"color: #008080; text-decoration-color: #008080; font-weight: bold\">271.679615</span>  <span style=\"color: #008080; text-decoration-color: #008080; font-weight: bold\">291.476737</span>  <span style=\"color: #008080; text-decoration-color: #008080; font-weight: bold\">288.541684</span>  <span style=\"color: #808000; text-decoration-color: #808000\">...</span>  <span style=\"color: #008080; text-decoration-color: #008080; font-weight: bold\">247.253002</span>   \n",
              "\n",
              "       ulwrf_t2_1  ulwrf_t3_1  ulwrf_t4_1  ulwrf_t5_1  uswrf_s1_1  uswrf_s2_1  \\\n",
              "V1     <span style=\"color: #008080; text-decoration-color: #008080; font-weight: bold\">249.504475</span>  <span style=\"color: #008080; text-decoration-color: #008080; font-weight: bold\">251.942089</span>  <span style=\"color: #008080; text-decoration-color: #008080; font-weight: bold\">258.069677</span>  <span style=\"color: #008080; text-decoration-color: #008080; font-weight: bold\">254.249663</span>         <span style=\"color: #008080; text-decoration-color: #008080; font-weight: bold\">0.0</span>    <span style=\"color: #008080; text-decoration-color: #008080; font-weight: bold\">9.181818</span>   \n",
              "V2     <span style=\"color: #008080; text-decoration-color: #008080; font-weight: bold\">200.094627</span>  <span style=\"color: #008080; text-decoration-color: #008080; font-weight: bold\">202.663639</span>  <span style=\"color: #008080; text-decoration-color: #008080; font-weight: bold\">196.833872</span>  <span style=\"color: #008080; text-decoration-color: #008080; font-weight: bold\">202.962007</span>         <span style=\"color: #008080; text-decoration-color: #008080; font-weight: bold\">0.0</span>    <span style=\"color: #008080; text-decoration-color: #008080; font-weight: bold\">4.545455</span>   \n",
              "V3     <span style=\"color: #008080; text-decoration-color: #008080; font-weight: bold\">232.556009</span>  <span style=\"color: #008080; text-decoration-color: #008080; font-weight: bold\">233.298932</span>  <span style=\"color: #008080; text-decoration-color: #008080; font-weight: bold\">211.631876</span>  <span style=\"color: #008080; text-decoration-color: #008080; font-weight: bold\">210.620375</span>         <span style=\"color: #008080; text-decoration-color: #008080; font-weight: bold\">0.0</span>   <span style=\"color: #008080; text-decoration-color: #008080; font-weight: bold\">13.909091</span>   \n",
              "V4     <span style=\"color: #008080; text-decoration-color: #008080; font-weight: bold\">235.189503</span>  <span style=\"color: #008080; text-decoration-color: #008080; font-weight: bold\">236.216754</span>  <span style=\"color: #008080; text-decoration-color: #008080; font-weight: bold\">244.018491</span>  <span style=\"color: #008080; text-decoration-color: #008080; font-weight: bold\">239.049223</span>         <span style=\"color: #008080; text-decoration-color: #008080; font-weight: bold\">0.0</span>    <span style=\"color: #008080; text-decoration-color: #008080; font-weight: bold\">5.454545</span>   \n",
              "V5     <span style=\"color: #008080; text-decoration-color: #008080; font-weight: bold\">230.797569</span>  <span style=\"color: #008080; text-decoration-color: #008080; font-weight: bold\">233.680077</span>  <span style=\"color: #008080; text-decoration-color: #008080; font-weight: bold\">252.037280</span>  <span style=\"color: #008080; text-decoration-color: #008080; font-weight: bold\">246.291591</span>         <span style=\"color: #008080; text-decoration-color: #008080; font-weight: bold\">0.0</span>    <span style=\"color: #008080; text-decoration-color: #008080; font-weight: bold\">9.000000</span>   \n",
              "<span style=\"color: #808000; text-decoration-color: #808000\">...</span>           <span style=\"color: #808000; text-decoration-color: #808000\">...</span>         <span style=\"color: #808000; text-decoration-color: #808000\">...</span>         <span style=\"color: #808000; text-decoration-color: #808000\">...</span>         <span style=\"color: #808000; text-decoration-color: #808000\">...</span>         <span style=\"color: #808000; text-decoration-color: #808000\">...</span>         <span style=\"color: #808000; text-decoration-color: #808000\">...</span>   \n",
              "V4376  <span style=\"color: #008080; text-decoration-color: #008080; font-weight: bold\">236.348444</span>  <span style=\"color: #008080; text-decoration-color: #008080; font-weight: bold\">224.870748</span>  <span style=\"color: #008080; text-decoration-color: #008080; font-weight: bold\">175.644218</span>  <span style=\"color: #008080; text-decoration-color: #008080; font-weight: bold\">190.153040</span>         <span style=\"color: #008080; text-decoration-color: #008080; font-weight: bold\">0.0</span>    <span style=\"color: #008080; text-decoration-color: #008080; font-weight: bold\">6.818182</span>   \n",
              "V4377  <span style=\"color: #008080; text-decoration-color: #008080; font-weight: bold\">243.310976</span>  <span style=\"color: #008080; text-decoration-color: #008080; font-weight: bold\">248.244164</span>  <span style=\"color: #008080; text-decoration-color: #008080; font-weight: bold\">263.429332</span>  <span style=\"color: #008080; text-decoration-color: #008080; font-weight: bold\">260.205636</span>         <span style=\"color: #008080; text-decoration-color: #008080; font-weight: bold\">0.0</span>   <span style=\"color: #008080; text-decoration-color: #008080; font-weight: bold\">10.000000</span>   \n",
              "V4378  <span style=\"color: #008080; text-decoration-color: #008080; font-weight: bold\">221.705779</span>  <span style=\"color: #008080; text-decoration-color: #008080; font-weight: bold\">236.372099</span>  <span style=\"color: #008080; text-decoration-color: #008080; font-weight: bold\">273.823583</span>  <span style=\"color: #008080; text-decoration-color: #008080; font-weight: bold\">274.388403</span>         <span style=\"color: #008080; text-decoration-color: #008080; font-weight: bold\">0.0</span>    <span style=\"color: #008080; text-decoration-color: #008080; font-weight: bold\">7.909091</span>   \n",
              "V4379  <span style=\"color: #008080; text-decoration-color: #008080; font-weight: bold\">257.707263</span>  <span style=\"color: #008080; text-decoration-color: #008080; font-weight: bold\">254.163126</span>  <span style=\"color: #008080; text-decoration-color: #008080; font-weight: bold\">281.832139</span>  <span style=\"color: #008080; text-decoration-color: #008080; font-weight: bold\">277.711556</span>         <span style=\"color: #008080; text-decoration-color: #008080; font-weight: bold\">0.0</span>    <span style=\"color: #008080; text-decoration-color: #008080; font-weight: bold\">9.727273</span>   \n",
              "V4380  <span style=\"color: #008080; text-decoration-color: #008080; font-weight: bold\">241.352363</span>  <span style=\"color: #008080; text-decoration-color: #008080; font-weight: bold\">245.428872</span>  <span style=\"color: #008080; text-decoration-color: #008080; font-weight: bold\">257.719322</span>  <span style=\"color: #008080; text-decoration-color: #008080; font-weight: bold\">257.394481</span>         <span style=\"color: #008080; text-decoration-color: #008080; font-weight: bold\">0.0</span>    <span style=\"color: #008080; text-decoration-color: #008080; font-weight: bold\">9.000000</span>   \n",
              "\n",
              "       uswrf_s3_1  uswrf_s4_1  uswrf_s5_1  \n",
              "V1      <span style=\"color: #008080; text-decoration-color: #008080; font-weight: bold\">49.000000</span>  <span style=\"color: #008080; text-decoration-color: #008080; font-weight: bold\">103.000000</span>   <span style=\"color: #008080; text-decoration-color: #008080; font-weight: bold\">68.000000</span>  \n",
              "V2      <span style=\"color: #008080; text-decoration-color: #008080; font-weight: bold\">19.000000</span>   <span style=\"color: #008080; text-decoration-color: #008080; font-weight: bold\">47.272727</span>   <span style=\"color: #008080; text-decoration-color: #008080; font-weight: bold\">32.909091</span>  \n",
              "V3      <span style=\"color: #008080; text-decoration-color: #008080; font-weight: bold\">77.636364</span>  <span style=\"color: #008080; text-decoration-color: #008080; font-weight: bold\">141.090909</span>   <span style=\"color: #008080; text-decoration-color: #008080; font-weight: bold\">90.454545</span>  \n",
              "V4      <span style=\"color: #008080; text-decoration-color: #008080; font-weight: bold\">28.909091</span>   <span style=\"color: #008080; text-decoration-color: #008080; font-weight: bold\">90.818182</span>   <span style=\"color: #008080; text-decoration-color: #008080; font-weight: bold\">62.636364</span>  \n",
              "V5      <span style=\"color: #008080; text-decoration-color: #008080; font-weight: bold\">47.181818</span>  <span style=\"color: #008080; text-decoration-color: #008080; font-weight: bold\">102.272727</span>   <span style=\"color: #008080; text-decoration-color: #008080; font-weight: bold\">67.636364</span>  \n",
              "<span style=\"color: #808000; text-decoration-color: #808000\">...</span>           <span style=\"color: #808000; text-decoration-color: #808000\">...</span>         <span style=\"color: #808000; text-decoration-color: #808000\">...</span>         <span style=\"color: #808000; text-decoration-color: #808000\">...</span>  \n",
              "V4376   <span style=\"color: #008080; text-decoration-color: #008080; font-weight: bold\">28.545455</span>   <span style=\"color: #008080; text-decoration-color: #008080; font-weight: bold\">27.181818</span>   <span style=\"color: #008080; text-decoration-color: #008080; font-weight: bold\">18.727273</span>  \n",
              "V4377   <span style=\"color: #008080; text-decoration-color: #008080; font-weight: bold\">50.090909</span>  <span style=\"color: #008080; text-decoration-color: #008080; font-weight: bold\">104.545455</span>   <span style=\"color: #008080; text-decoration-color: #008080; font-weight: bold\">68.454545</span>  \n",
              "V4378   <span style=\"color: #008080; text-decoration-color: #008080; font-weight: bold\">46.909091</span>  <span style=\"color: #008080; text-decoration-color: #008080; font-weight: bold\">102.000000</span>   <span style=\"color: #008080; text-decoration-color: #008080; font-weight: bold\">67.000000</span>  \n",
              "V4379   <span style=\"color: #008080; text-decoration-color: #008080; font-weight: bold\">48.181818</span>  <span style=\"color: #008080; text-decoration-color: #008080; font-weight: bold\">104.909091</span>   <span style=\"color: #008080; text-decoration-color: #008080; font-weight: bold\">68.818182</span>  \n",
              "V4380   <span style=\"color: #008080; text-decoration-color: #008080; font-weight: bold\">47.000000</span>   <span style=\"color: #008080; text-decoration-color: #008080; font-weight: bold\">98.636364</span>   <span style=\"color: #008080; text-decoration-color: #008080; font-weight: bold\">64.818182</span>  \n",
              "\n",
              "<span style=\"font-weight: bold\">[</span><span style=\"color: #008080; text-decoration-color: #008080; font-weight: bold\">4380</span> rows x <span style=\"color: #008080; text-decoration-color: #008080; font-weight: bold\">75</span> columns<span style=\"font-weight: bold\">]</span>\n",
              "</pre>\n"
            ]
          },
          "metadata": {}
        },
        {
          "output_type": "display_data",
          "data": {
            "text/plain": [
              "\n",
              "\n",
              "Vector de la variable de respuesta:\n",
              "\n",
              " V1       \u001b[1;36m11119200\u001b[0m\n",
              "V2        \u001b[1;36m5530500\u001b[0m\n",
              "V3        \u001b[1;36m5596200\u001b[0m\n",
              "V4        \u001b[1;36m4360500\u001b[0m\n",
              "V5       \u001b[1;36m10572300\u001b[0m\n",
              "           \u001b[33m...\u001b[0m   \n",
              "V4376     \u001b[1;36m3780900\u001b[0m\n",
              "V4377    \u001b[1;36m11463300\u001b[0m\n",
              "V4378    \u001b[1;36m11071200\u001b[0m\n",
              "V4379    \u001b[1;36m11222700\u001b[0m\n",
              "V4380    \u001b[1;36m10770600\u001b[0m\n",
              "Name: salida, Length: \u001b[1;36m4380\u001b[0m, dtype: int64\n"
            ],
            "text/html": [
              "<pre style=\"white-space:pre;overflow-x:auto;line-height:normal;font-family:Menlo,'DejaVu Sans Mono',consolas,'Courier New',monospace\">\n",
              "\n",
              "Vector de la variable de respuesta:\n",
              "\n",
              " V1       <span style=\"color: #008080; text-decoration-color: #008080; font-weight: bold\">11119200</span>\n",
              "V2        <span style=\"color: #008080; text-decoration-color: #008080; font-weight: bold\">5530500</span>\n",
              "V3        <span style=\"color: #008080; text-decoration-color: #008080; font-weight: bold\">5596200</span>\n",
              "V4        <span style=\"color: #008080; text-decoration-color: #008080; font-weight: bold\">4360500</span>\n",
              "V5       <span style=\"color: #008080; text-decoration-color: #008080; font-weight: bold\">10572300</span>\n",
              "           <span style=\"color: #808000; text-decoration-color: #808000\">...</span>   \n",
              "V4376     <span style=\"color: #008080; text-decoration-color: #008080; font-weight: bold\">3780900</span>\n",
              "V4377    <span style=\"color: #008080; text-decoration-color: #008080; font-weight: bold\">11463300</span>\n",
              "V4378    <span style=\"color: #008080; text-decoration-color: #008080; font-weight: bold\">11071200</span>\n",
              "V4379    <span style=\"color: #008080; text-decoration-color: #008080; font-weight: bold\">11222700</span>\n",
              "V4380    <span style=\"color: #008080; text-decoration-color: #008080; font-weight: bold\">10770600</span>\n",
              "Name: salida, Length: <span style=\"color: #008080; text-decoration-color: #008080; font-weight: bold\">4380</span>, dtype: int64\n",
              "</pre>\n"
            ]
          },
          "metadata": {}
        },
        {
          "output_type": "display_data",
          "data": {
            "text/plain": [
              "\n",
              "Ejemplo de tipo de dato de variable meteorológica: \u001b[1m<\u001b[0m\u001b[1;95mclass\u001b[0m\u001b[39m \u001b[0m\u001b[32m'numpy.float64'\u001b[0m\u001b[1m>\u001b[0m\n"
            ],
            "text/html": [
              "<pre style=\"white-space:pre;overflow-x:auto;line-height:normal;font-family:Menlo,'DejaVu Sans Mono',consolas,'Courier New',monospace\">\n",
              "Ejemplo de tipo de dato de variable meteorológica: <span style=\"font-weight: bold\">&lt;</span><span style=\"color: #ff00ff; text-decoration-color: #ff00ff; font-weight: bold\">class</span><span style=\"color: #000000; text-decoration-color: #000000\"> </span><span style=\"color: #008000; text-decoration-color: #008000\">'numpy.float64'</span><span style=\"font-weight: bold\">&gt;</span>\n",
              "</pre>\n"
            ]
          },
          "metadata": {}
        },
        {
          "output_type": "display_data",
          "data": {
            "text/plain": [
              "Ejemplo de tipo de dato de variable de respuesta: \u001b[1m<\u001b[0m\u001b[1;95mclass\u001b[0m\u001b[39m \u001b[0m\u001b[32m'numpy.int64'\u001b[0m\u001b[1m>\u001b[0m\n"
            ],
            "text/html": [
              "<pre style=\"white-space:pre;overflow-x:auto;line-height:normal;font-family:Menlo,'DejaVu Sans Mono',consolas,'Courier New',monospace\">Ejemplo de tipo de dato de variable de respuesta: <span style=\"font-weight: bold\">&lt;</span><span style=\"color: #ff00ff; text-decoration-color: #ff00ff; font-weight: bold\">class</span><span style=\"color: #000000; text-decoration-color: #000000\"> </span><span style=\"color: #008000; text-decoration-color: #008000\">'numpy.int64'</span><span style=\"font-weight: bold\">&gt;</span>\n",
              "</pre>\n"
            ]
          },
          "metadata": {}
        }
      ]
    },
    {
      "cell_type": "markdown",
      "source": [
        "Como se puede comprobar en las dos últimas llamadas realizadas, las variables de respuesta utilizan atributos del tipo `numpy.float64`, siendo estos valores **numéricos reales**. Por otra parte, la variable de respuesta *salida* utiliza valores del tipo `numpy.int64`, siendo estos valores **numéricos enteros**.\n"
      ],
      "metadata": {
        "id": "-z3HqPlnqjoF"
      }
    },
    {
      "cell_type": "markdown",
      "source": [
        "### **Missing values**.\n",
        "A continuación, comprobaremos si existe algún **missing value**. Para ello, tomaremos el dataframe de datos disponibles creado anteriormente y haremos una suma de los posibles missing values existentes.\n"
      ],
      "metadata": {
        "id": "6GB8D-p1sCa6"
      }
    },
    {
      "cell_type": "code",
      "source": [
        "# Contamos el número de missing values.\n",
        "disp_df.isnull().values.sum()"
      ],
      "metadata": {
        "id": "lGvNBC_sjNiA",
        "outputId": "68068691-4355-4de0-acce-0094bca64136",
        "colab": {
          "base_uri": "https://localhost:8080/"
        }
      },
      "execution_count": 24,
      "outputs": [
        {
          "output_type": "execute_result",
          "data": {
            "text/plain": [
              "0"
            ]
          },
          "metadata": {},
          "execution_count": 24
        }
      ]
    },
    {
      "cell_type": "markdown",
      "source": [
        "Como podemos ver en la anterior ejecución, podemos comprobar que **no existe ningún missing value**."
      ],
      "metadata": {
        "id": "8Nn1LwfUkS9w"
      }
    },
    {
      "cell_type": "markdown",
      "source": [
        "### **Tipo de problema**.\n",
        "Como hemos podido ver anteriormente mostrando los datos en pantalla, este problema es claramente de **regresión**, dado que tendremos que construir un modelo para realizar **predicción numérica**."
      ],
      "metadata": {
        "id": "bqfWIyBzsCde"
      }
    },
    {
      "cell_type": "markdown",
      "source": [
        "### **Análisis de atributos**.\n",
        "A continuación, realizaremos un análisis más profundo de los diferentes atributos con los que contamos. Nuestro objetivo aquí es comprobar si existen correlaciones entre las variables y estudiar de forma individual cada uno de ellos para ver su funcionamiento. De esta forma, veremos si podemos prescindir de algún atributo o ajustar los datos para continuar con la práctica.<br><br>\n",
        "\n",
        "Por tanto, lo que haremos será calcular las medias de los atributos y hacer una matriz para ver la correlación entre las medias. Tras esto, haremos un pequeño análisis de cada atributo por separado en los distintos momentos del día."
      ],
      "metadata": {
        "id": "fZGP8qoFkgZb"
      }
    },
    {
      "cell_type": "code",
      "source": [
        "variables_meteorologicas = ['apcp_sf', 'dlwrf_s', 'dswrf_s', 'pres_msl', 'pwat_eatm', 'spfh_2m', 'tcdc_eatm', 'tcolc_eatm', 'tmax_2m', 'tmin_2m', 'tmp_2m', 'tmp_sfc', 'ulwrf_sfc', 'ulwrf_tatm', 'uswrf_sfc']\n",
        "\n",
        "mean_df = disp_df.iloc[:, :-1].groupby(np.arange(len(disp_df.columns)-1)//5, axis=1).mean()\n",
        "mean_df.columns = [f'{name}_media' for name in variables_meteorologicas]\n",
        "mean_df['salida'] = disp_df['salida']\n",
        "print(mean_df)"
      ],
      "metadata": {
        "id": "-fa9vPfM6zAk",
        "outputId": "70af1fd2-3b61-4d6c-bd7a-ae5d35f2123d",
        "colab": {
          "base_uri": "https://localhost:8080/",
          "height": 865
        }
      },
      "execution_count": 25,
      "outputs": [
        {
          "output_type": "display_data",
          "data": {
            "text/plain": [
              "       apcp_sf_media  dlwrf_s_media  dswrf_s_media  pres_msl_media  \\\n",
              "V1          \u001b[1;36m0.000000\u001b[0m     \u001b[1;36m260.405510\u001b[0m     \u001b[1;36m208.000000\u001b[0m   \u001b[1;36m101926.116761\u001b[0m   \n",
              "V2          \u001b[1;36m0.118545\u001b[0m     \u001b[1;36m290.926037\u001b[0m     \u001b[1;36m120.727273\u001b[0m   \u001b[1;36m101249.524290\u001b[0m   \n",
              "V3          \u001b[1;36m0.003455\u001b[0m     \u001b[1;36m231.010220\u001b[0m     \u001b[1;36m199.163636\u001b[0m   \u001b[1;36m101903.130682\u001b[0m   \n",
              "V4          \u001b[1;36m0.001818\u001b[0m     \u001b[1;36m255.539082\u001b[0m     \u001b[1;36m181.072727\u001b[0m   \u001b[1;36m102395.532955\u001b[0m   \n",
              "V5          \u001b[1;36m0.000000\u001b[0m     \u001b[1;36m249.072684\u001b[0m     \u001b[1;36m208.909091\u001b[0m   \u001b[1;36m100978.042614\u001b[0m   \n",
              "\u001b[33m...\u001b[0m              \u001b[33m...\u001b[0m            \u001b[33m...\u001b[0m            \u001b[33m...\u001b[0m             \u001b[33m...\u001b[0m   \n",
              "V4376       \u001b[1;36m0.546000\u001b[0m     \u001b[1;36m304.778290\u001b[0m      \u001b[1;36m87.818182\u001b[0m   \u001b[1;36m100995.622159\u001b[0m   \n",
              "V4377       \u001b[1;36m0.000182\u001b[0m     \u001b[1;36m255.279823\u001b[0m     \u001b[1;36m208.000000\u001b[0m   \u001b[1;36m101558.770170\u001b[0m   \n",
              "V4378       \u001b[1;36m0.000000\u001b[0m     \u001b[1;36m277.312254\u001b[0m     \u001b[1;36m204.181818\u001b[0m   \u001b[1;36m101256.869886\u001b[0m   \n",
              "V4379       \u001b[1;36m0.000000\u001b[0m     \u001b[1;36m277.291592\u001b[0m     \u001b[1;36m209.454545\u001b[0m   \u001b[1;36m100085.594460\u001b[0m   \n",
              "V4380       \u001b[1;36m0.000000\u001b[0m     \u001b[1;36m277.067550\u001b[0m     \u001b[1;36m201.636364\u001b[0m   \u001b[1;36m101064.356534\u001b[0m   \n",
              "\n",
              "       pwat_eatm_media  spfh_2m_media  tcdc_eatm_media  tcolc_eatm_media  \\\n",
              "V1            \u001b[1;36m9.037209\u001b[0m       \u001b[1;36m0.003719\u001b[0m         \u001b[1;36m0.000545\u001b[0m          \u001b[1;36m0.001400\u001b[0m   \n",
              "V2           \u001b[1;36m13.307411\u001b[0m       \u001b[1;36m0.004266\u001b[0m         \u001b[1;36m0.191273\u001b[0m          \u001b[1;36m0.190598\u001b[0m   \n",
              "V3            \u001b[1;36m7.537060\u001b[0m       \u001b[1;36m0.002395\u001b[0m         \u001b[1;36m0.044182\u001b[0m          \u001b[1;36m0.044753\u001b[0m   \n",
              "V4            \u001b[1;36m7.682174\u001b[0m       \u001b[1;36m0.002957\u001b[0m         \u001b[1;36m0.020909\u001b[0m          \u001b[1;36m0.020873\u001b[0m   \n",
              "V5           \u001b[1;36m11.418779\u001b[0m       \u001b[1;36m0.003471\u001b[0m         \u001b[1;36m0.022909\u001b[0m          \u001b[1;36m0.024125\u001b[0m   \n",
              "\u001b[33m...\u001b[0m                \u001b[33m...\u001b[0m            \u001b[33m...\u001b[0m              \u001b[33m...\u001b[0m               \u001b[33m...\u001b[0m   \n",
              "V4376        \u001b[1;36m15.797961\u001b[0m       \u001b[1;36m0.005098\u001b[0m         \u001b[1;36m0.166909\u001b[0m          \u001b[1;36m0.167047\u001b[0m   \n",
              "V4377         \u001b[1;36m8.761050\u001b[0m       \u001b[1;36m0.004488\u001b[0m         \u001b[1;36m0.000364\u001b[0m          \u001b[1;36m0.001105\u001b[0m   \n",
              "V4378        \u001b[1;36m10.874096\u001b[0m       \u001b[1;36m0.003212\u001b[0m         \u001b[1;36m0.010909\u001b[0m          \u001b[1;36m0.010509\u001b[0m   \n",
              "V4379         \u001b[1;36m8.664858\u001b[0m       \u001b[1;36m0.003496\u001b[0m         \u001b[1;36m0.005636\u001b[0m          \u001b[1;36m0.006218\u001b[0m   \n",
              "V4380        \u001b[1;36m13.351457\u001b[0m       \u001b[1;36m0.004888\u001b[0m         \u001b[1;36m0.003636\u001b[0m          \u001b[1;36m0.004642\u001b[0m   \n",
              "\n",
              "       tmax_2m_media  tmin_2m_media  tmp_2m_media  tmp_sfc_media  \\\n",
              "V1        \u001b[1;36m282.142500\u001b[0m     \u001b[1;36m279.260581\u001b[0m    \u001b[1;36m280.762140\u001b[0m     \u001b[1;36m280.926701\u001b[0m   \n",
              "V2        \u001b[1;36m281.145418\u001b[0m     \u001b[1;36m278.180924\u001b[0m    \u001b[1;36m280.261834\u001b[0m     \u001b[1;36m280.343105\u001b[0m   \n",
              "V3        \u001b[1;36m273.843006\u001b[0m     \u001b[1;36m270.516610\u001b[0m    \u001b[1;36m272.261575\u001b[0m     \u001b[1;36m273.564470\u001b[0m   \n",
              "V4        \u001b[1;36m276.050982\u001b[0m     \u001b[1;36m273.473676\u001b[0m    \u001b[1;36m274.785691\u001b[0m     \u001b[1;36m275.572847\u001b[0m   \n",
              "V5        \u001b[1;36m279.547464\u001b[0m     \u001b[1;36m275.895609\u001b[0m    \u001b[1;36m278.966826\u001b[0m     \u001b[1;36m278.851663\u001b[0m   \n",
              "\u001b[33m...\u001b[0m              \u001b[33m...\u001b[0m            \u001b[33m...\u001b[0m           \u001b[33m...\u001b[0m            \u001b[33m...\u001b[0m   \n",
              "V4376     \u001b[1;36m284.109560\u001b[0m     \u001b[1;36m281.561513\u001b[0m    \u001b[1;36m282.581503\u001b[0m     \u001b[1;36m282.738215\u001b[0m   \n",
              "V4377     \u001b[1;36m281.982668\u001b[0m     \u001b[1;36m278.152787\u001b[0m    \u001b[1;36m280.218207\u001b[0m     \u001b[1;36m280.926219\u001b[0m   \n",
              "V4378     \u001b[1;36m285.984576\u001b[0m     \u001b[1;36m282.335071\u001b[0m    \u001b[1;36m284.929866\u001b[0m     \u001b[1;36m284.845908\u001b[0m   \n",
              "V4379     \u001b[1;36m290.105306\u001b[0m     \u001b[1;36m285.888011\u001b[0m    \u001b[1;36m288.397318\u001b[0m     \u001b[1;36m288.028490\u001b[0m   \n",
              "V4380     \u001b[1;36m286.249309\u001b[0m     \u001b[1;36m282.517850\u001b[0m    \u001b[1;36m284.681485\u001b[0m     \u001b[1;36m285.289985\u001b[0m   \n",
              "\n",
              "       ulwrf_sfc_media  ulwrf_tatm_media  uswrf_sfc_media    salida  \n",
              "V1          \u001b[1;36m354.865220\u001b[0m        \u001b[1;36m243.038359\u001b[0m        \u001b[1;36m45.836364\u001b[0m  \u001b[1;36m11119200\u001b[0m  \n",
              "V2          \u001b[1;36m346.875286\u001b[0m        \u001b[1;36m206.678167\u001b[0m        \u001b[1;36m20.745455\u001b[0m   \u001b[1;36m5530500\u001b[0m  \n",
              "V3          \u001b[1;36m317.495674\u001b[0m        \u001b[1;36m222.825297\u001b[0m        \u001b[1;36m64.618182\u001b[0m   \u001b[1;36m5596200\u001b[0m  \n",
              "V4          \u001b[1;36m329.077006\u001b[0m        \u001b[1;36m238.051768\u001b[0m        \u001b[1;36m37.563636\u001b[0m   \u001b[1;36m4360500\u001b[0m  \n",
              "V5          \u001b[1;36m336.922521\u001b[0m        \u001b[1;36m238.762367\u001b[0m        \u001b[1;36m45.218182\u001b[0m  \u001b[1;36m10572300\u001b[0m  \n",
              "\u001b[33m...\u001b[0m                \u001b[33m...\u001b[0m               \u001b[33m...\u001b[0m              \u001b[33m...\u001b[0m       \u001b[33m...\u001b[0m  \n",
              "V4376       \u001b[1;36m361.962524\u001b[0m        \u001b[1;36m212.783927\u001b[0m        \u001b[1;36m16.254545\u001b[0m   \u001b[1;36m3780900\u001b[0m  \n",
              "V4377       \u001b[1;36m354.240127\u001b[0m        \u001b[1;36m251.974427\u001b[0m        \u001b[1;36m46.618182\u001b[0m  \u001b[1;36m11463300\u001b[0m  \n",
              "V4378       \u001b[1;36m369.549726\u001b[0m        \u001b[1;36m249.174911\u001b[0m        \u001b[1;36m44.763636\u001b[0m  \u001b[1;36m11071200\u001b[0m  \n",
              "V4379       \u001b[1;36m388.614675\u001b[0m        \u001b[1;36m268.346570\u001b[0m        \u001b[1;36m46.327273\u001b[0m  \u001b[1;36m11222700\u001b[0m  \n",
              "V4380       \u001b[1;36m375.002238\u001b[0m        \u001b[1;36m249.829608\u001b[0m        \u001b[1;36m43.890909\u001b[0m  \u001b[1;36m10770600\u001b[0m  \n",
              "\n",
              "\u001b[1m[\u001b[0m\u001b[1;36m4380\u001b[0m rows x \u001b[1;36m16\u001b[0m columns\u001b[1m]\u001b[0m\n"
            ],
            "text/html": [
              "<pre style=\"white-space:pre;overflow-x:auto;line-height:normal;font-family:Menlo,'DejaVu Sans Mono',consolas,'Courier New',monospace\">       apcp_sf_media  dlwrf_s_media  dswrf_s_media  pres_msl_media  \\\n",
              "V1          <span style=\"color: #008080; text-decoration-color: #008080; font-weight: bold\">0.000000</span>     <span style=\"color: #008080; text-decoration-color: #008080; font-weight: bold\">260.405510</span>     <span style=\"color: #008080; text-decoration-color: #008080; font-weight: bold\">208.000000</span>   <span style=\"color: #008080; text-decoration-color: #008080; font-weight: bold\">101926.116761</span>   \n",
              "V2          <span style=\"color: #008080; text-decoration-color: #008080; font-weight: bold\">0.118545</span>     <span style=\"color: #008080; text-decoration-color: #008080; font-weight: bold\">290.926037</span>     <span style=\"color: #008080; text-decoration-color: #008080; font-weight: bold\">120.727273</span>   <span style=\"color: #008080; text-decoration-color: #008080; font-weight: bold\">101249.524290</span>   \n",
              "V3          <span style=\"color: #008080; text-decoration-color: #008080; font-weight: bold\">0.003455</span>     <span style=\"color: #008080; text-decoration-color: #008080; font-weight: bold\">231.010220</span>     <span style=\"color: #008080; text-decoration-color: #008080; font-weight: bold\">199.163636</span>   <span style=\"color: #008080; text-decoration-color: #008080; font-weight: bold\">101903.130682</span>   \n",
              "V4          <span style=\"color: #008080; text-decoration-color: #008080; font-weight: bold\">0.001818</span>     <span style=\"color: #008080; text-decoration-color: #008080; font-weight: bold\">255.539082</span>     <span style=\"color: #008080; text-decoration-color: #008080; font-weight: bold\">181.072727</span>   <span style=\"color: #008080; text-decoration-color: #008080; font-weight: bold\">102395.532955</span>   \n",
              "V5          <span style=\"color: #008080; text-decoration-color: #008080; font-weight: bold\">0.000000</span>     <span style=\"color: #008080; text-decoration-color: #008080; font-weight: bold\">249.072684</span>     <span style=\"color: #008080; text-decoration-color: #008080; font-weight: bold\">208.909091</span>   <span style=\"color: #008080; text-decoration-color: #008080; font-weight: bold\">100978.042614</span>   \n",
              "<span style=\"color: #808000; text-decoration-color: #808000\">...</span>              <span style=\"color: #808000; text-decoration-color: #808000\">...</span>            <span style=\"color: #808000; text-decoration-color: #808000\">...</span>            <span style=\"color: #808000; text-decoration-color: #808000\">...</span>             <span style=\"color: #808000; text-decoration-color: #808000\">...</span>   \n",
              "V4376       <span style=\"color: #008080; text-decoration-color: #008080; font-weight: bold\">0.546000</span>     <span style=\"color: #008080; text-decoration-color: #008080; font-weight: bold\">304.778290</span>      <span style=\"color: #008080; text-decoration-color: #008080; font-weight: bold\">87.818182</span>   <span style=\"color: #008080; text-decoration-color: #008080; font-weight: bold\">100995.622159</span>   \n",
              "V4377       <span style=\"color: #008080; text-decoration-color: #008080; font-weight: bold\">0.000182</span>     <span style=\"color: #008080; text-decoration-color: #008080; font-weight: bold\">255.279823</span>     <span style=\"color: #008080; text-decoration-color: #008080; font-weight: bold\">208.000000</span>   <span style=\"color: #008080; text-decoration-color: #008080; font-weight: bold\">101558.770170</span>   \n",
              "V4378       <span style=\"color: #008080; text-decoration-color: #008080; font-weight: bold\">0.000000</span>     <span style=\"color: #008080; text-decoration-color: #008080; font-weight: bold\">277.312254</span>     <span style=\"color: #008080; text-decoration-color: #008080; font-weight: bold\">204.181818</span>   <span style=\"color: #008080; text-decoration-color: #008080; font-weight: bold\">101256.869886</span>   \n",
              "V4379       <span style=\"color: #008080; text-decoration-color: #008080; font-weight: bold\">0.000000</span>     <span style=\"color: #008080; text-decoration-color: #008080; font-weight: bold\">277.291592</span>     <span style=\"color: #008080; text-decoration-color: #008080; font-weight: bold\">209.454545</span>   <span style=\"color: #008080; text-decoration-color: #008080; font-weight: bold\">100085.594460</span>   \n",
              "V4380       <span style=\"color: #008080; text-decoration-color: #008080; font-weight: bold\">0.000000</span>     <span style=\"color: #008080; text-decoration-color: #008080; font-weight: bold\">277.067550</span>     <span style=\"color: #008080; text-decoration-color: #008080; font-weight: bold\">201.636364</span>   <span style=\"color: #008080; text-decoration-color: #008080; font-weight: bold\">101064.356534</span>   \n",
              "\n",
              "       pwat_eatm_media  spfh_2m_media  tcdc_eatm_media  tcolc_eatm_media  \\\n",
              "V1            <span style=\"color: #008080; text-decoration-color: #008080; font-weight: bold\">9.037209</span>       <span style=\"color: #008080; text-decoration-color: #008080; font-weight: bold\">0.003719</span>         <span style=\"color: #008080; text-decoration-color: #008080; font-weight: bold\">0.000545</span>          <span style=\"color: #008080; text-decoration-color: #008080; font-weight: bold\">0.001400</span>   \n",
              "V2           <span style=\"color: #008080; text-decoration-color: #008080; font-weight: bold\">13.307411</span>       <span style=\"color: #008080; text-decoration-color: #008080; font-weight: bold\">0.004266</span>         <span style=\"color: #008080; text-decoration-color: #008080; font-weight: bold\">0.191273</span>          <span style=\"color: #008080; text-decoration-color: #008080; font-weight: bold\">0.190598</span>   \n",
              "V3            <span style=\"color: #008080; text-decoration-color: #008080; font-weight: bold\">7.537060</span>       <span style=\"color: #008080; text-decoration-color: #008080; font-weight: bold\">0.002395</span>         <span style=\"color: #008080; text-decoration-color: #008080; font-weight: bold\">0.044182</span>          <span style=\"color: #008080; text-decoration-color: #008080; font-weight: bold\">0.044753</span>   \n",
              "V4            <span style=\"color: #008080; text-decoration-color: #008080; font-weight: bold\">7.682174</span>       <span style=\"color: #008080; text-decoration-color: #008080; font-weight: bold\">0.002957</span>         <span style=\"color: #008080; text-decoration-color: #008080; font-weight: bold\">0.020909</span>          <span style=\"color: #008080; text-decoration-color: #008080; font-weight: bold\">0.020873</span>   \n",
              "V5           <span style=\"color: #008080; text-decoration-color: #008080; font-weight: bold\">11.418779</span>       <span style=\"color: #008080; text-decoration-color: #008080; font-weight: bold\">0.003471</span>         <span style=\"color: #008080; text-decoration-color: #008080; font-weight: bold\">0.022909</span>          <span style=\"color: #008080; text-decoration-color: #008080; font-weight: bold\">0.024125</span>   \n",
              "<span style=\"color: #808000; text-decoration-color: #808000\">...</span>                <span style=\"color: #808000; text-decoration-color: #808000\">...</span>            <span style=\"color: #808000; text-decoration-color: #808000\">...</span>              <span style=\"color: #808000; text-decoration-color: #808000\">...</span>               <span style=\"color: #808000; text-decoration-color: #808000\">...</span>   \n",
              "V4376        <span style=\"color: #008080; text-decoration-color: #008080; font-weight: bold\">15.797961</span>       <span style=\"color: #008080; text-decoration-color: #008080; font-weight: bold\">0.005098</span>         <span style=\"color: #008080; text-decoration-color: #008080; font-weight: bold\">0.166909</span>          <span style=\"color: #008080; text-decoration-color: #008080; font-weight: bold\">0.167047</span>   \n",
              "V4377         <span style=\"color: #008080; text-decoration-color: #008080; font-weight: bold\">8.761050</span>       <span style=\"color: #008080; text-decoration-color: #008080; font-weight: bold\">0.004488</span>         <span style=\"color: #008080; text-decoration-color: #008080; font-weight: bold\">0.000364</span>          <span style=\"color: #008080; text-decoration-color: #008080; font-weight: bold\">0.001105</span>   \n",
              "V4378        <span style=\"color: #008080; text-decoration-color: #008080; font-weight: bold\">10.874096</span>       <span style=\"color: #008080; text-decoration-color: #008080; font-weight: bold\">0.003212</span>         <span style=\"color: #008080; text-decoration-color: #008080; font-weight: bold\">0.010909</span>          <span style=\"color: #008080; text-decoration-color: #008080; font-weight: bold\">0.010509</span>   \n",
              "V4379         <span style=\"color: #008080; text-decoration-color: #008080; font-weight: bold\">8.664858</span>       <span style=\"color: #008080; text-decoration-color: #008080; font-weight: bold\">0.003496</span>         <span style=\"color: #008080; text-decoration-color: #008080; font-weight: bold\">0.005636</span>          <span style=\"color: #008080; text-decoration-color: #008080; font-weight: bold\">0.006218</span>   \n",
              "V4380        <span style=\"color: #008080; text-decoration-color: #008080; font-weight: bold\">13.351457</span>       <span style=\"color: #008080; text-decoration-color: #008080; font-weight: bold\">0.004888</span>         <span style=\"color: #008080; text-decoration-color: #008080; font-weight: bold\">0.003636</span>          <span style=\"color: #008080; text-decoration-color: #008080; font-weight: bold\">0.004642</span>   \n",
              "\n",
              "       tmax_2m_media  tmin_2m_media  tmp_2m_media  tmp_sfc_media  \\\n",
              "V1        <span style=\"color: #008080; text-decoration-color: #008080; font-weight: bold\">282.142500</span>     <span style=\"color: #008080; text-decoration-color: #008080; font-weight: bold\">279.260581</span>    <span style=\"color: #008080; text-decoration-color: #008080; font-weight: bold\">280.762140</span>     <span style=\"color: #008080; text-decoration-color: #008080; font-weight: bold\">280.926701</span>   \n",
              "V2        <span style=\"color: #008080; text-decoration-color: #008080; font-weight: bold\">281.145418</span>     <span style=\"color: #008080; text-decoration-color: #008080; font-weight: bold\">278.180924</span>    <span style=\"color: #008080; text-decoration-color: #008080; font-weight: bold\">280.261834</span>     <span style=\"color: #008080; text-decoration-color: #008080; font-weight: bold\">280.343105</span>   \n",
              "V3        <span style=\"color: #008080; text-decoration-color: #008080; font-weight: bold\">273.843006</span>     <span style=\"color: #008080; text-decoration-color: #008080; font-weight: bold\">270.516610</span>    <span style=\"color: #008080; text-decoration-color: #008080; font-weight: bold\">272.261575</span>     <span style=\"color: #008080; text-decoration-color: #008080; font-weight: bold\">273.564470</span>   \n",
              "V4        <span style=\"color: #008080; text-decoration-color: #008080; font-weight: bold\">276.050982</span>     <span style=\"color: #008080; text-decoration-color: #008080; font-weight: bold\">273.473676</span>    <span style=\"color: #008080; text-decoration-color: #008080; font-weight: bold\">274.785691</span>     <span style=\"color: #008080; text-decoration-color: #008080; font-weight: bold\">275.572847</span>   \n",
              "V5        <span style=\"color: #008080; text-decoration-color: #008080; font-weight: bold\">279.547464</span>     <span style=\"color: #008080; text-decoration-color: #008080; font-weight: bold\">275.895609</span>    <span style=\"color: #008080; text-decoration-color: #008080; font-weight: bold\">278.966826</span>     <span style=\"color: #008080; text-decoration-color: #008080; font-weight: bold\">278.851663</span>   \n",
              "<span style=\"color: #808000; text-decoration-color: #808000\">...</span>              <span style=\"color: #808000; text-decoration-color: #808000\">...</span>            <span style=\"color: #808000; text-decoration-color: #808000\">...</span>           <span style=\"color: #808000; text-decoration-color: #808000\">...</span>            <span style=\"color: #808000; text-decoration-color: #808000\">...</span>   \n",
              "V4376     <span style=\"color: #008080; text-decoration-color: #008080; font-weight: bold\">284.109560</span>     <span style=\"color: #008080; text-decoration-color: #008080; font-weight: bold\">281.561513</span>    <span style=\"color: #008080; text-decoration-color: #008080; font-weight: bold\">282.581503</span>     <span style=\"color: #008080; text-decoration-color: #008080; font-weight: bold\">282.738215</span>   \n",
              "V4377     <span style=\"color: #008080; text-decoration-color: #008080; font-weight: bold\">281.982668</span>     <span style=\"color: #008080; text-decoration-color: #008080; font-weight: bold\">278.152787</span>    <span style=\"color: #008080; text-decoration-color: #008080; font-weight: bold\">280.218207</span>     <span style=\"color: #008080; text-decoration-color: #008080; font-weight: bold\">280.926219</span>   \n",
              "V4378     <span style=\"color: #008080; text-decoration-color: #008080; font-weight: bold\">285.984576</span>     <span style=\"color: #008080; text-decoration-color: #008080; font-weight: bold\">282.335071</span>    <span style=\"color: #008080; text-decoration-color: #008080; font-weight: bold\">284.929866</span>     <span style=\"color: #008080; text-decoration-color: #008080; font-weight: bold\">284.845908</span>   \n",
              "V4379     <span style=\"color: #008080; text-decoration-color: #008080; font-weight: bold\">290.105306</span>     <span style=\"color: #008080; text-decoration-color: #008080; font-weight: bold\">285.888011</span>    <span style=\"color: #008080; text-decoration-color: #008080; font-weight: bold\">288.397318</span>     <span style=\"color: #008080; text-decoration-color: #008080; font-weight: bold\">288.028490</span>   \n",
              "V4380     <span style=\"color: #008080; text-decoration-color: #008080; font-weight: bold\">286.249309</span>     <span style=\"color: #008080; text-decoration-color: #008080; font-weight: bold\">282.517850</span>    <span style=\"color: #008080; text-decoration-color: #008080; font-weight: bold\">284.681485</span>     <span style=\"color: #008080; text-decoration-color: #008080; font-weight: bold\">285.289985</span>   \n",
              "\n",
              "       ulwrf_sfc_media  ulwrf_tatm_media  uswrf_sfc_media    salida  \n",
              "V1          <span style=\"color: #008080; text-decoration-color: #008080; font-weight: bold\">354.865220</span>        <span style=\"color: #008080; text-decoration-color: #008080; font-weight: bold\">243.038359</span>        <span style=\"color: #008080; text-decoration-color: #008080; font-weight: bold\">45.836364</span>  <span style=\"color: #008080; text-decoration-color: #008080; font-weight: bold\">11119200</span>  \n",
              "V2          <span style=\"color: #008080; text-decoration-color: #008080; font-weight: bold\">346.875286</span>        <span style=\"color: #008080; text-decoration-color: #008080; font-weight: bold\">206.678167</span>        <span style=\"color: #008080; text-decoration-color: #008080; font-weight: bold\">20.745455</span>   <span style=\"color: #008080; text-decoration-color: #008080; font-weight: bold\">5530500</span>  \n",
              "V3          <span style=\"color: #008080; text-decoration-color: #008080; font-weight: bold\">317.495674</span>        <span style=\"color: #008080; text-decoration-color: #008080; font-weight: bold\">222.825297</span>        <span style=\"color: #008080; text-decoration-color: #008080; font-weight: bold\">64.618182</span>   <span style=\"color: #008080; text-decoration-color: #008080; font-weight: bold\">5596200</span>  \n",
              "V4          <span style=\"color: #008080; text-decoration-color: #008080; font-weight: bold\">329.077006</span>        <span style=\"color: #008080; text-decoration-color: #008080; font-weight: bold\">238.051768</span>        <span style=\"color: #008080; text-decoration-color: #008080; font-weight: bold\">37.563636</span>   <span style=\"color: #008080; text-decoration-color: #008080; font-weight: bold\">4360500</span>  \n",
              "V5          <span style=\"color: #008080; text-decoration-color: #008080; font-weight: bold\">336.922521</span>        <span style=\"color: #008080; text-decoration-color: #008080; font-weight: bold\">238.762367</span>        <span style=\"color: #008080; text-decoration-color: #008080; font-weight: bold\">45.218182</span>  <span style=\"color: #008080; text-decoration-color: #008080; font-weight: bold\">10572300</span>  \n",
              "<span style=\"color: #808000; text-decoration-color: #808000\">...</span>                <span style=\"color: #808000; text-decoration-color: #808000\">...</span>               <span style=\"color: #808000; text-decoration-color: #808000\">...</span>              <span style=\"color: #808000; text-decoration-color: #808000\">...</span>       <span style=\"color: #808000; text-decoration-color: #808000\">...</span>  \n",
              "V4376       <span style=\"color: #008080; text-decoration-color: #008080; font-weight: bold\">361.962524</span>        <span style=\"color: #008080; text-decoration-color: #008080; font-weight: bold\">212.783927</span>        <span style=\"color: #008080; text-decoration-color: #008080; font-weight: bold\">16.254545</span>   <span style=\"color: #008080; text-decoration-color: #008080; font-weight: bold\">3780900</span>  \n",
              "V4377       <span style=\"color: #008080; text-decoration-color: #008080; font-weight: bold\">354.240127</span>        <span style=\"color: #008080; text-decoration-color: #008080; font-weight: bold\">251.974427</span>        <span style=\"color: #008080; text-decoration-color: #008080; font-weight: bold\">46.618182</span>  <span style=\"color: #008080; text-decoration-color: #008080; font-weight: bold\">11463300</span>  \n",
              "V4378       <span style=\"color: #008080; text-decoration-color: #008080; font-weight: bold\">369.549726</span>        <span style=\"color: #008080; text-decoration-color: #008080; font-weight: bold\">249.174911</span>        <span style=\"color: #008080; text-decoration-color: #008080; font-weight: bold\">44.763636</span>  <span style=\"color: #008080; text-decoration-color: #008080; font-weight: bold\">11071200</span>  \n",
              "V4379       <span style=\"color: #008080; text-decoration-color: #008080; font-weight: bold\">388.614675</span>        <span style=\"color: #008080; text-decoration-color: #008080; font-weight: bold\">268.346570</span>        <span style=\"color: #008080; text-decoration-color: #008080; font-weight: bold\">46.327273</span>  <span style=\"color: #008080; text-decoration-color: #008080; font-weight: bold\">11222700</span>  \n",
              "V4380       <span style=\"color: #008080; text-decoration-color: #008080; font-weight: bold\">375.002238</span>        <span style=\"color: #008080; text-decoration-color: #008080; font-weight: bold\">249.829608</span>        <span style=\"color: #008080; text-decoration-color: #008080; font-weight: bold\">43.890909</span>  <span style=\"color: #008080; text-decoration-color: #008080; font-weight: bold\">10770600</span>  \n",
              "\n",
              "<span style=\"font-weight: bold\">[</span><span style=\"color: #008080; text-decoration-color: #008080; font-weight: bold\">4380</span> rows x <span style=\"color: #008080; text-decoration-color: #008080; font-weight: bold\">16</span> columns<span style=\"font-weight: bold\">]</span>\n",
              "</pre>\n"
            ]
          },
          "metadata": {}
        }
      ]
    },
    {
      "cell_type": "markdown",
      "source": [
        "Como podemos ver, hemos realizado las medias de los atributos, resultando en un total de 15 columnas además de la variable de salida. A continuación veremos si existen relaciones entre estas variables:"
      ],
      "metadata": {
        "id": "dmBuDg7DxX9P"
      }
    },
    {
      "cell_type": "code",
      "source": [
        "import seaborn as sns\n",
        "import matplotlib.pyplot as plt\n",
        "\n",
        "sns.set(style=\"ticks\")\n",
        "\n",
        "# Seleccionar solo las columnas de las variables meteorológicas\n",
        "cols = mean_df.columns[:-1]\n",
        "\n",
        "# Crear un diagrama de cajas para cada variable\n",
        "for col in cols:\n",
        "    sns.histplot(data=mean_df, x=col)\n",
        "    plt.show()"
      ],
      "metadata": {
        "id": "cCHmQuXJxe4G",
        "outputId": "27058141-a0ba-4910-ef9b-4ca1828ba233",
        "colab": {
          "base_uri": "https://localhost:8080/",
          "height": 1000
        }
      },
      "execution_count": 26,
      "outputs": [
        {
          "output_type": "display_data",
          "data": {
            "text/plain": [
              "<Figure size 640x480 with 1 Axes>"
            ],
            "image/png": "[encoded data removed]"
          },
          "metadata": {}
        },
        {
          "output_type": "display_data",
          "data": {
            "text/plain": [
              "<Figure size 640x480 with 1 Axes>"
            ],
            "image/png": "[encoded data removed]"
          },
          "metadata": {}
        },
        {
          "output_type": "display_data",
          "data": {
            "text/plain": [
              "<Figure size 640x480 with 1 Axes>"
            ],
            "image/png": "[encoded data removed]"
          },
          "metadata": {}
        },
        {
          "output_type": "display_data",
          "data": {
            "text/plain": [
              "<Figure size 640x480 with 1 Axes>"
            ],
            "image/png": "[encoded data removed]"
          },
          "metadata": {}
        },
        {
          "output_type": "display_data",
          "data": {
            "text/plain": [
              "<Figure size 640x480 with 1 Axes>"
            ],
            "image/png": "[encoded data removed]"
          },
          "metadata": {}
        },
        {
          "output_type": "display_data",
          "data": {
            "text/plain": [
              "<Figure size 640x480 with 1 Axes>"
            ],
            "image/png": "[encoded data removed]"
          },
          "metadata": {}
        },
        {
          "output_type": "display_data",
          "data": {
            "text/plain": [
              "<Figure size 640x480 with 1 Axes>"
            ],
            "image/png": "[encoded data removed]"
          },
          "metadata": {}
        },
        {
          "output_type": "display_data",
          "data": {
            "text/plain": [
              "<Figure size 640x480 with 1 Axes>"
            ],
            "image/png": "[encoded data removed]"
          },
          "metadata": {}
        },
        {
          "output_type": "display_data",
          "data": {
            "text/plain": [
              "<Figure size 640x480 with 1 Axes>"
            ],
            "image/png": "[encoded data removed]"
          },
          "metadata": {}
        },
        {
          "output_type": "display_data",
          "data": {
            "text/plain": [
              "<Figure size 640x480 with 1 Axes>"
            ],
            "image/png": "[encoded data removed]"
          },
          "metadata": {}
        },
        {
          "output_type": "display_data",
          "data": {
            "text/plain": [
              "<Figure size 640x480 with 1 Axes>"
            ],
            "image/png": "[encoded data removed]"
          },
          "metadata": {}
        },
        {
          "output_type": "display_data",
          "data": {
            "text/plain": [
              "<Figure size 640x480 with 1 Axes>"
            ],
            "image/png": "[encoded data removed]"
          },
          "metadata": {}
        },
        {
          "output_type": "display_data",
          "data": {
            "text/plain": [
              "<Figure size 640x480 with 1 Axes>"
            ],
            "image/png": "[encoded data removed]"
          },
          "metadata": {}
        },
        {
          "output_type": "display_data",
          "data": {
            "text/plain": [
              "<Figure size 640x480 with 1 Axes>"
            ],
            "image/png": "[encoded data removed]"
          },
          "metadata": {}
        },
        {
          "output_type": "display_data",
          "data": {
            "text/plain": [
              "<Figure size 640x480 with 1 Axes>"
            ],
            "image/png": "[encoded data removed]"
          },
          "metadata": {}
        }
      ]
    },
    {
      "cell_type": "markdown",
      "source": [],
      "metadata": {
        "id": "WJ4YlZUwx_ST"
      }
    },
    {
      "cell_type": "code",
      "source": [
        "import seaborn as sns\n",
        "import matplotlib.pyplot as plt\n",
        "\n",
        "sns.set_theme(style=\"white\")\n",
        "\n",
        "# Compute the correlation matrix\n",
        "corr = mean_df.corr()\n",
        "\n",
        "print(corr)\n",
        "\n",
        "# Generate a mask for the upper triangle\n",
        "mask = np.triu(np.ones_like(corr, dtype=bool))\n",
        "\n",
        "# Set up the matplotlib figure\n",
        "f, ax = plt.subplots(figsize=(15, 15))\n",
        "\n",
        "# Generate a custom diverging colormap\n",
        "cmap = sns.diverging_palette(230, 20, as_cmap=True)\n",
        "\n",
        "# Draw the heatmap with the mask and correct aspect ratio\n",
        "sns.heatmap(corr, mask=mask, cmap=cmap, vmax=1, vmin=-1, center=0,\n",
        "            square=True, linewidths=.5, cbar_kws={\"shrink\": .5}, annot=True)\n"
      ],
      "metadata": {
        "id": "HHBCvhzUmpFm",
        "outputId": "e15eac5e-ea6e-411b-d62e-df4bfc371cdb",
        "colab": {
          "base_uri": "https://localhost:8080/",
          "height": 1000
        }
      },
      "execution_count": 27,
      "outputs": [
        {
          "output_type": "display_data",
          "data": {
            "text/plain": [
              "                  apcp_sf_media  dlwrf_s_media  dswrf_s_media  pres_msl_media  \\\n",
              "apcp_sf_media          \u001b[1;36m1.000000\u001b[0m       \u001b[1;36m0.243991\u001b[0m      \u001b[1;36m-0.285869\u001b[0m       \u001b[1;36m-0.200707\u001b[0m   \n",
              "dlwrf_s_media          \u001b[1;36m0.243991\u001b[0m       \u001b[1;36m1.000000\u001b[0m       \u001b[1;36m0.420623\u001b[0m       \u001b[1;36m-0.591135\u001b[0m   \n",
              "dswrf_s_media         \u001b[1;36m-0.285869\u001b[0m       \u001b[1;36m0.420623\u001b[0m       \u001b[1;36m1.000000\u001b[0m       \u001b[1;36m-0.206957\u001b[0m   \n",
              "pres_msl_media        \u001b[1;36m-0.200707\u001b[0m      \u001b[1;36m-0.591135\u001b[0m      \u001b[1;36m-0.206957\u001b[0m        \u001b[1;36m1.000000\u001b[0m   \n",
              "pwat_eatm_media        \u001b[1;36m0.303863\u001b[0m       \u001b[1;36m0.933142\u001b[0m       \u001b[1;36m0.376600\u001b[0m       \u001b[1;36m-0.470483\u001b[0m   \n",
              "spfh_2m_media          \u001b[1;36m0.161421\u001b[0m       \u001b[1;36m0.943544\u001b[0m       \u001b[1;36m0.590196\u001b[0m       \u001b[1;36m-0.548867\u001b[0m   \n",
              "tcdc_eatm_media        \u001b[1;36m0.728281\u001b[0m       \u001b[1;36m0.160995\u001b[0m      \u001b[1;36m-0.499665\u001b[0m       \u001b[1;36m-0.126575\u001b[0m   \n",
              "tcolc_eatm_media       \u001b[1;36m0.728395\u001b[0m       \u001b[1;36m0.161040\u001b[0m      \u001b[1;36m-0.499189\u001b[0m       \u001b[1;36m-0.126681\u001b[0m   \n",
              "tmax_2m_media          \u001b[1;36m0.023002\u001b[0m       \u001b[1;36m0.892888\u001b[0m       \u001b[1;36m0.678890\u001b[0m       \u001b[1;36m-0.560968\u001b[0m   \n",
              "tmin_2m_media          \u001b[1;36m0.069626\u001b[0m       \u001b[1;36m0.927022\u001b[0m       \u001b[1;36m0.632265\u001b[0m       \u001b[1;36m-0.583072\u001b[0m   \n",
              "tmp_2m_media           \u001b[1;36m0.028554\u001b[0m       \u001b[1;36m0.901355\u001b[0m       \u001b[1;36m0.679168\u001b[0m       \u001b[1;36m-0.565030\u001b[0m   \n",
              "tmp_sfc_media          \u001b[1;36m0.014947\u001b[0m       \u001b[1;36m0.892881\u001b[0m       \u001b[1;36m0.699562\u001b[0m       \u001b[1;36m-0.548523\u001b[0m   \n",
              "ulwrf_sfc_media        \u001b[1;36m0.023213\u001b[0m       \u001b[1;36m0.901651\u001b[0m       \u001b[1;36m0.689375\u001b[0m       \u001b[1;36m-0.540030\u001b[0m   \n",
              "ulwrf_tatm_media      \u001b[1;36m-0.447643\u001b[0m       \u001b[1;36m0.269996\u001b[0m       \u001b[1;36m0.652529\u001b[0m       \u001b[1;36m-0.156953\u001b[0m   \n",
              "uswrf_sfc_media       \u001b[1;36m-0.336084\u001b[0m       \u001b[1;36m0.205893\u001b[0m       \u001b[1;36m0.893780\u001b[0m       \u001b[1;36m-0.038582\u001b[0m   \n",
              "salida                \u001b[1;36m-0.299093\u001b[0m       \u001b[1;36m0.317809\u001b[0m       \u001b[1;36m0.884782\u001b[0m       \u001b[1;36m-0.158127\u001b[0m   \n",
              "\n",
              "                  pwat_eatm_media  spfh_2m_media  tcdc_eatm_media  \\\n",
              "apcp_sf_media            \u001b[1;36m0.303863\u001b[0m       \u001b[1;36m0.161421\u001b[0m         \u001b[1;36m0.728281\u001b[0m   \n",
              "dlwrf_s_media            \u001b[1;36m0.933142\u001b[0m       \u001b[1;36m0.943544\u001b[0m         \u001b[1;36m0.160995\u001b[0m   \n",
              "dswrf_s_media            \u001b[1;36m0.376600\u001b[0m       \u001b[1;36m0.590196\u001b[0m        \u001b[1;36m-0.499665\u001b[0m   \n",
              "pres_msl_media          \u001b[1;36m-0.470483\u001b[0m      \u001b[1;36m-0.548867\u001b[0m        \u001b[1;36m-0.126575\u001b[0m   \n",
              "pwat_eatm_media          \u001b[1;36m1.000000\u001b[0m       \u001b[1;36m0.913353\u001b[0m         \u001b[1;36m0.193609\u001b[0m   \n",
              "spfh_2m_media            \u001b[1;36m0.913353\u001b[0m       \u001b[1;36m1.000000\u001b[0m         \u001b[1;36m0.000085\u001b[0m   \n",
              "tcdc_eatm_media          \u001b[1;36m0.193609\u001b[0m       \u001b[1;36m0.000085\u001b[0m         \u001b[1;36m1.000000\u001b[0m   \n",
              "tcolc_eatm_media         \u001b[1;36m0.193714\u001b[0m       \u001b[1;36m0.000286\u001b[0m         \u001b[1;36m0.999994\u001b[0m   \n",
              "tmax_2m_media            \u001b[1;36m0.797623\u001b[0m       \u001b[1;36m0.911637\u001b[0m        \u001b[1;36m-0.134641\u001b[0m   \n",
              "tmin_2m_media            \u001b[1;36m0.834233\u001b[0m       \u001b[1;36m0.932235\u001b[0m        \u001b[1;36m-0.076044\u001b[0m   \n",
              "tmp_2m_media             \u001b[1;36m0.808537\u001b[0m       \u001b[1;36m0.921180\u001b[0m        \u001b[1;36m-0.124369\u001b[0m   \n",
              "tmp_sfc_media            \u001b[1;36m0.803364\u001b[0m       \u001b[1;36m0.916693\u001b[0m        \u001b[1;36m-0.142202\u001b[0m   \n",
              "ulwrf_sfc_media          \u001b[1;36m0.815189\u001b[0m       \u001b[1;36m0.924047\u001b[0m        \u001b[1;36m-0.137022\u001b[0m   \n",
              "ulwrf_tatm_media         \u001b[1;36m0.153237\u001b[0m       \u001b[1;36m0.387461\u001b[0m        \u001b[1;36m-0.699938\u001b[0m   \n",
              "uswrf_sfc_media          \u001b[1;36m0.193559\u001b[0m       \u001b[1;36m0.404520\u001b[0m        \u001b[1;36m-0.552105\u001b[0m   \n",
              "salida                   \u001b[1;36m0.246283\u001b[0m       \u001b[1;36m0.486372\u001b[0m        \u001b[1;36m-0.483169\u001b[0m   \n",
              "\n",
              "                  tcolc_eatm_media  tmax_2m_media  tmin_2m_media  \\\n",
              "apcp_sf_media             \u001b[1;36m0.728395\u001b[0m       \u001b[1;36m0.023002\u001b[0m       \u001b[1;36m0.069626\u001b[0m   \n",
              "dlwrf_s_media             \u001b[1;36m0.161040\u001b[0m       \u001b[1;36m0.892888\u001b[0m       \u001b[1;36m0.927022\u001b[0m   \n",
              "dswrf_s_media            \u001b[1;36m-0.499189\u001b[0m       \u001b[1;36m0.678890\u001b[0m       \u001b[1;36m0.632265\u001b[0m   \n",
              "pres_msl_media           \u001b[1;36m-0.126681\u001b[0m      \u001b[1;36m-0.560968\u001b[0m      \u001b[1;36m-0.583072\u001b[0m   \n",
              "pwat_eatm_media           \u001b[1;36m0.193714\u001b[0m       \u001b[1;36m0.797623\u001b[0m       \u001b[1;36m0.834233\u001b[0m   \n",
              "spfh_2m_media             \u001b[1;36m0.000286\u001b[0m       \u001b[1;36m0.911637\u001b[0m       \u001b[1;36m0.932235\u001b[0m   \n",
              "tcdc_eatm_media           \u001b[1;36m0.999994\u001b[0m      \u001b[1;36m-0.134641\u001b[0m      \u001b[1;36m-0.076044\u001b[0m   \n",
              "tcolc_eatm_media          \u001b[1;36m1.000000\u001b[0m      \u001b[1;36m-0.134418\u001b[0m      \u001b[1;36m-0.075842\u001b[0m   \n",
              "tmax_2m_media            \u001b[1;36m-0.134418\u001b[0m       \u001b[1;36m1.000000\u001b[0m       \u001b[1;36m0.993083\u001b[0m   \n",
              "tmin_2m_media            \u001b[1;36m-0.075842\u001b[0m       \u001b[1;36m0.993083\u001b[0m       \u001b[1;36m1.000000\u001b[0m   \n",
              "tmp_2m_media             \u001b[1;36m-0.124150\u001b[0m       \u001b[1;36m0.998566\u001b[0m       \u001b[1;36m0.994799\u001b[0m   \n",
              "tmp_sfc_media            \u001b[1;36m-0.141978\u001b[0m       \u001b[1;36m0.996680\u001b[0m       \u001b[1;36m0.990974\u001b[0m   \n",
              "ulwrf_sfc_media          \u001b[1;36m-0.136791\u001b[0m       \u001b[1;36m0.995381\u001b[0m       \u001b[1;36m0.992091\u001b[0m   \n",
              "ulwrf_tatm_media         \u001b[1;36m-0.699517\u001b[0m       \u001b[1;36m0.541401\u001b[0m       \u001b[1;36m0.493801\u001b[0m   \n",
              "uswrf_sfc_media          \u001b[1;36m-0.551585\u001b[0m       \u001b[1;36m0.453303\u001b[0m       \u001b[1;36m0.400794\u001b[0m   \n",
              "salida                   \u001b[1;36m-0.482646\u001b[0m       \u001b[1;36m0.594110\u001b[0m       \u001b[1;36m0.545553\u001b[0m   \n",
              "\n",
              "                  tmp_2m_media  tmp_sfc_media  ulwrf_sfc_media  \\\n",
              "apcp_sf_media         \u001b[1;36m0.028554\u001b[0m       \u001b[1;36m0.014947\u001b[0m         \u001b[1;36m0.023213\u001b[0m   \n",
              "dlwrf_s_media         \u001b[1;36m0.901355\u001b[0m       \u001b[1;36m0.892881\u001b[0m         \u001b[1;36m0.901651\u001b[0m   \n",
              "dswrf_s_media         \u001b[1;36m0.679168\u001b[0m       \u001b[1;36m0.699562\u001b[0m         \u001b[1;36m0.689375\u001b[0m   \n",
              "pres_msl_media       \u001b[1;36m-0.565030\u001b[0m      \u001b[1;36m-0.548523\u001b[0m        \u001b[1;36m-0.540030\u001b[0m   \n",
              "pwat_eatm_media       \u001b[1;36m0.808537\u001b[0m       \u001b[1;36m0.803364\u001b[0m         \u001b[1;36m0.815189\u001b[0m   \n",
              "spfh_2m_media         \u001b[1;36m0.921180\u001b[0m       \u001b[1;36m0.916693\u001b[0m         \u001b[1;36m0.924047\u001b[0m   \n",
              "tcdc_eatm_media      \u001b[1;36m-0.124369\u001b[0m      \u001b[1;36m-0.142202\u001b[0m        \u001b[1;36m-0.137022\u001b[0m   \n",
              "tcolc_eatm_media     \u001b[1;36m-0.124150\u001b[0m      \u001b[1;36m-0.141978\u001b[0m        \u001b[1;36m-0.136791\u001b[0m   \n",
              "tmax_2m_media         \u001b[1;36m0.998566\u001b[0m       \u001b[1;36m0.996680\u001b[0m         \u001b[1;36m0.995381\u001b[0m   \n",
              "tmin_2m_media         \u001b[1;36m0.994799\u001b[0m       \u001b[1;36m0.990974\u001b[0m         \u001b[1;36m0.992091\u001b[0m   \n",
              "tmp_2m_media          \u001b[1;36m1.000000\u001b[0m       \u001b[1;36m0.997733\u001b[0m         \u001b[1;36m0.994819\u001b[0m   \n",
              "tmp_sfc_media         \u001b[1;36m0.997733\u001b[0m       \u001b[1;36m1.000000\u001b[0m         \u001b[1;36m0.997212\u001b[0m   \n",
              "ulwrf_sfc_media       \u001b[1;36m0.994819\u001b[0m       \u001b[1;36m0.997212\u001b[0m         \u001b[1;36m1.000000\u001b[0m   \n",
              "ulwrf_tatm_media      \u001b[1;36m0.531027\u001b[0m       \u001b[1;36m0.541187\u001b[0m         \u001b[1;36m0.539702\u001b[0m   \n",
              "uswrf_sfc_media       \u001b[1;36m0.451312\u001b[0m       \u001b[1;36m0.465178\u001b[0m         \u001b[1;36m0.465567\u001b[0m   \n",
              "salida                \u001b[1;36m0.593379\u001b[0m       \u001b[1;36m0.608008\u001b[0m         \u001b[1;36m0.598302\u001b[0m   \n",
              "\n",
              "                  ulwrf_tatm_media  uswrf_sfc_media    salida  \n",
              "apcp_sf_media            \u001b[1;36m-0.447643\u001b[0m        \u001b[1;36m-0.336084\u001b[0m \u001b[1;36m-0.299093\u001b[0m  \n",
              "dlwrf_s_media             \u001b[1;36m0.269996\u001b[0m         \u001b[1;36m0.205893\u001b[0m  \u001b[1;36m0.317809\u001b[0m  \n",
              "dswrf_s_media             \u001b[1;36m0.652529\u001b[0m         \u001b[1;36m0.893780\u001b[0m  \u001b[1;36m0.884782\u001b[0m  \n",
              "pres_msl_media           \u001b[1;36m-0.156953\u001b[0m        \u001b[1;36m-0.038582\u001b[0m \u001b[1;36m-0.158127\u001b[0m  \n",
              "pwat_eatm_media           \u001b[1;36m0.153237\u001b[0m         \u001b[1;36m0.193559\u001b[0m  \u001b[1;36m0.246283\u001b[0m  \n",
              "spfh_2m_media             \u001b[1;36m0.387461\u001b[0m         \u001b[1;36m0.404520\u001b[0m  \u001b[1;36m0.486372\u001b[0m  \n",
              "tcdc_eatm_media          \u001b[1;36m-0.699938\u001b[0m        \u001b[1;36m-0.552105\u001b[0m \u001b[1;36m-0.483169\u001b[0m  \n",
              "tcolc_eatm_media         \u001b[1;36m-0.699517\u001b[0m        \u001b[1;36m-0.551585\u001b[0m \u001b[1;36m-0.482646\u001b[0m  \n",
              "tmax_2m_media             \u001b[1;36m0.541401\u001b[0m         \u001b[1;36m0.453303\u001b[0m  \u001b[1;36m0.594110\u001b[0m  \n",
              "tmin_2m_media             \u001b[1;36m0.493801\u001b[0m         \u001b[1;36m0.400794\u001b[0m  \u001b[1;36m0.545553\u001b[0m  \n",
              "tmp_2m_media              \u001b[1;36m0.531027\u001b[0m         \u001b[1;36m0.451312\u001b[0m  \u001b[1;36m0.593379\u001b[0m  \n",
              "tmp_sfc_media             \u001b[1;36m0.541187\u001b[0m         \u001b[1;36m0.465178\u001b[0m  \u001b[1;36m0.608008\u001b[0m  \n",
              "ulwrf_sfc_media           \u001b[1;36m0.539702\u001b[0m         \u001b[1;36m0.465567\u001b[0m  \u001b[1;36m0.598302\u001b[0m  \n",
              "ulwrf_tatm_media          \u001b[1;36m1.000000\u001b[0m         \u001b[1;36m0.609535\u001b[0m  \u001b[1;36m0.655160\u001b[0m  \n",
              "uswrf_sfc_media           \u001b[1;36m0.609535\u001b[0m         \u001b[1;36m1.000000\u001b[0m  \u001b[1;36m0.808093\u001b[0m  \n",
              "salida                    \u001b[1;36m0.655160\u001b[0m         \u001b[1;36m0.808093\u001b[0m  \u001b[1;36m1.000000\u001b[0m  \n"
            ],
            "text/html": [
              "<pre style=\"white-space:pre;overflow-x:auto;line-height:normal;font-family:Menlo,'DejaVu Sans Mono',consolas,'Courier New',monospace\">                  apcp_sf_media  dlwrf_s_media  dswrf_s_media  pres_msl_media  \\\n",
              "apcp_sf_media          <span style=\"color: #008080; text-decoration-color: #008080; font-weight: bold\">1.000000</span>       <span style=\"color: #008080; text-decoration-color: #008080; font-weight: bold\">0.243991</span>      <span style=\"color: #008080; text-decoration-color: #008080; font-weight: bold\">-0.285869</span>       <span style=\"color: #008080; text-decoration-color: #008080; font-weight: bold\">-0.200707</span>   \n",
              "dlwrf_s_media          <span style=\"color: #008080; text-decoration-color: #008080; font-weight: bold\">0.243991</span>       <span style=\"color: #008080; text-decoration-color: #008080; font-weight: bold\">1.000000</span>       <span style=\"color: #008080; text-decoration-color: #008080; font-weight: bold\">0.420623</span>       <span style=\"color: #008080; text-decoration-color: #008080; font-weight: bold\">-0.591135</span>   \n",
              "dswrf_s_media         <span style=\"color: #008080; text-decoration-color: #008080; font-weight: bold\">-0.285869</span>       <span style=\"color: #008080; text-decoration-color: #008080; font-weight: bold\">0.420623</span>       <span style=\"color: #008080; text-decoration-color: #008080; font-weight: bold\">1.000000</span>       <span style=\"color: #008080; text-decoration-color: #008080; font-weight: bold\">-0.206957</span>   \n",
              "pres_msl_media        <span style=\"color: #008080; text-decoration-color: #008080; font-weight: bold\">-0.200707</span>      <span style=\"color: #008080; text-decoration-color: #008080; font-weight: bold\">-0.591135</span>      <span style=\"color: #008080; text-decoration-color: #008080; font-weight: bold\">-0.206957</span>        <span style=\"color: #008080; text-decoration-color: #008080; font-weight: bold\">1.000000</span>   \n",
              "pwat_eatm_media        <span style=\"color: #008080; text-decoration-color: #008080; font-weight: bold\">0.303863</span>       <span style=\"color: #008080; text-decoration-color: #008080; font-weight: bold\">0.933142</span>       <span style=\"color: #008080; text-decoration-color: #008080; font-weight: bold\">0.376600</span>       <span style=\"color: #008080; text-decoration-color: #008080; font-weight: bold\">-0.470483</span>   \n",
              "spfh_2m_media          <span style=\"color: #008080; text-decoration-color: #008080; font-weight: bold\">0.161421</span>       <span style=\"color: #008080; text-decoration-color: #008080; font-weight: bold\">0.943544</span>       <span style=\"color: #008080; text-decoration-color: #008080; font-weight: bold\">0.590196</span>       <span style=\"color: #008080; text-decoration-color: #008080; font-weight: bold\">-0.548867</span>   \n",
              "tcdc_eatm_media        <span style=\"color: #008080; text-decoration-color: #008080; font-weight: bold\">0.728281</span>       <span style=\"color: #008080; text-decoration-color: #008080; font-weight: bold\">0.160995</span>      <span style=\"color: #008080; text-decoration-color: #008080; font-weight: bold\">-0.499665</span>       <span style=\"color: #008080; text-decoration-color: #008080; font-weight: bold\">-0.126575</span>   \n",
              "tcolc_eatm_media       <span style=\"color: #008080; text-decoration-color: #008080; font-weight: bold\">0.728395</span>       <span style=\"color: #008080; text-decoration-color: #008080; font-weight: bold\">0.161040</span>      <span style=\"color: #008080; text-decoration-color: #008080; font-weight: bold\">-0.499189</span>       <span style=\"color: #008080; text-decoration-color: #008080; font-weight: bold\">-0.126681</span>   \n",
              "tmax_2m_media          <span style=\"color: #008080; text-decoration-color: #008080; font-weight: bold\">0.023002</span>       <span style=\"color: #008080; text-decoration-color: #008080; font-weight: bold\">0.892888</span>       <span style=\"color: #008080; text-decoration-color: #008080; font-weight: bold\">0.678890</span>       <span style=\"color: #008080; text-decoration-color: #008080; font-weight: bold\">-0.560968</span>   \n",
              "tmin_2m_media          <span style=\"color: #008080; text-decoration-color: #008080; font-weight: bold\">0.069626</span>       <span style=\"color: #008080; text-decoration-color: #008080; font-weight: bold\">0.927022</span>       <span style=\"color: #008080; text-decoration-color: #008080; font-weight: bold\">0.632265</span>       <span style=\"color: #008080; text-decoration-color: #008080; font-weight: bold\">-0.583072</span>   \n",
              "tmp_2m_media           <span style=\"color: #008080; text-decoration-color: #008080; font-weight: bold\">0.028554</span>       <span style=\"color: #008080; text-decoration-color: #008080; font-weight: bold\">0.901355</span>       <span style=\"color: #008080; text-decoration-color: #008080; font-weight: bold\">0.679168</span>       <span style=\"color: #008080; text-decoration-color: #008080; font-weight: bold\">-0.565030</span>   \n",
              "tmp_sfc_media          <span style=\"color: #008080; text-decoration-color: #008080; font-weight: bold\">0.014947</span>       <span style=\"color: #008080; text-decoration-color: #008080; font-weight: bold\">0.892881</span>       <span style=\"color: #008080; text-decoration-color: #008080; font-weight: bold\">0.699562</span>       <span style=\"color: #008080; text-decoration-color: #008080; font-weight: bold\">-0.548523</span>   \n",
              "ulwrf_sfc_media        <span style=\"color: #008080; text-decoration-color: #008080; font-weight: bold\">0.023213</span>       <span style=\"color: #008080; text-decoration-color: #008080; font-weight: bold\">0.901651</span>       <span style=\"color: #008080; text-decoration-color: #008080; font-weight: bold\">0.689375</span>       <span style=\"color: #008080; text-decoration-color: #008080; font-weight: bold\">-0.540030</span>   \n",
              "ulwrf_tatm_media      <span style=\"color: #008080; text-decoration-color: #008080; font-weight: bold\">-0.447643</span>       <span style=\"color: #008080; text-decoration-color: #008080; font-weight: bold\">0.269996</span>       <span style=\"color: #008080; text-decoration-color: #008080; font-weight: bold\">0.652529</span>       <span style=\"color: #008080; text-decoration-color: #008080; font-weight: bold\">-0.156953</span>   \n",
              "uswrf_sfc_media       <span style=\"color: #008080; text-decoration-color: #008080; font-weight: bold\">-0.336084</span>       <span style=\"color: #008080; text-decoration-color: #008080; font-weight: bold\">0.205893</span>       <span style=\"color: #008080; text-decoration-color: #008080; font-weight: bold\">0.893780</span>       <span style=\"color: #008080; text-decoration-color: #008080; font-weight: bold\">-0.038582</span>   \n",
              "salida                <span style=\"color: #008080; text-decoration-color: #008080; font-weight: bold\">-0.299093</span>       <span style=\"color: #008080; text-decoration-color: #008080; font-weight: bold\">0.317809</span>       <span style=\"color: #008080; text-decoration-color: #008080; font-weight: bold\">0.884782</span>       <span style=\"color: #008080; text-decoration-color: #008080; font-weight: bold\">-0.158127</span>   \n",
              "\n",
              "                  pwat_eatm_media  spfh_2m_media  tcdc_eatm_media  \\\n",
              "apcp_sf_media            <span style=\"color: #008080; text-decoration-color: #008080; font-weight: bold\">0.303863</span>       <span style=\"color: #008080; text-decoration-color: #008080; font-weight: bold\">0.161421</span>         <span style=\"color: #008080; text-decoration-color: #008080; font-weight: bold\">0.728281</span>   \n",
              "dlwrf_s_media            <span style=\"color: #008080; text-decoration-color: #008080; font-weight: bold\">0.933142</span>       <span style=\"color: #008080; text-decoration-color: #008080; font-weight: bold\">0.943544</span>         <span style=\"color: #008080; text-decoration-color: #008080; font-weight: bold\">0.160995</span>   \n",
              "dswrf_s_media            <span style=\"color: #008080; text-decoration-color: #008080; font-weight: bold\">0.376600</span>       <span style=\"color: #008080; text-decoration-color: #008080; font-weight: bold\">0.590196</span>        <span style=\"color: #008080; text-decoration-color: #008080; font-weight: bold\">-0.499665</span>   \n",
              "pres_msl_media          <span style=\"color: #008080; text-decoration-color: #008080; font-weight: bold\">-0.470483</span>      <span style=\"color: #008080; text-decoration-color: #008080; font-weight: bold\">-0.548867</span>        <span style=\"color: #008080; text-decoration-color: #008080; font-weight: bold\">-0.126575</span>   \n",
              "pwat_eatm_media          <span style=\"color: #008080; text-decoration-color: #008080; font-weight: bold\">1.000000</span>       <span style=\"color: #008080; text-decoration-color: #008080; font-weight: bold\">0.913353</span>         <span style=\"color: #008080; text-decoration-color: #008080; font-weight: bold\">0.193609</span>   \n",
              "spfh_2m_media            <span style=\"color: #008080; text-decoration-color: #008080; font-weight: bold\">0.913353</span>       <span style=\"color: #008080; text-decoration-color: #008080; font-weight: bold\">1.000000</span>         <span style=\"color: #008080; text-decoration-color: #008080; font-weight: bold\">0.000085</span>   \n",
              "tcdc_eatm_media          <span style=\"color: #008080; text-decoration-color: #008080; font-weight: bold\">0.193609</span>       <span style=\"color: #008080; text-decoration-color: #008080; font-weight: bold\">0.000085</span>         <span style=\"color: #008080; text-decoration-color: #008080; font-weight: bold\">1.000000</span>   \n",
              "tcolc_eatm_media         <span style=\"color: #008080; text-decoration-color: #008080; font-weight: bold\">0.193714</span>       <span style=\"color: #008080; text-decoration-color: #008080; font-weight: bold\">0.000286</span>         <span style=\"color: #008080; text-decoration-color: #008080; font-weight: bold\">0.999994</span>   \n",
              "tmax_2m_media            <span style=\"color: #008080; text-decoration-color: #008080; font-weight: bold\">0.797623</span>       <span style=\"color: #008080; text-decoration-color: #008080; font-weight: bold\">0.911637</span>        <span style=\"color: #008080; text-decoration-color: #008080; font-weight: bold\">-0.134641</span>   \n",
              "tmin_2m_media            <span style=\"color: #008080; text-decoration-color: #008080; font-weight: bold\">0.834233</span>       <span style=\"color: #008080; text-decoration-color: #008080; font-weight: bold\">0.932235</span>        <span style=\"color: #008080; text-decoration-color: #008080; font-weight: bold\">-0.076044</span>   \n",
              "tmp_2m_media             <span style=\"color: #008080; text-decoration-color: #008080; font-weight: bold\">0.808537</span>       <span style=\"color: #008080; text-decoration-color: #008080; font-weight: bold\">0.921180</span>        <span style=\"color: #008080; text-decoration-color: #008080; font-weight: bold\">-0.124369</span>   \n",
              "tmp_sfc_media            <span style=\"color: #008080; text-decoration-color: #008080; font-weight: bold\">0.803364</span>       <span style=\"color: #008080; text-decoration-color: #008080; font-weight: bold\">0.916693</span>        <span style=\"color: #008080; text-decoration-color: #008080; font-weight: bold\">-0.142202</span>   \n",
              "ulwrf_sfc_media          <span style=\"color: #008080; text-decoration-color: #008080; font-weight: bold\">0.815189</span>       <span style=\"color: #008080; text-decoration-color: #008080; font-weight: bold\">0.924047</span>        <span style=\"color: #008080; text-decoration-color: #008080; font-weight: bold\">-0.137022</span>   \n",
              "ulwrf_tatm_media         <span style=\"color: #008080; text-decoration-color: #008080; font-weight: bold\">0.153237</span>       <span style=\"color: #008080; text-decoration-color: #008080; font-weight: bold\">0.387461</span>        <span style=\"color: #008080; text-decoration-color: #008080; font-weight: bold\">-0.699938</span>   \n",
              "uswrf_sfc_media          <span style=\"color: #008080; text-decoration-color: #008080; font-weight: bold\">0.193559</span>       <span style=\"color: #008080; text-decoration-color: #008080; font-weight: bold\">0.404520</span>        <span style=\"color: #008080; text-decoration-color: #008080; font-weight: bold\">-0.552105</span>   \n",
              "salida                   <span style=\"color: #008080; text-decoration-color: #008080; font-weight: bold\">0.246283</span>       <span style=\"color: #008080; text-decoration-color: #008080; font-weight: bold\">0.486372</span>        <span style=\"color: #008080; text-decoration-color: #008080; font-weight: bold\">-0.483169</span>   \n",
              "\n",
              "                  tcolc_eatm_media  tmax_2m_media  tmin_2m_media  \\\n",
              "apcp_sf_media             <span style=\"color: #008080; text-decoration-color: #008080; font-weight: bold\">0.728395</span>       <span style=\"color: #008080; text-decoration-color: #008080; font-weight: bold\">0.023002</span>       <span style=\"color: #008080; text-decoration-color: #008080; font-weight: bold\">0.069626</span>   \n",
              "dlwrf_s_media             <span style=\"color: #008080; text-decoration-color: #008080; font-weight: bold\">0.161040</span>       <span style=\"color: #008080; text-decoration-color: #008080; font-weight: bold\">0.892888</span>       <span style=\"color: #008080; text-decoration-color: #008080; font-weight: bold\">0.927022</span>   \n",
              "dswrf_s_media            <span style=\"color: #008080; text-decoration-color: #008080; font-weight: bold\">-0.499189</span>       <span style=\"color: #008080; text-decoration-color: #008080; font-weight: bold\">0.678890</span>       <span style=\"color: #008080; text-decoration-color: #008080; font-weight: bold\">0.632265</span>   \n",
              "pres_msl_media           <span style=\"color: #008080; text-decoration-color: #008080; font-weight: bold\">-0.126681</span>      <span style=\"color: #008080; text-decoration-color: #008080; font-weight: bold\">-0.560968</span>      <span style=\"color: #008080; text-decoration-color: #008080; font-weight: bold\">-0.583072</span>   \n",
              "pwat_eatm_media           <span style=\"color: #008080; text-decoration-color: #008080; font-weight: bold\">0.193714</span>       <span style=\"color: #008080; text-decoration-color: #008080; font-weight: bold\">0.797623</span>       <span style=\"color: #008080; text-decoration-color: #008080; font-weight: bold\">0.834233</span>   \n",
              "spfh_2m_media             <span style=\"color: #008080; text-decoration-color: #008080; font-weight: bold\">0.000286</span>       <span style=\"color: #008080; text-decoration-color: #008080; font-weight: bold\">0.911637</span>       <span style=\"color: #008080; text-decoration-color: #008080; font-weight: bold\">0.932235</span>   \n",
              "tcdc_eatm_media           <span style=\"color: #008080; text-decoration-color: #008080; font-weight: bold\">0.999994</span>      <span style=\"color: #008080; text-decoration-color: #008080; font-weight: bold\">-0.134641</span>      <span style=\"color: #008080; text-decoration-color: #008080; font-weight: bold\">-0.076044</span>   \n",
              "tcolc_eatm_media          <span style=\"color: #008080; text-decoration-color: #008080; font-weight: bold\">1.000000</span>      <span style=\"color: #008080; text-decoration-color: #008080; font-weight: bold\">-0.134418</span>      <span style=\"color: #008080; text-decoration-color: #008080; font-weight: bold\">-0.075842</span>   \n",
              "tmax_2m_media            <span style=\"color: #008080; text-decoration-color: #008080; font-weight: bold\">-0.134418</span>       <span style=\"color: #008080; text-decoration-color: #008080; font-weight: bold\">1.000000</span>       <span style=\"color: #008080; text-decoration-color: #008080; font-weight: bold\">0.993083</span>   \n",
              "tmin_2m_media            <span style=\"color: #008080; text-decoration-color: #008080; font-weight: bold\">-0.075842</span>       <span style=\"color: #008080; text-decoration-color: #008080; font-weight: bold\">0.993083</span>       <span style=\"color: #008080; text-decoration-color: #008080; font-weight: bold\">1.000000</span>   \n",
              "tmp_2m_media             <span style=\"color: #008080; text-decoration-color: #008080; font-weight: bold\">-0.124150</span>       <span style=\"color: #008080; text-decoration-color: #008080; font-weight: bold\">0.998566</span>       <span style=\"color: #008080; text-decoration-color: #008080; font-weight: bold\">0.994799</span>   \n",
              "tmp_sfc_media            <span style=\"color: #008080; text-decoration-color: #008080; font-weight: bold\">-0.141978</span>       <span style=\"color: #008080; text-decoration-color: #008080; font-weight: bold\">0.996680</span>       <span style=\"color: #008080; text-decoration-color: #008080; font-weight: bold\">0.990974</span>   \n",
              "ulwrf_sfc_media          <span style=\"color: #008080; text-decoration-color: #008080; font-weight: bold\">-0.136791</span>       <span style=\"color: #008080; text-decoration-color: #008080; font-weight: bold\">0.995381</span>       <span style=\"color: #008080; text-decoration-color: #008080; font-weight: bold\">0.992091</span>   \n",
              "ulwrf_tatm_media         <span style=\"color: #008080; text-decoration-color: #008080; font-weight: bold\">-0.699517</span>       <span style=\"color: #008080; text-decoration-color: #008080; font-weight: bold\">0.541401</span>       <span style=\"color: #008080; text-decoration-color: #008080; font-weight: bold\">0.493801</span>   \n",
              "uswrf_sfc_media          <span style=\"color: #008080; text-decoration-color: #008080; font-weight: bold\">-0.551585</span>       <span style=\"color: #008080; text-decoration-color: #008080; font-weight: bold\">0.453303</span>       <span style=\"color: #008080; text-decoration-color: #008080; font-weight: bold\">0.400794</span>   \n",
              "salida                   <span style=\"color: #008080; text-decoration-color: #008080; font-weight: bold\">-0.482646</span>       <span style=\"color: #008080; text-decoration-color: #008080; font-weight: bold\">0.594110</span>       <span style=\"color: #008080; text-decoration-color: #008080; font-weight: bold\">0.545553</span>   \n",
              "\n",
              "                  tmp_2m_media  tmp_sfc_media  ulwrf_sfc_media  \\\n",
              "apcp_sf_media         <span style=\"color: #008080; text-decoration-color: #008080; font-weight: bold\">0.028554</span>       <span style=\"color: #008080; text-decoration-color: #008080; font-weight: bold\">0.014947</span>         <span style=\"color: #008080; text-decoration-color: #008080; font-weight: bold\">0.023213</span>   \n",
              "dlwrf_s_media         <span style=\"color: #008080; text-decoration-color: #008080; font-weight: bold\">0.901355</span>       <span style=\"color: #008080; text-decoration-color: #008080; font-weight: bold\">0.892881</span>         <span style=\"color: #008080; text-decoration-color: #008080; font-weight: bold\">0.901651</span>   \n",
              "dswrf_s_media         <span style=\"color: #008080; text-decoration-color: #008080; font-weight: bold\">0.679168</span>       <span style=\"color: #008080; text-decoration-color: #008080; font-weight: bold\">0.699562</span>         <span style=\"color: #008080; text-decoration-color: #008080; font-weight: bold\">0.689375</span>   \n",
              "pres_msl_media       <span style=\"color: #008080; text-decoration-color: #008080; font-weight: bold\">-0.565030</span>      <span style=\"color: #008080; text-decoration-color: #008080; font-weight: bold\">-0.548523</span>        <span style=\"color: #008080; text-decoration-color: #008080; font-weight: bold\">-0.540030</span>   \n",
              "pwat_eatm_media       <span style=\"color: #008080; text-decoration-color: #008080; font-weight: bold\">0.808537</span>       <span style=\"color: #008080; text-decoration-color: #008080; font-weight: bold\">0.803364</span>         <span style=\"color: #008080; text-decoration-color: #008080; font-weight: bold\">0.815189</span>   \n",
              "spfh_2m_media         <span style=\"color: #008080; text-decoration-color: #008080; font-weight: bold\">0.921180</span>       <span style=\"color: #008080; text-decoration-color: #008080; font-weight: bold\">0.916693</span>         <span style=\"color: #008080; text-decoration-color: #008080; font-weight: bold\">0.924047</span>   \n",
              "tcdc_eatm_media      <span style=\"color: #008080; text-decoration-color: #008080; font-weight: bold\">-0.124369</span>      <span style=\"color: #008080; text-decoration-color: #008080; font-weight: bold\">-0.142202</span>        <span style=\"color: #008080; text-decoration-color: #008080; font-weight: bold\">-0.137022</span>   \n",
              "tcolc_eatm_media     <span style=\"color: #008080; text-decoration-color: #008080; font-weight: bold\">-0.124150</span>      <span style=\"color: #008080; text-decoration-color: #008080; font-weight: bold\">-0.141978</span>        <span style=\"color: #008080; text-decoration-color: #008080; font-weight: bold\">-0.136791</span>   \n",
              "tmax_2m_media         <span style=\"color: #008080; text-decoration-color: #008080; font-weight: bold\">0.998566</span>       <span style=\"color: #008080; text-decoration-color: #008080; font-weight: bold\">0.996680</span>         <span style=\"color: #008080; text-decoration-color: #008080; font-weight: bold\">0.995381</span>   \n",
              "tmin_2m_media         <span style=\"color: #008080; text-decoration-color: #008080; font-weight: bold\">0.994799</span>       <span style=\"color: #008080; text-decoration-color: #008080; font-weight: bold\">0.990974</span>         <span style=\"color: #008080; text-decoration-color: #008080; font-weight: bold\">0.992091</span>   \n",
              "tmp_2m_media          <span style=\"color: #008080; text-decoration-color: #008080; font-weight: bold\">1.000000</span>       <span style=\"color: #008080; text-decoration-color: #008080; font-weight: bold\">0.997733</span>         <span style=\"color: #008080; text-decoration-color: #008080; font-weight: bold\">0.994819</span>   \n",
              "tmp_sfc_media         <span style=\"color: #008080; text-decoration-color: #008080; font-weight: bold\">0.997733</span>       <span style=\"color: #008080; text-decoration-color: #008080; font-weight: bold\">1.000000</span>         <span style=\"color: #008080; text-decoration-color: #008080; font-weight: bold\">0.997212</span>   \n",
              "ulwrf_sfc_media       <span style=\"color: #008080; text-decoration-color: #008080; font-weight: bold\">0.994819</span>       <span style=\"color: #008080; text-decoration-color: #008080; font-weight: bold\">0.997212</span>         <span style=\"color: #008080; text-decoration-color: #008080; font-weight: bold\">1.000000</span>   \n",
              "ulwrf_tatm_media      <span style=\"color: #008080; text-decoration-color: #008080; font-weight: bold\">0.531027</span>       <span style=\"color: #008080; text-decoration-color: #008080; font-weight: bold\">0.541187</span>         <span style=\"color: #008080; text-decoration-color: #008080; font-weight: bold\">0.539702</span>   \n",
              "uswrf_sfc_media       <span style=\"color: #008080; text-decoration-color: #008080; font-weight: bold\">0.451312</span>       <span style=\"color: #008080; text-decoration-color: #008080; font-weight: bold\">0.465178</span>         <span style=\"color: #008080; text-decoration-color: #008080; font-weight: bold\">0.465567</span>   \n",
              "salida                <span style=\"color: #008080; text-decoration-color: #008080; font-weight: bold\">0.593379</span>       <span style=\"color: #008080; text-decoration-color: #008080; font-weight: bold\">0.608008</span>         <span style=\"color: #008080; text-decoration-color: #008080; font-weight: bold\">0.598302</span>   \n",
              "\n",
              "                  ulwrf_tatm_media  uswrf_sfc_media    salida  \n",
              "apcp_sf_media            <span style=\"color: #008080; text-decoration-color: #008080; font-weight: bold\">-0.447643</span>        <span style=\"color: #008080; text-decoration-color: #008080; font-weight: bold\">-0.336084</span> <span style=\"color: #008080; text-decoration-color: #008080; font-weight: bold\">-0.299093</span>  \n",
              "dlwrf_s_media             <span style=\"color: #008080; text-decoration-color: #008080; font-weight: bold\">0.269996</span>         <span style=\"color: #008080; text-decoration-color: #008080; font-weight: bold\">0.205893</span>  <span style=\"color: #008080; text-decoration-color: #008080; font-weight: bold\">0.317809</span>  \n",
              "dswrf_s_media             <span style=\"color: #008080; text-decoration-color: #008080; font-weight: bold\">0.652529</span>         <span style=\"color: #008080; text-decoration-color: #008080; font-weight: bold\">0.893780</span>  <span style=\"color: #008080; text-decoration-color: #008080; font-weight: bold\">0.884782</span>  \n",
              "pres_msl_media           <span style=\"color: #008080; text-decoration-color: #008080; font-weight: bold\">-0.156953</span>        <span style=\"color: #008080; text-decoration-color: #008080; font-weight: bold\">-0.038582</span> <span style=\"color: #008080; text-decoration-color: #008080; font-weight: bold\">-0.158127</span>  \n",
              "pwat_eatm_media           <span style=\"color: #008080; text-decoration-color: #008080; font-weight: bold\">0.153237</span>         <span style=\"color: #008080; text-decoration-color: #008080; font-weight: bold\">0.193559</span>  <span style=\"color: #008080; text-decoration-color: #008080; font-weight: bold\">0.246283</span>  \n",
              "spfh_2m_media             <span style=\"color: #008080; text-decoration-color: #008080; font-weight: bold\">0.387461</span>         <span style=\"color: #008080; text-decoration-color: #008080; font-weight: bold\">0.404520</span>  <span style=\"color: #008080; text-decoration-color: #008080; font-weight: bold\">0.486372</span>  \n",
              "tcdc_eatm_media          <span style=\"color: #008080; text-decoration-color: #008080; font-weight: bold\">-0.699938</span>        <span style=\"color: #008080; text-decoration-color: #008080; font-weight: bold\">-0.552105</span> <span style=\"color: #008080; text-decoration-color: #008080; font-weight: bold\">-0.483169</span>  \n",
              "tcolc_eatm_media         <span style=\"color: #008080; text-decoration-color: #008080; font-weight: bold\">-0.699517</span>        <span style=\"color: #008080; text-decoration-color: #008080; font-weight: bold\">-0.551585</span> <span style=\"color: #008080; text-decoration-color: #008080; font-weight: bold\">-0.482646</span>  \n",
              "tmax_2m_media             <span style=\"color: #008080; text-decoration-color: #008080; font-weight: bold\">0.541401</span>         <span style=\"color: #008080; text-decoration-color: #008080; font-weight: bold\">0.453303</span>  <span style=\"color: #008080; text-decoration-color: #008080; font-weight: bold\">0.594110</span>  \n",
              "tmin_2m_media             <span style=\"color: #008080; text-decoration-color: #008080; font-weight: bold\">0.493801</span>         <span style=\"color: #008080; text-decoration-color: #008080; font-weight: bold\">0.400794</span>  <span style=\"color: #008080; text-decoration-color: #008080; font-weight: bold\">0.545553</span>  \n",
              "tmp_2m_media              <span style=\"color: #008080; text-decoration-color: #008080; font-weight: bold\">0.531027</span>         <span style=\"color: #008080; text-decoration-color: #008080; font-weight: bold\">0.451312</span>  <span style=\"color: #008080; text-decoration-color: #008080; font-weight: bold\">0.593379</span>  \n",
              "tmp_sfc_media             <span style=\"color: #008080; text-decoration-color: #008080; font-weight: bold\">0.541187</span>         <span style=\"color: #008080; text-decoration-color: #008080; font-weight: bold\">0.465178</span>  <span style=\"color: #008080; text-decoration-color: #008080; font-weight: bold\">0.608008</span>  \n",
              "ulwrf_sfc_media           <span style=\"color: #008080; text-decoration-color: #008080; font-weight: bold\">0.539702</span>         <span style=\"color: #008080; text-decoration-color: #008080; font-weight: bold\">0.465567</span>  <span style=\"color: #008080; text-decoration-color: #008080; font-weight: bold\">0.598302</span>  \n",
              "ulwrf_tatm_media          <span style=\"color: #008080; text-decoration-color: #008080; font-weight: bold\">1.000000</span>         <span style=\"color: #008080; text-decoration-color: #008080; font-weight: bold\">0.609535</span>  <span style=\"color: #008080; text-decoration-color: #008080; font-weight: bold\">0.655160</span>  \n",
              "uswrf_sfc_media           <span style=\"color: #008080; text-decoration-color: #008080; font-weight: bold\">0.609535</span>         <span style=\"color: #008080; text-decoration-color: #008080; font-weight: bold\">1.000000</span>  <span style=\"color: #008080; text-decoration-color: #008080; font-weight: bold\">0.808093</span>  \n",
              "salida                    <span style=\"color: #008080; text-decoration-color: #008080; font-weight: bold\">0.655160</span>         <span style=\"color: #008080; text-decoration-color: #008080; font-weight: bold\">0.808093</span>  <span style=\"color: #008080; text-decoration-color: #008080; font-weight: bold\">1.000000</span>  \n",
              "</pre>\n"
            ]
          },
          "metadata": {}
        },
        {
          "output_type": "execute_result",
          "data": {
            "text/plain": [
              "<Axes: >"
            ]
          },
          "metadata": {},
          "execution_count": 27
        },
        {
          "output_type": "display_data",
          "data": {
            "text/plain": [
              "<Figure size 1500x1500 with 2 Axes>"
            ],
            "image/png": "[encoded data removed]"
          },
          "metadata": {}
        }
      ]
    },
    {
      "cell_type": "markdown",
      "source": [
        "##Estudio de correlaciones y mejor predictor##\n",
        "\n",
        "Si analizamos la correlación de las variables con la salida, podemos observar que los mejores predictores son dswrf_s y uswrf_sfc (siendo el mejor dswrf_s con una correlación de 0.88).\n",
        "\n",
        "En cuanto a correlaciones entre variables de entrada observamos:\n",
        "+ uswrf_sfc esta fuertemente correalcionada con dswrf_s, pero no llega a superar el 0.9.\n",
        "+ ulwrf_sfc está relacionada por encima del 0.9 con dlwrf_s, spfh_2m, tmax_2m, tmin_2m, tmp_2m y tmp_sfc. La correlación supera el 0.99 en los casos de tmax_2m, tmin_2m, tmp_2m y tmp_sfc. \n",
        "+ tcolc_eatm y tcdc_eatm tienen una correlación de 1.\n",
        "+ spfh_2m y dlwrf_s tienen una correlación de 0.94, a su vez spfh_2m y pwat_eatm tienen una correlación de 0.91. Además pwat_eatm y dlwrf_s tienen una correlación de 0.93.\n",
        "\n",
        "Estrategias:\n",
        "+ La más clara es eliminar los tmin_2m, tmp_2m, tmp_sfc, tmax_2m, y dejar o bien ulwrf_sfc y dlwrf_s, o bien dejar una de las dos ya que entre ellas están correlacionadas con un 0.9.\n",
        "+ Podemos observar que lo más lógico sería conservar dlwrf_s ya que está correlacionada con spfh_2m y pwat_eatm y podría represntar también a esas dos. \n",
        "+ Por último, debemos eliminar o tcolc_eatm o tcdc_eatm ya que tienen una correlacción de 1."
      ],
      "metadata": {
        "id": "y1R4pwf22esw"
      }
    },
    {
      "cell_type": "markdown",
      "source": [
        "# **División de datos**\n",
        "Como se puede ver en el código a continuación, dividiremos los datos de acuerdo con el enunciado establecido. Esto es, utilizaremos los **10 primeros años** del conjunto de datos disponibles para **entrenamiento** (*train*) y los **2 últimos años** para **pruebas** (*test*).</br></br>\n",
        "\n",
        "Dado que se nos pide que no desordenemos los datos antes de partir en entrenamiento y test para poder respestar el orden temporal, usaremos el parámetro `shuffle = False` al invocar a la función `train_test_split` de Scikit-learn."
      ],
      "metadata": {
        "id": "0NwFIMyeaHPG"
      }
    },
    {
      "cell_type": "code",
      "source": [
        "from sklearn.model_selection import train_test_split\n",
        "from sklearn.preprocessing import MinMaxScaler\n",
        "\n",
        "# Entrenamiento (10 primeros años) y test (2 últimos años).\n",
        "X_train, X_test, y_train, y_test = train_test_split(X, y, test_size=2/12, random_state=13, shuffle=False)\n",
        "\n",
        "print(\"Datos de entrenamiento:\", X_train.shape, y_train.shape)   # 3650 días -> 10 años.\n",
        "print(\"Datos de test:\", X_test.shape, y_test.shape)     # 720 días  ->  2 años.\n",
        "\n",
        "# Normalizamos los datos.\n",
        "scaler = MinMaxScaler()\n",
        "scaler.fit(X_train)\n",
        "X_train_n = scaler.transform(X_train)\n",
        "X_test_n = scaler.transform(X_test)\n",
        "\n",
        "scaler = MinMaxScaler()\n",
        "scaler.fit(y_train.values.reshape(-1, 1))\n",
        "y_train_n = scaler.transform(y_train.values.reshape(-1, 1))\n",
        "y_test_n = scaler.transform(y_test.values.reshape(-1, 1))\n"
      ],
      "metadata": {
        "id": "IotTN2G5wie4",
        "outputId": "f37a69ca-ce4a-44a2-9b40-ecd35f2daae5",
        "colab": {
          "base_uri": "https://localhost:8080/",
          "height": 113
        }
      },
      "execution_count": 28,
      "outputs": [
        {
          "output_type": "display_data",
          "data": {
            "text/plain": [
              "Datos de entrenamiento:\n",
              "\u001b[1m(\u001b[0m\u001b[1;36m3650\u001b[0m, \u001b[1;36m75\u001b[0m\u001b[1m)\u001b[0m\n",
              "\u001b[1m(\u001b[0m\u001b[1;36m3650\u001b[0m,\u001b[1m)\u001b[0m\n"
            ],
            "text/html": [
              "<pre style=\"white-space:pre;overflow-x:auto;line-height:normal;font-family:Menlo,'DejaVu Sans Mono',consolas,'Courier New',monospace\">Datos de entrenamiento:\n",
              "<span style=\"font-weight: bold\">(</span><span style=\"color: #008080; text-decoration-color: #008080; font-weight: bold\">3650</span>, <span style=\"color: #008080; text-decoration-color: #008080; font-weight: bold\">75</span><span style=\"font-weight: bold\">)</span>\n",
              "<span style=\"font-weight: bold\">(</span><span style=\"color: #008080; text-decoration-color: #008080; font-weight: bold\">3650</span>,<span style=\"font-weight: bold\">)</span>\n",
              "</pre>\n"
            ]
          },
          "metadata": {}
        },
        {
          "output_type": "display_data",
          "data": {
            "text/plain": [
              "Datos de test:\n",
              "\u001b[1m(\u001b[0m\u001b[1;36m730\u001b[0m, \u001b[1;36m75\u001b[0m\u001b[1m)\u001b[0m\n",
              "\u001b[1m(\u001b[0m\u001b[1;36m730\u001b[0m,\u001b[1m)\u001b[0m\n"
            ],
            "text/html": [
              "<pre style=\"white-space:pre;overflow-x:auto;line-height:normal;font-family:Menlo,'DejaVu Sans Mono',consolas,'Courier New',monospace\">Datos de test:\n",
              "<span style=\"font-weight: bold\">(</span><span style=\"color: #008080; text-decoration-color: #008080; font-weight: bold\">730</span>, <span style=\"color: #008080; text-decoration-color: #008080; font-weight: bold\">75</span><span style=\"font-weight: bold\">)</span>\n",
              "<span style=\"font-weight: bold\">(</span><span style=\"color: #008080; text-decoration-color: #008080; font-weight: bold\">730</span>,<span style=\"font-weight: bold\">)</span>\n",
              "</pre>\n"
            ]
          },
          "metadata": {}
        }
      ]
    },
    {
      "cell_type": "markdown",
      "source": [
        "Como se puede ver y, como hemos explicado anteriormente, dado que los resultados deben ser reproducibles, hemos fijado la **semilla de números aleatorios** en los lugares adecuados. Para ello, hemos seleccionado como semilla el número del grupo de prácticas (*13*) mediante `random_state = 13`."
      ],
      "metadata": {
        "id": "_WsZ2IFnsBr9"
      }
    },
    {
      "cell_type": "markdown",
      "source": [
        "# **Métodos Básicos**\n",
        "Para los modelos básicos, consideraremos los siguientes **métodos básicos**:\n",
        "+ KNN\n",
        "+ Árboles de regresión\n",
        "+ Regresión lineal\n",
        "\n",
        "Además, destacar que las métricas de evaluación son **RMSE** y **MAE**."
      ],
      "metadata": {
        "id": "PqyFsdsozxrf"
      }
    },
    {
      "cell_type": "markdown",
      "source": [
        "## **Evaluación con hiperparámetros por omisión**"
      ],
      "metadata": {
        "id": "PJsdn7b-afU5"
      }
    },
    {
      "cell_type": "markdown",
      "source": [
        "Para este paso haremos una nueva división de datos donde cogeremos los tres ultimos años para test y los 7 primeros para train; dentro de la propia partición train. Esto generará unos nuevos subconjuntos train_test y train_train."
      ],
      "metadata": {
        "id": "jtI705D7KJLh"
      }
    },
    {
      "cell_type": "code",
      "source": [
        "from sklearn.neighbors import KNeighborsRegressor\n",
        "from sklearn.tree import DecisionTreeRegressor\n",
        "from sklearn.linear_model import LinearRegression\n",
        "\n",
        "# Volvemos a dividir los datos en entrenamiento y test porque la parttición test solo la usaremos en la evaluación final.\n",
        "X_train_train, X_train_validation, y_train_train, y_train_validation = train_test_split(X_train, y_train, test_size=2/10, random_state=13, shuffle=False)\n",
        "\n",
        "# Dividir también los datos normalizados.\n",
        "X_train_train_n, X_train_validation_n, y_train_train_n, y_train_validation_n = train_test_split(X_train_n, y_train_n, test_size=2/10, random_state=13, shuffle=False)\n",
        "\n",
        "# Muestra el tamaño de los datos de entrenamiento y test nuevos.\n",
        "print('Datos train_train: ' , X_train_train.shape, y_train_train.shape)               # 8 años.\n",
        "print('Datos train_test: ' , X_train_validation.shape, y_train_validation.shape)  \n"
      ],
      "metadata": {
        "id": "oB80LPNTu_e8",
        "colab": {
          "base_uri": "https://localhost:8080/",
          "height": 113
        },
        "outputId": "f9ad13c6-72bc-497c-8851-6456b408d1d9"
      },
      "execution_count": 29,
      "outputs": [
        {
          "output_type": "display_data",
          "data": {
            "text/plain": [
              "Datos train_train: \n",
              "\u001b[1m(\u001b[0m\u001b[1;36m2920\u001b[0m, \u001b[1;36m75\u001b[0m\u001b[1m)\u001b[0m\n",
              "\u001b[1m(\u001b[0m\u001b[1;36m2920\u001b[0m,\u001b[1m)\u001b[0m\n"
            ],
            "text/html": [
              "<pre style=\"white-space:pre;overflow-x:auto;line-height:normal;font-family:Menlo,'DejaVu Sans Mono',consolas,'Courier New',monospace\">Datos train_train: \n",
              "<span style=\"font-weight: bold\">(</span><span style=\"color: #008080; text-decoration-color: #008080; font-weight: bold\">2920</span>, <span style=\"color: #008080; text-decoration-color: #008080; font-weight: bold\">75</span><span style=\"font-weight: bold\">)</span>\n",
              "<span style=\"font-weight: bold\">(</span><span style=\"color: #008080; text-decoration-color: #008080; font-weight: bold\">2920</span>,<span style=\"font-weight: bold\">)</span>\n",
              "</pre>\n"
            ]
          },
          "metadata": {}
        },
        {
          "output_type": "display_data",
          "data": {
            "text/plain": [
              "Datos train_test: \n",
              "\u001b[1m(\u001b[0m\u001b[1;36m730\u001b[0m, \u001b[1;36m75\u001b[0m\u001b[1m)\u001b[0m\n",
              "\u001b[1m(\u001b[0m\u001b[1;36m730\u001b[0m,\u001b[1m)\u001b[0m\n"
            ],
            "text/html": [
              "<pre style=\"white-space:pre;overflow-x:auto;line-height:normal;font-family:Menlo,'DejaVu Sans Mono',consolas,'Courier New',monospace\">Datos train_test: \n",
              "<span style=\"font-weight: bold\">(</span><span style=\"color: #008080; text-decoration-color: #008080; font-weight: bold\">730</span>, <span style=\"color: #008080; text-decoration-color: #008080; font-weight: bold\">75</span><span style=\"font-weight: bold\">)</span>\n",
              "<span style=\"font-weight: bold\">(</span><span style=\"color: #008080; text-decoration-color: #008080; font-weight: bold\">730</span>,<span style=\"font-weight: bold\">)</span>\n",
              "</pre>\n"
            ]
          },
          "metadata": {}
        }
      ]
    },
    {
      "cell_type": "markdown",
      "source": [
        "### **KNN**\n",
        "Primero entrenaremos un KNN con los hiperparametros por omisón y veremos los errores cuadráticos y absolutos medios."
      ],
      "metadata": {
        "id": "8OwRm_keuGun"
      }
    },
    {
      "cell_type": "code",
      "source": [
        "import time\n",
        "\n",
        "print('\\n[bold yellow]KNN\\n----[/bold yellow]')\n",
        "\n",
        "np.random.seed(13)\n",
        "\n",
        "# [KNN] MODELO BASE.\n",
        "print('\\n[yellow]Modelo base[/yellow]')\n",
        "base_knn = KNeighborsRegressor()\n",
        "\n",
        "# Entrenamiento (con medición del tiempo).\n",
        "start = time.time()\n",
        "base_knn.fit(X_train_train_n, y_train_train_n)\n",
        "end = time.time()\n",
        "time_knn = end - start\n",
        "print(f'Tiempo de entrenamiento: {time_knn:.5f} segundos.')\n",
        "\n",
        "# Imprimimos los hiperparámetros del modelo.\n",
        "print(f'Hiperparámetros: {base_knn.get_params()}')\n",
        "\n",
        "# Predicciones del conjunto de test.\n",
        "y_pred_n = base_knn.predict(X_train_validation_n)\n",
        "\n",
        "# Denormalizar los datos (aunque se podría RMSE y MAE sin denormalizar).\n",
        "y_pred = scaler.inverse_transform(y_pred_n)\n",
        "\n",
        "# Cálculo del error cuadrático medio.\n",
        "rmse_knn = rmse(y_train_validation, y_pred)\n",
        "print(f'\\nRMSE: {rmse_knn}')\n",
        "\n",
        "# Cálculo del error absoluto medio.\n",
        "mae_knn = mae(y_train_validation, y_pred)\n",
        "print(f'MAE: {mae_knn}')"
      ],
      "metadata": {
        "id": "k8k2OjR9vPNM",
        "outputId": "8dfd0766-781c-499b-8792-efc618479855",
        "colab": {
          "base_uri": "https://localhost:8080/",
          "height": 145
        }
      },
      "execution_count": 30,
      "outputs": [
        {
          "output_type": "display_data",
          "data": {
            "text/plain": [
              "\n",
              "\u001b[1;33mKNN\u001b[0m\n",
              "\u001b[1;33m----\u001b[0m\n"
            ],
            "text/html": [
              "<pre style=\"white-space:pre;overflow-x:auto;line-height:normal;font-family:Menlo,'DejaVu Sans Mono',consolas,'Courier New',monospace\">\n",
              "<span style=\"color: #808000; text-decoration-color: #808000; font-weight: bold\">KNN</span>\n",
              "<span style=\"color: #808000; text-decoration-color: #808000; font-weight: bold\">----</span>\n",
              "</pre>\n"
            ]
          },
          "metadata": {}
        },
        {
          "output_type": "display_data",
          "data": {
            "text/plain": [
              "\n",
              "\u001b[33mModelo base\u001b[0m\n"
            ],
            "text/html": [
              "<pre style=\"white-space:pre;overflow-x:auto;line-height:normal;font-family:Menlo,'DejaVu Sans Mono',consolas,'Courier New',monospace\">\n",
              "<span style=\"color: #808000; text-decoration-color: #808000\">Modelo base</span>\n",
              "</pre>\n"
            ]
          },
          "metadata": {}
        },
        {
          "output_type": "display_data",
          "data": {
            "text/plain": [
              "Tiempo de entrenamiento: \u001b[1;36m0.00123\u001b[0m segundos.\n"
            ],
            "text/html": [
              "<pre style=\"white-space:pre;overflow-x:auto;line-height:normal;font-family:Menlo,'DejaVu Sans Mono',consolas,'Courier New',monospace\">Tiempo de entrenamiento: <span style=\"color: #008080; text-decoration-color: #008080; font-weight: bold\">0.00123</span> segundos.\n",
              "</pre>\n"
            ]
          },
          "metadata": {}
        },
        {
          "output_type": "display_data",
          "data": {
            "text/plain": [
              "Hiperparámetros: \u001b[1m{\u001b[0m\u001b[32m'algorithm'\u001b[0m: \u001b[32m'auto'\u001b[0m, \u001b[32m'leaf_size'\u001b[0m: \u001b[1;36m30\u001b[0m, \u001b[32m'metric'\u001b[0m: \u001b[32m'minkowski'\u001b[0m, \u001b[32m'metric_params'\u001b[0m: \u001b[3;35mNone\u001b[0m, \u001b[32m'n_jobs'\u001b[0m: \n",
              "\u001b[3;35mNone\u001b[0m, \u001b[32m'n_neighbors'\u001b[0m: \u001b[1;36m5\u001b[0m, \u001b[32m'p'\u001b[0m: \u001b[1;36m2\u001b[0m, \u001b[32m'weights'\u001b[0m: \u001b[32m'uniform'\u001b[0m\u001b[1m}\u001b[0m\n"
            ],
            "text/html": [
              "<pre style=\"white-space:pre;overflow-x:auto;line-height:normal;font-family:Menlo,'DejaVu Sans Mono',consolas,'Courier New',monospace\">Hiperparámetros: <span style=\"font-weight: bold\">{</span><span style=\"color: #008000; text-decoration-color: #008000\">'algorithm'</span>: <span style=\"color: #008000; text-decoration-color: #008000\">'auto'</span>, <span style=\"color: #008000; text-decoration-color: #008000\">'leaf_size'</span>: <span style=\"color: #008080; text-decoration-color: #008080; font-weight: bold\">30</span>, <span style=\"color: #008000; text-decoration-color: #008000\">'metric'</span>: <span style=\"color: #008000; text-decoration-color: #008000\">'minkowski'</span>, <span style=\"color: #008000; text-decoration-color: #008000\">'metric_params'</span>: <span style=\"color: #800080; text-decoration-color: #800080; font-style: italic\">None</span>, <span style=\"color: #008000; text-decoration-color: #008000\">'n_jobs'</span>: \n",
              "<span style=\"color: #800080; text-decoration-color: #800080; font-style: italic\">None</span>, <span style=\"color: #008000; text-decoration-color: #008000\">'n_neighbors'</span>: <span style=\"color: #008080; text-decoration-color: #008080; font-weight: bold\">5</span>, <span style=\"color: #008000; text-decoration-color: #008000\">'p'</span>: <span style=\"color: #008080; text-decoration-color: #008080; font-weight: bold\">2</span>, <span style=\"color: #008000; text-decoration-color: #008000\">'weights'</span>: <span style=\"color: #008000; text-decoration-color: #008000\">'uniform'</span><span style=\"font-weight: bold\">}</span>\n",
              "</pre>\n"
            ]
          },
          "metadata": {}
        },
        {
          "output_type": "display_data",
          "data": {
            "text/plain": [
              "\n",
              "RMSE: \u001b[1;36m3439946.258953351\u001b[0m\n"
            ],
            "text/html": [
              "<pre style=\"white-space:pre;overflow-x:auto;line-height:normal;font-family:Menlo,'DejaVu Sans Mono',consolas,'Courier New',monospace\">\n",
              "RMSE: <span style=\"color: #008080; text-decoration-color: #008080; font-weight: bold\">3439946.258953351</span>\n",
              "</pre>\n"
            ]
          },
          "metadata": {}
        },
        {
          "output_type": "display_data",
          "data": {
            "text/plain": [
              "MAE: \u001b[1;36m2478940.87890411\u001b[0m\n"
            ],
            "text/html": [
              "<pre style=\"white-space:pre;overflow-x:auto;line-height:normal;font-family:Menlo,'DejaVu Sans Mono',consolas,'Courier New',monospace\">MAE: <span style=\"color: #008080; text-decoration-color: #008080; font-weight: bold\">2478940.87890411</span>\n",
              "</pre>\n"
            ]
          },
          "metadata": {}
        }
      ]
    },
    {
      "cell_type": "markdown",
      "source": [
        "Ahora usamos, PredefinedSplit para usar **validación cruzada** y evaluar nuestro modelo con este método"
      ],
      "metadata": {
        "id": "B5w40CjNLUIZ"
      }
    },
    {
      "cell_type": "code",
      "source": [
        "from sklearn.model_selection import PredefinedSplit, cross_val_score\n",
        "\n",
        "print('\\n[yellow]Modelo validación cruzada[/yellow]')\n",
        "\n",
        "# Usar predefined split para la validación cruzada.\n",
        "\n",
        "# Número de días de entrenamiento y test.\n",
        "N_train = 8 * 365\n",
        "N_test = 2 * 365\n",
        "\n",
        "# Crear el selector de validación cruzada.\n",
        "selector = [-1] * N_train + [0] * N_test\n",
        "\n",
        "# Crear el objeto PredefinedSplit.\n",
        "ps = PredefinedSplit(selector)\n",
        "\n",
        "# Usar el predefined split para la validación cruzada (con medición del tiempo).\n",
        "cv_knn = KNeighborsRegressor()\n",
        "\n",
        "start = time.time()\n",
        "rmse_knn_cv = cross_val_score(cv_knn, X_train_n, y_train_n, cv=ps, scoring='neg_root_mean_squared_error')\n",
        "end = time.time()\n",
        "time1_knn_cv = end - start\n",
        "\n",
        "start = time.time()\n",
        "mae_knn_cv = cross_val_score(cv_knn, X_train_n, y_train_n, cv=ps, scoring='neg_mean_absolute_error')\n",
        "end = time.time()\n",
        "time2_knn_cv = end - start\n",
        "\n",
        "# Denormalizar los datos.\n",
        "rmse_knn_cv = scaler.inverse_transform(rmse_knn_cv.reshape(-1, 1)).ravel()\n",
        "mae_knn_cv = scaler.inverse_transform(mae_knn_cv.reshape(-1, 1)).ravel()\n",
        "\n",
        "print(f'Tiempo de entrenamiento (RMSE): {time1_knn_cv:.5f} segundos.')\n",
        "print(f'Tiempo de entrenamiento (MAE): {time2_knn_cv:.5f} segundos.')\n",
        "print(f'\\nRMSE: {-rmse_knn_cv.mean()}')\n",
        "print(f'MAE: {-mae_knn_cv.mean()}')"
      ],
      "metadata": {
        "id": "HlGvrHMrzm86",
        "colab": {
          "base_uri": "https://localhost:8080/",
          "height": 97
        },
        "outputId": "593f5023-3831-4142-8823-77665b71318f"
      },
      "execution_count": 31,
      "outputs": [
        {
          "output_type": "display_data",
          "data": {
            "text/plain": [
              "\n",
              "\u001b[33mModelo validación cruzada\u001b[0m\n"
            ],
            "text/html": [
              "<pre style=\"white-space:pre;overflow-x:auto;line-height:normal;font-family:Menlo,'DejaVu Sans Mono',consolas,'Courier New',monospace\">\n",
              "<span style=\"color: #808000; text-decoration-color: #808000\">Modelo validación cruzada</span>\n",
              "</pre>\n"
            ]
          },
          "metadata": {}
        },
        {
          "output_type": "display_data",
          "data": {
            "text/plain": [
              "Tiempo de entrenamiento \u001b[1m(\u001b[0mRMSE\u001b[1m)\u001b[0m: \u001b[1;36m0.02779\u001b[0m segundos.\n"
            ],
            "text/html": [
              "<pre style=\"white-space:pre;overflow-x:auto;line-height:normal;font-family:Menlo,'DejaVu Sans Mono',consolas,'Courier New',monospace\">Tiempo de entrenamiento <span style=\"font-weight: bold\">(</span>RMSE<span style=\"font-weight: bold\">)</span>: <span style=\"color: #008080; text-decoration-color: #008080; font-weight: bold\">0.02779</span> segundos.\n",
              "</pre>\n"
            ]
          },
          "metadata": {}
        },
        {
          "output_type": "display_data",
          "data": {
            "text/plain": [
              "Tiempo de entrenamiento \u001b[1m(\u001b[0mMAE\u001b[1m)\u001b[0m: \u001b[1;36m0.02292\u001b[0m segundos.\n"
            ],
            "text/html": [
              "<pre style=\"white-space:pre;overflow-x:auto;line-height:normal;font-family:Menlo,'DejaVu Sans Mono',consolas,'Courier New',monospace\">Tiempo de entrenamiento <span style=\"font-weight: bold\">(</span>MAE<span style=\"font-weight: bold\">)</span>: <span style=\"color: #008080; text-decoration-color: #008080; font-weight: bold\">0.02292</span> segundos.\n",
              "</pre>\n"
            ]
          },
          "metadata": {}
        },
        {
          "output_type": "display_data",
          "data": {
            "text/plain": [
              "\n",
              "RMSE: \u001b[1;36m2797346.2589533515\u001b[0m\n"
            ],
            "text/html": [
              "<pre style=\"white-space:pre;overflow-x:auto;line-height:normal;font-family:Menlo,'DejaVu Sans Mono',consolas,'Courier New',monospace\">\n",
              "RMSE: <span style=\"color: #008080; text-decoration-color: #008080; font-weight: bold\">2797346.2589533515</span>\n",
              "</pre>\n"
            ]
          },
          "metadata": {}
        },
        {
          "output_type": "display_data",
          "data": {
            "text/plain": [
              "MAE: \u001b[1;36m1836340.87890411\u001b[0m\n"
            ],
            "text/html": [
              "<pre style=\"white-space:pre;overflow-x:auto;line-height:normal;font-family:Menlo,'DejaVu Sans Mono',consolas,'Courier New',monospace\">MAE: <span style=\"color: #008080; text-decoration-color: #008080; font-weight: bold\">1836340.87890411</span>\n",
              "</pre>\n"
            ]
          },
          "metadata": {}
        }
      ]
    },
    {
      "cell_type": "markdown",
      "source": [
        "A continuación, definiremos unos modelos dummy que nos ayudaran a entender la calidad de nuestros modelos."
      ],
      "metadata": {
        "id": "h_XuKmLN9IHR"
      }
    },
    {
      "cell_type": "code",
      "source": [
        "from sklearn.dummy import DummyRegressor\n",
        "\n",
        "print('\\n[yellow]Modelos dummy[/yellow]')\n",
        "\n",
        "dummy_1_knn = DummyRegressor(strategy='mean')\n",
        "dummy_2_knn = DummyRegressor(strategy='median')\n",
        "\n",
        "# Entrenamiento de los modelos dummy (con medición del tiempo).\n",
        "start = time.time()\n",
        "dummy_1_knn.fit(X_train_train_n, y_train_train_n)\n",
        "end = time.time()\n",
        "time_knn_dm1 = end - start\n",
        "\n",
        "start = time.time()\n",
        "dummy_2_knn.fit(X_train_train_n, y_train_train_n)\n",
        "end = time.time()\n",
        "time_knn_dm2 = end - start\n",
        "\n",
        "print(f'Tiempo de entrenamiento (mean): {time_knn_dm1:.5f} segundos.')\n",
        "print(f'Tiempo de entrenamiento (median): {time_knn_dm2:.5f} segundos.')\n",
        "\n",
        "# Predicciones del conjunto de test.\n",
        "y_pred_dummy_1_n = dummy_1_knn.predict(X_train_validation_n).reshape(-1, 1)\n",
        "y_pred_dummy_2_n = dummy_2_knn.predict(X_train_validation_n).reshape(-1, 1)\n",
        "\n",
        "# Denormalizar los datos (aunque se podría RMSE y MAE sin denormalizar).\n",
        "y_pred_dummy_1 = scaler.inverse_transform(y_pred_dummy_1_n)\n",
        "y_pred_dummy_2 = scaler.inverse_transform(y_pred_dummy_2_n)\n",
        "\n",
        "# Cálculo del error cuadrático medio.\n",
        "rmse_knn_dm1 = rmse(y_train_validation, y_pred_dummy_1)\n",
        "rmse_knn_dm2 = rmse(y_train_validation, y_pred_dummy_2)\n",
        "print(f'\\nRMSE (mean): {rmse_knn_dm1}')\n",
        "print(f'RMSE (median): {rmse_knn_dm2}')\n",
        "\n",
        "# Cálculo del error absoluto medio.\n",
        "mae_knn_dm1 = mae(y_train_validation, y_pred_dummy_1)\n",
        "mae_knn_dm2 = mae(y_train_validation, y_pred_dummy_2)\n",
        "print(f'MAE (mean): {mae_knn_dm1}')\n",
        "print(f'MAE (median): {mae_knn_dm2}')\n",
        "\n",
        "# Relación entre el error del modelo y el error de los modelos dummy.\n",
        "print(f'\\nRMSE dummy (mean)/RMSE KNN: {rmse_knn_dm1/rmse_knn}')\n",
        "print(f'RMSE dummy (median)/RMSE KNN: {rmse_knn_dm2/rmse_knn}')\n",
        "print(f'MAE dummy (mean)/MAE KNN: {mae_knn_dm1/mae_knn}')\n",
        "print(f'MAE dummy (median)/MAE KNN: {mae_knn_dm2/mae_knn}')\n"
      ],
      "metadata": {
        "colab": {
          "base_uri": "https://localhost:8080/",
          "height": 193
        },
        "id": "pS7vtRaZ9Y9J",
        "outputId": "5a0bbfb8-2d3b-4a7e-816a-0a2fc7b542ca"
      },
      "execution_count": 32,
      "outputs": [
        {
          "output_type": "display_data",
          "data": {
            "text/plain": [
              "\n",
              "\u001b[33mModelos dummy\u001b[0m\n"
            ],
            "text/html": [
              "<pre style=\"white-space:pre;overflow-x:auto;line-height:normal;font-family:Menlo,'DejaVu Sans Mono',consolas,'Courier New',monospace\">\n",
              "<span style=\"color: #808000; text-decoration-color: #808000\">Modelos dummy</span>\n",
              "</pre>\n"
            ]
          },
          "metadata": {}
        },
        {
          "output_type": "display_data",
          "data": {
            "text/plain": [
              "Tiempo de entrenamiento \u001b[1m(\u001b[0mmean\u001b[1m)\u001b[0m: \u001b[1;36m0.00161\u001b[0m segundos.\n"
            ],
            "text/html": [
              "<pre style=\"white-space:pre;overflow-x:auto;line-height:normal;font-family:Menlo,'DejaVu Sans Mono',consolas,'Courier New',monospace\">Tiempo de entrenamiento <span style=\"font-weight: bold\">(</span>mean<span style=\"font-weight: bold\">)</span>: <span style=\"color: #008080; text-decoration-color: #008080; font-weight: bold\">0.00161</span> segundos.\n",
              "</pre>\n"
            ]
          },
          "metadata": {}
        },
        {
          "output_type": "display_data",
          "data": {
            "text/plain": [
              "Tiempo de entrenamiento \u001b[1m(\u001b[0mmedian\u001b[1m)\u001b[0m: \u001b[1;36m0.00065\u001b[0m segundos.\n"
            ],
            "text/html": [
              "<pre style=\"white-space:pre;overflow-x:auto;line-height:normal;font-family:Menlo,'DejaVu Sans Mono',consolas,'Courier New',monospace\">Tiempo de entrenamiento <span style=\"font-weight: bold\">(</span>median<span style=\"font-weight: bold\">)</span>: <span style=\"color: #008080; text-decoration-color: #008080; font-weight: bold\">0.00065</span> segundos.\n",
              "</pre>\n"
            ]
          },
          "metadata": {}
        },
        {
          "output_type": "display_data",
          "data": {
            "text/plain": [
              "\n",
              "RMSE \u001b[1m(\u001b[0mmean\u001b[1m)\u001b[0m: \u001b[1;36m8090772.734467536\u001b[0m\n"
            ],
            "text/html": [
              "<pre style=\"white-space:pre;overflow-x:auto;line-height:normal;font-family:Menlo,'DejaVu Sans Mono',consolas,'Courier New',monospace\">\n",
              "RMSE <span style=\"font-weight: bold\">(</span>mean<span style=\"font-weight: bold\">)</span>: <span style=\"color: #008080; text-decoration-color: #008080; font-weight: bold\">8090772.734467536</span>\n",
              "</pre>\n"
            ]
          },
          "metadata": {}
        },
        {
          "output_type": "display_data",
          "data": {
            "text/plain": [
              "RMSE \u001b[1m(\u001b[0mmedian\u001b[1m)\u001b[0m: \u001b[1;36m8103095.185267594\u001b[0m\n"
            ],
            "text/html": [
              "<pre style=\"white-space:pre;overflow-x:auto;line-height:normal;font-family:Menlo,'DejaVu Sans Mono',consolas,'Courier New',monospace\">RMSE <span style=\"font-weight: bold\">(</span>median<span style=\"font-weight: bold\">)</span>: <span style=\"color: #008080; text-decoration-color: #008080; font-weight: bold\">8103095.185267594</span>\n",
              "</pre>\n"
            ]
          },
          "metadata": {}
        },
        {
          "output_type": "display_data",
          "data": {
            "text/plain": [
              "MAE \u001b[1m(\u001b[0mmean\u001b[1m)\u001b[0m: \u001b[1;36m7052470.932677802\u001b[0m\n"
            ],
            "text/html": [
              "<pre style=\"white-space:pre;overflow-x:auto;line-height:normal;font-family:Menlo,'DejaVu Sans Mono',consolas,'Courier New',monospace\">MAE <span style=\"font-weight: bold\">(</span>mean<span style=\"font-weight: bold\">)</span>: <span style=\"color: #008080; text-decoration-color: #008080; font-weight: bold\">7052470.932677802</span>\n",
              "</pre>\n"
            ]
          },
          "metadata": {}
        },
        {
          "output_type": "display_data",
          "data": {
            "text/plain": [
              "MAE \u001b[1m(\u001b[0mmedian\u001b[1m)\u001b[0m: \u001b[1;36m7057673.424657534\u001b[0m\n"
            ],
            "text/html": [
              "<pre style=\"white-space:pre;overflow-x:auto;line-height:normal;font-family:Menlo,'DejaVu Sans Mono',consolas,'Courier New',monospace\">MAE <span style=\"font-weight: bold\">(</span>median<span style=\"font-weight: bold\">)</span>: <span style=\"color: #008080; text-decoration-color: #008080; font-weight: bold\">7057673.424657534</span>\n",
              "</pre>\n"
            ]
          },
          "metadata": {}
        },
        {
          "output_type": "display_data",
          "data": {
            "text/plain": [
              "\n",
              "RMSE dummy \u001b[1m(\u001b[0mmean\u001b[1m)\u001b[0m\u001b[35m/\u001b[0m\u001b[95mRMSE\u001b[0m KNN: \u001b[1;36m2.3520055621244675\u001b[0m\n"
            ],
            "text/html": [
              "<pre style=\"white-space:pre;overflow-x:auto;line-height:normal;font-family:Menlo,'DejaVu Sans Mono',consolas,'Courier New',monospace\">\n",
              "RMSE dummy <span style=\"font-weight: bold\">(</span>mean<span style=\"font-weight: bold\">)</span><span style=\"color: #800080; text-decoration-color: #800080\">/</span><span style=\"color: #ff00ff; text-decoration-color: #ff00ff\">RMSE</span> KNN: <span style=\"color: #008080; text-decoration-color: #008080; font-weight: bold\">2.3520055621244675</span>\n",
              "</pre>\n"
            ]
          },
          "metadata": {}
        },
        {
          "output_type": "display_data",
          "data": {
            "text/plain": [
              "RMSE dummy \u001b[1m(\u001b[0mmedian\u001b[1m)\u001b[0m\u001b[35m/\u001b[0m\u001b[95mRMSE\u001b[0m KNN: \u001b[1;36m2.3555877258771676\u001b[0m\n"
            ],
            "text/html": [
              "<pre style=\"white-space:pre;overflow-x:auto;line-height:normal;font-family:Menlo,'DejaVu Sans Mono',consolas,'Courier New',monospace\">RMSE dummy <span style=\"font-weight: bold\">(</span>median<span style=\"font-weight: bold\">)</span><span style=\"color: #800080; text-decoration-color: #800080\">/</span><span style=\"color: #ff00ff; text-decoration-color: #ff00ff\">RMSE</span> KNN: <span style=\"color: #008080; text-decoration-color: #008080; font-weight: bold\">2.3555877258771676</span>\n",
              "</pre>\n"
            ]
          },
          "metadata": {}
        },
        {
          "output_type": "display_data",
          "data": {
            "text/plain": [
              "MAE dummy \u001b[1m(\u001b[0mmean\u001b[1m)\u001b[0m\u001b[35m/\u001b[0m\u001b[95mMAE\u001b[0m KNN: \u001b[1;36m2.8449532591497535\u001b[0m\n"
            ],
            "text/html": [
              "<pre style=\"white-space:pre;overflow-x:auto;line-height:normal;font-family:Menlo,'DejaVu Sans Mono',consolas,'Courier New',monospace\">MAE dummy <span style=\"font-weight: bold\">(</span>mean<span style=\"font-weight: bold\">)</span><span style=\"color: #800080; text-decoration-color: #800080\">/</span><span style=\"color: #ff00ff; text-decoration-color: #ff00ff\">MAE</span> KNN: <span style=\"color: #008080; text-decoration-color: #008080; font-weight: bold\">2.8449532591497535</span>\n",
              "</pre>\n"
            ]
          },
          "metadata": {}
        },
        {
          "output_type": "display_data",
          "data": {
            "text/plain": [
              "MAE dummy \u001b[1m(\u001b[0mmedian\u001b[1m)\u001b[0m\u001b[35m/\u001b[0m\u001b[95mMAE\u001b[0m KNN: \u001b[1;36m2.8470519344445155\u001b[0m\n"
            ],
            "text/html": [
              "<pre style=\"white-space:pre;overflow-x:auto;line-height:normal;font-family:Menlo,'DejaVu Sans Mono',consolas,'Courier New',monospace\">MAE dummy <span style=\"font-weight: bold\">(</span>median<span style=\"font-weight: bold\">)</span><span style=\"color: #800080; text-decoration-color: #800080\">/</span><span style=\"color: #ff00ff; text-decoration-color: #ff00ff\">MAE</span> KNN: <span style=\"color: #008080; text-decoration-color: #008080; font-weight: bold\">2.8470519344445155</span>\n",
              "</pre>\n"
            ]
          },
          "metadata": {}
        }
      ]
    },
    {
      "cell_type": "markdown",
      "source": [
        "### **Árboles de regresión**"
      ],
      "metadata": {
        "id": "xUC_HhekuG2p"
      }
    },
    {
      "cell_type": "markdown",
      "source": [
        "Primero entrenaremos un árbol de decisión con los hiperparametros por omisón y veremos los errores cuadráticos y absolutos medios."
      ],
      "metadata": {
        "id": "2nKcA4JtLlcF"
      }
    },
    {
      "cell_type": "code",
      "source": [
        "print('\\n[bold yellow]Árbol de decisión\\n------------------[/bold yellow]')\n",
        "\n",
        "# [Árbol de decisión] MODELO BASE.\n",
        "print('\\n[yellow]Modelo base[/yellow]')\n",
        "base_tree = DecisionTreeRegressor()\n",
        "\n",
        "# Entrenamiento (con medición del tiempo).\n",
        "start = time.time()\n",
        "base_tree.fit(X_train_train, y_train_train)\n",
        "end = time.time()\n",
        "time_tree = end - start\n",
        "print(f'Tiempo de entrenamiento: {time_tree:.5f} segundos.')\n",
        "\n",
        "# Predicciones del conjunto de test.\n",
        "y_pred = base_tree.predict(X_train_validation)\n",
        "\n",
        "# Cálculo del error cuadrático medio.\n",
        "rmse_tree = rmse(y_train_validation, y_pred)\n",
        "print(f'\\nError cuadrático medio del modelo Árbol de decisión: {rmse_tree}')\n",
        "\n",
        "# Cálculo del error absoluto medio.\n",
        "mae_tree = mae(y_train_validation, y_pred)\n",
        "print(f'Error absoluto medio del modelo Árbol de decisión: {mae_tree}')\n",
        "\n"
      ],
      "metadata": {
        "id": "7I0ODVPPWtws",
        "outputId": "7e76ce1f-6878-4821-9588-2b34456041f7",
        "colab": {
          "base_uri": "https://localhost:8080/",
          "height": 113
        }
      },
      "execution_count": 33,
      "outputs": [
        {
          "output_type": "display_data",
          "data": {
            "text/plain": [
              "\n",
              "\u001b[1;33mÁrbol de decisión\u001b[0m\n",
              "\u001b[1;33m------------------\u001b[0m\n"
            ],
            "text/html": [
              "<pre style=\"white-space:pre;overflow-x:auto;line-height:normal;font-family:Menlo,'DejaVu Sans Mono',consolas,'Courier New',monospace\">\n",
              "<span style=\"color: #808000; text-decoration-color: #808000; font-weight: bold\">Árbol de decisión</span>\n",
              "<span style=\"color: #808000; text-decoration-color: #808000; font-weight: bold\">------------------</span>\n",
              "</pre>\n"
            ]
          },
          "metadata": {}
        },
        {
          "output_type": "display_data",
          "data": {
            "text/plain": [
              "\n",
              "\u001b[33mModelo base\u001b[0m\n"
            ],
            "text/html": [
              "<pre style=\"white-space:pre;overflow-x:auto;line-height:normal;font-family:Menlo,'DejaVu Sans Mono',consolas,'Courier New',monospace\">\n",
              "<span style=\"color: #808000; text-decoration-color: #808000\">Modelo base</span>\n",
              "</pre>\n"
            ]
          },
          "metadata": {}
        },
        {
          "output_type": "display_data",
          "data": {
            "text/plain": [
              "Tiempo de entrenamiento: \u001b[1;36m0.25849\u001b[0m segundos.\n"
            ],
            "text/html": [
              "<pre style=\"white-space:pre;overflow-x:auto;line-height:normal;font-family:Menlo,'DejaVu Sans Mono',consolas,'Courier New',monospace\">Tiempo de entrenamiento: <span style=\"color: #008080; text-decoration-color: #008080; font-weight: bold\">0.25849</span> segundos.\n",
              "</pre>\n"
            ]
          },
          "metadata": {}
        },
        {
          "output_type": "display_data",
          "data": {
            "text/plain": [
              "\n",
              "Error cuadrático medio del modelo Árbol de decisión: \u001b[1;36m4569076.711874634\u001b[0m\n"
            ],
            "text/html": [
              "<pre style=\"white-space:pre;overflow-x:auto;line-height:normal;font-family:Menlo,'DejaVu Sans Mono',consolas,'Courier New',monospace\">\n",
              "Error cuadrático medio del modelo Árbol de decisión: <span style=\"color: #008080; text-decoration-color: #008080; font-weight: bold\">4569076.711874634</span>\n",
              "</pre>\n"
            ]
          },
          "metadata": {}
        },
        {
          "output_type": "display_data",
          "data": {
            "text/plain": [
              "Error absoluto medio del modelo Árbol de decisión: \u001b[1;36m3170312.5150684933\u001b[0m\n"
            ],
            "text/html": [
              "<pre style=\"white-space:pre;overflow-x:auto;line-height:normal;font-family:Menlo,'DejaVu Sans Mono',consolas,'Courier New',monospace\">Error absoluto medio del modelo Árbol de decisión: <span style=\"color: #008080; text-decoration-color: #008080; font-weight: bold\">3170312.5150684933</span>\n",
              "</pre>\n"
            ]
          },
          "metadata": {}
        }
      ]
    },
    {
      "cell_type": "markdown",
      "source": [
        "Ahora usamos, PredefinedSplit para usar **validación cruzada** y evaluar nuestro modelo con este método"
      ],
      "metadata": {
        "id": "z1M4GuSWLsC7"
      }
    },
    {
      "cell_type": "code",
      "source": [
        "print('\\n[yellow]Modelo validación cruzada[/yellow]')\n",
        "\n",
        "# Usar predefined split para la validación cruzada.\n",
        "\n",
        "'''\n",
        "print(ps.get_n_splits(X))\n",
        "\n",
        "for train, valid in ps.split(X):\n",
        "    print(f'Size of the train set: {train.shape}')\n",
        "    print(f'Size of the valid set: {valid.shape}')\n",
        "    print(f'Indices of the train set: {train}')\n",
        "    print(f'Indices of the valid set: {valid}')\n",
        "'''\n",
        "\n",
        "# Usar el predefined split para la validación cruzada (con medición del tiempo).\n",
        "cv_tree = DecisionTreeRegressor()\n",
        "\n",
        "start = time.time()\n",
        "rmse_tree_cv = cross_val_score(cv_tree, X_train, y_train, cv=ps, scoring='neg_root_mean_squared_error')\n",
        "end = time.time()\n",
        "time1_tree_cv = end - start\n",
        "\n",
        "start = time.time()\n",
        "mae_tree_cv = cross_val_score(cv_tree, X_train, y_train, cv=ps, scoring='neg_mean_absolute_error')\n",
        "end = time.time()\n",
        "time2_tree_cv = end - start\n",
        "\n",
        "\n",
        "print(f'Tiempo de entrenamiento: {time1_tree_cv:.5f} segundos.')\n",
        "print(f'Tiempo de entrenamiento: {time2_tree_cv:.5f} segundos.')\n",
        "print(f'\\nRMSE: {-rmse_tree_cv.mean()}')\n",
        "print(f'MAE: {-mae_tree_cv.mean()}')\n"
      ],
      "metadata": {
        "id": "aw-WYMJP0PU_",
        "colab": {
          "base_uri": "https://localhost:8080/",
          "height": 97
        },
        "outputId": "bea64c11-1287-4bdf-cf12-1435daa124e9"
      },
      "execution_count": 34,
      "outputs": [
        {
          "output_type": "display_data",
          "data": {
            "text/plain": [
              "\n",
              "\u001b[33mModelo validación cruzada\u001b[0m\n"
            ],
            "text/html": [
              "<pre style=\"white-space:pre;overflow-x:auto;line-height:normal;font-family:Menlo,'DejaVu Sans Mono',consolas,'Courier New',monospace\">\n",
              "<span style=\"color: #808000; text-decoration-color: #808000\">Modelo validación cruzada</span>\n",
              "</pre>\n"
            ]
          },
          "metadata": {}
        },
        {
          "output_type": "display_data",
          "data": {
            "text/plain": [
              "Tiempo de entrenamiento: \u001b[1;36m0.24295\u001b[0m segundos.\n"
            ],
            "text/html": [
              "<pre style=\"white-space:pre;overflow-x:auto;line-height:normal;font-family:Menlo,'DejaVu Sans Mono',consolas,'Courier New',monospace\">Tiempo de entrenamiento: <span style=\"color: #008080; text-decoration-color: #008080; font-weight: bold\">0.24295</span> segundos.\n",
              "</pre>\n"
            ]
          },
          "metadata": {}
        },
        {
          "output_type": "display_data",
          "data": {
            "text/plain": [
              "Tiempo de entrenamiento: \u001b[1;36m0.24165\u001b[0m segundos.\n"
            ],
            "text/html": [
              "<pre style=\"white-space:pre;overflow-x:auto;line-height:normal;font-family:Menlo,'DejaVu Sans Mono',consolas,'Courier New',monospace\">Tiempo de entrenamiento: <span style=\"color: #008080; text-decoration-color: #008080; font-weight: bold\">0.24165</span> segundos.\n",
              "</pre>\n"
            ]
          },
          "metadata": {}
        },
        {
          "output_type": "display_data",
          "data": {
            "text/plain": [
              "\n",
              "RMSE: \u001b[1;36m4440967.302640197\u001b[0m\n"
            ],
            "text/html": [
              "<pre style=\"white-space:pre;overflow-x:auto;line-height:normal;font-family:Menlo,'DejaVu Sans Mono',consolas,'Courier New',monospace\">\n",
              "RMSE: <span style=\"color: #008080; text-decoration-color: #008080; font-weight: bold\">4440967.302640197</span>\n",
              "</pre>\n"
            ]
          },
          "metadata": {}
        },
        {
          "output_type": "display_data",
          "data": {
            "text/plain": [
              "MAE: \u001b[1;36m3223703.419178082\u001b[0m\n"
            ],
            "text/html": [
              "<pre style=\"white-space:pre;overflow-x:auto;line-height:normal;font-family:Menlo,'DejaVu Sans Mono',consolas,'Courier New',monospace\">MAE: <span style=\"color: #008080; text-decoration-color: #008080; font-weight: bold\">3223703.419178082</span>\n",
              "</pre>\n"
            ]
          },
          "metadata": {}
        }
      ]
    },
    {
      "cell_type": "markdown",
      "source": [
        "A continuación, compararemos nuestro árbol de decisión con unos modelos dummy con estrategias de media y mediana."
      ],
      "metadata": {
        "id": "-4Yc8VNjLxzM"
      }
    },
    {
      "cell_type": "code",
      "source": [
        "print('\\n[yellow]Modelos dummy[/yellow]')\n",
        "dummy_1_tree = DummyRegressor(strategy='mean')\n",
        "dummy_2_tree = DummyRegressor(strategy='median')\n",
        "\n",
        "# Entrenamiento de los modelos dummy (con medición del tiempo).\n",
        "start = time.time()\n",
        "dummy_1_tree.fit(X_train_train, y_train_train)\n",
        "end = time.time()\n",
        "time_tree_dm1 = end - start\n",
        "\n",
        "start = time.time()\n",
        "dummy_2_tree.fit(X_train_train, y_train_train)\n",
        "end = time.time()\n",
        "time_tree_dm2 = end - start\n",
        "\n",
        "print(f'Tiempo de entrenamiento (mean): {time_tree_dm1:.5f} segundos.')\n",
        "print(f'Tiempo de entrenamiento (median): {time_tree_dm2:.5f} segundos.')\n",
        "\n",
        "# Predicciones del conjunto de test.\n",
        "y_pred_dummy_1 = dummy_1_tree.predict(X_train_validation)\n",
        "y_pred_dummy_2 = dummy_2_tree.predict(X_train_validation)\n",
        "\n",
        "# Cálculo del error cuadrático medio.\n",
        "rmse_tree_dm1 = rmse(y_train_validation, y_pred_dummy_1)\n",
        "rmse_tree_dm2 = rmse(y_train_validation, y_pred_dummy_2)  \n",
        "print(f'\\nRMSE (mean): {rmse_tree_dm1}')\n",
        "print(f'RMSE (median): {rmse_tree_dm2}')\n",
        "\n",
        "# Cálculo del error absoluto medio.\n",
        "mae_tree_dm1 = mae(y_train_validation, y_pred_dummy_1)\n",
        "mae_tree_dm2 = mae(y_train_validation, y_pred_dummy_2)\n",
        "print(f'MAE (mean): {mae_tree_dm1}')\n",
        "print(f'MAE (median): {mae_tree_dm2}')\n",
        "\n",
        "# Relación entre el error del modelo y el error de los modelos dummy.\n",
        "print(f'\\nRMSE dummy (mean)/RMSE tree: {rmse_tree_dm1/rmse_tree}')\n",
        "print(f'RMSE dummy (median)/RMSE tree: {rmse_tree_dm2/rmse_tree}')\n",
        "print(f'MAE dummy (mean)/MAE tree: {mae_tree_dm1/mae_tree}')\n",
        "print(f'MAE dummy (median)/MAE tree: {mae_tree_dm2/mae_tree}')\n"
      ],
      "metadata": {
        "id": "sjgB_hIxXJ9d",
        "outputId": "10b1b6a8-cf9d-470d-888a-01e204b34eb2",
        "colab": {
          "base_uri": "https://localhost:8080/",
          "height": 193
        }
      },
      "execution_count": 35,
      "outputs": [
        {
          "output_type": "display_data",
          "data": {
            "text/plain": [
              "\n",
              "\u001b[33mModelos dummy\u001b[0m\n"
            ],
            "text/html": [
              "<pre style=\"white-space:pre;overflow-x:auto;line-height:normal;font-family:Menlo,'DejaVu Sans Mono',consolas,'Courier New',monospace\">\n",
              "<span style=\"color: #808000; text-decoration-color: #808000\">Modelos dummy</span>\n",
              "</pre>\n"
            ]
          },
          "metadata": {}
        },
        {
          "output_type": "display_data",
          "data": {
            "text/plain": [
              "Tiempo de entrenamiento \u001b[1m(\u001b[0mmean\u001b[1m)\u001b[0m: \u001b[1;36m0.00072\u001b[0m segundos.\n"
            ],
            "text/html": [
              "<pre style=\"white-space:pre;overflow-x:auto;line-height:normal;font-family:Menlo,'DejaVu Sans Mono',consolas,'Courier New',monospace\">Tiempo de entrenamiento <span style=\"font-weight: bold\">(</span>mean<span style=\"font-weight: bold\">)</span>: <span style=\"color: #008080; text-decoration-color: #008080; font-weight: bold\">0.00072</span> segundos.\n",
              "</pre>\n"
            ]
          },
          "metadata": {}
        },
        {
          "output_type": "display_data",
          "data": {
            "text/plain": [
              "Tiempo de entrenamiento \u001b[1m(\u001b[0mmedian\u001b[1m)\u001b[0m: \u001b[1;36m0.00104\u001b[0m segundos.\n"
            ],
            "text/html": [
              "<pre style=\"white-space:pre;overflow-x:auto;line-height:normal;font-family:Menlo,'DejaVu Sans Mono',consolas,'Courier New',monospace\">Tiempo de entrenamiento <span style=\"font-weight: bold\">(</span>median<span style=\"font-weight: bold\">)</span>: <span style=\"color: #008080; text-decoration-color: #008080; font-weight: bold\">0.00104</span> segundos.\n",
              "</pre>\n"
            ]
          },
          "metadata": {}
        },
        {
          "output_type": "display_data",
          "data": {
            "text/plain": [
              "\n",
              "RMSE \u001b[1m(\u001b[0mmean\u001b[1m)\u001b[0m: \u001b[1;36m8090772.734467536\u001b[0m\n"
            ],
            "text/html": [
              "<pre style=\"white-space:pre;overflow-x:auto;line-height:normal;font-family:Menlo,'DejaVu Sans Mono',consolas,'Courier New',monospace\">\n",
              "RMSE <span style=\"font-weight: bold\">(</span>mean<span style=\"font-weight: bold\">)</span>: <span style=\"color: #008080; text-decoration-color: #008080; font-weight: bold\">8090772.734467536</span>\n",
              "</pre>\n"
            ]
          },
          "metadata": {}
        },
        {
          "output_type": "display_data",
          "data": {
            "text/plain": [
              "RMSE \u001b[1m(\u001b[0mmedian\u001b[1m)\u001b[0m: \u001b[1;36m8103095.185267594\u001b[0m\n"
            ],
            "text/html": [
              "<pre style=\"white-space:pre;overflow-x:auto;line-height:normal;font-family:Menlo,'DejaVu Sans Mono',consolas,'Courier New',monospace\">RMSE <span style=\"font-weight: bold\">(</span>median<span style=\"font-weight: bold\">)</span>: <span style=\"color: #008080; text-decoration-color: #008080; font-weight: bold\">8103095.185267594</span>\n",
              "</pre>\n"
            ]
          },
          "metadata": {}
        },
        {
          "output_type": "display_data",
          "data": {
            "text/plain": [
              "MAE \u001b[1m(\u001b[0mmean\u001b[1m)\u001b[0m: \u001b[1;36m7052470.932677801\u001b[0m\n"
            ],
            "text/html": [
              "<pre style=\"white-space:pre;overflow-x:auto;line-height:normal;font-family:Menlo,'DejaVu Sans Mono',consolas,'Courier New',monospace\">MAE <span style=\"font-weight: bold\">(</span>mean<span style=\"font-weight: bold\">)</span>: <span style=\"color: #008080; text-decoration-color: #008080; font-weight: bold\">7052470.932677801</span>\n",
              "</pre>\n"
            ]
          },
          "metadata": {}
        },
        {
          "output_type": "display_data",
          "data": {
            "text/plain": [
              "MAE \u001b[1m(\u001b[0mmedian\u001b[1m)\u001b[0m: \u001b[1;36m7057673.424657534\u001b[0m\n"
            ],
            "text/html": [
              "<pre style=\"white-space:pre;overflow-x:auto;line-height:normal;font-family:Menlo,'DejaVu Sans Mono',consolas,'Courier New',monospace\">MAE <span style=\"font-weight: bold\">(</span>median<span style=\"font-weight: bold\">)</span>: <span style=\"color: #008080; text-decoration-color: #008080; font-weight: bold\">7057673.424657534</span>\n",
              "</pre>\n"
            ]
          },
          "metadata": {}
        },
        {
          "output_type": "display_data",
          "data": {
            "text/plain": [
              "\n",
              "RMSE dummy \u001b[1m(\u001b[0mmean\u001b[1m)\u001b[0m\u001b[35m/\u001b[0m\u001b[95mRMSE\u001b[0m tree: \u001b[1;36m1.7707675411621608\u001b[0m\n"
            ],
            "text/html": [
              "<pre style=\"white-space:pre;overflow-x:auto;line-height:normal;font-family:Menlo,'DejaVu Sans Mono',consolas,'Courier New',monospace\">\n",
              "RMSE dummy <span style=\"font-weight: bold\">(</span>mean<span style=\"font-weight: bold\">)</span><span style=\"color: #800080; text-decoration-color: #800080\">/</span><span style=\"color: #ff00ff; text-decoration-color: #ff00ff\">RMSE</span> tree: <span style=\"color: #008080; text-decoration-color: #008080; font-weight: bold\">1.7707675411621608</span>\n",
              "</pre>\n"
            ]
          },
          "metadata": {}
        },
        {
          "output_type": "display_data",
          "data": {
            "text/plain": [
              "RMSE dummy \u001b[1m(\u001b[0mmedian\u001b[1m)\u001b[0m\u001b[35m/\u001b[0m\u001b[95mRMSE\u001b[0m tree: \u001b[1;36m1.7734644647590074\u001b[0m\n"
            ],
            "text/html": [
              "<pre style=\"white-space:pre;overflow-x:auto;line-height:normal;font-family:Menlo,'DejaVu Sans Mono',consolas,'Courier New',monospace\">RMSE dummy <span style=\"font-weight: bold\">(</span>median<span style=\"font-weight: bold\">)</span><span style=\"color: #800080; text-decoration-color: #800080\">/</span><span style=\"color: #ff00ff; text-decoration-color: #ff00ff\">RMSE</span> tree: <span style=\"color: #008080; text-decoration-color: #008080; font-weight: bold\">1.7734644647590074</span>\n",
              "</pre>\n"
            ]
          },
          "metadata": {}
        },
        {
          "output_type": "display_data",
          "data": {
            "text/plain": [
              "MAE dummy \u001b[1m(\u001b[0mmean\u001b[1m)\u001b[0m\u001b[35m/\u001b[0m\u001b[95mMAE\u001b[0m tree: \u001b[1;36m2.2245349312275717\u001b[0m\n"
            ],
            "text/html": [
              "<pre style=\"white-space:pre;overflow-x:auto;line-height:normal;font-family:Menlo,'DejaVu Sans Mono',consolas,'Courier New',monospace\">MAE dummy <span style=\"font-weight: bold\">(</span>mean<span style=\"font-weight: bold\">)</span><span style=\"color: #800080; text-decoration-color: #800080\">/</span><span style=\"color: #ff00ff; text-decoration-color: #ff00ff\">MAE</span> tree: <span style=\"color: #008080; text-decoration-color: #008080; font-weight: bold\">2.2245349312275717</span>\n",
              "</pre>\n"
            ]
          },
          "metadata": {}
        },
        {
          "output_type": "display_data",
          "data": {
            "text/plain": [
              "MAE dummy \u001b[1m(\u001b[0mmedian\u001b[1m)\u001b[0m\u001b[35m/\u001b[0m\u001b[95mMAE\u001b[0m tree: \u001b[1;36m2.2261759341113585\u001b[0m\n"
            ],
            "text/html": [
              "<pre style=\"white-space:pre;overflow-x:auto;line-height:normal;font-family:Menlo,'DejaVu Sans Mono',consolas,'Courier New',monospace\">MAE dummy <span style=\"font-weight: bold\">(</span>median<span style=\"font-weight: bold\">)</span><span style=\"color: #800080; text-decoration-color: #800080\">/</span><span style=\"color: #ff00ff; text-decoration-color: #ff00ff\">MAE</span> tree: <span style=\"color: #008080; text-decoration-color: #008080; font-weight: bold\">2.2261759341113585</span>\n",
              "</pre>\n"
            ]
          },
          "metadata": {}
        }
      ]
    },
    {
      "cell_type": "markdown",
      "source": [
        "### **Regresión lineal**"
      ],
      "metadata": {
        "id": "j2llvQO5uG8H"
      }
    },
    {
      "cell_type": "markdown",
      "source": [
        "Primero entrenaremos un modelo de regresión lineal con los hiperparametros por omisón y veremos los errores cuadráticos y absolutos medios."
      ],
      "metadata": {
        "id": "LCLM2MjYMMZv"
      }
    },
    {
      "cell_type": "code",
      "source": [
        "print('\\n[bold yellow]Regresión lineal\\n------------------[/bold yellow]')\n",
        "\n",
        "# [Regresión lineal] MODELO BASE.\n",
        "print('\\n[yellow]Modelo base[/yellow]')\n",
        "base_linear = LinearRegression()\n",
        "\n",
        "# Entrenamiento (con medición del tiempo).\n",
        "start = time.time()\n",
        "base_linear.fit(X_train_train_n, y_train_train_n)\n",
        "end = time.time()\n",
        "time_linear = end - start\n",
        "print(f'Tiempo de entrenamiento: {time_linear:.5f} segundos.')\n",
        "\n",
        "# Predicciones del conjunto de test.\n",
        "y_pred_n = base_linear.predict(X_train_validation_n)\n",
        "\n",
        "# Denormalizar los datos.\n",
        "y_pred = scaler.inverse_transform(y_pred_n)\n",
        "\n",
        "# Cálculo del error cuadrático medio.\n",
        "rmse_linear = rmse(y_train_validation, y_pred)\n",
        "print(f'\\nRMSE: {rmse_linear}')\n",
        "\n",
        "# Cálculo del error absoluto medio.\n",
        "mae_linear = mae(y_train_validation, y_pred)\n",
        "print(f'MAE: {mae_linear}')"
      ],
      "metadata": {
        "colab": {
          "base_uri": "https://localhost:8080/",
          "height": 113
        },
        "id": "vu7fBdm4aqin",
        "outputId": "70520bed-dffa-4f1a-89f5-621845fa19bb"
      },
      "execution_count": 36,
      "outputs": [
        {
          "output_type": "display_data",
          "data": {
            "text/plain": [
              "\n",
              "\u001b[1;33mRegresión lineal\u001b[0m\n",
              "\u001b[1;33m------------------\u001b[0m\n"
            ],
            "text/html": [
              "<pre style=\"white-space:pre;overflow-x:auto;line-height:normal;font-family:Menlo,'DejaVu Sans Mono',consolas,'Courier New',monospace\">\n",
              "<span style=\"color: #808000; text-decoration-color: #808000; font-weight: bold\">Regresión lineal</span>\n",
              "<span style=\"color: #808000; text-decoration-color: #808000; font-weight: bold\">------------------</span>\n",
              "</pre>\n"
            ]
          },
          "metadata": {}
        },
        {
          "output_type": "display_data",
          "data": {
            "text/plain": [
              "\n",
              "\u001b[33mModelo base\u001b[0m\n"
            ],
            "text/html": [
              "<pre style=\"white-space:pre;overflow-x:auto;line-height:normal;font-family:Menlo,'DejaVu Sans Mono',consolas,'Courier New',monospace\">\n",
              "<span style=\"color: #808000; text-decoration-color: #808000\">Modelo base</span>\n",
              "</pre>\n"
            ]
          },
          "metadata": {}
        },
        {
          "output_type": "display_data",
          "data": {
            "text/plain": [
              "Tiempo de entrenamiento: \u001b[1;36m0.05920\u001b[0m segundos.\n"
            ],
            "text/html": [
              "<pre style=\"white-space:pre;overflow-x:auto;line-height:normal;font-family:Menlo,'DejaVu Sans Mono',consolas,'Courier New',monospace\">Tiempo de entrenamiento: <span style=\"color: #008080; text-decoration-color: #008080; font-weight: bold\">0.05920</span> segundos.\n",
              "</pre>\n"
            ]
          },
          "metadata": {}
        },
        {
          "output_type": "display_data",
          "data": {
            "text/plain": [
              "\n",
              "RMSE: \u001b[1;36m2914992.7582885786\u001b[0m\n"
            ],
            "text/html": [
              "<pre style=\"white-space:pre;overflow-x:auto;line-height:normal;font-family:Menlo,'DejaVu Sans Mono',consolas,'Courier New',monospace\">\n",
              "RMSE: <span style=\"color: #008080; text-decoration-color: #008080; font-weight: bold\">2914992.7582885786</span>\n",
              "</pre>\n"
            ]
          },
          "metadata": {}
        },
        {
          "output_type": "display_data",
          "data": {
            "text/plain": [
              "MAE: \u001b[1;36m2143275.4134048363\u001b[0m\n"
            ],
            "text/html": [
              "<pre style=\"white-space:pre;overflow-x:auto;line-height:normal;font-family:Menlo,'DejaVu Sans Mono',consolas,'Courier New',monospace\">MAE: <span style=\"color: #008080; text-decoration-color: #008080; font-weight: bold\">2143275.4134048363</span>\n",
              "</pre>\n"
            ]
          },
          "metadata": {}
        }
      ]
    },
    {
      "cell_type": "markdown",
      "source": [
        "Ahora usamos, PredefinedSplit para usar **validación cruzada** y evaluar nuestro modelo con este método"
      ],
      "metadata": {
        "id": "2qUPM3NKMWOG"
      }
    },
    {
      "cell_type": "code",
      "source": [
        "print('\\n[yellow]Modelo validación cruzada[/yellow]')\n",
        "\n",
        "'''\n",
        "print(ps.get_n_splits(X))\n",
        "\n",
        "for train, valid in ps.split(X):\n",
        "    print(f'Size of the train set: {train.shape}')\n",
        "    print(f'Size of the valid set: {valid.shape}')\n",
        "    print(f'Indices of the train set: {train}')\n",
        "    print(f'Indices of the valid set: {valid}')\n",
        "'''\n",
        "\n",
        "# Usar el predefined split para la validación cruzada.\n",
        "cv_linear = LinearRegression()\n",
        "\n",
        "start = time.time()\n",
        "rmse_linear_cv = cross_val_score(cv_linear, X_train_n, y_train_n, cv=ps, scoring='neg_root_mean_squared_error')\n",
        "end = time.time()\n",
        "time1_linear_cv = end - start\n",
        "\n",
        "start = time.time()\n",
        "mae_linear_cv = cross_val_score(cv_linear, X_train_n, y_train_n, cv=ps, scoring='neg_mean_absolute_error')\n",
        "end = time.time()\n",
        "time2_linear_cv = end - start\n",
        "\n",
        "# Denormalizar los datos.\n",
        "rmse_linear_cv = scaler.inverse_transform(rmse_linear_cv.reshape(-1, 1)).ravel()\n",
        "mae_linear_cv = scaler.inverse_transform(mae_linear_cv.reshape(-1, 1)).ravel()\n",
        "\n",
        "print(f'Tiempo de entrenamiento (RMSE): {time1_linear_cv:.5f} segundos.')\n",
        "print(f'Tiempo de entrenamiento (MAE): {time2_linear_cv:.5f} segundos.')\n",
        "print(f'\\nRMSE: {-rmse_linear_cv.mean()}')\n",
        "print(f'RMSE: {-mae_linear_cv.mean()}')\n"
      ],
      "metadata": {
        "id": "wMOgkjJDZxXD",
        "colab": {
          "base_uri": "https://localhost:8080/",
          "height": 97
        },
        "outputId": "607f9cc4-a242-4774-9a46-4009cac3d62b"
      },
      "execution_count": 37,
      "outputs": [
        {
          "output_type": "display_data",
          "data": {
            "text/plain": [
              "\n",
              "\u001b[33mModelo validación cruzada\u001b[0m\n"
            ],
            "text/html": [
              "<pre style=\"white-space:pre;overflow-x:auto;line-height:normal;font-family:Menlo,'DejaVu Sans Mono',consolas,'Courier New',monospace\">\n",
              "<span style=\"color: #808000; text-decoration-color: #808000\">Modelo validación cruzada</span>\n",
              "</pre>\n"
            ]
          },
          "metadata": {}
        },
        {
          "output_type": "display_data",
          "data": {
            "text/plain": [
              "Tiempo de entrenamiento \u001b[1m(\u001b[0mRMSE\u001b[1m)\u001b[0m: \u001b[1;36m0.03386\u001b[0m segundos.\n"
            ],
            "text/html": [
              "<pre style=\"white-space:pre;overflow-x:auto;line-height:normal;font-family:Menlo,'DejaVu Sans Mono',consolas,'Courier New',monospace\">Tiempo de entrenamiento <span style=\"font-weight: bold\">(</span>RMSE<span style=\"font-weight: bold\">)</span>: <span style=\"color: #008080; text-decoration-color: #008080; font-weight: bold\">0.03386</span> segundos.\n",
              "</pre>\n"
            ]
          },
          "metadata": {}
        },
        {
          "output_type": "display_data",
          "data": {
            "text/plain": [
              "Tiempo de entrenamiento \u001b[1m(\u001b[0mMAE\u001b[1m)\u001b[0m: \u001b[1;36m0.03831\u001b[0m segundos.\n"
            ],
            "text/html": [
              "<pre style=\"white-space:pre;overflow-x:auto;line-height:normal;font-family:Menlo,'DejaVu Sans Mono',consolas,'Courier New',monospace\">Tiempo de entrenamiento <span style=\"font-weight: bold\">(</span>MAE<span style=\"font-weight: bold\">)</span>: <span style=\"color: #008080; text-decoration-color: #008080; font-weight: bold\">0.03831</span> segundos.\n",
              "</pre>\n"
            ]
          },
          "metadata": {}
        },
        {
          "output_type": "display_data",
          "data": {
            "text/plain": [
              "\n",
              "RMSE: \u001b[1;36m2272392.7582885786\u001b[0m\n"
            ],
            "text/html": [
              "<pre style=\"white-space:pre;overflow-x:auto;line-height:normal;font-family:Menlo,'DejaVu Sans Mono',consolas,'Courier New',monospace\">\n",
              "RMSE: <span style=\"color: #008080; text-decoration-color: #008080; font-weight: bold\">2272392.7582885786</span>\n",
              "</pre>\n"
            ]
          },
          "metadata": {}
        },
        {
          "output_type": "display_data",
          "data": {
            "text/plain": [
              "RMSE: \u001b[1;36m1500675.413404837\u001b[0m\n"
            ],
            "text/html": [
              "<pre style=\"white-space:pre;overflow-x:auto;line-height:normal;font-family:Menlo,'DejaVu Sans Mono',consolas,'Courier New',monospace\">RMSE: <span style=\"color: #008080; text-decoration-color: #008080; font-weight: bold\">1500675.413404837</span>\n",
              "</pre>\n"
            ]
          },
          "metadata": {}
        }
      ]
    },
    {
      "cell_type": "markdown",
      "source": [
        "A continuación, compararemos nuestro árbol de decisión con unos modelos dummy con estrategias de media y mediana."
      ],
      "metadata": {
        "id": "6CmyMv-9McHS"
      }
    },
    {
      "cell_type": "code",
      "source": [
        "print('\\n[yellow]Modelos dummy[/yellow]')\n",
        "dummy_1_linear = DummyRegressor(strategy='mean')\n",
        "dummy_2_linear = DummyRegressor(strategy='median')\n",
        "\n",
        "# Entrenamiento de los modelos dummy (con medición del tiempo).\n",
        "start = time.time()\n",
        "dummy_1_linear.fit(X_train_train_n, y_train_train_n)\n",
        "end = time.time()\n",
        "time_linear_dm1 = end - start\n",
        "\n",
        "start = time.time()\n",
        "dummy_2_linear.fit(X_train_train_n, y_train_train_n)\n",
        "end = time.time()\n",
        "time_linear_dm2 = end - start\n",
        "\n",
        "print(f'Tiempo de entrenamiento (mean): {time_linear_dm1:.5f} segundos.')\n",
        "print(f'Tiempo de entrenamiento (median): {time_linear_dm2:.5f} segundos.')\n",
        "\n",
        "# Predicciones del conjunto de test.\n",
        "y_pred_dummy_1_n = dummy_1_linear.predict(X_train_validation_n).reshape(-1, 1)\n",
        "y_pred_dummy_2_n = dummy_2_linear.predict(X_train_validation_n).reshape(-1, 1)\n",
        "\n",
        "# Denormalizar los datos.\n",
        "y_pred_dummy_1 = scaler.inverse_transform(y_pred_dummy_1_n)\n",
        "y_pred_dummy_2 = scaler.inverse_transform(y_pred_dummy_2_n)\n",
        "\n",
        "# Cálculo del error cuadrático medio.\n",
        "rmse_linear_dm1 = rmse(y_train_validation, y_pred_dummy_1)\n",
        "rmse_linear_dm2 = rmse(y_train_validation, y_pred_dummy_2)\n",
        "print(f'\\nRMSE (mean): {rmse_linear_dm1}')\n",
        "print(f'RMSE (median): {rmse_linear_dm2}')\n",
        "\n",
        "# Cálculo del error absoluto medio.\n",
        "mae_linear_dm1 = mae(y_train_validation, y_pred_dummy_1)\n",
        "mae_linear_dm2 = mae(y_train_validation, y_pred_dummy_2)\n",
        "print(f'MAE (mean): {mae_linear_dm1}')\n",
        "print(f'MAE (median): {mae_linear_dm2}')\n",
        "\n",
        "# Cálculo de la diferencia entre el error de los modelos dummy y el modelo base.\n",
        "print(f'\\nRMSE dummy (mean)/RMSE linear: {rmse_linear_dm1/rmse_linear}')\n",
        "print(f'RMSE dummy (median)/RMSE linear: {rmse_linear_dm2/rmse_linear}')\n",
        "print(f'MAE dummy (mean)/MAE linear: {mae_linear_dm1/mae_linear}')\n",
        "print(f'MAE dummy (median)/MAE linear: {mae_linear_dm2/mae_linear}')\n"
      ],
      "metadata": {
        "colab": {
          "base_uri": "https://localhost:8080/",
          "height": 193
        },
        "id": "hoHeJL-w1gvi",
        "outputId": "fba6878c-4360-4171-e669-cbad4f280f9b"
      },
      "execution_count": 38,
      "outputs": [
        {
          "output_type": "display_data",
          "data": {
            "text/plain": [
              "\n",
              "\u001b[33mModelos dummy\u001b[0m\n"
            ],
            "text/html": [
              "<pre style=\"white-space:pre;overflow-x:auto;line-height:normal;font-family:Menlo,'DejaVu Sans Mono',consolas,'Courier New',monospace\">\n",
              "<span style=\"color: #808000; text-decoration-color: #808000\">Modelos dummy</span>\n",
              "</pre>\n"
            ]
          },
          "metadata": {}
        },
        {
          "output_type": "display_data",
          "data": {
            "text/plain": [
              "Tiempo de entrenamiento \u001b[1m(\u001b[0mmean\u001b[1m)\u001b[0m: \u001b[1;36m0.00223\u001b[0m segundos.\n"
            ],
            "text/html": [
              "<pre style=\"white-space:pre;overflow-x:auto;line-height:normal;font-family:Menlo,'DejaVu Sans Mono',consolas,'Courier New',monospace\">Tiempo de entrenamiento <span style=\"font-weight: bold\">(</span>mean<span style=\"font-weight: bold\">)</span>: <span style=\"color: #008080; text-decoration-color: #008080; font-weight: bold\">0.00223</span> segundos.\n",
              "</pre>\n"
            ]
          },
          "metadata": {}
        },
        {
          "output_type": "display_data",
          "data": {
            "text/plain": [
              "Tiempo de entrenamiento \u001b[1m(\u001b[0mmedian\u001b[1m)\u001b[0m: \u001b[1;36m0.00298\u001b[0m segundos.\n"
            ],
            "text/html": [
              "<pre style=\"white-space:pre;overflow-x:auto;line-height:normal;font-family:Menlo,'DejaVu Sans Mono',consolas,'Courier New',monospace\">Tiempo de entrenamiento <span style=\"font-weight: bold\">(</span>median<span style=\"font-weight: bold\">)</span>: <span style=\"color: #008080; text-decoration-color: #008080; font-weight: bold\">0.00298</span> segundos.\n",
              "</pre>\n"
            ]
          },
          "metadata": {}
        },
        {
          "output_type": "display_data",
          "data": {
            "text/plain": [
              "\n",
              "RMSE \u001b[1m(\u001b[0mmean\u001b[1m)\u001b[0m: \u001b[1;36m8090772.734467536\u001b[0m\n"
            ],
            "text/html": [
              "<pre style=\"white-space:pre;overflow-x:auto;line-height:normal;font-family:Menlo,'DejaVu Sans Mono',consolas,'Courier New',monospace\">\n",
              "RMSE <span style=\"font-weight: bold\">(</span>mean<span style=\"font-weight: bold\">)</span>: <span style=\"color: #008080; text-decoration-color: #008080; font-weight: bold\">8090772.734467536</span>\n",
              "</pre>\n"
            ]
          },
          "metadata": {}
        },
        {
          "output_type": "display_data",
          "data": {
            "text/plain": [
              "RMSE \u001b[1m(\u001b[0mmedian\u001b[1m)\u001b[0m: \u001b[1;36m8103095.185267594\u001b[0m\n"
            ],
            "text/html": [
              "<pre style=\"white-space:pre;overflow-x:auto;line-height:normal;font-family:Menlo,'DejaVu Sans Mono',consolas,'Courier New',monospace\">RMSE <span style=\"font-weight: bold\">(</span>median<span style=\"font-weight: bold\">)</span>: <span style=\"color: #008080; text-decoration-color: #008080; font-weight: bold\">8103095.185267594</span>\n",
              "</pre>\n"
            ]
          },
          "metadata": {}
        },
        {
          "output_type": "display_data",
          "data": {
            "text/plain": [
              "MAE \u001b[1m(\u001b[0mmean\u001b[1m)\u001b[0m: \u001b[1;36m7052470.932677802\u001b[0m\n"
            ],
            "text/html": [
              "<pre style=\"white-space:pre;overflow-x:auto;line-height:normal;font-family:Menlo,'DejaVu Sans Mono',consolas,'Courier New',monospace\">MAE <span style=\"font-weight: bold\">(</span>mean<span style=\"font-weight: bold\">)</span>: <span style=\"color: #008080; text-decoration-color: #008080; font-weight: bold\">7052470.932677802</span>\n",
              "</pre>\n"
            ]
          },
          "metadata": {}
        },
        {
          "output_type": "display_data",
          "data": {
            "text/plain": [
              "MAE \u001b[1m(\u001b[0mmedian\u001b[1m)\u001b[0m: \u001b[1;36m7057673.424657534\u001b[0m\n"
            ],
            "text/html": [
              "<pre style=\"white-space:pre;overflow-x:auto;line-height:normal;font-family:Menlo,'DejaVu Sans Mono',consolas,'Courier New',monospace\">MAE <span style=\"font-weight: bold\">(</span>median<span style=\"font-weight: bold\">)</span>: <span style=\"color: #008080; text-decoration-color: #008080; font-weight: bold\">7057673.424657534</span>\n",
              "</pre>\n"
            ]
          },
          "metadata": {}
        },
        {
          "output_type": "display_data",
          "data": {
            "text/plain": [
              "\n",
              "RMSE dummy \u001b[1m(\u001b[0mmean\u001b[1m)\u001b[0m\u001b[35m/\u001b[0m\u001b[95mRMSE\u001b[0m linear: \u001b[1;36m2.77557215586968\u001b[0m\n"
            ],
            "text/html": [
              "<pre style=\"white-space:pre;overflow-x:auto;line-height:normal;font-family:Menlo,'DejaVu Sans Mono',consolas,'Courier New',monospace\">\n",
              "RMSE dummy <span style=\"font-weight: bold\">(</span>mean<span style=\"font-weight: bold\">)</span><span style=\"color: #800080; text-decoration-color: #800080\">/</span><span style=\"color: #ff00ff; text-decoration-color: #ff00ff\">RMSE</span> linear: <span style=\"color: #008080; text-decoration-color: #008080; font-weight: bold\">2.77557215586968</span>\n",
              "</pre>\n"
            ]
          },
          "metadata": {}
        },
        {
          "output_type": "display_data",
          "data": {
            "text/plain": [
              "RMSE dummy \u001b[1m(\u001b[0mmedian\u001b[1m)\u001b[0m\u001b[35m/\u001b[0m\u001b[95mRMSE\u001b[0m linear: \u001b[1;36m2.779799422220521\u001b[0m\n"
            ],
            "text/html": [
              "<pre style=\"white-space:pre;overflow-x:auto;line-height:normal;font-family:Menlo,'DejaVu Sans Mono',consolas,'Courier New',monospace\">RMSE dummy <span style=\"font-weight: bold\">(</span>median<span style=\"font-weight: bold\">)</span><span style=\"color: #800080; text-decoration-color: #800080\">/</span><span style=\"color: #ff00ff; text-decoration-color: #ff00ff\">RMSE</span> linear: <span style=\"color: #008080; text-decoration-color: #008080; font-weight: bold\">2.779799422220521</span>\n",
              "</pre>\n"
            ]
          },
          "metadata": {}
        },
        {
          "output_type": "display_data",
          "data": {
            "text/plain": [
              "MAE dummy \u001b[1m(\u001b[0mmean\u001b[1m)\u001b[0m\u001b[35m/\u001b[0m\u001b[95mMAE\u001b[0m linear: \u001b[1;36m3.290510817494123\u001b[0m\n"
            ],
            "text/html": [
              "<pre style=\"white-space:pre;overflow-x:auto;line-height:normal;font-family:Menlo,'DejaVu Sans Mono',consolas,'Courier New',monospace\">MAE dummy <span style=\"font-weight: bold\">(</span>mean<span style=\"font-weight: bold\">)</span><span style=\"color: #800080; text-decoration-color: #800080\">/</span><span style=\"color: #ff00ff; text-decoration-color: #ff00ff\">MAE</span> linear: <span style=\"color: #008080; text-decoration-color: #008080; font-weight: bold\">3.290510817494123</span>\n",
              "</pre>\n"
            ]
          },
          "metadata": {}
        },
        {
          "output_type": "display_data",
          "data": {
            "text/plain": [
              "MAE dummy \u001b[1m(\u001b[0mmedian\u001b[1m)\u001b[0m\u001b[35m/\u001b[0m\u001b[95mMAE\u001b[0m linear: \u001b[1;36m3.292938173281995\u001b[0m\n"
            ],
            "text/html": [
              "<pre style=\"white-space:pre;overflow-x:auto;line-height:normal;font-family:Menlo,'DejaVu Sans Mono',consolas,'Courier New',monospace\">MAE dummy <span style=\"font-weight: bold\">(</span>median<span style=\"font-weight: bold\">)</span><span style=\"color: #800080; text-decoration-color: #800080\">/</span><span style=\"color: #ff00ff; text-decoration-color: #ff00ff\">MAE</span> linear: <span style=\"color: #008080; text-decoration-color: #008080; font-weight: bold\">3.292938173281995</span>\n",
              "</pre>\n"
            ]
          },
          "metadata": {}
        }
      ]
    },
    {
      "cell_type": "markdown",
      "source": [
        "## **Ajuste de hiperparámetros**"
      ],
      "metadata": {
        "id": "u5nVrwbHafhO"
      }
    },
    {
      "cell_type": "markdown",
      "source": [
        "En este paso, utilizaremos el Predefined Split para hacer GridSearch en los diferentes métodos y encontrar los mejores hiperparametros para cada modelo. Además, utilizaremos RandomSearch y seleccionaremos el que tenga menos MAE. Utilizar RamdomSearch nos servirá para poder introducir mayores cantidades de hiperparametros a evaluar sin resentir el tiempo de ejecución, eventualmente encontraremos mejores resultados utilizando esta técnica."
      ],
      "metadata": {
        "id": "rPC993k4ik56"
      }
    },
    {
      "cell_type": "markdown",
      "source": [
        "### **KNN**"
      ],
      "metadata": {
        "id": "IujsylHruSG5"
      }
    },
    {
      "cell_type": "code",
      "source": [
        "from sklearn.model_selection import GridSearchCV\n",
        "from sklearn.model_selection import RandomizedSearchCV\n",
        "\n",
        "print('\\n[bold blue]KNN\\n----[/bold blue]')\n",
        "\n",
        "print('\\n[yellow]Grid Search[/yellow]\\n')\n",
        "\n",
        "# Usaremos grid search para encontrar los mejores hiperparámetros haciendo antes predefined split.\n",
        "\n",
        "# Definimos el diccionario de los valores de los hiperparámetros que queremos probar.\n",
        "param_grid = {\n",
        "    'n_neighbors': [1, 2, 3, 4, 5, 6],\n",
        "    'weights': ['uniform', 'distance'],\n",
        "    'metric': ['euclidean', 'manhattan', 'chebyshev', 'minkowski'],\n",
        "    'leaf_size': [1, 2, 5, 10, 20, 30, 40],\n",
        "    'p':[1, 2]\n",
        "}\n",
        "\n",
        "# Definimos el modelo.\n",
        "model = KNeighborsRegressor()\n",
        "\n",
        "# Definimos el grid search.\n",
        "grid = GridSearchCV(estimator=model,\n",
        "                    param_grid=param_grid,\n",
        "                    cv=ps,\n",
        "                    scoring='neg_mean_absolute_error',\n",
        "                    verbose=1,\n",
        "                    n_jobs=-1)\n",
        "\n",
        "# Entrenamos el grid search.\n",
        "start = time.time()\n",
        "grid_result = grid.fit(X_train_n, y_train_n)\n",
        "end = time.time()\n",
        "time_knn_gs = end - start\n",
        "print(f'\\nTiempo búsqueda hiperparámetros (Grid Search): {time_knn_gs:.5f} segundos.')\n",
        "\n",
        "# Mejores hiperparámetros.\n",
        "print(f'\\nMejores hiperparámetros: {grid_result.best_params_}')\n",
        "\n",
        "# Definir modelo KNN con los mejores hiperparámetros\n",
        "model = KNeighborsRegressor(n_neighbors=grid_result.best_params_['n_neighbors'],\n",
        "                            weights=grid_result.best_params_['weights'],\n",
        "                            p=grid_result.best_params_['p'],\n",
        "                            metric=grid_result.best_params_['metric'],\n",
        "                            leaf_size=grid_result.best_params_['leaf_size'])\n",
        "\n",
        "# Entrenamos modelo con datos de entrenamiento normalizados.\n",
        "start = time.time()\n",
        "model.fit(X_train_train_n, y_train_train_n)\n",
        "end = time.time()\n",
        "time_knn_gs_a = end - start\n",
        "print(f'\\nTiempo de entrenamiento (Hiperparámetros ajustados): {time_knn_gs_a:.5f} segundos.')\n",
        "\n",
        "# Hacer predicciones en los datos de validación normalizados.\n",
        "y_pred_n = model.predict(X_train_validation_n)\n",
        "\n",
        "# Desnormalizar las predicciones.\n",
        "y_pred = scaler.inverse_transform(y_pred_n)\n",
        "\n",
        "# Calcular el error cuadrático medio en la escala original.\n",
        "rmse_knn_gs_a = rmse(y_train_validation, y_pred)\n",
        "print(f'\\nRMSE: {rmse_knn_gs_a}')\n",
        "\n",
        "# Calcular el error absoluto medio en la escala original.\n",
        "mae_knn_gs_a = mae(y_train_validation, y_pred)\n",
        "print(f'MAE: {mae_knn_gs_a}\\n')\n",
        "\n",
        "# Ahora, usaremos randomized search para comparar resultados con grid search.\n",
        "print('[yellow]Randomized Search[/yellow]\\n')\n",
        "\n",
        "# Definimos el diccionario de los valores de los hiperparámetros que queremos probar (más combinaciones).\n",
        "param_grid = {\n",
        "    'n_neighbors': [1, 2, 3, 4, 5, 6, 7, 8, 9, 10, 15, 20, 25, 30, 35, 40, 45, 50, 55, 60, 65, 70, 75, 80, 85, 90, 95, 100],\n",
        "    'weights': ['uniform', 'distance'],\n",
        "    'metric': ['euclidean', 'manhattan', 'chebyshev', 'minkowski'],\n",
        "    'leaf_size': list(range(1,100)),\n",
        "    'p':[1, 2]\n",
        "}\n",
        "\n",
        "r_search = RandomizedSearchCV(estimator=model,\n",
        "                              param_distributions=param_grid,\n",
        "                              cv=ps,\n",
        "                              scoring='neg_mean_absolute_error',\n",
        "                              verbose=1,\n",
        "                              n_jobs=-1,\n",
        "                              n_iter=100)\n",
        "\n",
        "\n",
        "# Entrenamos el randomized search.\n",
        "start = time.time()\n",
        "r_search_result = r_search.fit(X_train_n, y_train_n)\n",
        "end = time.time()\n",
        "time_knn_rs = end - start\n",
        "print(f'\\nTiempo búsqueda hiperparámetros (Randomized Search): {time_knn_rs:.5f} segundos.')\n",
        "\n",
        "# Mejores hiperparámetros.\n",
        "print(f'\\nMejores hiperparámetros: {r_search_result.best_params_}')\n",
        "\n",
        "# Definir modelo KNN con los mejores hiperparámetros\n",
        "model = KNeighborsRegressor(n_neighbors=r_search_result.best_params_['n_neighbors'],\n",
        "                            weights=r_search_result.best_params_['weights'],\n",
        "                            p=r_search_result.best_params_['p'],\n",
        "                            metric=r_search_result.best_params_['metric'],\n",
        "                            leaf_size=r_search_result.best_params_['leaf_size'])\n",
        "\n",
        "# Entrenamos modelo con datos de entrenamiento normalizados.\n",
        "start = time.time()\n",
        "model.fit(X_train_train_n, y_train_train_n)\n",
        "end = time.time()\n",
        "time_knn_rs_a = end - start\n",
        "print(f'\\nTiempo de entrenamiento (Hiperparámetros ajustados): {time_knn_rs_a:.5f} segundos.')\n",
        "\n",
        "# Hacer predicciones en los datos de prueba normalizados.\n",
        "y_pred_n = model.predict(X_train_validation_n)\n",
        "\n",
        "# Desnormalizar las predicciones.\n",
        "y_pred = scaler.inverse_transform(y_pred_n)\n",
        "\n",
        "# Calcular el error cuadrático medio en la escala original.\n",
        "rmse_knn_rs_a = rmse(y_train_validation, y_pred)\n",
        "print(f'\\nRMSE: {rmse_knn_rs_a}')\n",
        "\n",
        "# Calcular el error absoluto medio en la escala original.\n",
        "mae_knn_rs_a = mae(y_train_validation, y_pred)\n",
        "print(f'MAE: {mae_knn_rs_a}')\n",
        "\n",
        "\n",
        "# Seleccionamos los menore errores (entre grid search y randomized search).\n",
        "mae_knn_a = min(mae_knn_gs_a, mae_knn_rs_a)\n",
        "\n",
        "if mae_knn_a == mae_knn_gs_a:\n",
        "    rmse_knn_a = rmse_knn_gs_a\n",
        "else:\n",
        "    rmse_knn_a = rmse_knn_rs_a\n",
        "\n"
      ],
      "metadata": {
        "colab": {
          "base_uri": "https://localhost:8080/",
          "height": 324
        },
        "id": "2MogT-rmd5TG",
        "outputId": "563564e2-781d-4dc1-d44e-ee0b96c9bfa8"
      },
      "execution_count": 39,
      "outputs": [
        {
          "output_type": "display_data",
          "data": {
            "text/plain": [
              "\n",
              "\u001b[1;34mKNN\u001b[0m\n",
              "\u001b[1;34m----\u001b[0m\n"
            ],
            "text/html": [
              "<pre style=\"white-space:pre;overflow-x:auto;line-height:normal;font-family:Menlo,'DejaVu Sans Mono',consolas,'Courier New',monospace\">\n",
              "<span style=\"color: #000080; text-decoration-color: #000080; font-weight: bold\">KNN</span>\n",
              "<span style=\"color: #000080; text-decoration-color: #000080; font-weight: bold\">----</span>\n",
              "</pre>\n"
            ]
          },
          "metadata": {}
        },
        {
          "output_type": "display_data",
          "data": {
            "text/plain": [
              "\n",
              "\u001b[33mGrid Search\u001b[0m\n",
              "\n"
            ],
            "text/html": [
              "<pre style=\"white-space:pre;overflow-x:auto;line-height:normal;font-family:Menlo,'DejaVu Sans Mono',consolas,'Courier New',monospace\">\n",
              "<span style=\"color: #808000; text-decoration-color: #808000\">Grid Search</span>\n",
              "\n",
              "</pre>\n"
            ]
          },
          "metadata": {}
        },
        {
          "output_type": "stream",
          "name": "stdout",
          "text": [
            "Fitting 1 folds for each of 672 candidates, totalling 672 fits\n"
          ]
        },
        {
          "output_type": "display_data",
          "data": {
            "text/plain": [
              "\n",
              "Tiempo búsqueda hiperparámetros \u001b[1m(\u001b[0mGrid Search\u001b[1m)\u001b[0m: \u001b[1;36m91.68303\u001b[0m segundos.\n"
            ],
            "text/html": [
              "<pre style=\"white-space:pre;overflow-x:auto;line-height:normal;font-family:Menlo,'DejaVu Sans Mono',consolas,'Courier New',monospace\">\n",
              "Tiempo búsqueda hiperparámetros <span style=\"font-weight: bold\">(</span>Grid Search<span style=\"font-weight: bold\">)</span>: <span style=\"color: #008080; text-decoration-color: #008080; font-weight: bold\">91.68303</span> segundos.\n",
              "</pre>\n"
            ]
          },
          "metadata": {}
        },
        {
          "output_type": "display_data",
          "data": {
            "text/plain": [
              "\n",
              "Mejores hiperparámetros: \u001b[1m{\u001b[0m\u001b[32m'leaf_size'\u001b[0m: \u001b[1;36m1\u001b[0m, \u001b[32m'metric'\u001b[0m: \u001b[32m'euclidean'\u001b[0m, \u001b[32m'n_neighbors'\u001b[0m: \u001b[1;36m6\u001b[0m, \u001b[32m'p'\u001b[0m: \u001b[1;36m1\u001b[0m, \u001b[32m'weights'\u001b[0m: \u001b[32m'distance'\u001b[0m\u001b[1m}\u001b[0m\n"
            ],
            "text/html": [
              "<pre style=\"white-space:pre;overflow-x:auto;line-height:normal;font-family:Menlo,'DejaVu Sans Mono',consolas,'Courier New',monospace\">\n",
              "Mejores hiperparámetros: <span style=\"font-weight: bold\">{</span><span style=\"color: #008000; text-decoration-color: #008000\">'leaf_size'</span>: <span style=\"color: #008080; text-decoration-color: #008080; font-weight: bold\">1</span>, <span style=\"color: #008000; text-decoration-color: #008000\">'metric'</span>: <span style=\"color: #008000; text-decoration-color: #008000\">'euclidean'</span>, <span style=\"color: #008000; text-decoration-color: #008000\">'n_neighbors'</span>: <span style=\"color: #008080; text-decoration-color: #008080; font-weight: bold\">6</span>, <span style=\"color: #008000; text-decoration-color: #008000\">'p'</span>: <span style=\"color: #008080; text-decoration-color: #008080; font-weight: bold\">1</span>, <span style=\"color: #008000; text-decoration-color: #008000\">'weights'</span>: <span style=\"color: #008000; text-decoration-color: #008000\">'distance'</span><span style=\"font-weight: bold\">}</span>\n",
              "</pre>\n"
            ]
          },
          "metadata": {}
        },
        {
          "output_type": "display_data",
          "data": {
            "text/plain": [
              "\n",
              "Tiempo de entrenamiento \u001b[1m(\u001b[0mHiperparámetros ajustados\u001b[1m)\u001b[0m: \u001b[1;36m0.00116\u001b[0m segundos.\n"
            ],
            "text/html": [
              "<pre style=\"white-space:pre;overflow-x:auto;line-height:normal;font-family:Menlo,'DejaVu Sans Mono',consolas,'Courier New',monospace\">\n",
              "Tiempo de entrenamiento <span style=\"font-weight: bold\">(</span>Hiperparámetros ajustados<span style=\"font-weight: bold\">)</span>: <span style=\"color: #008080; text-decoration-color: #008080; font-weight: bold\">0.00116</span> segundos.\n",
              "</pre>\n"
            ]
          },
          "metadata": {}
        },
        {
          "output_type": "display_data",
          "data": {
            "text/plain": [
              "\n",
              "RMSE: \u001b[1;36m3349726.2813777477\u001b[0m\n"
            ],
            "text/html": [
              "<pre style=\"white-space:pre;overflow-x:auto;line-height:normal;font-family:Menlo,'DejaVu Sans Mono',consolas,'Courier New',monospace\">\n",
              "RMSE: <span style=\"color: #008080; text-decoration-color: #008080; font-weight: bold\">3349726.2813777477</span>\n",
              "</pre>\n"
            ]
          },
          "metadata": {}
        },
        {
          "output_type": "display_data",
          "data": {
            "text/plain": [
              "MAE: \u001b[1;36m2417221.600297992\u001b[0m\n",
              "\n"
            ],
            "text/html": [
              "<pre style=\"white-space:pre;overflow-x:auto;line-height:normal;font-family:Menlo,'DejaVu Sans Mono',consolas,'Courier New',monospace\">MAE: <span style=\"color: #008080; text-decoration-color: #008080; font-weight: bold\">2417221.600297992</span>\n",
              "\n",
              "</pre>\n"
            ]
          },
          "metadata": {}
        },
        {
          "output_type": "display_data",
          "data": {
            "text/plain": [
              "\u001b[33mRandomized Search\u001b[0m\n",
              "\n"
            ],
            "text/html": [
              "<pre style=\"white-space:pre;overflow-x:auto;line-height:normal;font-family:Menlo,'DejaVu Sans Mono',consolas,'Courier New',monospace\"><span style=\"color: #808000; text-decoration-color: #808000\">Randomized Search</span>\n",
              "\n",
              "</pre>\n"
            ]
          },
          "metadata": {}
        },
        {
          "output_type": "stream",
          "name": "stdout",
          "text": [
            "Fitting 1 folds for each of 100 candidates, totalling 100 fits\n"
          ]
        },
        {
          "output_type": "display_data",
          "data": {
            "text/plain": [
              "\n",
              "Tiempo búsqueda hiperparámetros \u001b[1m(\u001b[0mRandomized Search\u001b[1m)\u001b[0m: \u001b[1;36m13.29219\u001b[0m segundos.\n"
            ],
            "text/html": [
              "<pre style=\"white-space:pre;overflow-x:auto;line-height:normal;font-family:Menlo,'DejaVu Sans Mono',consolas,'Courier New',monospace\">\n",
              "Tiempo búsqueda hiperparámetros <span style=\"font-weight: bold\">(</span>Randomized Search<span style=\"font-weight: bold\">)</span>: <span style=\"color: #008080; text-decoration-color: #008080; font-weight: bold\">13.29219</span> segundos.\n",
              "</pre>\n"
            ]
          },
          "metadata": {}
        },
        {
          "output_type": "display_data",
          "data": {
            "text/plain": [
              "\n",
              "Mejores hiperparámetros: \u001b[1m{\u001b[0m\u001b[32m'weights'\u001b[0m: \u001b[32m'distance'\u001b[0m, \u001b[32m'p'\u001b[0m: \u001b[1;36m1\u001b[0m, \u001b[32m'n_neighbors'\u001b[0m: \u001b[1;36m15\u001b[0m, \u001b[32m'metric'\u001b[0m: \u001b[32m'manhattan'\u001b[0m, \u001b[32m'leaf_size'\u001b[0m: \u001b[1;36m1\u001b[0m\u001b[1m}\u001b[0m\n"
            ],
            "text/html": [
              "<pre style=\"white-space:pre;overflow-x:auto;line-height:normal;font-family:Menlo,'DejaVu Sans Mono',consolas,'Courier New',monospace\">\n",
              "Mejores hiperparámetros: <span style=\"font-weight: bold\">{</span><span style=\"color: #008000; text-decoration-color: #008000\">'weights'</span>: <span style=\"color: #008000; text-decoration-color: #008000\">'distance'</span>, <span style=\"color: #008000; text-decoration-color: #008000\">'p'</span>: <span style=\"color: #008080; text-decoration-color: #008080; font-weight: bold\">1</span>, <span style=\"color: #008000; text-decoration-color: #008000\">'n_neighbors'</span>: <span style=\"color: #008080; text-decoration-color: #008080; font-weight: bold\">15</span>, <span style=\"color: #008000; text-decoration-color: #008000\">'metric'</span>: <span style=\"color: #008000; text-decoration-color: #008000\">'manhattan'</span>, <span style=\"color: #008000; text-decoration-color: #008000\">'leaf_size'</span>: <span style=\"color: #008080; text-decoration-color: #008080; font-weight: bold\">1</span><span style=\"font-weight: bold\">}</span>\n",
              "</pre>\n"
            ]
          },
          "metadata": {}
        },
        {
          "output_type": "display_data",
          "data": {
            "text/plain": [
              "\n",
              "Tiempo de entrenamiento \u001b[1m(\u001b[0mHiperparámetros ajustados\u001b[1m)\u001b[0m: \u001b[1;36m0.00237\u001b[0m segundos.\n"
            ],
            "text/html": [
              "<pre style=\"white-space:pre;overflow-x:auto;line-height:normal;font-family:Menlo,'DejaVu Sans Mono',consolas,'Courier New',monospace\">\n",
              "Tiempo de entrenamiento <span style=\"font-weight: bold\">(</span>Hiperparámetros ajustados<span style=\"font-weight: bold\">)</span>: <span style=\"color: #008080; text-decoration-color: #008080; font-weight: bold\">0.00237</span> segundos.\n",
              "</pre>\n"
            ]
          },
          "metadata": {}
        },
        {
          "output_type": "display_data",
          "data": {
            "text/plain": [
              "\n",
              "RMSE: \u001b[1;36m3201786.090578021\u001b[0m\n"
            ],
            "text/html": [
              "<pre style=\"white-space:pre;overflow-x:auto;line-height:normal;font-family:Menlo,'DejaVu Sans Mono',consolas,'Courier New',monospace\">\n",
              "RMSE: <span style=\"color: #008080; text-decoration-color: #008080; font-weight: bold\">3201786.090578021</span>\n",
              "</pre>\n"
            ]
          },
          "metadata": {}
        },
        {
          "output_type": "display_data",
          "data": {
            "text/plain": [
              "MAE: \u001b[1;36m2328954.693791461\u001b[0m\n"
            ],
            "text/html": [
              "<pre style=\"white-space:pre;overflow-x:auto;line-height:normal;font-family:Menlo,'DejaVu Sans Mono',consolas,'Courier New',monospace\">MAE: <span style=\"color: #008080; text-decoration-color: #008080; font-weight: bold\">2328954.693791461</span>\n",
              "</pre>\n"
            ]
          },
          "metadata": {}
        }
      ]
    },
    {
      "cell_type": "markdown",
      "source": [
        "### **Árboles de regresión**"
      ],
      "metadata": {
        "id": "ppDE4xq_uSOh"
      }
    },
    {
      "cell_type": "code",
      "source": [
        "print('\\n[bold blue]Árbol de decisión\\n------------------[/bold blue]')\n",
        "\n",
        "print('\\n[yellow]Grid Search[/yellow]\\n')\n",
        "\n",
        "# Usaremos grid search para encontrar los mejores hiperparámetros haciendo antes predefined split.\n",
        "\n",
        "# Definimos el diccionario de los valores de los hiperparámetros que queremos probar.\n",
        "param_grid = {\n",
        "    'max_depth': [1, 2, 5, 8, 10, 15, 20, 40],\n",
        "    'min_samples_split': [2, 3, 4, 5, 6, 7, 8, 9, 10],\n",
        "    'min_samples_leaf': [1, 2, 5, 8, 10, 15, 20, 40],\n",
        "}\n",
        "\n",
        "# Definimos el modelo.\n",
        "model = DecisionTreeRegressor()\n",
        "\n",
        "# Definimos el grid search.\n",
        "grid = GridSearchCV(estimator=model,\n",
        "                    param_grid=param_grid,\n",
        "                    cv=ps,\n",
        "                    scoring='neg_mean_absolute_error',\n",
        "                    verbose=1,\n",
        "                    n_jobs=-1)\n",
        "\n",
        "# Entrenamos el grid search.\n",
        "start = time.time()\n",
        "grid_result = grid.fit(X_train, y_train)\n",
        "end = time.time()\n",
        "time_tree_gs = end - start\n",
        "print(f'\\nTiempo búsqueda hiperparámetros (Grid Search): {time_tree_gs:.5f} segundos.')\n",
        "\n",
        "# Mejores hiperparámetros.\n",
        "print(f'\\nMejores hiperparámetros: {grid_result.best_params_}')\n",
        "\n",
        "# Definir modelo Árbol de Regresión con los mejores hiperparámetros\n",
        "model = DecisionTreeRegressor(max_depth=grid_result.best_params_['max_depth'],\n",
        "                              min_samples_split=grid_result.best_params_['min_samples_split'],\n",
        "                              min_samples_leaf=grid_result.best_params_['min_samples_leaf'])\n",
        "\n",
        "# Entrenamos modelo con datos de entrenamiento.\n",
        "start = time.time()\n",
        "model.fit(X_train_train, y_train_train)\n",
        "end = time.time()\n",
        "time_tree_gs_a = end - start\n",
        "print(f'\\nTiempo de entrenamiento (Hiperparámetros ajustados): {time_tree_gs_a:.5f} segundos.')\n",
        "\n",
        "# Hacer predicciones en los datos de validación.\n",
        "y_pred = model.predict(X_train_validation)\n",
        "\n",
        "# Calcular el error cuadrático medio en la escala original.\n",
        "rmse_tree_gs_a = rmse(y_train_validation, y_pred)\n",
        "print(f'\\nRMSE: {rmse_tree_gs_a}')\n",
        "\n",
        "# Calcular el error absoluto medio en la escala original.\n",
        "mae_tree_gs_a = mae(y_train_validation, y_pred)\n",
        "print(f'MAE: {mae_tree_gs_a}\\n')\n",
        "\n",
        "\n",
        "# Ahora, usaremos randomized search para comparar resultados con grid search.\n",
        "print('[yellow]Randomized Search[/yellow]\\n')\n",
        "\n",
        "# Definimos el diccionario de los valores de los hiperparámetros que queremos probar (más combinaciones).\n",
        "param_grid = {\n",
        "    'max_depth': [1, 2, 3, 4, 5, 6, 7, 8, 9, 10, 15, 20, 25, 30, 35, 40, 45, 50, 55, 60, 65, 70, 75, 80, 85, 90, 95, 100],\n",
        "    'min_samples_split': [2, 3, 4, 5, 6, 7, 8, 9, 10, 15, 20, 25, 30, 35, 40, 45, 50],\n",
        "    'min_samples_leaf': [1, 2, 3, 4, 5, 6, 7, 8, 9, 10, 15, 20, 25, 30, 35, 40, 45, 50],\n",
        "}\n",
        "\n",
        "# Ahora, usaremos random search para comparar resultados con grid search.\n",
        "r_search = RandomizedSearchCV(estimator=model,\n",
        "                              param_distributions=param_grid,\n",
        "                              cv=ps,\n",
        "                              scoring='neg_mean_absolute_error',\n",
        "                              verbose=1,\n",
        "                              n_jobs=-1,\n",
        "                              n_iter=100)\n",
        "\n",
        "# Entrenamos el grid search.\n",
        "start = time.time()\n",
        "r_search_result = r_search.fit(X_train, y_train)\n",
        "end = time.time()\n",
        "time_tree_rs = end - start\n",
        "print(f'\\nTiempo búsqueda hiperparámetros (Randomized Search): {time_tree_rs:.5f} segundos.')\n",
        "\n",
        "# Mejores hiperparámetros.\n",
        "print(f'\\nMejores hiperparámetros: {r_search_result.best_params_}')\n",
        "\n",
        "# Definir modelo Árbol de Regresión con los mejores hiperparámetros\n",
        "model = DecisionTreeRegressor(max_depth=r_search_result.best_params_['max_depth'],\n",
        "                              min_samples_split=r_search_result.best_params_['min_samples_split'],\n",
        "                              min_samples_leaf=r_search_result.best_params_['min_samples_leaf'])\n",
        "\n",
        "# Entrenamos modelo con datos de entrenamiento.\n",
        "start = time.time()\n",
        "model.fit(X_train_train, y_train_train)\n",
        "end = time.time()\n",
        "time_tree_rs_a = end - start\n",
        "print(f'\\nTiempo de entrenamiento (Hiperparámetros ajustados): {time_tree_rs_a:.5f} segundos.')\n",
        "\n",
        "# Hacer predicciones en los datos de validación.\n",
        "y_pred = model.predict(X_train_validation)\n",
        "\n",
        "# Calcular el error cuadrático medio en la escala original.\n",
        "rmse_tree_rs_a = rmse(y_train_validation, y_pred)\n",
        "print(f'\\nRMSE: {rmse_tree_rs_a}')\n",
        "\n",
        "# Calcular el error absoluto medio en la escala original.\n",
        "mae_tree_rs_a = mae(y_train_validation, y_pred)\n",
        "print(f'MAE: {mae_tree_rs_a}\\n')\n",
        "\n",
        "\n",
        "# Seleccionamos los menore errores (entre grid search y randomized search).\n",
        "mae_tree_a = min(mae_tree_gs_a, mae_tree_rs_a)\n",
        "\n",
        "if mae_tree_a == mae_tree_gs_a:\n",
        "    rmse_tree_a = rmse_tree_gs_a\n",
        "else:\n",
        "    rmse_tree_a = rmse_tree_rs_a\n"
      ],
      "metadata": {
        "colab": {
          "base_uri": "https://localhost:8080/",
          "height": 340
        },
        "id": "J8Rs6XXMd9cM",
        "outputId": "e0af03f3-bc6f-47e1-9085-e826361ec2b3"
      },
      "execution_count": 40,
      "outputs": [
        {
          "output_type": "display_data",
          "data": {
            "text/plain": [
              "\n",
              "\u001b[1;34mÁrbol de decisión\u001b[0m\n",
              "\u001b[1;34m------------------\u001b[0m\n"
            ],
            "text/html": [
              "<pre style=\"white-space:pre;overflow-x:auto;line-height:normal;font-family:Menlo,'DejaVu Sans Mono',consolas,'Courier New',monospace\">\n",
              "<span style=\"color: #000080; text-decoration-color: #000080; font-weight: bold\">Árbol de decisión</span>\n",
              "<span style=\"color: #000080; text-decoration-color: #000080; font-weight: bold\">------------------</span>\n",
              "</pre>\n"
            ]
          },
          "metadata": {}
        },
        {
          "output_type": "display_data",
          "data": {
            "text/plain": [
              "\n",
              "\u001b[33mGrid Search\u001b[0m\n",
              "\n"
            ],
            "text/html": [
              "<pre style=\"white-space:pre;overflow-x:auto;line-height:normal;font-family:Menlo,'DejaVu Sans Mono',consolas,'Courier New',monospace\">\n",
              "<span style=\"color: #808000; text-decoration-color: #808000\">Grid Search</span>\n",
              "\n",
              "</pre>\n"
            ]
          },
          "metadata": {}
        },
        {
          "output_type": "stream",
          "name": "stdout",
          "text": [
            "Fitting 1 folds for each of 576 candidates, totalling 576 fits\n"
          ]
        },
        {
          "output_type": "display_data",
          "data": {
            "text/plain": [
              "\n",
              "Tiempo búsqueda hiperparámetros \u001b[1m(\u001b[0mGrid Search\u001b[1m)\u001b[0m: \u001b[1;36m56.41862\u001b[0m segundos.\n"
            ],
            "text/html": [
              "<pre style=\"white-space:pre;overflow-x:auto;line-height:normal;font-family:Menlo,'DejaVu Sans Mono',consolas,'Courier New',monospace\">\n",
              "Tiempo búsqueda hiperparámetros <span style=\"font-weight: bold\">(</span>Grid Search<span style=\"font-weight: bold\">)</span>: <span style=\"color: #008080; text-decoration-color: #008080; font-weight: bold\">56.41862</span> segundos.\n",
              "</pre>\n"
            ]
          },
          "metadata": {}
        },
        {
          "output_type": "display_data",
          "data": {
            "text/plain": [
              "\n",
              "Mejores hiperparámetros: \u001b[1m{\u001b[0m\u001b[32m'max_depth'\u001b[0m: \u001b[1;36m8\u001b[0m, \u001b[32m'min_samples_leaf'\u001b[0m: \u001b[1;36m20\u001b[0m, \u001b[32m'min_samples_split'\u001b[0m: \u001b[1;36m6\u001b[0m\u001b[1m}\u001b[0m\n"
            ],
            "text/html": [
              "<pre style=\"white-space:pre;overflow-x:auto;line-height:normal;font-family:Menlo,'DejaVu Sans Mono',consolas,'Courier New',monospace\">\n",
              "Mejores hiperparámetros: <span style=\"font-weight: bold\">{</span><span style=\"color: #008000; text-decoration-color: #008000\">'max_depth'</span>: <span style=\"color: #008080; text-decoration-color: #008080; font-weight: bold\">8</span>, <span style=\"color: #008000; text-decoration-color: #008000\">'min_samples_leaf'</span>: <span style=\"color: #008080; text-decoration-color: #008080; font-weight: bold\">20</span>, <span style=\"color: #008000; text-decoration-color: #008000\">'min_samples_split'</span>: <span style=\"color: #008080; text-decoration-color: #008080; font-weight: bold\">6</span><span style=\"font-weight: bold\">}</span>\n",
              "</pre>\n"
            ]
          },
          "metadata": {}
        },
        {
          "output_type": "display_data",
          "data": {
            "text/plain": [
              "\n",
              "Tiempo de entrenamiento \u001b[1m(\u001b[0mHiperparámetros ajustados\u001b[1m)\u001b[0m: \u001b[1;36m0.12502\u001b[0m segundos.\n"
            ],
            "text/html": [
              "<pre style=\"white-space:pre;overflow-x:auto;line-height:normal;font-family:Menlo,'DejaVu Sans Mono',consolas,'Courier New',monospace\">\n",
              "Tiempo de entrenamiento <span style=\"font-weight: bold\">(</span>Hiperparámetros ajustados<span style=\"font-weight: bold\">)</span>: <span style=\"color: #008080; text-decoration-color: #008080; font-weight: bold\">0.12502</span> segundos.\n",
              "</pre>\n"
            ]
          },
          "metadata": {}
        },
        {
          "output_type": "display_data",
          "data": {
            "text/plain": [
              "\n",
              "RMSE: \u001b[1;36m3422340.28546764\u001b[0m\n"
            ],
            "text/html": [
              "<pre style=\"white-space:pre;overflow-x:auto;line-height:normal;font-family:Menlo,'DejaVu Sans Mono',consolas,'Courier New',monospace\">\n",
              "RMSE: <span style=\"color: #008080; text-decoration-color: #008080; font-weight: bold\">3422340.28546764</span>\n",
              "</pre>\n"
            ]
          },
          "metadata": {}
        },
        {
          "output_type": "display_data",
          "data": {
            "text/plain": [
              "MAE: \u001b[1;36m2470632.610462104\u001b[0m\n",
              "\n"
            ],
            "text/html": [
              "<pre style=\"white-space:pre;overflow-x:auto;line-height:normal;font-family:Menlo,'DejaVu Sans Mono',consolas,'Courier New',monospace\">MAE: <span style=\"color: #008080; text-decoration-color: #008080; font-weight: bold\">2470632.610462104</span>\n",
              "\n",
              "</pre>\n"
            ]
          },
          "metadata": {}
        },
        {
          "output_type": "display_data",
          "data": {
            "text/plain": [
              "\u001b[33mRandomized Search\u001b[0m\n",
              "\n"
            ],
            "text/html": [
              "<pre style=\"white-space:pre;overflow-x:auto;line-height:normal;font-family:Menlo,'DejaVu Sans Mono',consolas,'Courier New',monospace\"><span style=\"color: #808000; text-decoration-color: #808000\">Randomized Search</span>\n",
              "\n",
              "</pre>\n"
            ]
          },
          "metadata": {}
        },
        {
          "output_type": "stream",
          "name": "stdout",
          "text": [
            "Fitting 1 folds for each of 100 candidates, totalling 100 fits\n"
          ]
        },
        {
          "output_type": "display_data",
          "data": {
            "text/plain": [
              "\n",
              "Tiempo búsqueda hiperparámetros \u001b[1m(\u001b[0mRandomized Search\u001b[1m)\u001b[0m: \u001b[1;36m10.65134\u001b[0m segundos.\n"
            ],
            "text/html": [
              "<pre style=\"white-space:pre;overflow-x:auto;line-height:normal;font-family:Menlo,'DejaVu Sans Mono',consolas,'Courier New',monospace\">\n",
              "Tiempo búsqueda hiperparámetros <span style=\"font-weight: bold\">(</span>Randomized Search<span style=\"font-weight: bold\">)</span>: <span style=\"color: #008080; text-decoration-color: #008080; font-weight: bold\">10.65134</span> segundos.\n",
              "</pre>\n"
            ]
          },
          "metadata": {}
        },
        {
          "output_type": "display_data",
          "data": {
            "text/plain": [
              "\n",
              "Mejores hiperparámetros: \u001b[1m{\u001b[0m\u001b[32m'min_samples_split'\u001b[0m: \u001b[1;36m45\u001b[0m, \u001b[32m'min_samples_leaf'\u001b[0m: \u001b[1;36m30\u001b[0m, \u001b[32m'max_depth'\u001b[0m: \u001b[1;36m6\u001b[0m\u001b[1m}\u001b[0m\n"
            ],
            "text/html": [
              "<pre style=\"white-space:pre;overflow-x:auto;line-height:normal;font-family:Menlo,'DejaVu Sans Mono',consolas,'Courier New',monospace\">\n",
              "Mejores hiperparámetros: <span style=\"font-weight: bold\">{</span><span style=\"color: #008000; text-decoration-color: #008000\">'min_samples_split'</span>: <span style=\"color: #008080; text-decoration-color: #008080; font-weight: bold\">45</span>, <span style=\"color: #008000; text-decoration-color: #008000\">'min_samples_leaf'</span>: <span style=\"color: #008080; text-decoration-color: #008080; font-weight: bold\">30</span>, <span style=\"color: #008000; text-decoration-color: #008000\">'max_depth'</span>: <span style=\"color: #008080; text-decoration-color: #008080; font-weight: bold\">6</span><span style=\"font-weight: bold\">}</span>\n",
              "</pre>\n"
            ]
          },
          "metadata": {}
        },
        {
          "output_type": "display_data",
          "data": {
            "text/plain": [
              "\n",
              "Tiempo de entrenamiento \u001b[1m(\u001b[0mHiperparámetros ajustados\u001b[1m)\u001b[0m: \u001b[1;36m0.11252\u001b[0m segundos.\n"
            ],
            "text/html": [
              "<pre style=\"white-space:pre;overflow-x:auto;line-height:normal;font-family:Menlo,'DejaVu Sans Mono',consolas,'Courier New',monospace\">\n",
              "Tiempo de entrenamiento <span style=\"font-weight: bold\">(</span>Hiperparámetros ajustados<span style=\"font-weight: bold\">)</span>: <span style=\"color: #008080; text-decoration-color: #008080; font-weight: bold\">0.11252</span> segundos.\n",
              "</pre>\n"
            ]
          },
          "metadata": {}
        },
        {
          "output_type": "display_data",
          "data": {
            "text/plain": [
              "\n",
              "RMSE: \u001b[1;36m3481927.0752000273\u001b[0m\n"
            ],
            "text/html": [
              "<pre style=\"white-space:pre;overflow-x:auto;line-height:normal;font-family:Menlo,'DejaVu Sans Mono',consolas,'Courier New',monospace\">\n",
              "RMSE: <span style=\"color: #008080; text-decoration-color: #008080; font-weight: bold\">3481927.0752000273</span>\n",
              "</pre>\n"
            ]
          },
          "metadata": {}
        },
        {
          "output_type": "display_data",
          "data": {
            "text/plain": [
              "MAE: \u001b[1;36m2517083.33107137\u001b[0m\n",
              "\n"
            ],
            "text/html": [
              "<pre style=\"white-space:pre;overflow-x:auto;line-height:normal;font-family:Menlo,'DejaVu Sans Mono',consolas,'Courier New',monospace\">MAE: <span style=\"color: #008080; text-decoration-color: #008080; font-weight: bold\">2517083.33107137</span>\n",
              "\n",
              "</pre>\n"
            ]
          },
          "metadata": {}
        }
      ]
    },
    {
      "cell_type": "markdown",
      "source": [
        "### **Regresión lineal**"
      ],
      "metadata": {
        "id": "KQ7KmWRGuSSs"
      }
    },
    {
      "cell_type": "code",
      "source": [
        "print('\\n[bold blue]Regresión lineal\\n------------------[/bold blue]')\n",
        "\n",
        "print('\\n[yellow]Grid Search[/yellow]\\n')\n",
        "\n",
        "# Usaremos grid search para encontrar los mejores hiperparámetros haciendo antes predefined split.\n",
        "\n",
        "# Definimos el diccionario de los valores de los hiperparámetros que queremos probar.\n",
        "param_grid = {\n",
        "    'fit_intercept':  [True, False],\n",
        "    'positive': [True, False],\n",
        "}\n",
        "\n",
        "# Definimos el modelo.\n",
        "model = LinearRegression()\n",
        "\n",
        "# Definir la estrategia de validación cruzada\n",
        "#cv = TimeSeriesSplit(n_splits=3)\n",
        "\n",
        "# Definimos el grid search.\n",
        "grid = GridSearchCV(estimator=model,\n",
        "                    param_grid=param_grid,\n",
        "                    cv=ps,\n",
        "                    scoring='neg_mean_absolute_error',\n",
        "                    verbose=1,\n",
        "                    n_jobs=-1)\n",
        "\n",
        "# Entrenamos el grid search.\n",
        "start = time.time()\n",
        "grid_result = grid.fit(X_train_n, y_train_n)\n",
        "end = time.time()\n",
        "time_linear_gs = end - start\n",
        "print(f'\\nTiempo búsqueda hiperparámetros (Grid Search): {time_linear_gs:.5f} segundos.')\n",
        "\n",
        "# Mejores hiperparámetros.\n",
        "print(f'\\nMejores hiperparámetros: {grid_result.best_params_}')\n",
        "\n",
        "# Definir modelo Regresión Linear con los mejores hiperparámetros\n",
        "model = LinearRegression(fit_intercept=grid_result.best_params_['fit_intercept'],\n",
        "                         positive=grid_result.best_params_['positive'])\n",
        "\n",
        "# Entrenamos modelo con datos de entrenamiento normalizados.\n",
        "start = time.time()\n",
        "model.fit(X_train_train_n, y_train_train_n)\n",
        "end = time.time()\n",
        "time_linear_gs_a = end - start\n",
        "print(f'\\nTiempo de entrenamiento (Hiperparámetros ajustados): {time_linear_gs_a:.5f} segundos.')\n",
        "\n",
        "# Hacer predicciones en los datos de validación normalizados.\n",
        "y_pred_n = model.predict(X_train_validation_n)\n",
        "\n",
        "# Desnormalizar las predicciones.\n",
        "y_pred = scaler.inverse_transform(y_pred_n)\n",
        "\n",
        "# Calcular el error cuadrático medio en la escala original.\n",
        "rmse_linear_gs_a = rmse(y_train_validation, y_pred)\n",
        "print(f'\\nRMSE: {rmse_linear_gs_a}')\n",
        "\n",
        "# Calcular el error absoluto medio en la escala original.\n",
        "mae_linear_gs_a = mae(y_train_validation, y_pred)\n",
        "print(f'MAE: {mae_linear_gs_a}\\n')\n",
        "\n",
        "\n",
        "# Ahora, usaremos random search para comparar resultados con grid search.\n",
        "print('[yellow]Randomized Search[/yellow]\\n')\n",
        "\n",
        "# -Usaremos el mismo diccionario de hiperparámetros que en grid search.\n",
        "\n",
        "r_search = RandomizedSearchCV(estimator=model,\n",
        "                              param_distributions=param_grid,\n",
        "                              cv=ps,\n",
        "                              scoring='neg_mean_absolute_error',\n",
        "                              verbose=1,\n",
        "                              n_jobs=-1,\n",
        "                              n_iter=4)\n",
        "\n",
        "# Entrenamos el grid search.\n",
        "start = time.time()\n",
        "r_search_result = r_search.fit(X_train_n, y_train_n)\n",
        "end = time.time()\n",
        "time_linear_rs = end - start\n",
        "print(f'\\nTiempo búsqueda hiperparámetros (Randomized Search): {time_linear_rs:.5f} segundos.')\n",
        "\n",
        "# Mejores hiperparámetros.\n",
        "print(f'\\nMejores hiperparámetros: {r_search_result.best_params_}')\n",
        "\n",
        "# Definir modelo Regresión Linear con los mejores hiperparámetros\n",
        "model = LinearRegression(fit_intercept=r_search_result.best_params_['fit_intercept'],\n",
        "                         positive=r_search_result.best_params_['positive'])\n",
        "\n",
        "# Entrenamos modelo con datos de entrenamiento normalizados.\n",
        "start = time.time()\n",
        "model.fit(X_train_train_n, y_train_train_n)\n",
        "end = time.time()\n",
        "time_linear_rs_a = end - start\n",
        "print(f'\\nTiempo de entrenamiento (Hiperparámetros ajustados): {time_linear_rs_a:.5f} segundos.')\n",
        "\n",
        "# Hacer predicciones en los datos de validación normalizados.\n",
        "y_pred_n = model.predict(X_train_validation_n)\n",
        "\n",
        "# Desnormalizar las predicciones.\n",
        "y_pred = scaler.inverse_transform(y_pred_n)\n",
        "\n",
        "# Calcular el error cuadrático medio en la escala original.\n",
        "rmse_linear_rs_a = rmse(y_train_validation, y_pred)\n",
        "print(f'\\nRMSE: {rmse_linear_rs_a}')\n",
        "\n",
        "# Calcular el error absoluto medio en la escala original.\n",
        "mae_linear_rs_a = mae(y_train_validation, y_pred)\n",
        "print(f'MAE: {mae_linear_rs_a}\\n')\n",
        "\n",
        "\n",
        "# Seleccionamos los menore errores (entre grid search y randomized search).\n",
        "mae_linear_a = min(mae_linear_gs_a, mae_linear_rs_a)\n",
        "\n",
        "if mae_linear_a == mae_linear_gs_a:\n",
        "    rsme_linear_a = rmse_linear_gs_a\n",
        "else:\n",
        "    rsme_linear_a = rmse_linear_rs_a\n"
      ],
      "metadata": {
        "colab": {
          "base_uri": "https://localhost:8080/",
          "height": 340
        },
        "id": "Sd_ZrJEGeH4Z",
        "outputId": "27449f28-470a-4a94-e864-d302324d85ad"
      },
      "execution_count": 41,
      "outputs": [
        {
          "output_type": "display_data",
          "data": {
            "text/plain": [
              "\n",
              "\u001b[1;34mRegresión lineal\u001b[0m\n",
              "\u001b[1;34m------------------\u001b[0m\n"
            ],
            "text/html": [
              "<pre style=\"white-space:pre;overflow-x:auto;line-height:normal;font-family:Menlo,'DejaVu Sans Mono',consolas,'Courier New',monospace\">\n",
              "<span style=\"color: #000080; text-decoration-color: #000080; font-weight: bold\">Regresión lineal</span>\n",
              "<span style=\"color: #000080; text-decoration-color: #000080; font-weight: bold\">------------------</span>\n",
              "</pre>\n"
            ]
          },
          "metadata": {}
        },
        {
          "output_type": "display_data",
          "data": {
            "text/plain": [
              "\n",
              "\u001b[33mGrid Search\u001b[0m\n",
              "\n"
            ],
            "text/html": [
              "<pre style=\"white-space:pre;overflow-x:auto;line-height:normal;font-family:Menlo,'DejaVu Sans Mono',consolas,'Courier New',monospace\">\n",
              "<span style=\"color: #808000; text-decoration-color: #808000\">Grid Search</span>\n",
              "\n",
              "</pre>\n"
            ]
          },
          "metadata": {}
        },
        {
          "output_type": "stream",
          "name": "stdout",
          "text": [
            "Fitting 1 folds for each of 4 candidates, totalling 4 fits\n"
          ]
        },
        {
          "output_type": "display_data",
          "data": {
            "text/plain": [
              "\n",
              "Tiempo búsqueda hiperparámetros \u001b[1m(\u001b[0mGrid Search\u001b[1m)\u001b[0m: \u001b[1;36m0.18786\u001b[0m segundos.\n"
            ],
            "text/html": [
              "<pre style=\"white-space:pre;overflow-x:auto;line-height:normal;font-family:Menlo,'DejaVu Sans Mono',consolas,'Courier New',monospace\">\n",
              "Tiempo búsqueda hiperparámetros <span style=\"font-weight: bold\">(</span>Grid Search<span style=\"font-weight: bold\">)</span>: <span style=\"color: #008080; text-decoration-color: #008080; font-weight: bold\">0.18786</span> segundos.\n",
              "</pre>\n"
            ]
          },
          "metadata": {}
        },
        {
          "output_type": "display_data",
          "data": {
            "text/plain": [
              "\n",
              "Mejores hiperparámetros: \u001b[1m{\u001b[0m\u001b[32m'fit_intercept'\u001b[0m: \u001b[3;92mTrue\u001b[0m, \u001b[32m'positive'\u001b[0m: \u001b[3;91mFalse\u001b[0m\u001b[1m}\u001b[0m\n"
            ],
            "text/html": [
              "<pre style=\"white-space:pre;overflow-x:auto;line-height:normal;font-family:Menlo,'DejaVu Sans Mono',consolas,'Courier New',monospace\">\n",
              "Mejores hiperparámetros: <span style=\"font-weight: bold\">{</span><span style=\"color: #008000; text-decoration-color: #008000\">'fit_intercept'</span>: <span style=\"color: #00ff00; text-decoration-color: #00ff00; font-style: italic\">True</span>, <span style=\"color: #008000; text-decoration-color: #008000\">'positive'</span>: <span style=\"color: #ff0000; text-decoration-color: #ff0000; font-style: italic\">False</span><span style=\"font-weight: bold\">}</span>\n",
              "</pre>\n"
            ]
          },
          "metadata": {}
        },
        {
          "output_type": "display_data",
          "data": {
            "text/plain": [
              "\n",
              "Tiempo de entrenamiento \u001b[1m(\u001b[0mHiperparámetros ajustados\u001b[1m)\u001b[0m: \u001b[1;36m0.03293\u001b[0m segundos.\n"
            ],
            "text/html": [
              "<pre style=\"white-space:pre;overflow-x:auto;line-height:normal;font-family:Menlo,'DejaVu Sans Mono',consolas,'Courier New',monospace\">\n",
              "Tiempo de entrenamiento <span style=\"font-weight: bold\">(</span>Hiperparámetros ajustados<span style=\"font-weight: bold\">)</span>: <span style=\"color: #008080; text-decoration-color: #008080; font-weight: bold\">0.03293</span> segundos.\n",
              "</pre>\n"
            ]
          },
          "metadata": {}
        },
        {
          "output_type": "display_data",
          "data": {
            "text/plain": [
              "\n",
              "RMSE: \u001b[1;36m2914992.7582885786\u001b[0m\n"
            ],
            "text/html": [
              "<pre style=\"white-space:pre;overflow-x:auto;line-height:normal;font-family:Menlo,'DejaVu Sans Mono',consolas,'Courier New',monospace\">\n",
              "RMSE: <span style=\"color: #008080; text-decoration-color: #008080; font-weight: bold\">2914992.7582885786</span>\n",
              "</pre>\n"
            ]
          },
          "metadata": {}
        },
        {
          "output_type": "display_data",
          "data": {
            "text/plain": [
              "MAE: \u001b[1;36m2143275.4134048363\u001b[0m\n",
              "\n"
            ],
            "text/html": [
              "<pre style=\"white-space:pre;overflow-x:auto;line-height:normal;font-family:Menlo,'DejaVu Sans Mono',consolas,'Courier New',monospace\">MAE: <span style=\"color: #008080; text-decoration-color: #008080; font-weight: bold\">2143275.4134048363</span>\n",
              "\n",
              "</pre>\n"
            ]
          },
          "metadata": {}
        },
        {
          "output_type": "display_data",
          "data": {
            "text/plain": [
              "\u001b[33mRandomized Search\u001b[0m\n",
              "\n"
            ],
            "text/html": [
              "<pre style=\"white-space:pre;overflow-x:auto;line-height:normal;font-family:Menlo,'DejaVu Sans Mono',consolas,'Courier New',monospace\"><span style=\"color: #808000; text-decoration-color: #808000\">Randomized Search</span>\n",
              "\n",
              "</pre>\n"
            ]
          },
          "metadata": {}
        },
        {
          "output_type": "stream",
          "name": "stdout",
          "text": [
            "Fitting 1 folds for each of 4 candidates, totalling 4 fits\n"
          ]
        },
        {
          "output_type": "display_data",
          "data": {
            "text/plain": [
              "\n",
              "Tiempo búsqueda hiperparámetros \u001b[1m(\u001b[0mRandomized Search\u001b[1m)\u001b[0m: \u001b[1;36m0.23583\u001b[0m segundos.\n"
            ],
            "text/html": [
              "<pre style=\"white-space:pre;overflow-x:auto;line-height:normal;font-family:Menlo,'DejaVu Sans Mono',consolas,'Courier New',monospace\">\n",
              "Tiempo búsqueda hiperparámetros <span style=\"font-weight: bold\">(</span>Randomized Search<span style=\"font-weight: bold\">)</span>: <span style=\"color: #008080; text-decoration-color: #008080; font-weight: bold\">0.23583</span> segundos.\n",
              "</pre>\n"
            ]
          },
          "metadata": {}
        },
        {
          "output_type": "display_data",
          "data": {
            "text/plain": [
              "\n",
              "Mejores hiperparámetros: \u001b[1m{\u001b[0m\u001b[32m'positive'\u001b[0m: \u001b[3;91mFalse\u001b[0m, \u001b[32m'fit_intercept'\u001b[0m: \u001b[3;92mTrue\u001b[0m\u001b[1m}\u001b[0m\n"
            ],
            "text/html": [
              "<pre style=\"white-space:pre;overflow-x:auto;line-height:normal;font-family:Menlo,'DejaVu Sans Mono',consolas,'Courier New',monospace\">\n",
              "Mejores hiperparámetros: <span style=\"font-weight: bold\">{</span><span style=\"color: #008000; text-decoration-color: #008000\">'positive'</span>: <span style=\"color: #ff0000; text-decoration-color: #ff0000; font-style: italic\">False</span>, <span style=\"color: #008000; text-decoration-color: #008000\">'fit_intercept'</span>: <span style=\"color: #00ff00; text-decoration-color: #00ff00; font-style: italic\">True</span><span style=\"font-weight: bold\">}</span>\n",
              "</pre>\n"
            ]
          },
          "metadata": {}
        },
        {
          "output_type": "display_data",
          "data": {
            "text/plain": [
              "\n",
              "Tiempo de entrenamiento \u001b[1m(\u001b[0mHiperparámetros ajustados\u001b[1m)\u001b[0m: \u001b[1;36m0.03118\u001b[0m segundos.\n"
            ],
            "text/html": [
              "<pre style=\"white-space:pre;overflow-x:auto;line-height:normal;font-family:Menlo,'DejaVu Sans Mono',consolas,'Courier New',monospace\">\n",
              "Tiempo de entrenamiento <span style=\"font-weight: bold\">(</span>Hiperparámetros ajustados<span style=\"font-weight: bold\">)</span>: <span style=\"color: #008080; text-decoration-color: #008080; font-weight: bold\">0.03118</span> segundos.\n",
              "</pre>\n"
            ]
          },
          "metadata": {}
        },
        {
          "output_type": "display_data",
          "data": {
            "text/plain": [
              "\n",
              "RMSE: \u001b[1;36m2914992.7582885786\u001b[0m\n"
            ],
            "text/html": [
              "<pre style=\"white-space:pre;overflow-x:auto;line-height:normal;font-family:Menlo,'DejaVu Sans Mono',consolas,'Courier New',monospace\">\n",
              "RMSE: <span style=\"color: #008080; text-decoration-color: #008080; font-weight: bold\">2914992.7582885786</span>\n",
              "</pre>\n"
            ]
          },
          "metadata": {}
        },
        {
          "output_type": "display_data",
          "data": {
            "text/plain": [
              "MAE: \u001b[1;36m2143275.4134048363\u001b[0m\n",
              "\n"
            ],
            "text/html": [
              "<pre style=\"white-space:pre;overflow-x:auto;line-height:normal;font-family:Menlo,'DejaVu Sans Mono',consolas,'Courier New',monospace\">MAE: <span style=\"color: #008080; text-decoration-color: #008080; font-weight: bold\">2143275.4134048363</span>\n",
              "\n",
              "</pre>\n"
            ]
          },
          "metadata": {}
        }
      ]
    },
    {
      "cell_type": "markdown",
      "source": [
        "## **Comparativa de errores** "
      ],
      "metadata": {
        "id": "sPGJ8tZBTqM_"
      }
    },
    {
      "cell_type": "markdown",
      "source": [
        "En este apartado, comparamos los errores de los métodos básicos con los hiperparámetros por omisión y con los hiperparámetros ajustados."
      ],
      "metadata": {
        "id": "ym8J87VSjga9"
      }
    },
    {
      "cell_type": "code",
      "source": [
        "print('[bold red]' + '-' * 60 +'\\nComparación de modelos simples y resultados.\\n' + '-' * 60 + '[/bold red]')\n",
        "\n",
        "# KNN.\n",
        "print('\\n[bold green]KNN\\n----[/bold green]')\n",
        "\n",
        "print('MAE sin ajustar:', mae_knn)\n",
        "print('MAE ajustado:', mae_knn_a)\n",
        "print('MAE ratio KNN/knn_adjusted:', mae_knn/mae_knn_a)\n",
        "print(f'\\nMAE dummy (mean)/MAE KNN: {mae_knn_dm1/mae_knn_a}')\n",
        "print(f'MAE dummy (median)/MAE KNN: {mae_knn_dm2/mae_knn_a}')\n",
        "\n",
        "print('\\nRMSE sin ajustar:', rmse_knn)\n",
        "print('RMSE ajustado:', rmse_knn_a)\n",
        "print('RMSE ratio KNN/knn_adjusted:', rmse_knn/rmse_knn_a)\n",
        "print(f'\\nRMSE dummy (mean)/RMSE KNN: {rmse_knn_dm1/rmse_knn_a}')\n",
        "print(f'RMSE dummy (median)/RMSE KNN: {rmse_knn_dm2/rmse_knn_a}')\n",
        "\n",
        "\n",
        "# Arbol de decisión.\n",
        "print('\\n[bold green]Árbol de decisión\\n------------------[/bold green]')\n",
        "\n",
        "print('MAE sin ajustar:', mae_tree)\n",
        "print('MAE ajustado:', mae_tree_a)\n",
        "print('MAE ratio tree/tree_adjusted:', mae_tree/mae_tree_a)\n",
        "print(f'\\nMAE dummy (mean)/MAE tree: {mae_tree_dm1/mae_tree_a}')\n",
        "print(f'MAE dummy (median)/MAE tree: {mae_tree_dm2/mae_tree_a}')\n",
        "\n",
        "print('\\nRMSE sin ajustar:', rmse_tree)\n",
        "print('RMSE ajustado:', rmse_tree_a)\n",
        "print('RMSE ratio tree/tree_adjusted:', rmse_tree/rmse_tree_a)\n",
        "print(f'\\nRMSE dummy (mean)/RMSE tree: {rmse_tree_dm1/rmse_tree_a}')\n",
        "print(f'RMSE dummy (median)/RMSE tree: {rmse_tree_dm2/rmse_tree_a}')\n",
        "\n",
        "\n",
        "# Regresión lineal.\n",
        "print('\\n[bold green]Regresión lineal\\n------------------[/bold green]')\n",
        "\n",
        "print('MAE sin ajustar:', mae_linear)\n",
        "print('MAE ajustado:', mae_linear_a)\n",
        "print('MAE ratio linear/linear_adjusted:', mae_linear/mae_linear_a)\n",
        "print(f'\\nMAE dummy (mean)/MAE linear: {mae_linear_dm1/mae_linear_a}')\n",
        "print(f'MAE dummy (median)/MAE linear: {mae_linear_dm2/mae_linear_a}')\n",
        "\n",
        "print('\\nRMSE sin ajustar:', rmse_linear)\n",
        "print('RMSE ajustado:',rmse_linear_a)\n",
        "print('RMSE ratio linear/linear_adjusted:', rmse_linear/rmse_linear_a)\n",
        "print(f'\\nRMSE dummy (mean)/RMSE linear: {rmse_linear_dm1/rmse_linear_a}')\n",
        "print(f'RMSE dummy (median)/RMSE linear: {rmse_linear_dm2/rmse_linear_a}\\n')"
      ],
      "metadata": {
        "colab": {
          "base_uri": "https://localhost:8080/",
          "height": 657
        },
        "id": "xHtLuPQ5TvKe",
        "outputId": "0df6fabd-181c-49d5-f355-c638e0530d1c"
      },
      "execution_count": 42,
      "outputs": [
        {
          "output_type": "display_data",
          "data": {
            "text/plain": [
              "\u001b[1;31m------------------------------------------------------------\u001b[0m\n",
              "\u001b[1;31mComparación de modelos simples y resultados.\u001b[0m\n",
              "\u001b[1;31m------------------------------------------------------------\u001b[0m\n"
            ],
            "text/html": [
              "<pre style=\"white-space:pre;overflow-x:auto;line-height:normal;font-family:Menlo,'DejaVu Sans Mono',consolas,'Courier New',monospace\"><span style=\"color: #800000; text-decoration-color: #800000; font-weight: bold\">------------------------------------------------------------</span>\n",
              "<span style=\"color: #800000; text-decoration-color: #800000; font-weight: bold\">Comparación de modelos simples y resultados.</span>\n",
              "<span style=\"color: #800000; text-decoration-color: #800000; font-weight: bold\">------------------------------------------------------------</span>\n",
              "</pre>\n"
            ]
          },
          "metadata": {}
        },
        {
          "output_type": "display_data",
          "data": {
            "text/plain": [
              "\n",
              "\u001b[1;32mKNN\u001b[0m\n",
              "\u001b[1;32m----\u001b[0m\n"
            ],
            "text/html": [
              "<pre style=\"white-space:pre;overflow-x:auto;line-height:normal;font-family:Menlo,'DejaVu Sans Mono',consolas,'Courier New',monospace\">\n",
              "<span style=\"color: #008000; text-decoration-color: #008000; font-weight: bold\">KNN</span>\n",
              "<span style=\"color: #008000; text-decoration-color: #008000; font-weight: bold\">----</span>\n",
              "</pre>\n"
            ]
          },
          "metadata": {}
        },
        {
          "output_type": "display_data",
          "data": {
            "text/plain": [
              "MAE sin ajustar: \u001b[1;36m2478940.87890411\u001b[0m\n"
            ],
            "text/html": [
              "<pre style=\"white-space:pre;overflow-x:auto;line-height:normal;font-family:Menlo,'DejaVu Sans Mono',consolas,'Courier New',monospace\">MAE sin ajustar: <span style=\"color: #008080; text-decoration-color: #008080; font-weight: bold\">2478940.87890411</span>\n",
              "</pre>\n"
            ]
          },
          "metadata": {}
        },
        {
          "output_type": "display_data",
          "data": {
            "text/plain": [
              "MAE ajustado: \u001b[1;36m2328954.693791461\u001b[0m\n"
            ],
            "text/html": [
              "<pre style=\"white-space:pre;overflow-x:auto;line-height:normal;font-family:Menlo,'DejaVu Sans Mono',consolas,'Courier New',monospace\">MAE ajustado: <span style=\"color: #008080; text-decoration-color: #008080; font-weight: bold\">2328954.693791461</span>\n",
              "</pre>\n"
            ]
          },
          "metadata": {}
        },
        {
          "output_type": "display_data",
          "data": {
            "text/plain": [
              "MAE ratio KNN/knn_adjusted: \u001b[1;36m1.0644006452819725\u001b[0m\n"
            ],
            "text/html": [
              "<pre style=\"white-space:pre;overflow-x:auto;line-height:normal;font-family:Menlo,'DejaVu Sans Mono',consolas,'Courier New',monospace\">MAE ratio KNN/knn_adjusted: <span style=\"color: #008080; text-decoration-color: #008080; font-weight: bold\">1.0644006452819725</span>\n",
              "</pre>\n"
            ]
          },
          "metadata": {}
        },
        {
          "output_type": "display_data",
          "data": {
            "text/plain": [
              "\n",
              "MAE dummy \u001b[1m(\u001b[0mmean\u001b[1m)\u001b[0m\u001b[35m/\u001b[0m\u001b[95mMAE\u001b[0m KNN: \u001b[1;36m3.028170084836048\u001b[0m\n"
            ],
            "text/html": [
              "<pre style=\"white-space:pre;overflow-x:auto;line-height:normal;font-family:Menlo,'DejaVu Sans Mono',consolas,'Courier New',monospace\">\n",
              "MAE dummy <span style=\"font-weight: bold\">(</span>mean<span style=\"font-weight: bold\">)</span><span style=\"color: #800080; text-decoration-color: #800080\">/</span><span style=\"color: #ff00ff; text-decoration-color: #ff00ff\">MAE</span> KNN: <span style=\"color: #008080; text-decoration-color: #008080; font-weight: bold\">3.028170084836048</span>\n",
              "</pre>\n"
            ]
          },
          "metadata": {}
        },
        {
          "output_type": "display_data",
          "data": {
            "text/plain": [
              "MAE dummy \u001b[1m(\u001b[0mmedian\u001b[1m)\u001b[0m\u001b[35m/\u001b[0m\u001b[95mMAE\u001b[0m KNN: \u001b[1;36m3.0304039161740306\u001b[0m\n"
            ],
            "text/html": [
              "<pre style=\"white-space:pre;overflow-x:auto;line-height:normal;font-family:Menlo,'DejaVu Sans Mono',consolas,'Courier New',monospace\">MAE dummy <span style=\"font-weight: bold\">(</span>median<span style=\"font-weight: bold\">)</span><span style=\"color: #800080; text-decoration-color: #800080\">/</span><span style=\"color: #ff00ff; text-decoration-color: #ff00ff\">MAE</span> KNN: <span style=\"color: #008080; text-decoration-color: #008080; font-weight: bold\">3.0304039161740306</span>\n",
              "</pre>\n"
            ]
          },
          "metadata": {}
        },
        {
          "output_type": "display_data",
          "data": {
            "text/plain": [
              "\n",
              "RMSE sin ajustar: \u001b[1;36m3439946.258953351\u001b[0m\n"
            ],
            "text/html": [
              "<pre style=\"white-space:pre;overflow-x:auto;line-height:normal;font-family:Menlo,'DejaVu Sans Mono',consolas,'Courier New',monospace\">\n",
              "RMSE sin ajustar: <span style=\"color: #008080; text-decoration-color: #008080; font-weight: bold\">3439946.258953351</span>\n",
              "</pre>\n"
            ]
          },
          "metadata": {}
        },
        {
          "output_type": "display_data",
          "data": {
            "text/plain": [
              "RMSE ajustado: \u001b[1;36m3201786.090578021\u001b[0m\n"
            ],
            "text/html": [
              "<pre style=\"white-space:pre;overflow-x:auto;line-height:normal;font-family:Menlo,'DejaVu Sans Mono',consolas,'Courier New',monospace\">RMSE ajustado: <span style=\"color: #008080; text-decoration-color: #008080; font-weight: bold\">3201786.090578021</span>\n",
              "</pre>\n"
            ]
          },
          "metadata": {}
        },
        {
          "output_type": "display_data",
          "data": {
            "text/plain": [
              "RMSE ratio KNN/knn_adjusted: \u001b[1;36m1.0743835352012334\u001b[0m\n"
            ],
            "text/html": [
              "<pre style=\"white-space:pre;overflow-x:auto;line-height:normal;font-family:Menlo,'DejaVu Sans Mono',consolas,'Courier New',monospace\">RMSE ratio KNN/knn_adjusted: <span style=\"color: #008080; text-decoration-color: #008080; font-weight: bold\">1.0743835352012334</span>\n",
              "</pre>\n"
            ]
          },
          "metadata": {}
        },
        {
          "output_type": "display_data",
          "data": {
            "text/plain": [
              "\n",
              "RMSE dummy \u001b[1m(\u001b[0mmean\u001b[1m)\u001b[0m\u001b[35m/\u001b[0m\u001b[95mRMSE\u001b[0m KNN: \u001b[1;36m2.5269560506482502\u001b[0m\n"
            ],
            "text/html": [
              "<pre style=\"white-space:pre;overflow-x:auto;line-height:normal;font-family:Menlo,'DejaVu Sans Mono',consolas,'Courier New',monospace\">\n",
              "RMSE dummy <span style=\"font-weight: bold\">(</span>mean<span style=\"font-weight: bold\">)</span><span style=\"color: #800080; text-decoration-color: #800080\">/</span><span style=\"color: #ff00ff; text-decoration-color: #ff00ff\">RMSE</span> KNN: <span style=\"color: #008080; text-decoration-color: #008080; font-weight: bold\">2.5269560506482502</span>\n",
              "</pre>\n"
            ]
          },
          "metadata": {}
        },
        {
          "output_type": "display_data",
          "data": {
            "text/plain": [
              "RMSE dummy \u001b[1m(\u001b[0mmedian\u001b[1m)\u001b[0m\u001b[35m/\u001b[0m\u001b[95mRMSE\u001b[0m KNN: \u001b[1;36m2.5308046684045453\u001b[0m\n"
            ],
            "text/html": [
              "<pre style=\"white-space:pre;overflow-x:auto;line-height:normal;font-family:Menlo,'DejaVu Sans Mono',consolas,'Courier New',monospace\">RMSE dummy <span style=\"font-weight: bold\">(</span>median<span style=\"font-weight: bold\">)</span><span style=\"color: #800080; text-decoration-color: #800080\">/</span><span style=\"color: #ff00ff; text-decoration-color: #ff00ff\">RMSE</span> KNN: <span style=\"color: #008080; text-decoration-color: #008080; font-weight: bold\">2.5308046684045453</span>\n",
              "</pre>\n"
            ]
          },
          "metadata": {}
        },
        {
          "output_type": "display_data",
          "data": {
            "text/plain": [
              "\n",
              "\u001b[1;32mÁrbol de decisión\u001b[0m\n",
              "\u001b[1;32m------------------\u001b[0m\n"
            ],
            "text/html": [
              "<pre style=\"white-space:pre;overflow-x:auto;line-height:normal;font-family:Menlo,'DejaVu Sans Mono',consolas,'Courier New',monospace\">\n",
              "<span style=\"color: #008000; text-decoration-color: #008000; font-weight: bold\">Árbol de decisión</span>\n",
              "<span style=\"color: #008000; text-decoration-color: #008000; font-weight: bold\">------------------</span>\n",
              "</pre>\n"
            ]
          },
          "metadata": {}
        },
        {
          "output_type": "display_data",
          "data": {
            "text/plain": [
              "MAE sin ajustar: \u001b[1;36m3170312.5150684933\u001b[0m\n"
            ],
            "text/html": [
              "<pre style=\"white-space:pre;overflow-x:auto;line-height:normal;font-family:Menlo,'DejaVu Sans Mono',consolas,'Courier New',monospace\">MAE sin ajustar: <span style=\"color: #008080; text-decoration-color: #008080; font-weight: bold\">3170312.5150684933</span>\n",
              "</pre>\n"
            ]
          },
          "metadata": {}
        },
        {
          "output_type": "display_data",
          "data": {
            "text/plain": [
              "MAE ajustado: \u001b[1;36m2470632.610462104\u001b[0m\n"
            ],
            "text/html": [
              "<pre style=\"white-space:pre;overflow-x:auto;line-height:normal;font-family:Menlo,'DejaVu Sans Mono',consolas,'Courier New',monospace\">MAE ajustado: <span style=\"color: #008080; text-decoration-color: #008080; font-weight: bold\">2470632.610462104</span>\n",
              "</pre>\n"
            ]
          },
          "metadata": {}
        },
        {
          "output_type": "display_data",
          "data": {
            "text/plain": [
              "MAE ratio tree/tree_adjusted: \u001b[1;36m1.2831986842736292\u001b[0m\n"
            ],
            "text/html": [
              "<pre style=\"white-space:pre;overflow-x:auto;line-height:normal;font-family:Menlo,'DejaVu Sans Mono',consolas,'Courier New',monospace\">MAE ratio tree/tree_adjusted: <span style=\"color: #008080; text-decoration-color: #008080; font-weight: bold\">1.2831986842736292</span>\n",
              "</pre>\n"
            ]
          },
          "metadata": {}
        },
        {
          "output_type": "display_data",
          "data": {
            "text/plain": [
              "\n",
              "MAE dummy \u001b[1m(\u001b[0mmean\u001b[1m)\u001b[0m\u001b[35m/\u001b[0m\u001b[95mMAE\u001b[0m tree: \u001b[1;36m2.854520296871948\u001b[0m\n"
            ],
            "text/html": [
              "<pre style=\"white-space:pre;overflow-x:auto;line-height:normal;font-family:Menlo,'DejaVu Sans Mono',consolas,'Courier New',monospace\">\n",
              "MAE dummy <span style=\"font-weight: bold\">(</span>mean<span style=\"font-weight: bold\">)</span><span style=\"color: #800080; text-decoration-color: #800080\">/</span><span style=\"color: #ff00ff; text-decoration-color: #ff00ff\">MAE</span> tree: <span style=\"color: #008080; text-decoration-color: #008080; font-weight: bold\">2.854520296871948</span>\n",
              "</pre>\n"
            ]
          },
          "metadata": {}
        },
        {
          "output_type": "display_data",
          "data": {
            "text/plain": [
              "MAE dummy \u001b[1m(\u001b[0mmedian\u001b[1m)\u001b[0m\u001b[35m/\u001b[0m\u001b[95mMAE\u001b[0m tree: \u001b[1;36m2.8566260296133126\u001b[0m\n"
            ],
            "text/html": [
              "<pre style=\"white-space:pre;overflow-x:auto;line-height:normal;font-family:Menlo,'DejaVu Sans Mono',consolas,'Courier New',monospace\">MAE dummy <span style=\"font-weight: bold\">(</span>median<span style=\"font-weight: bold\">)</span><span style=\"color: #800080; text-decoration-color: #800080\">/</span><span style=\"color: #ff00ff; text-decoration-color: #ff00ff\">MAE</span> tree: <span style=\"color: #008080; text-decoration-color: #008080; font-weight: bold\">2.8566260296133126</span>\n",
              "</pre>\n"
            ]
          },
          "metadata": {}
        },
        {
          "output_type": "display_data",
          "data": {
            "text/plain": [
              "\n",
              "RMSE sin ajustar: \u001b[1;36m4569076.711874634\u001b[0m\n"
            ],
            "text/html": [
              "<pre style=\"white-space:pre;overflow-x:auto;line-height:normal;font-family:Menlo,'DejaVu Sans Mono',consolas,'Courier New',monospace\">\n",
              "RMSE sin ajustar: <span style=\"color: #008080; text-decoration-color: #008080; font-weight: bold\">4569076.711874634</span>\n",
              "</pre>\n"
            ]
          },
          "metadata": {}
        },
        {
          "output_type": "display_data",
          "data": {
            "text/plain": [
              "RMSE ajustado: \u001b[1;36m3422340.28546764\u001b[0m\n"
            ],
            "text/html": [
              "<pre style=\"white-space:pre;overflow-x:auto;line-height:normal;font-family:Menlo,'DejaVu Sans Mono',consolas,'Courier New',monospace\">RMSE ajustado: <span style=\"color: #008080; text-decoration-color: #008080; font-weight: bold\">3422340.28546764</span>\n",
              "</pre>\n"
            ]
          },
          "metadata": {}
        },
        {
          "output_type": "display_data",
          "data": {
            "text/plain": [
              "RMSE ratio tree/tree_adjusted: \u001b[1;36m1.33507375969491\u001b[0m\n"
            ],
            "text/html": [
              "<pre style=\"white-space:pre;overflow-x:auto;line-height:normal;font-family:Menlo,'DejaVu Sans Mono',consolas,'Courier New',monospace\">RMSE ratio tree/tree_adjusted: <span style=\"color: #008080; text-decoration-color: #008080; font-weight: bold\">1.33507375969491</span>\n",
              "</pre>\n"
            ]
          },
          "metadata": {}
        },
        {
          "output_type": "display_data",
          "data": {
            "text/plain": [
              "\n",
              "RMSE dummy \u001b[1m(\u001b[0mmean\u001b[1m)\u001b[0m\u001b[35m/\u001b[0m\u001b[95mRMSE\u001b[0m tree: \u001b[1;36m2.3641052787250776\u001b[0m\n"
            ],
            "text/html": [
              "<pre style=\"white-space:pre;overflow-x:auto;line-height:normal;font-family:Menlo,'DejaVu Sans Mono',consolas,'Courier New',monospace\">\n",
              "RMSE dummy <span style=\"font-weight: bold\">(</span>mean<span style=\"font-weight: bold\">)</span><span style=\"color: #800080; text-decoration-color: #800080\">/</span><span style=\"color: #ff00ff; text-decoration-color: #ff00ff\">RMSE</span> tree: <span style=\"color: #008080; text-decoration-color: #008080; font-weight: bold\">2.3641052787250776</span>\n",
              "</pre>\n"
            ]
          },
          "metadata": {}
        },
        {
          "output_type": "display_data",
          "data": {
            "text/plain": [
              "RMSE dummy \u001b[1m(\u001b[0mmedian\u001b[1m)\u001b[0m\u001b[35m/\u001b[0m\u001b[95mRMSE\u001b[0m tree: \u001b[1;36m2.3677058706511294\u001b[0m\n"
            ],
            "text/html": [
              "<pre style=\"white-space:pre;overflow-x:auto;line-height:normal;font-family:Menlo,'DejaVu Sans Mono',consolas,'Courier New',monospace\">RMSE dummy <span style=\"font-weight: bold\">(</span>median<span style=\"font-weight: bold\">)</span><span style=\"color: #800080; text-decoration-color: #800080\">/</span><span style=\"color: #ff00ff; text-decoration-color: #ff00ff\">RMSE</span> tree: <span style=\"color: #008080; text-decoration-color: #008080; font-weight: bold\">2.3677058706511294</span>\n",
              "</pre>\n"
            ]
          },
          "metadata": {}
        },
        {
          "output_type": "display_data",
          "data": {
            "text/plain": [
              "\n",
              "\u001b[1;32mRegresión lineal\u001b[0m\n",
              "\u001b[1;32m------------------\u001b[0m\n"
            ],
            "text/html": [
              "<pre style=\"white-space:pre;overflow-x:auto;line-height:normal;font-family:Menlo,'DejaVu Sans Mono',consolas,'Courier New',monospace\">\n",
              "<span style=\"color: #008000; text-decoration-color: #008000; font-weight: bold\">Regresión lineal</span>\n",
              "<span style=\"color: #008000; text-decoration-color: #008000; font-weight: bold\">------------------</span>\n",
              "</pre>\n"
            ]
          },
          "metadata": {}
        },
        {
          "output_type": "display_data",
          "data": {
            "text/plain": [
              "MAE sin ajustar: \u001b[1;36m2143275.4134048363\u001b[0m\n"
            ],
            "text/html": [
              "<pre style=\"white-space:pre;overflow-x:auto;line-height:normal;font-family:Menlo,'DejaVu Sans Mono',consolas,'Courier New',monospace\">MAE sin ajustar: <span style=\"color: #008080; text-decoration-color: #008080; font-weight: bold\">2143275.4134048363</span>\n",
              "</pre>\n"
            ]
          },
          "metadata": {}
        },
        {
          "output_type": "display_data",
          "data": {
            "text/plain": [
              "MAE ajustado: \u001b[1;36m2143275.4134048363\u001b[0m\n"
            ],
            "text/html": [
              "<pre style=\"white-space:pre;overflow-x:auto;line-height:normal;font-family:Menlo,'DejaVu Sans Mono',consolas,'Courier New',monospace\">MAE ajustado: <span style=\"color: #008080; text-decoration-color: #008080; font-weight: bold\">2143275.4134048363</span>\n",
              "</pre>\n"
            ]
          },
          "metadata": {}
        },
        {
          "output_type": "display_data",
          "data": {
            "text/plain": [
              "MAE ratio linear/linear_adjusted: \u001b[1;36m1.0\u001b[0m\n"
            ],
            "text/html": [
              "<pre style=\"white-space:pre;overflow-x:auto;line-height:normal;font-family:Menlo,'DejaVu Sans Mono',consolas,'Courier New',monospace\">MAE ratio linear/linear_adjusted: <span style=\"color: #008080; text-decoration-color: #008080; font-weight: bold\">1.0</span>\n",
              "</pre>\n"
            ]
          },
          "metadata": {}
        },
        {
          "output_type": "display_data",
          "data": {
            "text/plain": [
              "\n",
              "MAE dummy \u001b[1m(\u001b[0mmean\u001b[1m)\u001b[0m\u001b[35m/\u001b[0m\u001b[95mMAE\u001b[0m linear: \u001b[1;36m3.290510817494123\u001b[0m\n"
            ],
            "text/html": [
              "<pre style=\"white-space:pre;overflow-x:auto;line-height:normal;font-family:Menlo,'DejaVu Sans Mono',consolas,'Courier New',monospace\">\n",
              "MAE dummy <span style=\"font-weight: bold\">(</span>mean<span style=\"font-weight: bold\">)</span><span style=\"color: #800080; text-decoration-color: #800080\">/</span><span style=\"color: #ff00ff; text-decoration-color: #ff00ff\">MAE</span> linear: <span style=\"color: #008080; text-decoration-color: #008080; font-weight: bold\">3.290510817494123</span>\n",
              "</pre>\n"
            ]
          },
          "metadata": {}
        },
        {
          "output_type": "display_data",
          "data": {
            "text/plain": [
              "MAE dummy \u001b[1m(\u001b[0mmedian\u001b[1m)\u001b[0m\u001b[35m/\u001b[0m\u001b[95mMAE\u001b[0m linear: \u001b[1;36m3.292938173281995\u001b[0m\n"
            ],
            "text/html": [
              "<pre style=\"white-space:pre;overflow-x:auto;line-height:normal;font-family:Menlo,'DejaVu Sans Mono',consolas,'Courier New',monospace\">MAE dummy <span style=\"font-weight: bold\">(</span>median<span style=\"font-weight: bold\">)</span><span style=\"color: #800080; text-decoration-color: #800080\">/</span><span style=\"color: #ff00ff; text-decoration-color: #ff00ff\">MAE</span> linear: <span style=\"color: #008080; text-decoration-color: #008080; font-weight: bold\">3.292938173281995</span>\n",
              "</pre>\n"
            ]
          },
          "metadata": {}
        },
        {
          "output_type": "display_data",
          "data": {
            "text/plain": [
              "\n",
              "RMSE sin ajustar: \u001b[1;36m2914992.7582885786\u001b[0m\n"
            ],
            "text/html": [
              "<pre style=\"white-space:pre;overflow-x:auto;line-height:normal;font-family:Menlo,'DejaVu Sans Mono',consolas,'Courier New',monospace\">\n",
              "RMSE sin ajustar: <span style=\"color: #008080; text-decoration-color: #008080; font-weight: bold\">2914992.7582885786</span>\n",
              "</pre>\n"
            ]
          },
          "metadata": {}
        },
        {
          "output_type": "display_data",
          "data": {
            "text/plain": [
              "RMSE ajustado: \u001b[1;36m2914992.7582885786\u001b[0m\n"
            ],
            "text/html": [
              "<pre style=\"white-space:pre;overflow-x:auto;line-height:normal;font-family:Menlo,'DejaVu Sans Mono',consolas,'Courier New',monospace\">RMSE ajustado: <span style=\"color: #008080; text-decoration-color: #008080; font-weight: bold\">2914992.7582885786</span>\n",
              "</pre>\n"
            ]
          },
          "metadata": {}
        },
        {
          "output_type": "display_data",
          "data": {
            "text/plain": [
              "RMSE ratio linear/linear_adjusted: \u001b[1;36m1.0\u001b[0m\n"
            ],
            "text/html": [
              "<pre style=\"white-space:pre;overflow-x:auto;line-height:normal;font-family:Menlo,'DejaVu Sans Mono',consolas,'Courier New',monospace\">RMSE ratio linear/linear_adjusted: <span style=\"color: #008080; text-decoration-color: #008080; font-weight: bold\">1.0</span>\n",
              "</pre>\n"
            ]
          },
          "metadata": {}
        },
        {
          "output_type": "display_data",
          "data": {
            "text/plain": [
              "\n",
              "RMSE dummy \u001b[1m(\u001b[0mmean\u001b[1m)\u001b[0m\u001b[35m/\u001b[0m\u001b[95mRMSE\u001b[0m linear: \u001b[1;36m2.77557215586968\u001b[0m\n"
            ],
            "text/html": [
              "<pre style=\"white-space:pre;overflow-x:auto;line-height:normal;font-family:Menlo,'DejaVu Sans Mono',consolas,'Courier New',monospace\">\n",
              "RMSE dummy <span style=\"font-weight: bold\">(</span>mean<span style=\"font-weight: bold\">)</span><span style=\"color: #800080; text-decoration-color: #800080\">/</span><span style=\"color: #ff00ff; text-decoration-color: #ff00ff\">RMSE</span> linear: <span style=\"color: #008080; text-decoration-color: #008080; font-weight: bold\">2.77557215586968</span>\n",
              "</pre>\n"
            ]
          },
          "metadata": {}
        },
        {
          "output_type": "display_data",
          "data": {
            "text/plain": [
              "RMSE dummy \u001b[1m(\u001b[0mmedian\u001b[1m)\u001b[0m\u001b[35m/\u001b[0m\u001b[95mRMSE\u001b[0m linear: \u001b[1;36m2.779799422220521\u001b[0m\n",
              "\n"
            ],
            "text/html": [
              "<pre style=\"white-space:pre;overflow-x:auto;line-height:normal;font-family:Menlo,'DejaVu Sans Mono',consolas,'Courier New',monospace\">RMSE dummy <span style=\"font-weight: bold\">(</span>median<span style=\"font-weight: bold\">)</span><span style=\"color: #800080; text-decoration-color: #800080\">/</span><span style=\"color: #ff00ff; text-decoration-color: #ff00ff\">RMSE</span> linear: <span style=\"color: #008080; text-decoration-color: #008080; font-weight: bold\">2.779799422220521</span>\n",
              "\n",
              "</pre>\n"
            ]
          },
          "metadata": {}
        }
      ]
    },
    {
      "cell_type": "markdown",
      "source": [
        "## **Conclusiones métodos básicos**\n",
        "Para las conclusiones utilizaremos como referencia el MAE y el tiempo de ejecución en segundos. Podemos observar que el mejor método es usar un modelo de regresión lineal sin ajuste de hiperparámetros (ya que con ajuste no varía), donde se obtiene un error de 2.143.275 de energía solar. \n",
        "\n",
        "Aunque este método no es el más rápido, ya que el que menos tiempo consume para entrenarse es KNN. Sin embargo KNN es aproximadamente un 15% peor sin ajustar hiperparametros y un 8% peor en su versión ajustada. Sin embargo, con los datos que tenemos los tiempos en los métodos básicos no son grandes y podemos obviar el tiempo de entrenamiento ya que en ambos es menor de un segundo.\n",
        "\n",
        "Si lo comparamos con el árbol de decisión, la mejora es más significativa en cuanto a tiempo y precisión; concretamente el modelo de regresión lineal es un 47% mejor que el árbol de decisión sin ajustar y un 15% mejor que la versión ajustada.\n",
        "\n",
        "Donde sí que encontramos problemas en los métodos básicos es con los tiempos en el ajuste de hiperparametros. En esta sección hemos tenido que hacer varias ejecuciones para afinar los hiperparametros y no sobresaturar el procesamiento ya que los tiempos al tener que evaluar cientos de modelos con GridSearch si que eran más elevados. Para poder incluir un mayor rango de valores hemos implementado la sección de RandomSearch que eventualmente nos otorgará mejores resultados en un menor tiempo. Al final de cada ajuste seleccionamos el menor error para poder hacer las comparaciones correctamente.\n",
        "\n",
        "En cuanto a la mejora con el ajuste de hiperparametros hemos observado que para KNN la mejora es de aproximadamente del 6% y para árboles de decisión es de 28% como ya hemos comentado. Queda comentar que para regresión lineal no es relevante ya que solo hay dos hiperparametros booleanos que ajustar y la mejora es del 0%. Por tanto, podemos concluir que el modelo donde más importante ha sido ajustar los hiperparametros son los árboles de decisión.\n",
        "\n",
        "Además, podemos observar que en cuanto a tiempos de entrenamiento efectivamente RandomSearch al entrenar menos modelos es más rápido. KNN y árbol de decisión son métodos que no nos ha convenido sobresaturar en cuanto a número de hiperparametros ya que el tiempo acumulado de entrenar tantos modelos es significante, por ello solo hemos ajustado los principales y más influyentes. Este tiempo que requiere el ajuste consideramos que es rentable para árboles de decisión pero no para KNN, por sus ratios de mejora.\n",
        "\n",
        "En comparación con modelos dummy, vemos que todos los modelos con y sin ajuste de hiperparámetros muestran una mejora de entre el 200-300%. En las sección de comparación de resultados se encuentran los ratios de mejora detallados por modelos. Esta observación es un indicativo de que vamos por el buen camino y de que nuestros modelos, pese a ser básicos y tener bastante error, ya predicen mejor que los más triviales.\n",
        "\n",
        "Por último, podemos afirmar que el mejor modelo es regresión lineal ya que es el mejor en cuanto a precisión y no requiere de ajuste de hiperparametros; todo ello sumado a su rapidez nos hace poder asegurar que en nuestro estudio este es el mejor modelo básico. \n"
      ],
      "metadata": {
        "id": "3YrrMZOKafpg"
      }
    },
    {
      "cell_type": "markdown",
      "source": [
        "## **Reducción de dimensionalidad** --> REVISAR"
      ],
      "metadata": {
        "id": "7E_ZIcmCaf0Z"
      }
    },
    {
      "cell_type": "markdown",
      "source": [
        "Primero, vamos a crear un nuevo dataframe con los datos reducidos y crearemos las nuevas particiones para realizar nuestros cáclulos."
      ],
      "metadata": {
        "id": "0cuqkdnjC-CU"
      }
    },
    {
      "cell_type": "code",
      "source": [
        "print('[bold red]' + '-' * 60 +'\\nReducción de dimensionalidad.\\n' + '-' * 60 + '[/bold red]')\n",
        "\n",
        "# Quitamos del dataframe de las medias de las variables que no queremos usar.\n",
        "\n",
        "'''Alternativa 1'''\n",
        "#df_reducida=mean_df\n",
        "'''Alternativa 2'''\n",
        "df_reducida = mean_df.drop(['apcp_sf_media', 'pres_msl_media', 'tcdc_eatm_media', 'tcolc_eatm_media'], axis=1)\n",
        "'''Alternativa 3'''\n",
        "#df_reducida = mean_df.drop(['tmin_2m_media', 'tmp_2m_media', 'tmp_sfc_media', 'tmax_2m_media', 'tcolc_eatm_media', 'spfh_2m_media', 'pwat_eatm_media'], axis=1)\n",
        "'''Alternativa 4'''\n",
        "#df_reducida=disp_df.drop(['tmin_2m1_1', 'tmin_2m2_1', 'tmin_2m3_1', 'tmin_2m4_1', 'tmin_2m5_1', 'tmp_2m_1_1', 'tmp_2m_2_1', 'tmp_2m_3_1', 'tmp_2m_4_1', 'tmp_2m_5_1', 'tmp_sfc1_1', 'tmp_sfc2_1', 'tmp_sfc3_1', 'tmp_sfc4_1', 'tmp_sfc5_1', 'tmax_2m1_1', 'tmax_2m2_1', 'tmax_2m3_1', 'tmax_2m4_1', 'tmax_2m5_1', 'tcolc_e1_1', 'tcolc_e2_1', 'tcolc_e3_1', 'tcolc_e4_1', 'tcolc_e5_1', 'spfh_2m1_1', 'spfh_2m2_1', 'spfh_2m3_1', 'spfh_2m4_1', 'spfh_2m5_1', 'pwat_ea1_1', 'pwat_ea2_1', 'pwat_ea3_1', 'pwat_ea4_1', 'pwat_ea5_1'], axis=1)\n",
        "'''Alternativa 5'''\n",
        "#df_reducida=mean_df.drop(['apcp_sf_media', 'tcdc_eatm_media', 'tcolc_eatm_media', 'tmin_2m_media', 'tmp_2m_media', 'tmp_sfc_media', 'tmax_2m_media', 'spfh_2m_media', 'pwat_eatm_media'], axis=1)\n",
        "\n",
        "# Imprimimos el dataframe reducido.\n",
        "print(df_reducida)\n",
        "\n",
        "print(df_reducida.shape)\n",
        "\n",
        "# Dividimos el dataframe reducido en train y test.\n",
        "X_train_r, X_test_r, y_train_r, y_test_r = train_test_split(df_reducida.drop('salida', axis=1), df_reducida['salida'], test_size=2/12, random_state=13, shuffle=False)\n",
        "\n",
        "# Volvemos a dividir el train en train_train y train_test.\n",
        "X_train_train_r, X_train_validation_r, y_train_train_r, y_train_validation_r = train_test_split(X_train_r, y_train_r, test_size=2/10, random_state=13, shuffle=False)\n",
        "\n",
        "# Normalizamos los datos.\n",
        "scaler_r = MinMaxScaler()\n",
        "scaler_r.fit(X_train_train_r)\n",
        "X_train_r_n = scaler_r.transform(X_train_r)\n",
        "X_train_train_r_n = scaler_r.transform(X_train_train_r)\n",
        "X_train_validation_r_n = scaler_r.transform(X_train_validation_r)\n",
        "X_test_r_n = scaler_r.transform(X_test_r)\n",
        "\n",
        "# Normalizamos la salida.\n",
        "scaler_r = MinMaxScaler()\n",
        "scaler_r.fit(y_train_train_r.values.reshape(-1, 1))\n",
        "y_train_r_n = scaler_r.transform(y_train_r.values.reshape(-1, 1))\n",
        "y_train_train_r_n = scaler_r.transform(y_train_train_r.values.reshape(-1, 1))\n",
        "y_train_validation_r_n = scaler_r.transform(y_train_validation_r.values.reshape(-1, 1))\n",
        "y_test_r_n = scaler_r.transform(y_test_r.values.reshape(-1, 1))\n"
      ],
      "metadata": {
        "colab": {
          "base_uri": "https://localhost:8080/",
          "height": 929
        },
        "id": "NYPDMxqfEv8A",
        "outputId": "de1a6783-5ad1-4954-c54f-012b6bf22566"
      },
      "execution_count": 43,
      "outputs": [
        {
          "output_type": "display_data",
          "data": {
            "text/plain": [
              "\u001b[1;31m------------------------------------------------------------\u001b[0m\n",
              "\u001b[1;31mReducción de dimensionalidad.\u001b[0m\n",
              "\u001b[1;31m------------------------------------------------------------\u001b[0m\n"
            ],
            "text/html": [
              "<pre style=\"white-space:pre;overflow-x:auto;line-height:normal;font-family:Menlo,'DejaVu Sans Mono',consolas,'Courier New',monospace\"><span style=\"color: #800000; text-decoration-color: #800000; font-weight: bold\">------------------------------------------------------------</span>\n",
              "<span style=\"color: #800000; text-decoration-color: #800000; font-weight: bold\">Reducción de dimensionalidad.</span>\n",
              "<span style=\"color: #800000; text-decoration-color: #800000; font-weight: bold\">------------------------------------------------------------</span>\n",
              "</pre>\n"
            ]
          },
          "metadata": {}
        },
        {
          "output_type": "display_data",
          "data": {
            "text/plain": [
              "       apcp_sf1_1  apcp_sf2_1  apcp_sf3_1  apcp_sf4_1  apcp_sf5_1  dlwrf_s1_1  \\\n",
              "V1       \u001b[1;36m0.000000\u001b[0m    \u001b[1;36m0.000000\u001b[0m    \u001b[1;36m0.000000\u001b[0m    \u001b[1;36m0.000000\u001b[0m    \u001b[1;36m0.000000\u001b[0m  \u001b[1;36m276.583582\u001b[0m   \n",
              "V2       \u001b[1;36m0.000000\u001b[0m    \u001b[1;36m0.000000\u001b[0m    \u001b[1;36m0.011818\u001b[0m    \u001b[1;36m0.037273\u001b[0m    \u001b[1;36m0.543636\u001b[0m  \u001b[1;36m249.089505\u001b[0m   \n",
              "V3       \u001b[1;36m0.014545\u001b[0m    \u001b[1;36m0.000000\u001b[0m    \u001b[1;36m0.000000\u001b[0m    \u001b[1;36m0.000000\u001b[0m    \u001b[1;36m0.002727\u001b[0m  \u001b[1;36m229.461820\u001b[0m   \n",
              "V4       \u001b[1;36m0.000000\u001b[0m    \u001b[1;36m0.009091\u001b[0m    \u001b[1;36m0.000000\u001b[0m    \u001b[1;36m0.000000\u001b[0m    \u001b[1;36m0.000000\u001b[0m  \u001b[1;36m239.590321\u001b[0m   \n",
              "V5       \u001b[1;36m0.000000\u001b[0m    \u001b[1;36m0.000000\u001b[0m    \u001b[1;36m0.000000\u001b[0m    \u001b[1;36m0.000000\u001b[0m    \u001b[1;36m0.000000\u001b[0m  \u001b[1;36m230.253657\u001b[0m   \n",
              "\u001b[33m...\u001b[0m           \u001b[33m...\u001b[0m         \u001b[33m...\u001b[0m         \u001b[33m...\u001b[0m         \u001b[33m...\u001b[0m         \u001b[33m...\u001b[0m         \u001b[33m...\u001b[0m   \n",
              "V4376    \u001b[1;36m0.000909\u001b[0m    \u001b[1;36m0.114545\u001b[0m    \u001b[1;36m0.352727\u001b[0m    \u001b[1;36m0.882727\u001b[0m    \u001b[1;36m1.379091\u001b[0m  \u001b[1;36m284.532288\u001b[0m   \n",
              "V4377    \u001b[1;36m0.000909\u001b[0m    \u001b[1;36m0.000000\u001b[0m    \u001b[1;36m0.000000\u001b[0m    \u001b[1;36m0.000000\u001b[0m    \u001b[1;36m0.000000\u001b[0m  \u001b[1;36m251.460183\u001b[0m   \n",
              "V4378    \u001b[1;36m0.000000\u001b[0m    \u001b[1;36m0.000000\u001b[0m    \u001b[1;36m0.000000\u001b[0m    \u001b[1;36m0.000000\u001b[0m    \u001b[1;36m0.000000\u001b[0m  \u001b[1;36m268.446164\u001b[0m   \n",
              "V4379    \u001b[1;36m0.000000\u001b[0m    \u001b[1;36m0.000000\u001b[0m    \u001b[1;36m0.000000\u001b[0m    \u001b[1;36m0.000000\u001b[0m    \u001b[1;36m0.000000\u001b[0m  \u001b[1;36m268.225686\u001b[0m   \n",
              "V4380    \u001b[1;36m0.000000\u001b[0m    \u001b[1;36m0.000000\u001b[0m    \u001b[1;36m0.000000\u001b[0m    \u001b[1;36m0.000000\u001b[0m    \u001b[1;36m0.000000\u001b[0m  \u001b[1;36m268.385348\u001b[0m   \n",
              "\n",
              "       dlwrf_s2_1  dlwrf_s3_1  dlwrf_s4_1  dlwrf_s5_1  \u001b[33m...\u001b[0m  ulwrf_t2_1  \\\n",
              "V1     \u001b[1;36m246.514368\u001b[0m  \u001b[1;36m251.629031\u001b[0m  \u001b[1;36m264.832217\u001b[0m  \u001b[1;36m262.468350\u001b[0m  \u001b[33m...\u001b[0m  \u001b[1;36m249.504475\u001b[0m   \n",
              "V2     \u001b[1;36m282.460488\u001b[0m  \u001b[1;36m297.254822\u001b[0m  \u001b[1;36m315.532651\u001b[0m  \u001b[1;36m310.292719\u001b[0m  \u001b[33m...\u001b[0m  \u001b[1;36m200.094627\u001b[0m   \n",
              "V3     \u001b[1;36m215.177840\u001b[0m  \u001b[1;36m218.042184\u001b[0m  \u001b[1;36m245.620031\u001b[0m  \u001b[1;36m246.749223\u001b[0m  \u001b[33m...\u001b[0m  \u001b[1;36m232.556009\u001b[0m   \n",
              "V4     \u001b[1;36m261.169269\u001b[0m  \u001b[1;36m271.857217\u001b[0m  \u001b[1;36m258.001828\u001b[0m  \u001b[1;36m247.076775\u001b[0m  \u001b[33m...\u001b[0m  \u001b[1;36m235.189503\u001b[0m   \n",
              "V5     \u001b[1;36m235.563414\u001b[0m  \u001b[1;36m243.941731\u001b[0m  \u001b[1;36m266.031791\u001b[0m  \u001b[1;36m269.572826\u001b[0m  \u001b[33m...\u001b[0m  \u001b[1;36m230.797569\u001b[0m   \n",
              "\u001b[33m...\u001b[0m           \u001b[33m...\u001b[0m         \u001b[33m...\u001b[0m         \u001b[33m...\u001b[0m         \u001b[33m...\u001b[0m  \u001b[33m...\u001b[0m         \u001b[33m...\u001b[0m   \n",
              "V4376  \u001b[1;36m277.760515\u001b[0m  \u001b[1;36m293.636938\u001b[0m  \u001b[1;36m337.863753\u001b[0m  \u001b[1;36m330.097956\u001b[0m  \u001b[33m...\u001b[0m  \u001b[1;36m236.348444\u001b[0m   \n",
              "V4377  \u001b[1;36m244.463848\u001b[0m  \u001b[1;36m248.985195\u001b[0m  \u001b[1;36m266.057689\u001b[0m  \u001b[1;36m265.432201\u001b[0m  \u001b[33m...\u001b[0m  \u001b[1;36m243.310976\u001b[0m   \n",
              "V4378  \u001b[1;36m271.475733\u001b[0m  \u001b[1;36m274.081410\u001b[0m  \u001b[1;36m287.933849\u001b[0m  \u001b[1;36m284.624115\u001b[0m  \u001b[33m...\u001b[0m  \u001b[1;36m221.705779\u001b[0m   \n",
              "V4379  \u001b[1;36m263.890245\u001b[0m  \u001b[1;36m271.744013\u001b[0m  \u001b[1;36m291.337566\u001b[0m  \u001b[1;36m291.260448\u001b[0m  \u001b[33m...\u001b[0m  \u001b[1;36m257.707263\u001b[0m   \n",
              "V4380  \u001b[1;36m265.254364\u001b[0m  \u001b[1;36m271.679615\u001b[0m  \u001b[1;36m291.476737\u001b[0m  \u001b[1;36m288.541684\u001b[0m  \u001b[33m...\u001b[0m  \u001b[1;36m241.352363\u001b[0m   \n",
              "\n",
              "       ulwrf_t3_1  ulwrf_t4_1  ulwrf_t5_1  uswrf_s1_1  uswrf_s2_1  uswrf_s3_1  \\\n",
              "V1     \u001b[1;36m251.942089\u001b[0m  \u001b[1;36m258.069677\u001b[0m  \u001b[1;36m254.249663\u001b[0m         \u001b[1;36m0.0\u001b[0m    \u001b[1;36m9.181818\u001b[0m   \u001b[1;36m49.000000\u001b[0m   \n",
              "V2     \u001b[1;36m202.663639\u001b[0m  \u001b[1;36m196.833872\u001b[0m  \u001b[1;36m202.962007\u001b[0m         \u001b[1;36m0.0\u001b[0m    \u001b[1;36m4.545455\u001b[0m   \u001b[1;36m19.000000\u001b[0m   \n",
              "V3     \u001b[1;36m233.298932\u001b[0m  \u001b[1;36m211.631876\u001b[0m  \u001b[1;36m210.620375\u001b[0m         \u001b[1;36m0.0\u001b[0m   \u001b[1;36m13.909091\u001b[0m   \u001b[1;36m77.636364\u001b[0m   \n",
              "V4     \u001b[1;36m236.216754\u001b[0m  \u001b[1;36m244.018491\u001b[0m  \u001b[1;36m239.049223\u001b[0m         \u001b[1;36m0.0\u001b[0m    \u001b[1;36m5.454545\u001b[0m   \u001b[1;36m28.909091\u001b[0m   \n",
              "V5     \u001b[1;36m233.680077\u001b[0m  \u001b[1;36m252.037280\u001b[0m  \u001b[1;36m246.291591\u001b[0m         \u001b[1;36m0.0\u001b[0m    \u001b[1;36m9.000000\u001b[0m   \u001b[1;36m47.181818\u001b[0m   \n",
              "\u001b[33m...\u001b[0m           \u001b[33m...\u001b[0m         \u001b[33m...\u001b[0m         \u001b[33m...\u001b[0m         \u001b[33m...\u001b[0m         \u001b[33m...\u001b[0m         \u001b[33m...\u001b[0m   \n",
              "V4376  \u001b[1;36m224.870748\u001b[0m  \u001b[1;36m175.644218\u001b[0m  \u001b[1;36m190.153040\u001b[0m         \u001b[1;36m0.0\u001b[0m    \u001b[1;36m6.818182\u001b[0m   \u001b[1;36m28.545455\u001b[0m   \n",
              "V4377  \u001b[1;36m248.244164\u001b[0m  \u001b[1;36m263.429332\u001b[0m  \u001b[1;36m260.205636\u001b[0m         \u001b[1;36m0.0\u001b[0m   \u001b[1;36m10.000000\u001b[0m   \u001b[1;36m50.090909\u001b[0m   \n",
              "V4378  \u001b[1;36m236.372099\u001b[0m  \u001b[1;36m273.823583\u001b[0m  \u001b[1;36m274.388403\u001b[0m         \u001b[1;36m0.0\u001b[0m    \u001b[1;36m7.909091\u001b[0m   \u001b[1;36m46.909091\u001b[0m   \n",
              "V4379  \u001b[1;36m254.163126\u001b[0m  \u001b[1;36m281.832139\u001b[0m  \u001b[1;36m277.711556\u001b[0m         \u001b[1;36m0.0\u001b[0m    \u001b[1;36m9.727273\u001b[0m   \u001b[1;36m48.181818\u001b[0m   \n",
              "V4380  \u001b[1;36m245.428872\u001b[0m  \u001b[1;36m257.719322\u001b[0m  \u001b[1;36m257.394481\u001b[0m         \u001b[1;36m0.0\u001b[0m    \u001b[1;36m9.000000\u001b[0m   \u001b[1;36m47.000000\u001b[0m   \n",
              "\n",
              "       uswrf_s4_1  uswrf_s5_1    salida  \n",
              "V1     \u001b[1;36m103.000000\u001b[0m   \u001b[1;36m68.000000\u001b[0m  \u001b[1;36m11119200\u001b[0m  \n",
              "V2      \u001b[1;36m47.272727\u001b[0m   \u001b[1;36m32.909091\u001b[0m   \u001b[1;36m5530500\u001b[0m  \n",
              "V3     \u001b[1;36m141.090909\u001b[0m   \u001b[1;36m90.454545\u001b[0m   \u001b[1;36m5596200\u001b[0m  \n",
              "V4      \u001b[1;36m90.818182\u001b[0m   \u001b[1;36m62.636364\u001b[0m   \u001b[1;36m4360500\u001b[0m  \n",
              "V5     \u001b[1;36m102.272727\u001b[0m   \u001b[1;36m67.636364\u001b[0m  \u001b[1;36m10572300\u001b[0m  \n",
              "\u001b[33m...\u001b[0m           \u001b[33m...\u001b[0m         \u001b[33m...\u001b[0m       \u001b[33m...\u001b[0m  \n",
              "V4376   \u001b[1;36m27.181818\u001b[0m   \u001b[1;36m18.727273\u001b[0m   \u001b[1;36m3780900\u001b[0m  \n",
              "V4377  \u001b[1;36m104.545455\u001b[0m   \u001b[1;36m68.454545\u001b[0m  \u001b[1;36m11463300\u001b[0m  \n",
              "V4378  \u001b[1;36m102.000000\u001b[0m   \u001b[1;36m67.000000\u001b[0m  \u001b[1;36m11071200\u001b[0m  \n",
              "V4379  \u001b[1;36m104.909091\u001b[0m   \u001b[1;36m68.818182\u001b[0m  \u001b[1;36m11222700\u001b[0m  \n",
              "V4380   \u001b[1;36m98.636364\u001b[0m   \u001b[1;36m64.818182\u001b[0m  \u001b[1;36m10770600\u001b[0m  \n",
              "\n",
              "\u001b[1m[\u001b[0m\u001b[1;36m4380\u001b[0m rows x \u001b[1;36m41\u001b[0m columns\u001b[1m]\u001b[0m\n"
            ],
            "text/html": [
              "<pre style=\"white-space:pre;overflow-x:auto;line-height:normal;font-family:Menlo,'DejaVu Sans Mono',consolas,'Courier New',monospace\">       apcp_sf1_1  apcp_sf2_1  apcp_sf3_1  apcp_sf4_1  apcp_sf5_1  dlwrf_s1_1  \\\n",
              "V1       <span style=\"color: #008080; text-decoration-color: #008080; font-weight: bold\">0.000000</span>    <span style=\"color: #008080; text-decoration-color: #008080; font-weight: bold\">0.000000</span>    <span style=\"color: #008080; text-decoration-color: #008080; font-weight: bold\">0.000000</span>    <span style=\"color: #008080; text-decoration-color: #008080; font-weight: bold\">0.000000</span>    <span style=\"color: #008080; text-decoration-color: #008080; font-weight: bold\">0.000000</span>  <span style=\"color: #008080; text-decoration-color: #008080; font-weight: bold\">276.583582</span>   \n",
              "V2       <span style=\"color: #008080; text-decoration-color: #008080; font-weight: bold\">0.000000</span>    <span style=\"color: #008080; text-decoration-color: #008080; font-weight: bold\">0.000000</span>    <span style=\"color: #008080; text-decoration-color: #008080; font-weight: bold\">0.011818</span>    <span style=\"color: #008080; text-decoration-color: #008080; font-weight: bold\">0.037273</span>    <span style=\"color: #008080; text-decoration-color: #008080; font-weight: bold\">0.543636</span>  <span style=\"color: #008080; text-decoration-color: #008080; font-weight: bold\">249.089505</span>   \n",
              "V3       <span style=\"color: #008080; text-decoration-color: #008080; font-weight: bold\">0.014545</span>    <span style=\"color: #008080; text-decoration-color: #008080; font-weight: bold\">0.000000</span>    <span style=\"color: #008080; text-decoration-color: #008080; font-weight: bold\">0.000000</span>    <span style=\"color: #008080; text-decoration-color: #008080; font-weight: bold\">0.000000</span>    <span style=\"color: #008080; text-decoration-color: #008080; font-weight: bold\">0.002727</span>  <span style=\"color: #008080; text-decoration-color: #008080; font-weight: bold\">229.461820</span>   \n",
              "V4       <span style=\"color: #008080; text-decoration-color: #008080; font-weight: bold\">0.000000</span>    <span style=\"color: #008080; text-decoration-color: #008080; font-weight: bold\">0.009091</span>    <span style=\"color: #008080; text-decoration-color: #008080; font-weight: bold\">0.000000</span>    <span style=\"color: #008080; text-decoration-color: #008080; font-weight: bold\">0.000000</span>    <span style=\"color: #008080; text-decoration-color: #008080; font-weight: bold\">0.000000</span>  <span style=\"color: #008080; text-decoration-color: #008080; font-weight: bold\">239.590321</span>   \n",
              "V5       <span style=\"color: #008080; text-decoration-color: #008080; font-weight: bold\">0.000000</span>    <span style=\"color: #008080; text-decoration-color: #008080; font-weight: bold\">0.000000</span>    <span style=\"color: #008080; text-decoration-color: #008080; font-weight: bold\">0.000000</span>    <span style=\"color: #008080; text-decoration-color: #008080; font-weight: bold\">0.000000</span>    <span style=\"color: #008080; text-decoration-color: #008080; font-weight: bold\">0.000000</span>  <span style=\"color: #008080; text-decoration-color: #008080; font-weight: bold\">230.253657</span>   \n",
              "<span style=\"color: #808000; text-decoration-color: #808000\">...</span>           <span style=\"color: #808000; text-decoration-color: #808000\">...</span>         <span style=\"color: #808000; text-decoration-color: #808000\">...</span>         <span style=\"color: #808000; text-decoration-color: #808000\">...</span>         <span style=\"color: #808000; text-decoration-color: #808000\">...</span>         <span style=\"color: #808000; text-decoration-color: #808000\">...</span>         <span style=\"color: #808000; text-decoration-color: #808000\">...</span>   \n",
              "V4376    <span style=\"color: #008080; text-decoration-color: #008080; font-weight: bold\">0.000909</span>    <span style=\"color: #008080; text-decoration-color: #008080; font-weight: bold\">0.114545</span>    <span style=\"color: #008080; text-decoration-color: #008080; font-weight: bold\">0.352727</span>    <span style=\"color: #008080; text-decoration-color: #008080; font-weight: bold\">0.882727</span>    <span style=\"color: #008080; text-decoration-color: #008080; font-weight: bold\">1.379091</span>  <span style=\"color: #008080; text-decoration-color: #008080; font-weight: bold\">284.532288</span>   \n",
              "V4377    <span style=\"color: #008080; text-decoration-color: #008080; font-weight: bold\">0.000909</span>    <span style=\"color: #008080; text-decoration-color: #008080; font-weight: bold\">0.000000</span>    <span style=\"color: #008080; text-decoration-color: #008080; font-weight: bold\">0.000000</span>    <span style=\"color: #008080; text-decoration-color: #008080; font-weight: bold\">0.000000</span>    <span style=\"color: #008080; text-decoration-color: #008080; font-weight: bold\">0.000000</span>  <span style=\"color: #008080; text-decoration-color: #008080; font-weight: bold\">251.460183</span>   \n",
              "V4378    <span style=\"color: #008080; text-decoration-color: #008080; font-weight: bold\">0.000000</span>    <span style=\"color: #008080; text-decoration-color: #008080; font-weight: bold\">0.000000</span>    <span style=\"color: #008080; text-decoration-color: #008080; font-weight: bold\">0.000000</span>    <span style=\"color: #008080; text-decoration-color: #008080; font-weight: bold\">0.000000</span>    <span style=\"color: #008080; text-decoration-color: #008080; font-weight: bold\">0.000000</span>  <span style=\"color: #008080; text-decoration-color: #008080; font-weight: bold\">268.446164</span>   \n",
              "V4379    <span style=\"color: #008080; text-decoration-color: #008080; font-weight: bold\">0.000000</span>    <span style=\"color: #008080; text-decoration-color: #008080; font-weight: bold\">0.000000</span>    <span style=\"color: #008080; text-decoration-color: #008080; font-weight: bold\">0.000000</span>    <span style=\"color: #008080; text-decoration-color: #008080; font-weight: bold\">0.000000</span>    <span style=\"color: #008080; text-decoration-color: #008080; font-weight: bold\">0.000000</span>  <span style=\"color: #008080; text-decoration-color: #008080; font-weight: bold\">268.225686</span>   \n",
              "V4380    <span style=\"color: #008080; text-decoration-color: #008080; font-weight: bold\">0.000000</span>    <span style=\"color: #008080; text-decoration-color: #008080; font-weight: bold\">0.000000</span>    <span style=\"color: #008080; text-decoration-color: #008080; font-weight: bold\">0.000000</span>    <span style=\"color: #008080; text-decoration-color: #008080; font-weight: bold\">0.000000</span>    <span style=\"color: #008080; text-decoration-color: #008080; font-weight: bold\">0.000000</span>  <span style=\"color: #008080; text-decoration-color: #008080; font-weight: bold\">268.385348</span>   \n",
              "\n",
              "       dlwrf_s2_1  dlwrf_s3_1  dlwrf_s4_1  dlwrf_s5_1  <span style=\"color: #808000; text-decoration-color: #808000\">...</span>  ulwrf_t2_1  \\\n",
              "V1     <span style=\"color: #008080; text-decoration-color: #008080; font-weight: bold\">246.514368</span>  <span style=\"color: #008080; text-decoration-color: #008080; font-weight: bold\">251.629031</span>  <span style=\"color: #008080; text-decoration-color: #008080; font-weight: bold\">264.832217</span>  <span style=\"color: #008080; text-decoration-color: #008080; font-weight: bold\">262.468350</span>  <span style=\"color: #808000; text-decoration-color: #808000\">...</span>  <span style=\"color: #008080; text-decoration-color: #008080; font-weight: bold\">249.504475</span>   \n",
              "V2     <span style=\"color: #008080; text-decoration-color: #008080; font-weight: bold\">282.460488</span>  <span style=\"color: #008080; text-decoration-color: #008080; font-weight: bold\">297.254822</span>  <span style=\"color: #008080; text-decoration-color: #008080; font-weight: bold\">315.532651</span>  <span style=\"color: #008080; text-decoration-color: #008080; font-weight: bold\">310.292719</span>  <span style=\"color: #808000; text-decoration-color: #808000\">...</span>  <span style=\"color: #008080; text-decoration-color: #008080; font-weight: bold\">200.094627</span>   \n",
              "V3     <span style=\"color: #008080; text-decoration-color: #008080; font-weight: bold\">215.177840</span>  <span style=\"color: #008080; text-decoration-color: #008080; font-weight: bold\">218.042184</span>  <span style=\"color: #008080; text-decoration-color: #008080; font-weight: bold\">245.620031</span>  <span style=\"color: #008080; text-decoration-color: #008080; font-weight: bold\">246.749223</span>  <span style=\"color: #808000; text-decoration-color: #808000\">...</span>  <span style=\"color: #008080; text-decoration-color: #008080; font-weight: bold\">232.556009</span>   \n",
              "V4     <span style=\"color: #008080; text-decoration-color: #008080; font-weight: bold\">261.169269</span>  <span style=\"color: #008080; text-decoration-color: #008080; font-weight: bold\">271.857217</span>  <span style=\"color: #008080; text-decoration-color: #008080; font-weight: bold\">258.001828</span>  <span style=\"color: #008080; text-decoration-color: #008080; font-weight: bold\">247.076775</span>  <span style=\"color: #808000; text-decoration-color: #808000\">...</span>  <span style=\"color: #008080; text-decoration-color: #008080; font-weight: bold\">235.189503</span>   \n",
              "V5     <span style=\"color: #008080; text-decoration-color: #008080; font-weight: bold\">235.563414</span>  <span style=\"color: #008080; text-decoration-color: #008080; font-weight: bold\">243.941731</span>  <span style=\"color: #008080; text-decoration-color: #008080; font-weight: bold\">266.031791</span>  <span style=\"color: #008080; text-decoration-color: #008080; font-weight: bold\">269.572826</span>  <span style=\"color: #808000; text-decoration-color: #808000\">...</span>  <span style=\"color: #008080; text-decoration-color: #008080; font-weight: bold\">230.797569</span>   \n",
              "<span style=\"color: #808000; text-decoration-color: #808000\">...</span>           <span style=\"color: #808000; text-decoration-color: #808000\">...</span>         <span style=\"color: #808000; text-decoration-color: #808000\">...</span>         <span style=\"color: #808000; text-decoration-color: #808000\">...</span>         <span style=\"color: #808000; text-decoration-color: #808000\">...</span>  <span style=\"color: #808000; text-decoration-color: #808000\">...</span>         <span style=\"color: #808000; text-decoration-color: #808000\">...</span>   \n",
              "V4376  <span style=\"color: #008080; text-decoration-color: #008080; font-weight: bold\">277.760515</span>  <span style=\"color: #008080; text-decoration-color: #008080; font-weight: bold\">293.636938</span>  <span style=\"color: #008080; text-decoration-color: #008080; font-weight: bold\">337.863753</span>  <span style=\"color: #008080; text-decoration-color: #008080; font-weight: bold\">330.097956</span>  <span style=\"color: #808000; text-decoration-color: #808000\">...</span>  <span style=\"color: #008080; text-decoration-color: #008080; font-weight: bold\">236.348444</span>   \n",
              "V4377  <span style=\"color: #008080; text-decoration-color: #008080; font-weight: bold\">244.463848</span>  <span style=\"color: #008080; text-decoration-color: #008080; font-weight: bold\">248.985195</span>  <span style=\"color: #008080; text-decoration-color: #008080; font-weight: bold\">266.057689</span>  <span style=\"color: #008080; text-decoration-color: #008080; font-weight: bold\">265.432201</span>  <span style=\"color: #808000; text-decoration-color: #808000\">...</span>  <span style=\"color: #008080; text-decoration-color: #008080; font-weight: bold\">243.310976</span>   \n",
              "V4378  <span style=\"color: #008080; text-decoration-color: #008080; font-weight: bold\">271.475733</span>  <span style=\"color: #008080; text-decoration-color: #008080; font-weight: bold\">274.081410</span>  <span style=\"color: #008080; text-decoration-color: #008080; font-weight: bold\">287.933849</span>  <span style=\"color: #008080; text-decoration-color: #008080; font-weight: bold\">284.624115</span>  <span style=\"color: #808000; text-decoration-color: #808000\">...</span>  <span style=\"color: #008080; text-decoration-color: #008080; font-weight: bold\">221.705779</span>   \n",
              "V4379  <span style=\"color: #008080; text-decoration-color: #008080; font-weight: bold\">263.890245</span>  <span style=\"color: #008080; text-decoration-color: #008080; font-weight: bold\">271.744013</span>  <span style=\"color: #008080; text-decoration-color: #008080; font-weight: bold\">291.337566</span>  <span style=\"color: #008080; text-decoration-color: #008080; font-weight: bold\">291.260448</span>  <span style=\"color: #808000; text-decoration-color: #808000\">...</span>  <span style=\"color: #008080; text-decoration-color: #008080; font-weight: bold\">257.707263</span>   \n",
              "V4380  <span style=\"color: #008080; text-decoration-color: #008080; font-weight: bold\">265.254364</span>  <span style=\"color: #008080; text-decoration-color: #008080; font-weight: bold\">271.679615</span>  <span style=\"color: #008080; text-decoration-color: #008080; font-weight: bold\">291.476737</span>  <span style=\"color: #008080; text-decoration-color: #008080; font-weight: bold\">288.541684</span>  <span style=\"color: #808000; text-decoration-color: #808000\">...</span>  <span style=\"color: #008080; text-decoration-color: #008080; font-weight: bold\">241.352363</span>   \n",
              "\n",
              "       ulwrf_t3_1  ulwrf_t4_1  ulwrf_t5_1  uswrf_s1_1  uswrf_s2_1  uswrf_s3_1  \\\n",
              "V1     <span style=\"color: #008080; text-decoration-color: #008080; font-weight: bold\">251.942089</span>  <span style=\"color: #008080; text-decoration-color: #008080; font-weight: bold\">258.069677</span>  <span style=\"color: #008080; text-decoration-color: #008080; font-weight: bold\">254.249663</span>         <span style=\"color: #008080; text-decoration-color: #008080; font-weight: bold\">0.0</span>    <span style=\"color: #008080; text-decoration-color: #008080; font-weight: bold\">9.181818</span>   <span style=\"color: #008080; text-decoration-color: #008080; font-weight: bold\">49.000000</span>   \n",
              "V2     <span style=\"color: #008080; text-decoration-color: #008080; font-weight: bold\">202.663639</span>  <span style=\"color: #008080; text-decoration-color: #008080; font-weight: bold\">196.833872</span>  <span style=\"color: #008080; text-decoration-color: #008080; font-weight: bold\">202.962007</span>         <span style=\"color: #008080; text-decoration-color: #008080; font-weight: bold\">0.0</span>    <span style=\"color: #008080; text-decoration-color: #008080; font-weight: bold\">4.545455</span>   <span style=\"color: #008080; text-decoration-color: #008080; font-weight: bold\">19.000000</span>   \n",
              "V3     <span style=\"color: #008080; text-decoration-color: #008080; font-weight: bold\">233.298932</span>  <span style=\"color: #008080; text-decoration-color: #008080; font-weight: bold\">211.631876</span>  <span style=\"color: #008080; text-decoration-color: #008080; font-weight: bold\">210.620375</span>         <span style=\"color: #008080; text-decoration-color: #008080; font-weight: bold\">0.0</span>   <span style=\"color: #008080; text-decoration-color: #008080; font-weight: bold\">13.909091</span>   <span style=\"color: #008080; text-decoration-color: #008080; font-weight: bold\">77.636364</span>   \n",
              "V4     <span style=\"color: #008080; text-decoration-color: #008080; font-weight: bold\">236.216754</span>  <span style=\"color: #008080; text-decoration-color: #008080; font-weight: bold\">244.018491</span>  <span style=\"color: #008080; text-decoration-color: #008080; font-weight: bold\">239.049223</span>         <span style=\"color: #008080; text-decoration-color: #008080; font-weight: bold\">0.0</span>    <span style=\"color: #008080; text-decoration-color: #008080; font-weight: bold\">5.454545</span>   <span style=\"color: #008080; text-decoration-color: #008080; font-weight: bold\">28.909091</span>   \n",
              "V5     <span style=\"color: #008080; text-decoration-color: #008080; font-weight: bold\">233.680077</span>  <span style=\"color: #008080; text-decoration-color: #008080; font-weight: bold\">252.037280</span>  <span style=\"color: #008080; text-decoration-color: #008080; font-weight: bold\">246.291591</span>         <span style=\"color: #008080; text-decoration-color: #008080; font-weight: bold\">0.0</span>    <span style=\"color: #008080; text-decoration-color: #008080; font-weight: bold\">9.000000</span>   <span style=\"color: #008080; text-decoration-color: #008080; font-weight: bold\">47.181818</span>   \n",
              "<span style=\"color: #808000; text-decoration-color: #808000\">...</span>           <span style=\"color: #808000; text-decoration-color: #808000\">...</span>         <span style=\"color: #808000; text-decoration-color: #808000\">...</span>         <span style=\"color: #808000; text-decoration-color: #808000\">...</span>         <span style=\"color: #808000; text-decoration-color: #808000\">...</span>         <span style=\"color: #808000; text-decoration-color: #808000\">...</span>         <span style=\"color: #808000; text-decoration-color: #808000\">...</span>   \n",
              "V4376  <span style=\"color: #008080; text-decoration-color: #008080; font-weight: bold\">224.870748</span>  <span style=\"color: #008080; text-decoration-color: #008080; font-weight: bold\">175.644218</span>  <span style=\"color: #008080; text-decoration-color: #008080; font-weight: bold\">190.153040</span>         <span style=\"color: #008080; text-decoration-color: #008080; font-weight: bold\">0.0</span>    <span style=\"color: #008080; text-decoration-color: #008080; font-weight: bold\">6.818182</span>   <span style=\"color: #008080; text-decoration-color: #008080; font-weight: bold\">28.545455</span>   \n",
              "V4377  <span style=\"color: #008080; text-decoration-color: #008080; font-weight: bold\">248.244164</span>  <span style=\"color: #008080; text-decoration-color: #008080; font-weight: bold\">263.429332</span>  <span style=\"color: #008080; text-decoration-color: #008080; font-weight: bold\">260.205636</span>         <span style=\"color: #008080; text-decoration-color: #008080; font-weight: bold\">0.0</span>   <span style=\"color: #008080; text-decoration-color: #008080; font-weight: bold\">10.000000</span>   <span style=\"color: #008080; text-decoration-color: #008080; font-weight: bold\">50.090909</span>   \n",
              "V4378  <span style=\"color: #008080; text-decoration-color: #008080; font-weight: bold\">236.372099</span>  <span style=\"color: #008080; text-decoration-color: #008080; font-weight: bold\">273.823583</span>  <span style=\"color: #008080; text-decoration-color: #008080; font-weight: bold\">274.388403</span>         <span style=\"color: #008080; text-decoration-color: #008080; font-weight: bold\">0.0</span>    <span style=\"color: #008080; text-decoration-color: #008080; font-weight: bold\">7.909091</span>   <span style=\"color: #008080; text-decoration-color: #008080; font-weight: bold\">46.909091</span>   \n",
              "V4379  <span style=\"color: #008080; text-decoration-color: #008080; font-weight: bold\">254.163126</span>  <span style=\"color: #008080; text-decoration-color: #008080; font-weight: bold\">281.832139</span>  <span style=\"color: #008080; text-decoration-color: #008080; font-weight: bold\">277.711556</span>         <span style=\"color: #008080; text-decoration-color: #008080; font-weight: bold\">0.0</span>    <span style=\"color: #008080; text-decoration-color: #008080; font-weight: bold\">9.727273</span>   <span style=\"color: #008080; text-decoration-color: #008080; font-weight: bold\">48.181818</span>   \n",
              "V4380  <span style=\"color: #008080; text-decoration-color: #008080; font-weight: bold\">245.428872</span>  <span style=\"color: #008080; text-decoration-color: #008080; font-weight: bold\">257.719322</span>  <span style=\"color: #008080; text-decoration-color: #008080; font-weight: bold\">257.394481</span>         <span style=\"color: #008080; text-decoration-color: #008080; font-weight: bold\">0.0</span>    <span style=\"color: #008080; text-decoration-color: #008080; font-weight: bold\">9.000000</span>   <span style=\"color: #008080; text-decoration-color: #008080; font-weight: bold\">47.000000</span>   \n",
              "\n",
              "       uswrf_s4_1  uswrf_s5_1    salida  \n",
              "V1     <span style=\"color: #008080; text-decoration-color: #008080; font-weight: bold\">103.000000</span>   <span style=\"color: #008080; text-decoration-color: #008080; font-weight: bold\">68.000000</span>  <span style=\"color: #008080; text-decoration-color: #008080; font-weight: bold\">11119200</span>  \n",
              "V2      <span style=\"color: #008080; text-decoration-color: #008080; font-weight: bold\">47.272727</span>   <span style=\"color: #008080; text-decoration-color: #008080; font-weight: bold\">32.909091</span>   <span style=\"color: #008080; text-decoration-color: #008080; font-weight: bold\">5530500</span>  \n",
              "V3     <span style=\"color: #008080; text-decoration-color: #008080; font-weight: bold\">141.090909</span>   <span style=\"color: #008080; text-decoration-color: #008080; font-weight: bold\">90.454545</span>   <span style=\"color: #008080; text-decoration-color: #008080; font-weight: bold\">5596200</span>  \n",
              "V4      <span style=\"color: #008080; text-decoration-color: #008080; font-weight: bold\">90.818182</span>   <span style=\"color: #008080; text-decoration-color: #008080; font-weight: bold\">62.636364</span>   <span style=\"color: #008080; text-decoration-color: #008080; font-weight: bold\">4360500</span>  \n",
              "V5     <span style=\"color: #008080; text-decoration-color: #008080; font-weight: bold\">102.272727</span>   <span style=\"color: #008080; text-decoration-color: #008080; font-weight: bold\">67.636364</span>  <span style=\"color: #008080; text-decoration-color: #008080; font-weight: bold\">10572300</span>  \n",
              "<span style=\"color: #808000; text-decoration-color: #808000\">...</span>           <span style=\"color: #808000; text-decoration-color: #808000\">...</span>         <span style=\"color: #808000; text-decoration-color: #808000\">...</span>       <span style=\"color: #808000; text-decoration-color: #808000\">...</span>  \n",
              "V4376   <span style=\"color: #008080; text-decoration-color: #008080; font-weight: bold\">27.181818</span>   <span style=\"color: #008080; text-decoration-color: #008080; font-weight: bold\">18.727273</span>   <span style=\"color: #008080; text-decoration-color: #008080; font-weight: bold\">3780900</span>  \n",
              "V4377  <span style=\"color: #008080; text-decoration-color: #008080; font-weight: bold\">104.545455</span>   <span style=\"color: #008080; text-decoration-color: #008080; font-weight: bold\">68.454545</span>  <span style=\"color: #008080; text-decoration-color: #008080; font-weight: bold\">11463300</span>  \n",
              "V4378  <span style=\"color: #008080; text-decoration-color: #008080; font-weight: bold\">102.000000</span>   <span style=\"color: #008080; text-decoration-color: #008080; font-weight: bold\">67.000000</span>  <span style=\"color: #008080; text-decoration-color: #008080; font-weight: bold\">11071200</span>  \n",
              "V4379  <span style=\"color: #008080; text-decoration-color: #008080; font-weight: bold\">104.909091</span>   <span style=\"color: #008080; text-decoration-color: #008080; font-weight: bold\">68.818182</span>  <span style=\"color: #008080; text-decoration-color: #008080; font-weight: bold\">11222700</span>  \n",
              "V4380   <span style=\"color: #008080; text-decoration-color: #008080; font-weight: bold\">98.636364</span>   <span style=\"color: #008080; text-decoration-color: #008080; font-weight: bold\">64.818182</span>  <span style=\"color: #008080; text-decoration-color: #008080; font-weight: bold\">10770600</span>  \n",
              "\n",
              "<span style=\"font-weight: bold\">[</span><span style=\"color: #008080; text-decoration-color: #008080; font-weight: bold\">4380</span> rows x <span style=\"color: #008080; text-decoration-color: #008080; font-weight: bold\">41</span> columns<span style=\"font-weight: bold\">]</span>\n",
              "</pre>\n"
            ]
          },
          "metadata": {}
        },
        {
          "output_type": "display_data",
          "data": {
            "text/plain": [
              "\u001b[1m(\u001b[0m\u001b[1;36m4380\u001b[0m, \u001b[1;36m41\u001b[0m\u001b[1m)\u001b[0m\n"
            ],
            "text/html": [
              "<pre style=\"white-space:pre;overflow-x:auto;line-height:normal;font-family:Menlo,'DejaVu Sans Mono',consolas,'Courier New',monospace\"><span style=\"font-weight: bold\">(</span><span style=\"color: #008080; text-decoration-color: #008080; font-weight: bold\">4380</span>, <span style=\"color: #008080; text-decoration-color: #008080; font-weight: bold\">41</span><span style=\"font-weight: bold\">)</span>\n",
              "</pre>\n"
            ]
          },
          "metadata": {}
        }
      ]
    },
    {
      "cell_type": "markdown",
      "source": [
        "A continuación, realizaremos el entrenamiento con y sin ajuste para cada método; posteriormente calcularemos los ratios entre los errores con el dataframe original y el reducido."
      ],
      "metadata": {
        "id": "N59EDlV_Eztp"
      }
    },
    {
      "cell_type": "markdown",
      "source": [
        "### **KNN**"
      ],
      "metadata": {
        "id": "cwFwba5IGsmP"
      }
    },
    {
      "cell_type": "code",
      "source": [
        "print('\\n[bold green]KNN\\n-----[/bold green]')\n",
        "\n",
        "knn_model_r = KNeighborsRegressor()\n",
        "start = time.time()\n",
        "knn_model_r.fit(X_train_train_r_n, y_train_train_r_n)\n",
        "end = time.time()\n",
        "time_knn_r = end - start\n",
        "\n",
        "print(f'Tiempo de entrenamiento: {time_knn_r:.5f} segundos.')\n",
        "\n",
        "knn_preds_r_n = knn_model_r.predict(X_train_validation_r_n)\n",
        "knn_preds_r = scaler_r.inverse_transform(knn_preds_r_n)\n",
        "mae_knn_r = mae(y_train_validation_r, knn_preds_r)\n",
        "rmse_knn_r = rmse(y_train_validation_r, knn_preds_r)\n",
        "\n",
        "\n",
        "#ajuste de hiperparametros\n",
        "print('\\n[bold green]Ajuste de hiperparámetros KNN\\n---------------------------[/bold green]')\n",
        "\n",
        "# Definimos el diccionario de los valores de los hiperparámetros que queremos probar.\n",
        "param_grid = {\n",
        "    'n_neighbors': [1, 2, 3, 4, 5, 6],\n",
        "    'weights': ['uniform', 'distance'],\n",
        "    'metric': ['euclidean', 'manhattan', 'chebyshev', 'minkowski'],\n",
        "    'leaf_size': [1, 2, 5, 10, 20, 30, 40],\n",
        "    'p':[1, 2]\n",
        "}\n",
        "\n",
        "# Definimos el modelo.\n",
        "model = KNeighborsRegressor()\n",
        "\n",
        "# Definimos el grid search.\n",
        "grid = GridSearchCV(estimator=model,\n",
        "                    param_grid=param_grid,\n",
        "                    cv=ps,\n",
        "                    scoring='neg_mean_absolute_error',\n",
        "                    verbose=1,\n",
        "                    n_jobs=-1)\n",
        "\n",
        "# Entrenamos el grid search.\n",
        "grid_result = grid.fit(X_train_r_n, y_train_r_n)\n",
        "\n",
        "print(f'\\nMejores hiperparámetros: {grid_result.best_params_}')\n",
        "\n",
        "# Definir modelo KNN con los mejores hiperparámetros\n",
        "model = KNeighborsRegressor(n_neighbors=grid_result.best_params_['n_neighbors'],\n",
        "                            weights=grid_result.best_params_['weights'],\n",
        "                            p=grid_result.best_params_['p'],\n",
        "                            metric=grid_result.best_params_['metric'],\n",
        "                            leaf_size=grid_result.best_params_['leaf_size'])\n",
        "\n",
        "model.fit(X_train_train_r_n, y_train_train_r_n)\n",
        "\n",
        "y_pred_n = model.predict(X_train_validation_r_n)\n",
        "\n",
        "# Denormalizar la predicción del modelo.\n",
        "y_pred = scaler_r.inverse_transform(y_pred_n)\n",
        "\n",
        "# Calcular el error cuadrático medio en la escala original.\n",
        "rmse_knn_a_r = rmse(y_train_validation_r, y_pred)\n",
        "\n",
        "# Calcular el error absoluto medio en la escala original.\n",
        "mae_knn_a_r = mae(y_train_validation_r, y_pred)"
      ],
      "metadata": {
        "colab": {
          "base_uri": "https://localhost:8080/",
          "height": 130
        },
        "id": "tytpJxaLGekb",
        "outputId": "2c645cd4-d8ae-426a-8360-a623b0a040d5"
      },
      "execution_count": 44,
      "outputs": [
        {
          "output_type": "display_data",
          "data": {
            "text/plain": [
              "\n",
              "\u001b[1;32mKNN\u001b[0m\n",
              "\u001b[1;32m-----\u001b[0m\n"
            ],
            "text/html": [
              "<pre style=\"white-space:pre;overflow-x:auto;line-height:normal;font-family:Menlo,'DejaVu Sans Mono',consolas,'Courier New',monospace\">\n",
              "<span style=\"color: #008000; text-decoration-color: #008000; font-weight: bold\">KNN</span>\n",
              "<span style=\"color: #008000; text-decoration-color: #008000; font-weight: bold\">-----</span>\n",
              "</pre>\n"
            ]
          },
          "metadata": {}
        },
        {
          "output_type": "display_data",
          "data": {
            "text/plain": [
              "Tiempo de entrenamiento: \u001b[1;36m0.00174\u001b[0m segundos.\n"
            ],
            "text/html": [
              "<pre style=\"white-space:pre;overflow-x:auto;line-height:normal;font-family:Menlo,'DejaVu Sans Mono',consolas,'Courier New',monospace\">Tiempo de entrenamiento: <span style=\"color: #008080; text-decoration-color: #008080; font-weight: bold\">0.00174</span> segundos.\n",
              "</pre>\n"
            ]
          },
          "metadata": {}
        },
        {
          "output_type": "display_data",
          "data": {
            "text/plain": [
              "\n",
              "\u001b[1;32mAjuste de hiperparámetros KNN\u001b[0m\n",
              "\u001b[1;32m---------------------------\u001b[0m\n"
            ],
            "text/html": [
              "<pre style=\"white-space:pre;overflow-x:auto;line-height:normal;font-family:Menlo,'DejaVu Sans Mono',consolas,'Courier New',monospace\">\n",
              "<span style=\"color: #008000; text-decoration-color: #008000; font-weight: bold\">Ajuste de hiperparámetros KNN</span>\n",
              "<span style=\"color: #008000; text-decoration-color: #008000; font-weight: bold\">---------------------------</span>\n",
              "</pre>\n"
            ]
          },
          "metadata": {}
        },
        {
          "output_type": "stream",
          "name": "stdout",
          "text": [
            "Fitting 1 folds for each of 672 candidates, totalling 672 fits\n"
          ]
        },
        {
          "output_type": "display_data",
          "data": {
            "text/plain": [
              "\n",
              "Mejores hiperparámetros: \u001b[1m{\u001b[0m\u001b[32m'leaf_size'\u001b[0m: \u001b[1;36m1\u001b[0m, \u001b[32m'metric'\u001b[0m: \u001b[32m'manhattan'\u001b[0m, \u001b[32m'n_neighbors'\u001b[0m: \u001b[1;36m6\u001b[0m, \u001b[32m'p'\u001b[0m: \u001b[1;36m1\u001b[0m, \u001b[32m'weights'\u001b[0m: \u001b[32m'distance'\u001b[0m\u001b[1m}\u001b[0m\n"
            ],
            "text/html": [
              "<pre style=\"white-space:pre;overflow-x:auto;line-height:normal;font-family:Menlo,'DejaVu Sans Mono',consolas,'Courier New',monospace\">\n",
              "Mejores hiperparámetros: <span style=\"font-weight: bold\">{</span><span style=\"color: #008000; text-decoration-color: #008000\">'leaf_size'</span>: <span style=\"color: #008080; text-decoration-color: #008080; font-weight: bold\">1</span>, <span style=\"color: #008000; text-decoration-color: #008000\">'metric'</span>: <span style=\"color: #008000; text-decoration-color: #008000\">'manhattan'</span>, <span style=\"color: #008000; text-decoration-color: #008000\">'n_neighbors'</span>: <span style=\"color: #008080; text-decoration-color: #008080; font-weight: bold\">6</span>, <span style=\"color: #008000; text-decoration-color: #008000\">'p'</span>: <span style=\"color: #008080; text-decoration-color: #008080; font-weight: bold\">1</span>, <span style=\"color: #008000; text-decoration-color: #008000\">'weights'</span>: <span style=\"color: #008000; text-decoration-color: #008000\">'distance'</span><span style=\"font-weight: bold\">}</span>\n",
              "</pre>\n"
            ]
          },
          "metadata": {}
        }
      ]
    },
    {
      "cell_type": "markdown",
      "source": [
        "### **Árboles de regresión**"
      ],
      "metadata": {
        "id": "WCFk-D7gGqmt"
      }
    },
    {
      "cell_type": "code",
      "source": [
        "print('\\n[bold green]Árbol de decisión\\n------------------[/bold green]')\n",
        "tree_model_r = DecisionTreeRegressor()\n",
        "start = time.time()\n",
        "tree_model_r.fit(X_train_train_r, y_train_train_r)\n",
        "end = time.time()\n",
        "time_tree_r = end - start\n",
        "\n",
        "print(f'Tiempo de entrenamiento: {time_tree_r:.5f} segundos.')\n",
        "\n",
        "tree_preds_r = tree_model_r.predict(X_train_validation_r)\n",
        "mae_tree_r = mae(y_train_validation_r, tree_preds_r)\n",
        "rmse_tree_r = rmse(y_train_validation_r, tree_preds_r)\n",
        "\n",
        "#ajuste de hiperparametros\n",
        "print('\\n[bold green]Ajuste de hiperparámetros Árbol de decisión\\n---------------------------[/bold green]')\n",
        "\n",
        "# Definimos el diccionario de los valores de los hiperparámetros que queremos probar.\n",
        "param_grid = {\n",
        "    'max_depth': [1, 2, 5, 8, 10, 15, 20, 40],\n",
        "    'min_samples_split': [2, 3, 4, 5, 6, 7, 8, 9, 10],\n",
        "    'min_samples_leaf': [1, 2, 5, 8, 10, 15, 20, 40],\n",
        "}\n",
        "\n",
        "# Definimos el modelo.\n",
        "model = DecisionTreeRegressor()\n",
        "\n",
        "# Definimos el grid search.\n",
        "grid = GridSearchCV(estimator=model,\n",
        "                    param_grid=param_grid,\n",
        "                    cv=ps,\n",
        "                    scoring='neg_mean_absolute_error',\n",
        "                    verbose=1,\n",
        "                    n_jobs=-1)\n",
        "\n",
        "# Entrenamos el grid search.\n",
        "grid_result = grid.fit(X_train_r, y_train_r)\n",
        "\n",
        "# Mejores hiperparámetros.\n",
        "print(f'\\nMejores hiperparámetros: {grid_result.best_params_}')\n",
        "\n",
        "# Obtener la mejor configuración de hiperparámetros y hacer una predicción en los datos de prueba.\n",
        "model = DecisionTreeRegressor(max_depth=grid_result.best_params_['max_depth'],\n",
        "                              min_samples_split=grid_result.best_params_['min_samples_split'],\n",
        "                              min_samples_leaf=grid_result.best_params_['min_samples_leaf'])\n",
        "\n",
        "model.fit(X_train_train_r, y_train_train_r)\n",
        "\n",
        "y_pred = model.predict(X_train_validation_r)\n",
        "\n",
        "# Calcular el error cuadrático medio en la escala original.\n",
        "rmse_tree_a_r = rmse(y_train_validation_r, y_pred)\n",
        "\n",
        "# Calcular el error absoluto medio en la escala original.\n",
        "mae_tree_a_r = mae(y_train_validation_r, y_pred)"
      ],
      "metadata": {
        "colab": {
          "base_uri": "https://localhost:8080/",
          "height": 130
        },
        "id": "MYZiBtmrGpZZ",
        "outputId": "bb69aba5-4f23-4251-eb84-b6e74a4e7208"
      },
      "execution_count": 45,
      "outputs": [
        {
          "output_type": "display_data",
          "data": {
            "text/plain": [
              "\n",
              "\u001b[1;32mÁrbol de decisión\u001b[0m\n",
              "\u001b[1;32m------------------\u001b[0m\n"
            ],
            "text/html": [
              "<pre style=\"white-space:pre;overflow-x:auto;line-height:normal;font-family:Menlo,'DejaVu Sans Mono',consolas,'Courier New',monospace\">\n",
              "<span style=\"color: #008000; text-decoration-color: #008000; font-weight: bold\">Árbol de decisión</span>\n",
              "<span style=\"color: #008000; text-decoration-color: #008000; font-weight: bold\">------------------</span>\n",
              "</pre>\n"
            ]
          },
          "metadata": {}
        },
        {
          "output_type": "display_data",
          "data": {
            "text/plain": [
              "Tiempo de entrenamiento: \u001b[1;36m0.11275\u001b[0m segundos.\n"
            ],
            "text/html": [
              "<pre style=\"white-space:pre;overflow-x:auto;line-height:normal;font-family:Menlo,'DejaVu Sans Mono',consolas,'Courier New',monospace\">Tiempo de entrenamiento: <span style=\"color: #008080; text-decoration-color: #008080; font-weight: bold\">0.11275</span> segundos.\n",
              "</pre>\n"
            ]
          },
          "metadata": {}
        },
        {
          "output_type": "display_data",
          "data": {
            "text/plain": [
              "\n",
              "\u001b[1;32mAjuste de hiperparámetros Árbol de decisión\u001b[0m\n",
              "\u001b[1;32m---------------------------\u001b[0m\n"
            ],
            "text/html": [
              "<pre style=\"white-space:pre;overflow-x:auto;line-height:normal;font-family:Menlo,'DejaVu Sans Mono',consolas,'Courier New',monospace\">\n",
              "<span style=\"color: #008000; text-decoration-color: #008000; font-weight: bold\">Ajuste de hiperparámetros Árbol de decisión</span>\n",
              "<span style=\"color: #008000; text-decoration-color: #008000; font-weight: bold\">---------------------------</span>\n",
              "</pre>\n"
            ]
          },
          "metadata": {}
        },
        {
          "output_type": "stream",
          "name": "stdout",
          "text": [
            "Fitting 1 folds for each of 576 candidates, totalling 576 fits\n"
          ]
        },
        {
          "output_type": "display_data",
          "data": {
            "text/plain": [
              "\n",
              "Mejores hiperparámetros: \u001b[1m{\u001b[0m\u001b[32m'max_depth'\u001b[0m: \u001b[1;36m15\u001b[0m, \u001b[32m'min_samples_leaf'\u001b[0m: \u001b[1;36m20\u001b[0m, \u001b[32m'min_samples_split'\u001b[0m: \u001b[1;36m2\u001b[0m\u001b[1m}\u001b[0m\n"
            ],
            "text/html": [
              "<pre style=\"white-space:pre;overflow-x:auto;line-height:normal;font-family:Menlo,'DejaVu Sans Mono',consolas,'Courier New',monospace\">\n",
              "Mejores hiperparámetros: <span style=\"font-weight: bold\">{</span><span style=\"color: #008000; text-decoration-color: #008000\">'max_depth'</span>: <span style=\"color: #008080; text-decoration-color: #008080; font-weight: bold\">15</span>, <span style=\"color: #008000; text-decoration-color: #008000\">'min_samples_leaf'</span>: <span style=\"color: #008080; text-decoration-color: #008080; font-weight: bold\">20</span>, <span style=\"color: #008000; text-decoration-color: #008000\">'min_samples_split'</span>: <span style=\"color: #008080; text-decoration-color: #008080; font-weight: bold\">2</span><span style=\"font-weight: bold\">}</span>\n",
              "</pre>\n"
            ]
          },
          "metadata": {}
        }
      ]
    },
    {
      "cell_type": "markdown",
      "source": [
        "### **Regresión Lineal**"
      ],
      "metadata": {
        "id": "6zfVUV9EHYDd"
      }
    },
    {
      "cell_type": "code",
      "source": [
        "print('\\n[bold green]Regresión lineal\\n------------------[/bold green]')\n",
        "\n",
        "linear_model_r = LinearRegression()\n",
        "start = time.time()\n",
        "linear_model_r.fit(X_train_train_r_n, y_train_train_r_n)\n",
        "end = time.time()\n",
        "time_linear_r = end - start\n",
        "\n",
        "print(f'Tiempo de entrenamiento: {time_linear_r:.5f} segundos.')\n",
        "\n",
        "linear_preds_r_n = linear_model_r.predict(X_train_validation_r_n)\n",
        "linear_preds_r = scaler_r.inverse_transform(linear_preds_r_n)\n",
        "mae_linear_r = mae(y_train_validation_r, linear_preds_r)\n",
        "rmse_linear_r = rmse(y_train_validation_r, linear_preds_r)\n",
        "\n",
        "#ajuste de hiperparametros\n",
        "print('\\n[bold green]Ajuste de hiperparámetros Regresión lineal\\n---------------------------[/bold green]')\n",
        "\n",
        "# Definimos el diccionario de los valores de los hiperparámetros que queremos probar.\n",
        "param_grid = {\n",
        "    'fit_intercept':  [True, False],\n",
        "    'positive': [True, False],\n",
        "}\n",
        "\n",
        "# Definimos el modelo.\n",
        "model = LinearRegression()\n",
        "\n",
        "# Definimos el grid search.\n",
        "grid = GridSearchCV(estimator=model,\n",
        "                    param_grid=param_grid,\n",
        "                    cv=ps,\n",
        "                    scoring='neg_mean_absolute_error',\n",
        "                    verbose=1,\n",
        "                    n_jobs=-1)\n",
        "\n",
        "# Entrenamos el grid search.\n",
        "grid_result = grid.fit(X_train_r_n, y_train_r_n)\n",
        "\n",
        "# Mejores hiperparámetros.\n",
        "print(f'\\nMejores hiperparámetros: {grid_result.best_params_}')\n",
        "\n",
        "# Obtener la mejor configuración de hiperparámetros y hacer una predicción en los datos de prueba.\n",
        "model = LinearRegression(fit_intercept=grid_result.best_params_['fit_intercept'],\n",
        "                         positive=grid_result.best_params_['positive'])\n",
        "\n",
        "model.fit(X_train_train_r_n, y_train_train_r_n)\n",
        "\n",
        "y_pred_n = model.predict(X_train_validation_r_n)\n",
        "\n",
        "# Desnormalizar las predicciones.\n",
        "y_pred = scaler.inverse_transform(y_pred_n)\n",
        "\n",
        "# Calcular el error cuadrático medio en la escala original.\n",
        "rmse_linear_a_r = rmse(y_train_validation_r, y_pred)\n",
        "\n",
        "# Calcular el error absoluto medio en la escala original.\n",
        "mae_linear_a_r = mae(y_train_validation_r, y_pred)"
      ],
      "metadata": {
        "colab": {
          "base_uri": "https://localhost:8080/",
          "height": 130
        },
        "id": "ZeONH2KwHkvN",
        "outputId": "cf95ca2b-88cc-4717-b416-0cea1a78fa26"
      },
      "execution_count": 46,
      "outputs": [
        {
          "output_type": "display_data",
          "data": {
            "text/plain": [
              "\n",
              "\u001b[1;32mRegresión lineal\u001b[0m\n",
              "\u001b[1;32m------------------\u001b[0m\n"
            ],
            "text/html": [
              "<pre style=\"white-space:pre;overflow-x:auto;line-height:normal;font-family:Menlo,'DejaVu Sans Mono',consolas,'Courier New',monospace\">\n",
              "<span style=\"color: #008000; text-decoration-color: #008000; font-weight: bold\">Regresión lineal</span>\n",
              "<span style=\"color: #008000; text-decoration-color: #008000; font-weight: bold\">------------------</span>\n",
              "</pre>\n"
            ]
          },
          "metadata": {}
        },
        {
          "output_type": "display_data",
          "data": {
            "text/plain": [
              "Tiempo de entrenamiento: \u001b[1;36m0.01234\u001b[0m segundos.\n"
            ],
            "text/html": [
              "<pre style=\"white-space:pre;overflow-x:auto;line-height:normal;font-family:Menlo,'DejaVu Sans Mono',consolas,'Courier New',monospace\">Tiempo de entrenamiento: <span style=\"color: #008080; text-decoration-color: #008080; font-weight: bold\">0.01234</span> segundos.\n",
              "</pre>\n"
            ]
          },
          "metadata": {}
        },
        {
          "output_type": "display_data",
          "data": {
            "text/plain": [
              "\n",
              "\u001b[1;32mAjuste de hiperparámetros Regresión lineal\u001b[0m\n",
              "\u001b[1;32m---------------------------\u001b[0m\n"
            ],
            "text/html": [
              "<pre style=\"white-space:pre;overflow-x:auto;line-height:normal;font-family:Menlo,'DejaVu Sans Mono',consolas,'Courier New',monospace\">\n",
              "<span style=\"color: #008000; text-decoration-color: #008000; font-weight: bold\">Ajuste de hiperparámetros Regresión lineal</span>\n",
              "<span style=\"color: #008000; text-decoration-color: #008000; font-weight: bold\">---------------------------</span>\n",
              "</pre>\n"
            ]
          },
          "metadata": {}
        },
        {
          "output_type": "stream",
          "name": "stdout",
          "text": [
            "Fitting 1 folds for each of 4 candidates, totalling 4 fits\n"
          ]
        },
        {
          "output_type": "display_data",
          "data": {
            "text/plain": [
              "\n",
              "Mejores hiperparámetros: \u001b[1m{\u001b[0m\u001b[32m'fit_intercept'\u001b[0m: \u001b[3;91mFalse\u001b[0m, \u001b[32m'positive'\u001b[0m: \u001b[3;91mFalse\u001b[0m\u001b[1m}\u001b[0m\n"
            ],
            "text/html": [
              "<pre style=\"white-space:pre;overflow-x:auto;line-height:normal;font-family:Menlo,'DejaVu Sans Mono',consolas,'Courier New',monospace\">\n",
              "Mejores hiperparámetros: <span style=\"font-weight: bold\">{</span><span style=\"color: #008000; text-decoration-color: #008000\">'fit_intercept'</span>: <span style=\"color: #ff0000; text-decoration-color: #ff0000; font-style: italic\">False</span>, <span style=\"color: #008000; text-decoration-color: #008000\">'positive'</span>: <span style=\"color: #ff0000; text-decoration-color: #ff0000; font-style: italic\">False</span><span style=\"font-weight: bold\">}</span>\n",
              "</pre>\n"
            ]
          },
          "metadata": {}
        }
      ]
    },
    {
      "cell_type": "markdown",
      "source": [
        "### **Comparativa de resultados**"
      ],
      "metadata": {
        "id": "lsIZl1KCHvO7"
      }
    },
    {
      "cell_type": "code",
      "source": [
        "print('[bold red]' + '-' * 60 +'\\nComparación de los resultados con y sin reducción de la dimensionalidad.\\n' + '-' * 60 + '[/bold red]')\n",
        "\n",
        "print('[bold blue]KNN\\n------------------[/bold blue]')\n",
        "\n",
        "print('[red]\\nRatio rsme_knn_r / rmse_knn: ' + '[/red]' + str(rmse_knn_r / rmse_knn))\n",
        "print('[red]Ratio mae_knn_r / mae_knn: ' + '[/red]' + str(mae_knn_r / mae_knn))\n",
        "\n",
        "print('[red]\\nRatio rsme_knn_a_r / rmse_knn_a: ' + '[/red]' + str(rmse_knn_a_r / rmse_knn_a))\n",
        "print('[red]Ratio mae_knn_a_r / mae_knn_a: ' + '[/red]' + str(mae_knn_a_r / mae_knn_a))\n",
        "\n",
        "print('[bold blue]\\nÁrbol de decisión\\n------------------[/bold blue]')\n",
        "\n",
        "print('[red]\\nRatio rsme_tree_r / rmse_tree: ' + '[/red]' + str(rmse_tree_r / rmse_tree))\n",
        "print('[red]Ratio mae_tree_r / mae_tree: ' + '[/red]' + str(mae_tree_r / mae_tree))\n",
        "\n",
        "print('[red]\\nRatio rsme_tree_a_r / rmse_tree_a: ' + '[/red]' + str(rmse_tree_a_r / rmse_tree_a))\n",
        "print('[red]Ratio mae_tree_a_r / mae_tree_a: ' + '[/red]' + str(mae_tree_a_r / mae_tree_a))\n",
        "\n",
        "print('[bold blue]\\nRegresión lineal\\n------------------[/bold blue]')\n",
        "\n",
        "print('[red]\\nRatio rsme_linear_r / rmse_linear: ' + '[/red]' + str(rmse_linear_r / rmse_linear))\n",
        "print('[red]Ratio mae_linear_r / mae_linear: ' + '[/red]' + str(mae_linear_r / mae_linear))\n",
        "\n",
        "print('[red]\\nRatio rsme_linear_a_r / rmse_linear_a: ' + '[/red]' + str(rmse_linear_a_r / rmse_linear_a))\n",
        "print('[red]Ratio mae_linear_a_r / mae_linear_a: ' + '[/red]' + str(mae_linear_a_r / mae_linear_a))\n"
      ],
      "metadata": {
        "colab": {
          "base_uri": "https://localhost:8080/",
          "height": 353
        },
        "id": "dDyI9CRFIG97",
        "outputId": "be65e200-d672-462b-b18c-f51b52308654"
      },
      "execution_count": 47,
      "outputs": [
        {
          "output_type": "display_data",
          "data": {
            "text/plain": [
              "\u001b[1;31m------------------------------------------------------------\u001b[0m\n",
              "\u001b[1;31mComparación de los resultados con y sin reducción de la dimensionalidad.\u001b[0m\n",
              "\u001b[1;31m------------------------------------------------------------\u001b[0m\n"
            ],
            "text/html": [
              "<pre style=\"white-space:pre;overflow-x:auto;line-height:normal;font-family:Menlo,'DejaVu Sans Mono',consolas,'Courier New',monospace\"><span style=\"color: #800000; text-decoration-color: #800000; font-weight: bold\">------------------------------------------------------------</span>\n",
              "<span style=\"color: #800000; text-decoration-color: #800000; font-weight: bold\">Comparación de los resultados con y sin reducción de la dimensionalidad.</span>\n",
              "<span style=\"color: #800000; text-decoration-color: #800000; font-weight: bold\">------------------------------------------------------------</span>\n",
              "</pre>\n"
            ]
          },
          "metadata": {}
        },
        {
          "output_type": "display_data",
          "data": {
            "text/plain": [
              "\u001b[1;34mKNN\u001b[0m\n",
              "\u001b[1;34m------------------\u001b[0m\n"
            ],
            "text/html": [
              "<pre style=\"white-space:pre;overflow-x:auto;line-height:normal;font-family:Menlo,'DejaVu Sans Mono',consolas,'Courier New',monospace\"><span style=\"color: #000080; text-decoration-color: #000080; font-weight: bold\">KNN</span>\n",
              "<span style=\"color: #000080; text-decoration-color: #000080; font-weight: bold\">------------------</span>\n",
              "</pre>\n"
            ]
          },
          "metadata": {}
        },
        {
          "output_type": "display_data",
          "data": {
            "text/plain": [
              "\n",
              "\u001b[31mRatio rsme_knn_r \u001b[0m\u001b[31m/\u001b[0m\u001b[31m rmse_knn: \u001b[0m\u001b[1;36m1.0002918774283813\u001b[0m\n"
            ],
            "text/html": [
              "<pre style=\"white-space:pre;overflow-x:auto;line-height:normal;font-family:Menlo,'DejaVu Sans Mono',consolas,'Courier New',monospace\">\n",
              "<span style=\"color: #800000; text-decoration-color: #800000\">Ratio rsme_knn_r / rmse_knn: </span><span style=\"color: #008080; text-decoration-color: #008080; font-weight: bold\">1.0002918774283813</span>\n",
              "</pre>\n"
            ]
          },
          "metadata": {}
        },
        {
          "output_type": "display_data",
          "data": {
            "text/plain": [
              "\u001b[31mRatio mae_knn_r \u001b[0m\u001b[31m/\u001b[0m\u001b[31m mae_knn: \u001b[0m\u001b[1;36m0.9935192605843362\u001b[0m\n"
            ],
            "text/html": [
              "<pre style=\"white-space:pre;overflow-x:auto;line-height:normal;font-family:Menlo,'DejaVu Sans Mono',consolas,'Courier New',monospace\"><span style=\"color: #800000; text-decoration-color: #800000\">Ratio mae_knn_r / mae_knn: </span><span style=\"color: #008080; text-decoration-color: #008080; font-weight: bold\">0.9935192605843362</span>\n",
              "</pre>\n"
            ]
          },
          "metadata": {}
        },
        {
          "output_type": "display_data",
          "data": {
            "text/plain": [
              "\n",
              "\u001b[31mRatio rsme_knn_a_r \u001b[0m\u001b[31m/\u001b[0m\u001b[31m rmse_knn_a: \u001b[0m\u001b[1;36m1.05669633143254\u001b[0m\n"
            ],
            "text/html": [
              "<pre style=\"white-space:pre;overflow-x:auto;line-height:normal;font-family:Menlo,'DejaVu Sans Mono',consolas,'Courier New',monospace\">\n",
              "<span style=\"color: #800000; text-decoration-color: #800000\">Ratio rsme_knn_a_r / rmse_knn_a: </span><span style=\"color: #008080; text-decoration-color: #008080; font-weight: bold\">1.05669633143254</span>\n",
              "</pre>\n"
            ]
          },
          "metadata": {}
        },
        {
          "output_type": "display_data",
          "data": {
            "text/plain": [
              "\u001b[31mRatio mae_knn_a_r \u001b[0m\u001b[31m/\u001b[0m\u001b[31m mae_knn_a: \u001b[0m\u001b[1;36m1.0374803891834545\u001b[0m\n"
            ],
            "text/html": [
              "<pre style=\"white-space:pre;overflow-x:auto;line-height:normal;font-family:Menlo,'DejaVu Sans Mono',consolas,'Courier New',monospace\"><span style=\"color: #800000; text-decoration-color: #800000\">Ratio mae_knn_a_r / mae_knn_a: </span><span style=\"color: #008080; text-decoration-color: #008080; font-weight: bold\">1.0374803891834545</span>\n",
              "</pre>\n"
            ]
          },
          "metadata": {}
        },
        {
          "output_type": "display_data",
          "data": {
            "text/plain": [
              "\n",
              "\u001b[1;34mÁrbol de decisión\u001b[0m\n",
              "\u001b[1;34m------------------\u001b[0m\n"
            ],
            "text/html": [
              "<pre style=\"white-space:pre;overflow-x:auto;line-height:normal;font-family:Menlo,'DejaVu Sans Mono',consolas,'Courier New',monospace\">\n",
              "<span style=\"color: #000080; text-decoration-color: #000080; font-weight: bold\">Árbol de decisión</span>\n",
              "<span style=\"color: #000080; text-decoration-color: #000080; font-weight: bold\">------------------</span>\n",
              "</pre>\n"
            ]
          },
          "metadata": {}
        },
        {
          "output_type": "display_data",
          "data": {
            "text/plain": [
              "\n",
              "\u001b[31mRatio rsme_tree_r \u001b[0m\u001b[31m/\u001b[0m\u001b[31m rmse_tree: \u001b[0m\u001b[1;36m0.9877385993517647\u001b[0m\n"
            ],
            "text/html": [
              "<pre style=\"white-space:pre;overflow-x:auto;line-height:normal;font-family:Menlo,'DejaVu Sans Mono',consolas,'Courier New',monospace\">\n",
              "<span style=\"color: #800000; text-decoration-color: #800000\">Ratio rsme_tree_r / rmse_tree: </span><span style=\"color: #008080; text-decoration-color: #008080; font-weight: bold\">0.9877385993517647</span>\n",
              "</pre>\n"
            ]
          },
          "metadata": {}
        },
        {
          "output_type": "display_data",
          "data": {
            "text/plain": [
              "\u001b[31mRatio mae_tree_r \u001b[0m\u001b[31m/\u001b[0m\u001b[31m mae_tree: \u001b[0m\u001b[1;36m0.980124949749131\u001b[0m\n"
            ],
            "text/html": [
              "<pre style=\"white-space:pre;overflow-x:auto;line-height:normal;font-family:Menlo,'DejaVu Sans Mono',consolas,'Courier New',monospace\"><span style=\"color: #800000; text-decoration-color: #800000\">Ratio mae_tree_r / mae_tree: </span><span style=\"color: #008080; text-decoration-color: #008080; font-weight: bold\">0.980124949749131</span>\n",
              "</pre>\n"
            ]
          },
          "metadata": {}
        },
        {
          "output_type": "display_data",
          "data": {
            "text/plain": [
              "\n",
              "\u001b[31mRatio rsme_tree_a_r \u001b[0m\u001b[31m/\u001b[0m\u001b[31m rmse_tree_a: \u001b[0m\u001b[1;36m0.9969750436306664\u001b[0m\n"
            ],
            "text/html": [
              "<pre style=\"white-space:pre;overflow-x:auto;line-height:normal;font-family:Menlo,'DejaVu Sans Mono',consolas,'Courier New',monospace\">\n",
              "<span style=\"color: #800000; text-decoration-color: #800000\">Ratio rsme_tree_a_r / rmse_tree_a: </span><span style=\"color: #008080; text-decoration-color: #008080; font-weight: bold\">0.9969750436306664</span>\n",
              "</pre>\n"
            ]
          },
          "metadata": {}
        },
        {
          "output_type": "display_data",
          "data": {
            "text/plain": [
              "\u001b[31mRatio mae_tree_a_r \u001b[0m\u001b[31m/\u001b[0m\u001b[31m mae_tree_a: \u001b[0m\u001b[1;36m0.9844609725670249\u001b[0m\n"
            ],
            "text/html": [
              "<pre style=\"white-space:pre;overflow-x:auto;line-height:normal;font-family:Menlo,'DejaVu Sans Mono',consolas,'Courier New',monospace\"><span style=\"color: #800000; text-decoration-color: #800000\">Ratio mae_tree_a_r / mae_tree_a: </span><span style=\"color: #008080; text-decoration-color: #008080; font-weight: bold\">0.9844609725670249</span>\n",
              "</pre>\n"
            ]
          },
          "metadata": {}
        },
        {
          "output_type": "display_data",
          "data": {
            "text/plain": [
              "\n",
              "\u001b[1;34mRegresión lineal\u001b[0m\n",
              "\u001b[1;34m------------------\u001b[0m\n"
            ],
            "text/html": [
              "<pre style=\"white-space:pre;overflow-x:auto;line-height:normal;font-family:Menlo,'DejaVu Sans Mono',consolas,'Courier New',monospace\">\n",
              "<span style=\"color: #000080; text-decoration-color: #000080; font-weight: bold\">Regresión lineal</span>\n",
              "<span style=\"color: #000080; text-decoration-color: #000080; font-weight: bold\">------------------</span>\n",
              "</pre>\n"
            ]
          },
          "metadata": {}
        },
        {
          "output_type": "display_data",
          "data": {
            "text/plain": [
              "\n",
              "\u001b[31mRatio rsme_linear_r \u001b[0m\u001b[31m/\u001b[0m\u001b[31m rmse_linear: \u001b[0m\u001b[1;36m1.0435779255135886\u001b[0m\n"
            ],
            "text/html": [
              "<pre style=\"white-space:pre;overflow-x:auto;line-height:normal;font-family:Menlo,'DejaVu Sans Mono',consolas,'Courier New',monospace\">\n",
              "<span style=\"color: #800000; text-decoration-color: #800000\">Ratio rsme_linear_r / rmse_linear: </span><span style=\"color: #008080; text-decoration-color: #008080; font-weight: bold\">1.0435779255135886</span>\n",
              "</pre>\n"
            ]
          },
          "metadata": {}
        },
        {
          "output_type": "display_data",
          "data": {
            "text/plain": [
              "\u001b[31mRatio mae_linear_r \u001b[0m\u001b[31m/\u001b[0m\u001b[31m mae_linear: \u001b[0m\u001b[1;36m1.0342775745756392\u001b[0m\n"
            ],
            "text/html": [
              "<pre style=\"white-space:pre;overflow-x:auto;line-height:normal;font-family:Menlo,'DejaVu Sans Mono',consolas,'Courier New',monospace\"><span style=\"color: #800000; text-decoration-color: #800000\">Ratio mae_linear_r / mae_linear: </span><span style=\"color: #008080; text-decoration-color: #008080; font-weight: bold\">1.0342775745756392</span>\n",
              "</pre>\n"
            ]
          },
          "metadata": {}
        },
        {
          "output_type": "display_data",
          "data": {
            "text/plain": [
              "\n",
              "\u001b[31mRatio rsme_linear_a_r \u001b[0m\u001b[31m/\u001b[0m\u001b[31m rmse_linear_a: \u001b[0m\u001b[1;36m1.042392431798059\u001b[0m\n"
            ],
            "text/html": [
              "<pre style=\"white-space:pre;overflow-x:auto;line-height:normal;font-family:Menlo,'DejaVu Sans Mono',consolas,'Courier New',monospace\">\n",
              "<span style=\"color: #800000; text-decoration-color: #800000\">Ratio rsme_linear_a_r / rmse_linear_a: </span><span style=\"color: #008080; text-decoration-color: #008080; font-weight: bold\">1.042392431798059</span>\n",
              "</pre>\n"
            ]
          },
          "metadata": {}
        },
        {
          "output_type": "display_data",
          "data": {
            "text/plain": [
              "\u001b[31mRatio mae_linear_a_r \u001b[0m\u001b[31m/\u001b[0m\u001b[31m mae_linear_a: \u001b[0m\u001b[1;36m1.0234973119431177\u001b[0m\n"
            ],
            "text/html": [
              "<pre style=\"white-space:pre;overflow-x:auto;line-height:normal;font-family:Menlo,'DejaVu Sans Mono',consolas,'Courier New',monospace\"><span style=\"color: #800000; text-decoration-color: #800000\">Ratio mae_linear_a_r / mae_linear_a: </span><span style=\"color: #008080; text-decoration-color: #008080; font-weight: bold\">1.0234973119431177</span>\n",
              "</pre>\n"
            ]
          },
          "metadata": {}
        }
      ]
    },
    {
      "cell_type": "markdown",
      "source": [
        "Hemos tomado varias decisiones en base a las conclusiones que hemos obtenido en el análisis de los datos realizado al principio. La primera decisión ha sido utilizar el dataframe de las medias de los atributos, ya que obviamente tener 5 variables para cada atributo podría suponer demasiada dimensionalidad; en este caso observamos que efectivamente los resultados de nuestros modelos eran prácticamente idénticos, con una pérdida de entre 0-5% de precisión (estos resultados se pueden comprobar con la alternativa uno). Incluso, modelos como árboles y KNN mejoran en sus versiones con y sin ajustar respecto a su rendimiento estándar. Simplemente con esta estrategia ya hemos reducido la dimensión a 5 columnas.\n",
        "\n",
        "Posteriormente, intentamos reducir aún más la dimensionalidad eliminando los peores predictores en relación a la salida (basándonos en su correlación). Para esta estrategia observamos que los resultados son similares que para nuestra primera aproximación pero haciendo reducido el dataframe a 12 columnas (estos resultados se pueden comprobar con la alternativa dos). \n",
        "\n",
        "En este punto, ya tenemos un dataframe bastante reducido pero aún no hemos usado el análisis de correlaciones hecho en el primer apartado. Por ello, desarrollamos la tercera alternativa que consiste en eliminar los atributos siguiendo las conclusiones de las correlaciones. En este escenario, tenemos un dataframe de 9 columnas y obtenemos un error similar para KNN y árboles de decisión; pero lamentablemente aumentamos el error de regresión lineal al 12-13%. Lo cual, ya que es nuestro mejor modelo hasta el momento es regresión lineal, no nos parece la estrategia ideal (estos resultados se pueden comprobar con la alternativa tres).\n",
        "\n",
        "También probamos con una estrategia similar a la anterior pero en vez de usar las medias, utilizamos el dataframe original y eliminamos todas las columnas de los atributos que eliminamos en la alternativa anterior. Observamos que hemos aumentado la precisión de regresión lineal con las anteriores alternativas reduciendo el ratio de empeoramiento al 2-3%; y obtenemos en los demás modelos un resultado muy similar. Sin embargo, hemos aumentado el número de columnas a 41, esto nos hace descartar esta aproximación (estos resultados se pueden comprobar con la alternativa cuatro).\n",
        " \n",
        "\n",
        "Por último, intentamos mezclar la segunda y tercera alternativa para obtener una precisión válida bajando un poco más la dimensionalidad. En esta estrategia eliminamos algunas de las variables con más correlación con otras y eliminamos los tres peores predictores. Podemos observar que esta alternativa es igual de precisa que la segunda para regresión lineal, lo cual nos indica que la mejor estrategia es eliminar los predictores ya que no influyen en los resultados finales. Hemos aumentado el error en cuanto a las otras alternativas para los otros modelos pero hemos reducido a solamente 7 columnas la dimensionalidad (estos resultados se pueden comprobar con la alternativa cuatro).\n",
        "\n",
        "\n",
        "En conclusión, la alternativa que seleccionamos y la cual hemos dejado escogida en el código es la segunda. Esto se debe a que obtenemos un rendimiento prácticamente idéntico o mejor en general y reducimos suficientemente la dimensionalidad, considerando que la penalización en precisión de la última alternativa no compensa la reducción de dimensionalidad en comparación.\n",
        "\n"
      ],
      "metadata": {
        "id": "3FtoWU0Qisew"
      }
    },
    {
      "cell_type": "markdown",
      "source": [
        "# **Métodos avanzados**"
      ],
      "metadata": {
        "id": "dJybkag3awk6"
      }
    },
    {
      "cell_type": "markdown",
      "source": [
        "## **Evaluación con hiperparámetros por omisión**"
      ],
      "metadata": {
        "id": "J3J9m3xRawrc"
      }
    },
    {
      "cell_type": "markdown",
      "source": [
        "### **SVMs**"
      ],
      "metadata": {
        "id": "KtcdfZq1umnj"
      }
    },
    {
      "cell_type": "code",
      "source": [
        "# SVM\n",
        "svm_model = SVR()\n",
        "svm_model.fit(X_train_train_n, y_train_train_n.ravel())\n",
        "svm_preds = svm_model.predict(X_train_test_n)\n",
        "mae_svm = mae(y_train_test_n, svm_preds)\n",
        "rmse_svm = rmse(y_train_test_n, svm_preds)\n",
        "\n",
        "print(f'\\nError absoluto medio del modelo SVM: {mae_svm}')\n",
        "print(f'\\nError cuadrático medio del modelo SVM: {rmse_svm}')\n"
      ],
      "metadata": {
        "id": "eaI5zPOBSzPT",
        "colab": {
          "base_uri": "https://localhost:8080/",
          "height": 236
        },
        "outputId": "bfa18bbf-89ac-484a-d480-e4d35ae968b8"
      },
      "execution_count": 48,
      "outputs": [
        {
          "output_type": "error",
          "ename": "NameError",
          "evalue": "ignored",
          "traceback": [
            "\u001b[0;31m---------------------------------------------------------------------------\u001b[0m",
            "\u001b[0;31mNameError\u001b[0m                                 Traceback (most recent call last)",
            "\u001b[0;32m<ipython-input-48-2cd0e0e58698>\u001b[0m in \u001b[0;36m<cell line: 2>\u001b[0;34m()\u001b[0m\n\u001b[1;32m      1\u001b[0m \u001b[0;31m# SVM\u001b[0m\u001b[0;34m\u001b[0m\u001b[0;34m\u001b[0m\u001b[0m\n\u001b[0;32m----> 2\u001b[0;31m \u001b[0msvm_model\u001b[0m \u001b[0;34m=\u001b[0m \u001b[0mSVR\u001b[0m\u001b[0;34m(\u001b[0m\u001b[0;34m)\u001b[0m\u001b[0;34m\u001b[0m\u001b[0;34m\u001b[0m\u001b[0m\n\u001b[0m\u001b[1;32m      3\u001b[0m \u001b[0msvm_model\u001b[0m\u001b[0;34m.\u001b[0m\u001b[0mfit\u001b[0m\u001b[0;34m(\u001b[0m\u001b[0mX_train_train_n\u001b[0m\u001b[0;34m,\u001b[0m \u001b[0my_train_train_n\u001b[0m\u001b[0;34m.\u001b[0m\u001b[0mravel\u001b[0m\u001b[0;34m(\u001b[0m\u001b[0;34m)\u001b[0m\u001b[0;34m)\u001b[0m\u001b[0;34m\u001b[0m\u001b[0;34m\u001b[0m\u001b[0m\n\u001b[1;32m      4\u001b[0m \u001b[0msvm_preds\u001b[0m \u001b[0;34m=\u001b[0m \u001b[0msvm_model\u001b[0m\u001b[0;34m.\u001b[0m\u001b[0mpredict\u001b[0m\u001b[0;34m(\u001b[0m\u001b[0mX_train_test_n\u001b[0m\u001b[0;34m)\u001b[0m\u001b[0;34m\u001b[0m\u001b[0;34m\u001b[0m\u001b[0m\n\u001b[1;32m      5\u001b[0m \u001b[0mmae_svm\u001b[0m \u001b[0;34m=\u001b[0m \u001b[0mmae\u001b[0m\u001b[0;34m(\u001b[0m\u001b[0my_train_test_n\u001b[0m\u001b[0;34m,\u001b[0m \u001b[0msvm_preds\u001b[0m\u001b[0;34m)\u001b[0m\u001b[0;34m\u001b[0m\u001b[0;34m\u001b[0m\u001b[0m\n",
            "\u001b[0;31mNameError\u001b[0m: name 'SVR' is not defined"
          ]
        }
      ]
    },
    {
      "cell_type": "markdown",
      "source": [
        "### **Random Forests**"
      ],
      "metadata": {
        "id": "LXoWeNWLumu4"
      }
    },
    {
      "cell_type": "code",
      "source": [
        "# Random Forest\n",
        "rf_model = RandomForestRegressor()\n",
        "rf_model.fit(X_train_train_n, y_train_train_n.ravel())\n",
        "rf_preds = rf_model.predict(X_train_test_n)\n",
        "mae_rf = mae(y_train_test_n, rf_preds)\n",
        "rmse_rf = rmse(y_train_test_n, rf_preds)\n",
        "\n",
        "print(f'\\nError absoluto medio del modelo Random Forests: {mae_rf}')\n",
        "print(f'\\nError cuadrático medio del modelo Random Forests: {rmse_rf}')"
      ],
      "metadata": {
        "id": "mcbGU-LvS4Lb"
      },
      "execution_count": null,
      "outputs": []
    },
    {
      "cell_type": "markdown",
      "source": [
        "## **Ajuste de hiperparámetros**"
      ],
      "metadata": {
        "id": "zjjiv7Alawu2"
      }
    },
    {
      "cell_type": "markdown",
      "source": [
        "### **SVMs**"
      ],
      "metadata": {
        "id": "KiR0j5pRutBt"
      }
    },
    {
      "cell_type": "code",
      "source": [
        "svm_model = SVR()\n",
        "svm_params = {'kernel': ['linear', 'poly', 'rbf', 'sigmoid'],\n",
        "                'C': [0.1, 1, 10, 100, 1000],\n",
        "                #'gamma': ['scale', 'auto'],\n",
        "                #'degree': [1, 2, 3, 4, 5, 6, 7, 8, 9, 10],\n",
        "                #'coef0': [0.1, 0.5, 1, 2, 5, 10],\n",
        "                #'epsilon': [0.1, 0.5, 1, 2, 5, 10],\n",
        "                #'shrinking': [True, False],\n",
        "                #'tol': [0.001, 0.0001, 0.00001],\n",
        "                #'cache_size': [200, 500, 1000],\n",
        "                #'max_iter': [-1, 1000, 2000, 5000, 10000]\n",
        "                }\n",
        "\n",
        "svm_grid = GridSearchCV(svm_model, svm_params, cv=ps, n_jobs=-1, verbose=1)\n",
        "svm_grid.fit(X_train_n, y_train_n.ravel())\n",
        "print(\"Mejores hiperparámetros:\",svm_grid.best_params_)\n",
        "svm_preds = svm_grid.predict(X_train_test_n)\n",
        "mae_svm_a = mae(y_train_test_n, svm_preds)\n",
        "rmse_svm_a = rmse(y_train_test_n, svm_preds)\n",
        "\n",
        "print(f'\\nError absoluto medio del modelo SVM: {mae_svm_a}')\n",
        "print(f'\\nError cuadrático medio del modelo SVM: {rmse_svm_a}')"
      ],
      "metadata": {
        "id": "BWw9UH5MTBvw"
      },
      "execution_count": null,
      "outputs": []
    },
    {
      "cell_type": "markdown",
      "source": [
        "### **Random Forests**"
      ],
      "metadata": {
        "id": "r9XoAGbuutIw"
      }
    },
    {
      "cell_type": "code",
      "source": [
        "#ajuste de hiperparametros\n",
        "rf_model = RandomForestRegressor()\n",
        "rf_params = {   'n_estimators': [100, 200, 300, 400, 500],\n",
        "                #'n_estimators': [100, 200, 500],\n",
        "                #'max_depth': [None, 1, 2, 3, 4, 5, 6, 7, 8, 9, 10],\n",
        "                'max_depth': [None, 1, 2, 3, 4, 5],\n",
        "                #'max_depth': [None, 2, 5, 10],\n",
        "                #'min_samples_split': [2, 3, 4, 5, 6, 7, 8, 9, 10],\n",
        "                #'min_samples_leaf': [1, 2, 3, 4, 5, 6, 7, 8, 9, 10],\n",
        "                #'max_features': ['auto', 'sqrt', 'log2'],\n",
        "                #'max_leaf_nodes': [None, 1, 2, 3, 4, 5, 6, 7, 8, 9, 10],\n",
        "                #'min_impurity_decrease': [0.0, 0.1, 0.2, 0.3, 0.4, 0.5, 0.6, 0.7, 0.8, 0.9],\n",
        "                'bootstrap': [True, False],\n",
        "                #'oob_score': [True, False],\n",
        "                #'warm_start': [True, False],\n",
        "                #'ccp_alpha': [0.0, 0.1, 0.2, 0.3, 0.4, 0.5, 0.6, 0.7, 0.8, 0.9],\n",
        "                #'max_samples': [None, 1, 2, 3, 4, 5, 6, 7, 8, 9, 10]\n",
        "                }\n",
        "\n",
        "rf_grid = GridSearchCV(rf_model, rf_params, cv=ps, n_jobs=-1, verbose=1)\n",
        "rf_grid.fit(X_train_n, y_train_n.ravel())\n",
        "print(\"Mejores hiperparámetros:\",rf_grid.best_params_)\n",
        "rf_preds = rf_grid.predict(X_train_test_n)\n",
        "mae_rf_a = mae(y_train_test_n, rf_preds)\n",
        "rmse_rf_a = rmse(y_train_test_n, rf_preds)\n",
        "\n",
        "print(f'\\nError absoluto medio del modelo Random Forests: {mae_rf_a}')\n",
        "print(f'\\nError cuadrático medio del modelo Random Forests: {rmse_rf_a}')"
      ],
      "metadata": {
        "id": "y3jXvrZgTFzZ"
      },
      "execution_count": null,
      "outputs": []
    },
    {
      "cell_type": "markdown",
      "source": [
        "### **Comparación de resultados con y sin ajustes**"
      ],
      "metadata": {
        "id": "8Ybi7EQgTJO8"
      }
    },
    {
      "cell_type": "code",
      "source": [
        "print('[bold red]' + '-' * 60 +'\\nComparación de modelos avanzado y resultados.\\n' + '-' * 60 + '[/bold red]')\n",
        "print('\\n[bold blue]SVMs\\n-----[/bold blue]')\n",
        "print(f'\\nError absoluto medio del modelo SVM: {mae_svm}')\n",
        "print(f'\\nError cuadrático medio del modelo SVM: {rmse_svm}')\n",
        "\n",
        "print(f'\\nRatio de mejora del error absoluto medio del modelo SVM: {mae_svm/mae_svm_a}')\n",
        "\n",
        "print('\\n[bold blue]Random Forests\\n---------------[/bold blue]')\n",
        "print(f'\\nError absoluto medio del modelo Random Forests: {mae_rf}')\n",
        "print(f'\\nError cuadrático medio del modelo Random Forests: {rmse_rf}')\n",
        "\n",
        "print(f'\\nRatio de mejora del error absoluto medio del modelo Random Forests: {mae_rf/mae_rf_a}')\n"
      ],
      "metadata": {
        "id": "dZq43DZDTY7m"
      },
      "execution_count": null,
      "outputs": []
    },
    {
      "cell_type": "markdown",
      "source": [
        "## **Interpretación de la importancia de los atributos**"
      ],
      "metadata": {
        "id": "g1LABlYSa4la"
      }
    },
    {
      "cell_type": "code",
      "source": [
        "\n",
        "print('[bold red]' + '-' * 60 +'\\nImportancia de variables.\\n' + '-' * 60 + '[/bold red]')\n",
        "\n",
        "print('\\n[bold blue]Random Forests\\n---------------[/bold blue]')\n",
        "print(f'\\nImportancia de variables del modelo Random Forests: {rf_grid.best_estimator_.feature_importances_}')\n",
        "\n",
        "#PCA \n",
        "random_forest=RandomForestRegressor(n_estimators=500, max_depth=None, bootstrap=True)\n",
        "selector = SelectKBest(f_regression)\n",
        "\n",
        "pipeline = Pipeline([('select', selector), ('random_forest', random_forest)])\n",
        "\n",
        "param_grid = {'select__k': list(range(1,15))}\n",
        "tune_select_rf = GridSearchCV(pipeline,\n",
        "                                     param_grid,\n",
        "                                     scoring=\"neg_mean_absolute_error\",\n",
        "                                     cv=ps\n",
        "                                     )\n",
        "\n",
        "tune_select_rf.fit(X_train, y_train.ravel())\n",
        "\n",
        "print(tune_select_rf.best_params_, np.sqrt(-tune_select_rf.best_score_))\n",
        "\n",
        "trained_pipeline = tune_select_rf.best_estimator_\n",
        "\n",
        "print(f\"Features selected: {trained_pipeline.named_steps['select'].get_support()}\")\n",
        "\n",
        "print(f\"Locations where features selected: {np.where(trained_pipeline.named_steps['select'].get_support())}\")\n",
        "\n",
        "\n",
        "feature_names_before_selection = disp_df.drop('salida', axis=1).columns\n",
        "\n",
        "print(f\"In Scikit-learn 1.x, we can even get the feature names after selection: {trained_pipeline.named_steps['select'].get_feature_names_out(feature_names_before_selection)}\")\n",
        "\n",
        "pprint(list(zip(tune_select_rf.cv_results_['param_select__k'].data, -tune_select_rf.cv_results_['mean_test_score'])))\n",
        "\n",
        "plt.plot(tune_select_rf.cv_results_['param_select__k'].data, -tune_select_rf.cv_results_['mean_test_score'])\n",
        "plt.ylabel('SCORE')\n",
        "plt.xlabel('Number of features')\n",
        "#guardar imagen\n",
        "plt.savefig('pca.png')\n",
        "\n",
        "predictions_test = tune_select_rf.predict(X_train_test)\n",
        "mae_rf_a_r = mae(y_train_test, predictions_test)\n",
        "\n",
        "print(f'\\nMAE: {mae_rf_a_r}')\n"
      ],
      "metadata": {
        "id": "EfpBR7cXMfHw"
      },
      "execution_count": null,
      "outputs": []
    },
    {
      "cell_type": "markdown",
      "source": [
        "Para evaluar la importancia de los atributos selecccionaremos el mejor modelo hasta ahora, RandomForest y realizaremos un PCA. No lo haremos con más modelos por brevedad ya que el proceso es el mismo. Al principio probamos con el dataframe original y la conclusión a la que llegamos es que los atributos más importantes son uswrf_sfc y dswrf_sfc, con sus 5 variables cada uno. Esto tiene sentido, ya que son los mejores predictores (los que más correlación tienen con la salida). Aquí se puede ver nuestro primer analisis:\n",
        "![Screenshot 2023-04-09 at 14.36.40.png](data:image/png;base64,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)  \n",
        "En este gráfico podemos observar el comportamiento de RandomForest para distintas dimensionalidades, cogiendo un número creciente de atributos más relevantes:\n",
        "\n",
        "![pca.png](data:image/png;base64,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)\n",
        "\n",
        "Sin embargo, decdimos realizar un segundo analisis con el dataframe que contiene las medias de cada variable para intentar sacar más atributos relevantes. En esta ejecución buscamos sacar los 5 atributos más relevantes, los cuales son: 'dswrf_s' 'tmp_sfc' 'ulwrf_sfc' 'ulwrf_tatm' 'uswrf_sfc'   . Esto se puede comprobar aquí: ![Screenshot 2023-04-09 at 15.06.49.png](data:image/png;base64,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)\n",
        "\n",
        "Como conclusión final, podemos observar que los cinco atributos más importantes incluyen todas las variables referentes a 'Upward longwave radiation' y 'Upward shortwave radiation'. Además la variable dswrf_sfc, la cual es la mejor predictora de la salida, obviamente está entre este grupo. Por último, tmp_sfc (temperatura de la superficie) completa este grupo de los cinco atributos más importantes."
      ],
      "metadata": {
        "id": "kl6682Wx_bhd"
      }
    },
    {
      "cell_type": "markdown",
      "source": [
        "## **Conclusiones**"
      ],
      "metadata": {
        "id": "ojFrXFYOaw1Q"
      }
    },
    {
      "cell_type": "markdown",
      "source": [
        "Para estos métodos avanzados hemos observado mejoras respeto a los métodos básicos. Es importante recalcar que para este apartado hemos realizado varias ejecuciones con distintas cantidades de combianciones sin querer sobresaturar la ejecución, ya que los tiempos de entrenamiento son bastante superiores. Para comparar los errores utilizaremos el MAE.\n",
        "\n",
        "Primero nos fijaremos en los resultados sin ajustar. Para SVM tenemos un error de aproximadamente 2.3 millones de unidades, lo cual es mejor que todos los modelos básicos salvo el de regresión lineal, que es ligeramente más preciso (aproximadamente 6% más preciso). En cuanto al tiempo de entrenamiento, es más lento que los métodos básicos salvo KNN que es ligéramente más lento (una diferencia minuscula y despreciable). \n",
        "\n",
        "Para RandomForest, encontramos que sin ajustar es ligeramente mejor que todos los métodos en general, aunque no observamos una diferencia muy significativa. En cuanto a tiempo de entrenamiento, es el más lento con diferencia, siendo el tiempo de entrenamiento mayor que 5 segundos cuando el resto no llegan al segundo de entrenamiento.\n",
        "\n",
        "Sin embargo, RandomForest muestra su eficacia con los hiperparametros adecuados, tras hacer el ajuste de los mismos. Hemos limitado las combinaciones debido al alto tiempo de entrenamiento. Encintramos un error de aproximadamente 0.78 millones de unidades, mostrando un 141% de mejora en precisión respecto al mejor método ajustado global anterior (árboles de decisión). Este método muestra un ratio de 2.7 de mejora tras ser ajustado.\n",
        "\n",
        "Por último, cabe mencionar que SVM apenas mejora con el ajuste de hiperparametros, mostrando un ratio de mejora de 1.044, siendo demasiado bajo y dejando a RandomForest como mejor método."
      ],
      "metadata": {
        "id": "rZ9UhRtZXbf5"
      }
    }
  ]
}