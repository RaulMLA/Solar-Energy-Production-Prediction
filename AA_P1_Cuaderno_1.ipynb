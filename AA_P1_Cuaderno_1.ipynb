{
  "nbformat": 4,
  "nbformat_minor": 0,
  "metadata": {
    "colab": {
      "provenance": []
    },
    "kernelspec": {
      "name": "python3",
      "display_name": "Python 3"
    },
    "language_info": {
      "name": "python"
    }
  },
  "cells": [
    {
      "cell_type": "markdown",
      "source": [
        "![LogoUC3M](https://www.fundacion.uc3m.es/wp-content/uploads/2018/11/Logo-UC3M-nuevo.png)\n",
        "\n",
        "### Aprendizaje Automático · Grado en Ingeniería Informática · Curso 2022/23\n",
        "---\n",
        "# **Cuaderno 1** - Práctica 1: Predicción de la producción de energía\n",
        "***Grupo Reducido 82 - Grupo de laboratorio 13***\n",
        "\n",
        "\n",
        "\n",
        "\n"
      ],
      "metadata": {
        "id": "Pi-MaiIDcg-k"
      }
    },
    {
      "cell_type": "markdown",
      "source": [
        "# **Carga de datos**\n"
      ],
      "metadata": {
        "id": "ZhN55A3nYDX1"
      }
    },
    {
      "cell_type": "markdown",
      "source": [
        "Para comenzar, importaremos las librerías que necesitamos:\n",
        "\n",
        "+ `linear-tree`: Implementación de los modelos de árboles.\n",
        "+ `statsmodels`: Para los intervalos de confianza.\n"
      ],
      "metadata": {
        "id": "6Q0_UawDiu3S"
      }
    },
    {
      "cell_type": "code",
      "source": [
        "!pip install --upgrade linear-tree\n",
        "!pip install statsmodels"
      ],
      "metadata": {
        "colab": {
          "base_uri": "https://localhost:8080/"
        },
        "id": "fCk36Clg98Mp",
        "outputId": "19114c60-a62a-4537-ab75-b0489ba95e88"
      },
      "execution_count": 21,
      "outputs": [
        {
          "output_type": "stream",
          "name": "stdout",
          "text": [
            "Looking in indexes: https://pypi.org/simple, https://us-python.pkg.dev/colab-wheels/public/simple/\n",
            "Requirement already satisfied: linear-tree in /usr/local/lib/python3.8/dist-packages (0.3.5)\n",
            "Requirement already satisfied: numpy in /usr/local/lib/python3.8/dist-packages (from linear-tree) (1.22.4)\n",
            "Requirement already satisfied: scikit-learn>=0.24.2 in /usr/local/lib/python3.8/dist-packages (from linear-tree) (1.2.1)\n",
            "Requirement already satisfied: scipy in /usr/local/lib/python3.8/dist-packages (from linear-tree) (1.10.1)\n",
            "Requirement already satisfied: threadpoolctl>=2.0.0 in /usr/local/lib/python3.8/dist-packages (from scikit-learn>=0.24.2->linear-tree) (3.1.0)\n",
            "Requirement already satisfied: joblib>=1.1.1 in /usr/local/lib/python3.8/dist-packages (from scikit-learn>=0.24.2->linear-tree) (1.2.0)\n",
            "Looking in indexes: https://pypi.org/simple, https://us-python.pkg.dev/colab-wheels/public/simple/\n",
            "Requirement already satisfied: statsmodels in /usr/local/lib/python3.8/dist-packages (0.13.5)\n",
            "Requirement already satisfied: patsy>=0.5.2 in /usr/local/lib/python3.8/dist-packages (from statsmodels) (0.5.3)\n",
            "Requirement already satisfied: scipy>=1.3 in /usr/local/lib/python3.8/dist-packages (from statsmodels) (1.10.1)\n",
            "Requirement already satisfied: pandas>=0.25 in /usr/local/lib/python3.8/dist-packages (from statsmodels) (1.3.5)\n",
            "Requirement already satisfied: packaging>=21.3 in /usr/local/lib/python3.8/dist-packages (from statsmodels) (23.0)\n",
            "Requirement already satisfied: numpy>=1.17 in /usr/local/lib/python3.8/dist-packages (from statsmodels) (1.22.4)\n",
            "Requirement already satisfied: python-dateutil>=2.7.3 in /usr/local/lib/python3.8/dist-packages (from pandas>=0.25->statsmodels) (2.8.2)\n",
            "Requirement already satisfied: pytz>=2017.3 in /usr/local/lib/python3.8/dist-packages (from pandas>=0.25->statsmodels) (2022.7.1)\n",
            "Requirement already satisfied: six in /usr/local/lib/python3.8/dist-packages (from patsy>=0.5.2->statsmodels) (1.15.0)\n"
          ]
        }
      ]
    },
    {
      "cell_type": "markdown",
      "source": [
        "Una vez instaladas las bibliotecas necesarias, importamos **Numpy** y **Pandas** ya que los necesitaremos para el desarrollo de la práctica.\n",
        "Destacar que nos referiremos a **Numpy** como *np* y a **Pandas** como *pd* por simplicidad."
      ],
      "metadata": {
        "id": "lejQonv8bVNv"
      }
    },
    {
      "cell_type": "code",
      "source": [
        "import numpy as np\n",
        "import pandas as pd"
      ],
      "metadata": {
        "id": "_rQEBPIB-C17"
      },
      "execution_count": 22,
      "outputs": []
    },
    {
      "cell_type": "markdown",
      "source": [
        "A continuación, cargaremos los datos necesarios. Dado que somos el grupo 13, usaremos los dos conjuntos de datos correspondientes.</br></br>\n",
        "Por una parte, tenemos los **datos disponibles**, que nos servirán para entrenar, \n",
        "evaluar y construir el modelo final y por otra parte los **datos de competición** sobre los que usaremos el modelo final para hacer las predicciones correspondientes.</br></br>"
      ],
      "metadata": {
        "id": "j-WhTPVNb05b"
      }
    },
    {
      "cell_type": "code",
      "source": [
        "# Datos disponibles.\n",
        "disp_df = pd.read_csv(\"disp_st13ns1.txt.bz2\",\n",
        "                      compression=\"bz2\",\n",
        "                      index_col=0)\n",
        "\n",
        "# Datos competición.\n",
        "comp_df = pd.read_csv(\"comp_st13ns1.txt.bz2\",\n",
        "                      compression=\"bz2\",\n",
        "                      index_col=0)\n",
        "\n",
        "# Mostramos la información de cada conjunto de datos.\n",
        "print(f\"El conjunto de datos disponibles tiene {len(disp_df)} instancias.\")\n",
        "print(f\"El conjunto de datos de competición tiene {len(disp_df)} instancias.\")"
      ],
      "metadata": {
        "colab": {
          "base_uri": "https://localhost:8080/"
        },
        "id": "4HeVvq-ublhz",
        "outputId": "a6ac160b-dd52-409b-a90b-d581db9a53a6"
      },
      "execution_count": 23,
      "outputs": [
        {
          "output_type": "stream",
          "name": "stdout",
          "text": [
            "El conjunto de datos disponibles tiene 4380 instancias.\n",
            "El conjunto de datos de competición tiene 4380 instancias.\n"
          ]
        }
      ]
    },
    {
      "cell_type": "markdown",
      "source": [
        "A continuación, separamos la **matriz de atributos** (**X**) y el **vector de la variable de respuesta** *salida* (**y**)."
      ],
      "metadata": {
        "id": "1udUEI81enqH"
      }
    },
    {
      "cell_type": "code",
      "source": [
        "# Datos.\n",
        "X = disp_df.drop('salida', axis=1)\n",
        "\n",
        "# Etiquetas.\n",
        "y = disp_df.salida"
      ],
      "metadata": {
        "id": "OwSjZBG3CQaR"
      },
      "execution_count": 24,
      "outputs": []
    },
    {
      "cell_type": "markdown",
      "source": [
        "# **Análisis Exploratorio de Datos (EDA)**\n",
        "Antes de comenzar, destacar que dado que los resultados deben ser reproducibles, hemos fijado la **semilla de números aleatorios** en los lugares adecuados. Para ello, hemos seleccionado como semilla el número del grupo de prácticas (*13*).</br></br>\n",
        "Para poder realizar el análisis exploratorio de datos, llevaremos a cabo los siguientes pasos:\n",
        "\n",
        "+ Número de instancias y atributos.\n",
        "+ Tipo de atributos (numéricos o categóricos).\n",
        "+ Missing values.\n",
        "+ Tipo de problema (clasificación o regresión).\n",
        "\n",
        "\n",
        "\n",
        "EDA steps (from T1_SKlearnTrees.ipynb):\n",
        "+ How many instances and attributes there are\n",
        "+ What type of attributes there are (numerical or categorical). This is done to check whether there are categorical features that should be encoded (as dummies / one-hot-encoding)\n",
        "+ What attributes have missing values, and how many\n",
        "+ Whether it is a classification or a regression problem (response variable), and in case of classification, whether the class is imbalanced."
      ],
      "metadata": {
        "id": "zH13876u6V7b"
      }
    },
    {
      "cell_type": "markdown",
      "source": [
        "### **Número de instancias y atributos**\n",
        "Los **datos disponibles** cuentan con 75 atributos y la variable de respuesta *salida*. Contiene 12 años de datos considerando una instancia por día y todos los años de 365 días. Por tanto, contamos con un total de **4380 instancias**.</br></br>\n",
        "\n",
        "Los **datos de competición** cuentan con las mismas 75 variables de entrada que los datos disponibles y se trata de un conjunto con 2 años de datos y una instancia por día. En este caso, no se proporciona la variable de respuesta salida, dado que usaremos nuestro modelo final para hacer predicciones sobre estos datos como ya hemos indicado antes. Por tanto, contamos con un total de **733 instancias**.</br></br>\n",
        "\n",
        "A continuación, profundizaremos más en los atributos, su significado y nomenclatura.</br></br>\n",
        "\n",
        "Como podemos ver en la siguiente tabla, contamos con **15 atributos** diferentes, cada uno de ellos con su respectivo nombre (identificador) y con su unidad concreta. Estos atributos corresponden con **variables meteorológicas** diversas.</br></br>\n",
        "\n",
        "| Atributo | Descripción | Unidades |\n",
        "| :- | :- | -: |\n",
        "| `apcp_sfc` | Precipitación acumulada de 3 horas en la superficie. | $\\dfrac{kg}{m^2}$ |\n",
        "| `dlwrf_sfc` | Promedio de flujo radiativo de onda larga hacia abajo en la superficie. | $\\dfrac{W}{m^2}$ |\n",
        "| `dswrf_sfc` | Promedio de flujo radiativo de onda corta hacia abajo en la superficie. | $\\dfrac{W}{m^2}$ |\n",
        "| `pres_msl` | La presión del aire al nivel medio del mar. | $Pa$ |\n",
        "| pwat_eatm\t | Agua precipitable sobre toda la profundidad de la atmósfera. | $\\dfrac{kg}{m^2}$ |\n",
        "| `spfh_2m`\t | Humedad específica a 2 m sobre el suelo. | $\\dfrac{kg}{kg}$ |\n",
        "| `tcdc_eatm`\t | Cobertura total de nubes sobre toda la profundidad de la atmósfera. | $\\%$ |\n",
        "| `tcolc_eatm` | Condensado total integrado en la columna sobre toda la atmósfera. | $\\dfrac{kg}{m^2}$ |\n",
        "| `tmax_2m` | Temperatura máxima en las últimas 3 horas a 2 m sobre el suelo. | $K$ |\n",
        "| `tmin_2m` | Temperatura mínima en las últimas 3 horas a 2 m sobre el suelo. | $K$ |\n",
        "| `tmp_2m` | Temperatura actual a 2 m sobre el suelo.\t| $K$ |\n",
        "| `tmp_sfc` | Temperatura de la superficie. | $K$ |\n",
        "| `ulwrf_sfc` | Radiación ascendente de onda larga en la superficie. | $\\dfrac{kg}{m^2}$ |\n",
        "| `ulwrf_tatm` | Radiación ascendente de onda larga en la parte superior de la atmósfera. | $\\dfrac{kg}{m^2}$ |\n",
        "| `uswrf_sfc` | Radiación ascendente de onda corta en la superficie. | $\\dfrac{kg}{m^2}$ |\n",
        "\n",
        "</br>Partiendo de los 15 atributos que podemos observar en la tabla anterior, se indica una variable en los datos para cada uno ellos en 5 momentos del día. Esto es, contamos con:</br></br>\n",
        "\n",
        "$5\\;instantes\\;de\\;tiempo\\;\\cdot\\;15\\;variables\\;meteorológicas\\;=\\;75\\;variables\\;de\\;entrada$\n",
        "\n",
        "</br>Los instantes de tiempo vienen dados por una numeración del 1 al 5:\n",
        "+ 1 $\\rightarrow$ 12h\n",
        "+ 2 $\\rightarrow$ 15h\n",
        "+ 3 $\\rightarrow$ 18h\n",
        "+ 4 $\\rightarrow$ 21h\n",
        "+ 5 $\\rightarrow$ 24h\n",
        "\n",
        "</br>Por tanto, cada variable meteorológica aparece en el conjunto de datos 5 veces, una por cada instante de tiempo. El instante de tiempo se indica en el subíndice $i$, donde $i=1,2,3,4,5$. Por ejemplo, $apcp\\_sfc_1$ es la variable que indica la precipitación acumulada de 3 horas en la superficie a las 12h (instante de tiempo 1)."
      ],
      "metadata": {
        "id": "ipUSxR_Cr8-W"
      }
    },
    {
      "cell_type": "markdown",
      "source": [
        "## **Tipo de atributos**.\n",
        "Dentro de los diferentes tipos de atributos de los datos podemos encontrar los categóricos, numéricos u ordinales.</br></br>\n",
        "\n",
        "En el caso de nuestros datos, podemos ver como claramente todos ellos son **atributos numéricos reales** a excepción de la variable de respuesta *salida*, la cual es un **atributo numérico entero**.</br></br>\n",
        "\n",
        "Por tanto, dado que todos los datos con los que vamos a tratar son atributos numéricos, no tendremos que transformar ninguna variable categórica en one-hot-encoding, dado que no vamos a lidiar con ninguna variable de este tipo.\n"
      ],
      "metadata": {
        "id": "-OgKhQTDsCF1"
      }
    },
    {
      "cell_type": "code",
      "source": [
        "# Mostramos todos los datos.\n",
        "print('Matriz de atributos:\\n\\n', X)\n",
        "print('\\n\\nVector de la variable de respuesta:\\n\\n', y)\n",
        "\n",
        "# Mostramos el tipo de dato de una variable meteorológica y de un valor de la variable de respuesta.\n",
        "print('\\nEjemplo de tipo de dato de variable meteorológica:', type(X['apcp_sf1_1'][0]))\n",
        "print('Ejemplo de tipo de dato de variable de respuesta:', type(y[0]))"
      ],
      "metadata": {
        "colab": {
          "base_uri": "https://localhost:8080/"
        },
        "id": "9SKPmjWDo3Fi",
        "outputId": "0f1bd128-dcb9-437f-8eaa-aeaa106f4e4d"
      },
      "execution_count": 25,
      "outputs": [
        {
          "output_type": "stream",
          "name": "stdout",
          "text": [
            "Matriz de atributos:\n",
            "\n",
            "        apcp_sf1_1  apcp_sf2_1  apcp_sf3_1  apcp_sf4_1  apcp_sf5_1  dlwrf_s1_1  \\\n",
            "V1       0.000000    0.000000    0.000000    0.000000    0.000000  276.583582   \n",
            "V2       0.000000    0.000000    0.011818    0.037273    0.543636  249.089505   \n",
            "V3       0.014545    0.000000    0.000000    0.000000    0.002727  229.461820   \n",
            "V4       0.000000    0.009091    0.000000    0.000000    0.000000  239.590321   \n",
            "V5       0.000000    0.000000    0.000000    0.000000    0.000000  230.253657   \n",
            "...           ...         ...         ...         ...         ...         ...   \n",
            "V4376    0.000909    0.114545    0.352727    0.882727    1.379091  284.532288   \n",
            "V4377    0.000909    0.000000    0.000000    0.000000    0.000000  251.460183   \n",
            "V4378    0.000000    0.000000    0.000000    0.000000    0.000000  268.446164   \n",
            "V4379    0.000000    0.000000    0.000000    0.000000    0.000000  268.225686   \n",
            "V4380    0.000000    0.000000    0.000000    0.000000    0.000000  268.385348   \n",
            "\n",
            "       dlwrf_s2_1  dlwrf_s3_1  dlwrf_s4_1  dlwrf_s5_1  ...  ulwrf_t1_1  \\\n",
            "V1     246.514368  251.629031  264.832217  262.468350  ...  201.425894   \n",
            "V2     282.460488  297.254822  315.532651  310.292719  ...  230.836691   \n",
            "V3     215.177840  218.042184  245.620031  246.749223  ...  226.019290   \n",
            "V4     261.169269  271.857217  258.001828  247.076775  ...  235.784869   \n",
            "V5     235.563414  243.941731  266.031791  269.572826  ...  231.005317   \n",
            "...           ...         ...         ...         ...  ...         ...   \n",
            "V4376  277.760515  293.636938  337.863753  330.097956  ...  236.903184   \n",
            "V4377  244.463848  248.985195  266.057689  265.432201  ...  244.682028   \n",
            "V4378  271.475733  274.081410  287.933849  284.624115  ...  239.584692   \n",
            "V4379  263.890245  271.744013  291.337566  291.260448  ...  270.318764   \n",
            "V4380  265.254364  271.679615  291.476737  288.541684  ...  247.253002   \n",
            "\n",
            "       ulwrf_t2_1  ulwrf_t3_1  ulwrf_t4_1  ulwrf_t5_1  uswrf_s1_1  uswrf_s2_1  \\\n",
            "V1     249.504475  251.942089  258.069677  254.249663         0.0    9.181818   \n",
            "V2     200.094627  202.663639  196.833872  202.962007         0.0    4.545455   \n",
            "V3     232.556009  233.298932  211.631876  210.620375         0.0   13.909091   \n",
            "V4     235.189503  236.216754  244.018491  239.049223         0.0    5.454545   \n",
            "V5     230.797569  233.680077  252.037280  246.291591         0.0    9.000000   \n",
            "...           ...         ...         ...         ...         ...         ...   \n",
            "V4376  236.348444  224.870748  175.644218  190.153040         0.0    6.818182   \n",
            "V4377  243.310976  248.244164  263.429332  260.205636         0.0   10.000000   \n",
            "V4378  221.705779  236.372099  273.823583  274.388403         0.0    7.909091   \n",
            "V4379  257.707263  254.163126  281.832139  277.711556         0.0    9.727273   \n",
            "V4380  241.352363  245.428872  257.719322  257.394481         0.0    9.000000   \n",
            "\n",
            "       uswrf_s3_1  uswrf_s4_1  uswrf_s5_1  \n",
            "V1      49.000000  103.000000   68.000000  \n",
            "V2      19.000000   47.272727   32.909091  \n",
            "V3      77.636364  141.090909   90.454545  \n",
            "V4      28.909091   90.818182   62.636364  \n",
            "V5      47.181818  102.272727   67.636364  \n",
            "...           ...         ...         ...  \n",
            "V4376   28.545455   27.181818   18.727273  \n",
            "V4377   50.090909  104.545455   68.454545  \n",
            "V4378   46.909091  102.000000   67.000000  \n",
            "V4379   48.181818  104.909091   68.818182  \n",
            "V4380   47.000000   98.636364   64.818182  \n",
            "\n",
            "[4380 rows x 75 columns]\n",
            "\n",
            "\n",
            "Vector de la variable de respuesta:\n",
            "\n",
            " V1       11119200\n",
            "V2        5530500\n",
            "V3        5596200\n",
            "V4        4360500\n",
            "V5       10572300\n",
            "           ...   \n",
            "V4376     3780900\n",
            "V4377    11463300\n",
            "V4378    11071200\n",
            "V4379    11222700\n",
            "V4380    10770600\n",
            "Name: salida, Length: 4380, dtype: int64\n",
            "\n",
            "Ejemplo de tipo de dato de variable meteorológica: <class 'numpy.float64'>\n",
            "Ejemplo de tipo de dato de variable de respuesta: <class 'numpy.int64'>\n"
          ]
        }
      ]
    },
    {
      "cell_type": "markdown",
      "source": [
        "Como se puede comprobar en las dos últimas llamadas realizadas, las variables de respuesta utilizan atributos del tipo `numpy.float64`, siendo estos valores **numéricos reales**. Por otra parte, la variable de respuesta *salida* utiliza valores del tipo `numpy.int64`, siendo estos valores **numéricos enteros**.\n"
      ],
      "metadata": {
        "id": "-z3HqPlnqjoF"
      }
    },
    {
      "cell_type": "markdown",
      "source": [
        "### **Missing values**.\n",
        "(Investigar esto)"
      ],
      "metadata": {
        "id": "6GB8D-p1sCa6"
      }
    },
    {
      "cell_type": "markdown",
      "source": [
        "### **Tipo de problema**.\n",
        "Como hemos podido ver anteriormente mostrando los datos en pantalla, este problema es claramente de **regresión**, dado que tendremos que construir un modelo para realizar **predicción numérica**."
      ],
      "metadata": {
        "id": "bqfWIyBzsCde"
      }
    },
    {
      "cell_type": "markdown",
      "source": [
        "# **División de datos**\n",
        "Como se puede ver en el código a continuación, dividiremos los datos de acuerdo con el enunciado establecido. Esto es, utilizaremos los **10 primeros años** del conjunto de datos disponibles para **entrenamiento** (*train*) y los **2 últimos años** para **pruebas** (*test*).</br></br>\n",
        "\n",
        "Dado que se nos pide que no desordenemos los datos antes de partir en entrenamiento y test para poder respestar el orden temporal, usaremos el parámetro `shuffle = False` al invocar a la función `train_test_split` de Scikit-learn."
      ],
      "metadata": {
        "id": "0NwFIMyeaHPG"
      }
    },
    {
      "cell_type": "code",
      "source": [
        "from sklearn.model_selection import train_test_split\n",
        "\n",
        "# Entrenamiento (10 primeros años) y test (2 últimos años).\n",
        "X_train, X_test, y_train, y_test = train_test_split(X, y, test_size=2/12, random_state=13, shuffle=False)\n",
        "\n",
        "# !!! REVISAR !!!\n",
        "# ¿V1 ES EL DATO MÁS ANTIGUO O EL MÁS NUEVO?\n",
        "# !!! REVISAR !!!\n",
        "\n",
        "# Comprobamos que los datos se hayan dividido como queremos.\n",
        "print(X_train.shape, y_train.shape)   # 3650 días -> 10 años.\n",
        "print(X_test.shape, y_test.shape)     # 720 días  ->  2 años.\n"
      ],
      "metadata": {
        "colab": {
          "base_uri": "https://localhost:8080/"
        },
        "id": "IotTN2G5wie4",
        "outputId": "d747fe4e-0bed-4348-c437-0584083bc3cb"
      },
      "execution_count": 26,
      "outputs": [
        {
          "output_type": "stream",
          "name": "stdout",
          "text": [
            "(3650, 75) (3650,)\n",
            "(730, 75) (730,)\n"
          ]
        }
      ]
    },
    {
      "cell_type": "markdown",
      "source": [
        "Como se puede ver y, como hemos explicado anteriormente, dado que los resultados deben ser reproducibles, hemos fijado la **semilla de números aleatorios** en los lugares adecuados. Para ello, hemos seleccionado como semilla el número del grupo de prácticas (*13*) mediante `random_state = 13`."
      ],
      "metadata": {
        "id": "_WsZ2IFnsBr9"
      }
    },
    {
      "cell_type": "markdown",
      "source": [
        "# **Métodos Básicos**\n",
        "Para los modelos básicos, consideraremos los siguientes **métodos básicos**:\n",
        "+ KNN\n",
        "+ Árboles de regresión\n",
        "+ Regresión lineal\n",
        "\n",
        "Además, destacar que las métricas de evaluación son **RMSE** y **MAE**."
      ],
      "metadata": {
        "id": "PqyFsdsozxrf"
      }
    },
    {
      "cell_type": "markdown",
      "source": [
        "## **Evaluación con hiperparámetros por omisión**"
      ],
      "metadata": {
        "id": "PJsdn7b-afU5"
      }
    },
    {
      "cell_type": "code",
      "source": [
        "from sklearn.neighbors import KNeighborsClassifier\n",
        "from sklearn.neighbors import KNeighborsRegressor\n",
        "from sklearn import tree\n",
        "from sklearn.linear_model import LinearRegression\n",
        "\n",
        "from sklearn import metrics"
      ],
      "metadata": {
        "id": "oB80LPNTu_e8"
      },
      "execution_count": 27,
      "outputs": []
    },
    {
      "cell_type": "markdown",
      "source": [
        "### **KNN**"
      ],
      "metadata": {
        "id": "8OwRm_keuGun"
      }
    },
    {
      "cell_type": "code",
      "source": [
        "clf = KNeighborsClassifier()\n",
        "np.random.seed(13)\n",
        "clf.fit(X_train, y_train)\n",
        "y_pred = clf.predict(X_test)\n",
        "acc_knn = metrics.accuracy_score(y_test, y_pred)\n",
        "print(f\"Precisión del modelo KNN: {acc_knn * 100:.2f} %\")\n",
        "np.random.seed(13)"
      ],
      "metadata": {
        "colab": {
          "base_uri": "https://localhost:8080/"
        },
        "id": "k8k2OjR9vPNM",
        "outputId": "060ed199-b68b-463e-b9a7-264cbdf407d7"
      },
      "execution_count": 28,
      "outputs": [
        {
          "output_type": "stream",
          "name": "stdout",
          "text": [
            "Precisión del modelo KNN: 0.00 %\n"
          ]
        }
      ]
    },
    {
      "cell_type": "markdown",
      "source": [
        "### **Árboles de regresión**"
      ],
      "metadata": {
        "id": "xUC_HhekuG2p"
      }
    },
    {
      "cell_type": "code",
      "source": [
        "clf = tree.DecisionTreeClassifier()\n",
        "np.random.seed(13)\n",
        "clf.fit(X_train, y_train)"
      ],
      "metadata": {
        "colab": {
          "base_uri": "https://localhost:8080/",
          "height": 75
        },
        "id": "RWgfQevGzwcK",
        "outputId": "e5b69417-d8dd-4eda-872d-002a33811abc"
      },
      "execution_count": 29,
      "outputs": [
        {
          "output_type": "execute_result",
          "data": {
            "text/plain": [
              "DecisionTreeClassifier()"
            ],
            "text/html": [
              "<style>#sk-container-id-1 {color: black;background-color: white;}#sk-container-id-1 pre{padding: 0;}#sk-container-id-1 div.sk-toggleable {background-color: white;}#sk-container-id-1 label.sk-toggleable__label {cursor: pointer;display: block;width: 100%;margin-bottom: 0;padding: 0.3em;box-sizing: border-box;text-align: center;}#sk-container-id-1 label.sk-toggleable__label-arrow:before {content: \"▸\";float: left;margin-right: 0.25em;color: #696969;}#sk-container-id-1 label.sk-toggleable__label-arrow:hover:before {color: black;}#sk-container-id-1 div.sk-estimator:hover label.sk-toggleable__label-arrow:before {color: black;}#sk-container-id-1 div.sk-toggleable__content {max-height: 0;max-width: 0;overflow: hidden;text-align: left;background-color: #f0f8ff;}#sk-container-id-1 div.sk-toggleable__content pre {margin: 0.2em;color: black;border-radius: 0.25em;background-color: #f0f8ff;}#sk-container-id-1 input.sk-toggleable__control:checked~div.sk-toggleable__content {max-height: 200px;max-width: 100%;overflow: auto;}#sk-container-id-1 input.sk-toggleable__control:checked~label.sk-toggleable__label-arrow:before {content: \"▾\";}#sk-container-id-1 div.sk-estimator input.sk-toggleable__control:checked~label.sk-toggleable__label {background-color: #d4ebff;}#sk-container-id-1 div.sk-label input.sk-toggleable__control:checked~label.sk-toggleable__label {background-color: #d4ebff;}#sk-container-id-1 input.sk-hidden--visually {border: 0;clip: rect(1px 1px 1px 1px);clip: rect(1px, 1px, 1px, 1px);height: 1px;margin: -1px;overflow: hidden;padding: 0;position: absolute;width: 1px;}#sk-container-id-1 div.sk-estimator {font-family: monospace;background-color: #f0f8ff;border: 1px dotted black;border-radius: 0.25em;box-sizing: border-box;margin-bottom: 0.5em;}#sk-container-id-1 div.sk-estimator:hover {background-color: #d4ebff;}#sk-container-id-1 div.sk-parallel-item::after {content: \"\";width: 100%;border-bottom: 1px solid gray;flex-grow: 1;}#sk-container-id-1 div.sk-label:hover label.sk-toggleable__label {background-color: #d4ebff;}#sk-container-id-1 div.sk-serial::before {content: \"\";position: absolute;border-left: 1px solid gray;box-sizing: border-box;top: 0;bottom: 0;left: 50%;z-index: 0;}#sk-container-id-1 div.sk-serial {display: flex;flex-direction: column;align-items: center;background-color: white;padding-right: 0.2em;padding-left: 0.2em;position: relative;}#sk-container-id-1 div.sk-item {position: relative;z-index: 1;}#sk-container-id-1 div.sk-parallel {display: flex;align-items: stretch;justify-content: center;background-color: white;position: relative;}#sk-container-id-1 div.sk-item::before, #sk-container-id-1 div.sk-parallel-item::before {content: \"\";position: absolute;border-left: 1px solid gray;box-sizing: border-box;top: 0;bottom: 0;left: 50%;z-index: -1;}#sk-container-id-1 div.sk-parallel-item {display: flex;flex-direction: column;z-index: 1;position: relative;background-color: white;}#sk-container-id-1 div.sk-parallel-item:first-child::after {align-self: flex-end;width: 50%;}#sk-container-id-1 div.sk-parallel-item:last-child::after {align-self: flex-start;width: 50%;}#sk-container-id-1 div.sk-parallel-item:only-child::after {width: 0;}#sk-container-id-1 div.sk-dashed-wrapped {border: 1px dashed gray;margin: 0 0.4em 0.5em 0.4em;box-sizing: border-box;padding-bottom: 0.4em;background-color: white;}#sk-container-id-1 div.sk-label label {font-family: monospace;font-weight: bold;display: inline-block;line-height: 1.2em;}#sk-container-id-1 div.sk-label-container {text-align: center;}#sk-container-id-1 div.sk-container {/* jupyter's `normalize.less` sets `[hidden] { display: none; }` but bootstrap.min.css set `[hidden] { display: none !important; }` so we also need the `!important` here to be able to override the default hidden behavior on the sphinx rendered scikit-learn.org. See: https://github.com/scikit-learn/scikit-learn/issues/21755 */display: inline-block !important;position: relative;}#sk-container-id-1 div.sk-text-repr-fallback {display: none;}</style><div id=\"sk-container-id-1\" class=\"sk-top-container\"><div class=\"sk-text-repr-fallback\"><pre>DecisionTreeClassifier()</pre><b>In a Jupyter environment, please rerun this cell to show the HTML representation or trust the notebook. <br />On GitHub, the HTML representation is unable to render, please try loading this page with nbviewer.org.</b></div><div class=\"sk-container\" hidden><div class=\"sk-item\"><div class=\"sk-estimator sk-toggleable\"><input class=\"sk-toggleable__control sk-hidden--visually\" id=\"sk-estimator-id-1\" type=\"checkbox\" checked><label for=\"sk-estimator-id-1\" class=\"sk-toggleable__label sk-toggleable__label-arrow\">DecisionTreeClassifier</label><div class=\"sk-toggleable__content\"><pre>DecisionTreeClassifier()</pre></div></div></div></div></div>"
            ]
          },
          "metadata": {},
          "execution_count": 29
        }
      ]
    },
    {
      "cell_type": "code",
      "source": [
        "# Predicciones del conjunto de test.\n",
        "y_pred = clf.predict(X_test)\n",
        "print(y_pred)"
      ],
      "metadata": {
        "colab": {
          "base_uri": "https://localhost:8080/"
        },
        "id": "VyRZeZmIVjpG",
        "outputId": "b8274a45-56dc-47b3-a2c8-c03ff9369a02"
      },
      "execution_count": 30,
      "outputs": [
        {
          "output_type": "stream",
          "name": "stdout",
          "text": [
            "[12637200  9778800  1818900  8421300 12719700  6144000  9705000 21749100\n",
            " 21146400 10009500 11848500 11940600 12079200  2212800  3978900  4897200\n",
            "  7211700  1487100  1662300  6144000 11891400 11130300  8176800 11826900\n",
            " 13606500  6573900  6539400  7719300 11661300 14392200  7719300 14388600\n",
            "  7194600  3636900  8469300 11654400  1831500  2072700  8710800 20500200\n",
            " 15897600  2935800  5950800  4215300 14152800  9077400  2721900 21933600\n",
            "  7604700 15738000 24406200  9674400  9658200 16991100 12695400  8167200\n",
            " 13623000 11053500 17104500 26765100 13348800   968700 18207900  5726100\n",
            "  1806000  1544400 26625300 23575800 20580300 16065900 14466300 20161800\n",
            " 23229600 15870600  9819600 21666300  8058000 22200300 18462900 17576100\n",
            "  5618100  3084300 20804700 25643100 17886900  4380300  3399900  6357900\n",
            " 11725500 22123800 14523000 19789800 16587600 17713500 17886900 20454000\n",
            " 23896500 14696100 14368800  4029300 20994000 18600900  3588000 13656900\n",
            " 11241900  6119100 18740100 21036600  8911800 23275200  5618100  7575900\n",
            " 23162400 19657500 23162400  5257200  8247300 18333000 14401500 27715500\n",
            " 26684400  3777900  4730100 15734700 26670300 26670300 26906700 24013500\n",
            " 27354600 20921400 11855400 19940100 12885600  6086400 11772000 12299100\n",
            " 21868800 30567000 29606400 27354600 21491700 23307600 25965300 28198800\n",
            " 11384700 16380900 24287700 24470700 20185500 27126000 29115000 26989200\n",
            "  9824700 10354688 30221400 22826400 28356600 27494100 18735000 10354688\n",
            " 23720700 10138200  2052300 21488700 15650400 21444300 18256500 23310600\n",
            " 25189800 19915500 27886800 24940500 28869900 28213800 22905300 16064100\n",
            " 28788000 26108400 25805100 28482000 25670400 21788100 11449500  6512700\n",
            "  9930000 22631700 24520200 21813300 25807800 24790200 27993900 28490100\n",
            " 27232500 28194000 13068900 21213900 28357500 28244700 30239400 15551400\n",
            " 27901500 29385600 27809400 27244200 21213900 28233300 27366000 13308900\n",
            "  5257200 14401500 28788000 11004300  6357900 23586900 26307300 26212800\n",
            " 26824500 28496400 26746200 25365000 27389400 22340100 19328100 24527700\n",
            " 19687200 22826400 25286100 27333000 14401500 20412900 19091100 20024700\n",
            " 24904800 11004300 22826400 22318800 19460700 21252600 19026000 19877700\n",
            " 20726400 23470500 15405300 23847600 21824100 23896500 21363900 25349400\n",
            " 23192100 19896600 20885100 18009900 25163100 21899400 23037600 21381900\n",
            " 22689600 23402700 16707300 27296100 16380900 20681100 22242600 18861900\n",
            " 22212000 19961700 21174900 21174900  6305100 20348100 19991400 20348100\n",
            " 12847200 15551400 19360800 17907900  8367300 20673600 19789800 17707200\n",
            " 22598400  5726100  9342300  8605800  5647800  1701300  6948000  5348700\n",
            " 15682500 15997800  9472800  8101200 18389100 13503000 14802900  8818500\n",
            "  7923300  7852800 16763700 15346500  8643600  2487600  8167200  7124700\n",
            " 15226800 13260000 12065100  7521300  4655100  1233300  7935300 11426100\n",
            " 16420500 12947700 16936500 12153300  4311300  3301800  3455400  5351700\n",
            "  8778300  3078900  1885800  2412900  4168200  4168200 10818900   877800\n",
            "  1563600   968700  7085400 11640000  8167200 12321600  4742100  2111700\n",
            "  8190300 11968800 12688500 12561600 10044300  1292700  4947900  7984200\n",
            "  5846100 11382300 11442600 10541100 12137700 10970100 14244300  7828800\n",
            " 11467500  8778300 10695600 15714000  9467700 10144500  1890900 12049500\n",
            " 12064800 11737500 12038100  8124000  1746900  1856400  7071600  8421300\n",
            "  1283400  1283400  8175000  1487100   772800 11631300  7196400  8176800\n",
            "  9996300  3895800  1548600  2838000 11822100 12174600 12174600 12174600\n",
            " 14244300 17161200 16221600 11864700  7234200 11891400 14244300 13882800\n",
            " 17060700 11345400  1885800  8127900 14581500 18220800  6727500  1885800\n",
            "  4275000 13978800 11817900  9493800  3636900 10780200 11616900 13384200\n",
            "  5351700 16936500  8175000  3856200 15478500 12187500  6793500 15144900\n",
            " 12153300 13902000  6278700 16883100  7244700  1372200 18074100 16610700\n",
            " 15588900  2111700  8026500 14901300 17347800 16883100 21006600 23896500\n",
            " 14696100 18640800  8011200 15696600 20987100 18740100 15280200 20943300\n",
            " 15391500  1066500 22200300 23236800 23073300  9658200 17328600  9995100\n",
            "  3267600 16742100  6718800 23468700 15792000 10872600 25243500 22303800\n",
            " 23073300  6922200 19338300 23266500 20994000 25453200  8388900 17816700\n",
            " 10682400 22828500 19938000 15969600 13263300 15360300 24217200 24224700\n",
            " 20412900 20673600 23902800 28576800  4167000 12388800 15603000 14936400\n",
            " 26479500 26479500 18731100 26625300 20987100 17788200  1721700 18229500\n",
            " 15187200 13329600 22934400 21520200 15975000 24885900 11904900  9040500\n",
            " 12401700 21491700 23481000 22826400 10138200 29960400 26479500 28482000\n",
            " 29315400 17700600 28120800 27023700 17284500 17552400 19650000 27413100\n",
            " 17552400 21206400 26336700 29586900 16309500 23058900 16309500 14059200\n",
            " 27304500 27126000 13754400 15405300 24308400 26215800 28490100 29365800\n",
            " 21717600 22584600 27261300 22584600 27293100 25089300 19731900 15680100\n",
            " 24013500 29398200 24919800 27416100 30310200 30074100 29792400 29330100\n",
            " 28244700 28244700 29330100 28244700 29246700 27225900 26393100 29069100\n",
            " 19437300 28981200 24876900 28213800 29330100 29385600 27243300 28525500\n",
            " 19057800 23551800 23978700 25901700 27267900 25593900 25546800 24326700\n",
            " 27718800 28547700 26751000 28484400 26935800 19801200 17291700  6086400\n",
            " 24675900 19082100 27789900 27789900 23475600 25302600 25939500 26145900\n",
            " 21852600 16816500 22258200 19402200 22077000 26704800 25452600 25540200\n",
            " 22050300 17697000 12369900 21788100 17568600 20029200 22077000 23551800\n",
            " 21149400 21444300 22795500 22507500 25645800 24464700 24742500 17467500\n",
            " 10825200 24662700 24513300 23047500 15819000 27150300 14480400 26036400\n",
            " 24513300 20673600 17923500 23402700 25731600 15551400 16952700 23877900\n",
            " 17790000 15913800 22916100 20868300 16952700 18955500 19365000 21174900\n",
            " 19961700 19665000  8048400  4788900 17907900 18861900 12055800 15734100\n",
            " 10196100 12055800 16933200  4787700 18282300 16938300 15870600 16347300\n",
            " 26767800 20187300 17810100 10412100 18042900 17811000 18348900 17811000\n",
            " 10412100 15575100 22531500  4788900 16881900  4935900  8044800  4956900\n",
            " 17366400 17802900 17756100 16420500 16420500 13621500  6874200  6909900\n",
            " 17756100 13260000 17655600 13503000 13503000 17756100 12770100 13453200\n",
            " 12104700 13357200 12835500 19335600 12104700 12769500  7085400 20808900\n",
            " 12301200  5435700 10661100  8562000 14077500 14481600 15720900 10144500\n",
            " 12785400  8752800 16723500  1033200 14565900 11563800 11381100 11563800\n",
            "  2340000  7509300 15714000 11891400  5605800 10121700 10121700 11737500\n",
            " 12052800 11575500  9430500  7984200 12322200  5596200  2733300  8124000\n",
            " 10760100  6904800 14565900 11119200  4788900  4655100 11945100  7984200\n",
            " 11293200 10953300]\n"
          ]
        }
      ]
    },
    {
      "cell_type": "code",
      "source": [
        "# Comparación de predicciones actuales con \n",
        "print(np.hstack((y_pred[:5,np.newaxis], y_test[:5,np.newaxis])))"
      ],
      "metadata": {
        "colab": {
          "base_uri": "https://localhost:8080/"
        },
        "id": "7I0ODVPPWtws",
        "outputId": "114e44c5-97fc-4a19-e51a-e29c265ae663"
      },
      "execution_count": 31,
      "outputs": [
        {
          "output_type": "stream",
          "name": "stdout",
          "text": [
            "[[12637200 11121600]\n",
            " [ 9778800 10962000]\n",
            " [ 1818900  1597200]\n",
            " [ 8421300 11056200]\n",
            " [12719700  8856600]]\n"
          ]
        },
        {
          "output_type": "stream",
          "name": "stderr",
          "text": [
            "<ipython-input-31-2f31e14bb28e>:2: FutureWarning: Support for multi-dimensional indexing (e.g. `obj[:, None]`) is deprecated and will be removed in a future version.  Convert to a numpy array before indexing instead.\n",
            "  print(np.hstack((y_pred[:5,np.newaxis], y_test[:5,np.newaxis])))\n"
          ]
        }
      ]
    },
    {
      "cell_type": "code",
      "source": [
        "accuracy_tree = metrics.accuracy_score(y_test, y_pred)\n",
        "print(print(f\"Precisión del modelo árboles de regresión: {accuracy_tree * 100:.2f} %\"))"
      ],
      "metadata": {
        "colab": {
          "base_uri": "https://localhost:8080/"
        },
        "id": "sjgB_hIxXJ9d",
        "outputId": "ec81b389-3fe1-438d-81fa-f7d0b9c630c0"
      },
      "execution_count": 34,
      "outputs": [
        {
          "output_type": "stream",
          "name": "stdout",
          "text": [
            "Precisión del modelo árboles de regresión: 0.00 %\n",
            "None\n"
          ]
        }
      ]
    },
    {
      "cell_type": "markdown",
      "source": [
        "### **Regresión lineal**"
      ],
      "metadata": {
        "id": "j2llvQO5uG8H"
      }
    },
    {
      "cell_type": "markdown",
      "source": [
        "## **Ajuste de hiperparámetros**"
      ],
      "metadata": {
        "id": "u5nVrwbHafhO"
      }
    },
    {
      "cell_type": "markdown",
      "source": [
        "### **KNN**"
      ],
      "metadata": {
        "id": "IujsylHruSG5"
      }
    },
    {
      "cell_type": "markdown",
      "source": [
        "### **Árboles de regresión**"
      ],
      "metadata": {
        "id": "ppDE4xq_uSOh"
      }
    },
    {
      "cell_type": "markdown",
      "source": [
        "### **Regresión lineal**"
      ],
      "metadata": {
        "id": "KQ7KmWRGuSSs"
      }
    },
    {
      "cell_type": "markdown",
      "source": [
        "## **Conclusiones**\n",
        "Responder a:\n",
        "+ ¿Cuál es el mejor método?\n",
        "+ ¿Cuál de los métodos\n",
        "básicos de aprendizaje automático es más rápido?\n",
        "+ ¿Los resultados son mejores que los\n",
        "regresores triviales/naive/baseline?\n",
        "+ ¿El ajuste de hiperparámetros mejora con respecto a los\n",
        "valores por omisión?\n",
        "+ ¿Hay algún equilibrio entre tiempo de ejecución y mejora de\n",
        "resultados? "
      ],
      "metadata": {
        "id": "3YrrMZOKafpg"
      }
    },
    {
      "cell_type": "markdown",
      "source": [
        "## **Reducción de dimensionalidad**"
      ],
      "metadata": {
        "id": "7E_ZIcmCaf0Z"
      }
    },
    {
      "cell_type": "markdown",
      "source": [
        "# **Métodos avanzados**"
      ],
      "metadata": {
        "id": "dJybkag3awk6"
      }
    },
    {
      "cell_type": "markdown",
      "source": [
        "## **Evaluación con hiperparámetros por omisión**"
      ],
      "metadata": {
        "id": "J3J9m3xRawrc"
      }
    },
    {
      "cell_type": "markdown",
      "source": [
        "### **SVMs**"
      ],
      "metadata": {
        "id": "KtcdfZq1umnj"
      }
    },
    {
      "cell_type": "markdown",
      "source": [
        "### **Random Forests**"
      ],
      "metadata": {
        "id": "LXoWeNWLumu4"
      }
    },
    {
      "cell_type": "markdown",
      "source": [
        "## **Ajuste de hiperparámetros**"
      ],
      "metadata": {
        "id": "zjjiv7Alawu2"
      }
    },
    {
      "cell_type": "markdown",
      "source": [
        "### **SVMs**"
      ],
      "metadata": {
        "id": "KiR0j5pRutBt"
      }
    },
    {
      "cell_type": "markdown",
      "source": [
        "### **Random Forests**"
      ],
      "metadata": {
        "id": "r9XoAGbuutIw"
      }
    },
    {
      "cell_type": "markdown",
      "source": [
        "## **Interpretación de la importancia de los atributos**"
      ],
      "metadata": {
        "id": "g1LABlYSa4la"
      }
    },
    {
      "cell_type": "markdown",
      "source": [
        "## **Conclusiones**"
      ],
      "metadata": {
        "id": "ojFrXFYOaw1Q"
      }
    },
    {
      "cell_type": "markdown",
      "source": [
        "Como podemos ver en el resultado anterior, la precisión (accuracy) del árbol creado es 0.0, por lo que es nula. Por tanto, se puede ver como el primer modelo claramente no es adecuado para nuestros datos. De esta forma, tendremos que estudiar otro tipo de modelo."
      ],
      "metadata": {
        "id": "rZ9UhRtZXbf5"
      }
    }
  ]
}