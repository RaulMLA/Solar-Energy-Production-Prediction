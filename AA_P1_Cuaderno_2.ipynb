{
  "nbformat": 4,
  "nbformat_minor": 0,
  "metadata": {
    "colab": {
      "provenance": []
    },
    "kernelspec": {
      "name": "python3",
      "display_name": "Python 3"
    },
    "language_info": {
      "name": "python"
    }
  },
  "cells": [
    {
      "cell_type": "markdown",
      "source": [
        "![LogoUC3M](https://www.fundacion.uc3m.es/wp-content/uploads/2018/11/Logo-UC3M-nuevo.png)\n",
        "\n",
        "### Aprendizaje Automático · Grado en Ingeniería Informática · Curso 2022/23\n",
        "---\n",
        "# **Cuaderno 2** - Práctica 1: Predicción de la producción de energía\n",
        "***Grupo Reducido 82 - Grupo de laboratorio 13***\n"
      ],
      "metadata": {
        "id": "b5elMCCV7LHu"
      }
    },
    {
      "cell_type": "markdown",
      "source": [
        "# **Modelo Final**\n",
        "Una vez llevado a cabo el análisis mediante métodos básicos y avanzados, **seleccionaremos** el mejor método, lo evaluaremos, construiremos el modelo final y haremos predicciones para la competición."
      ],
      "metadata": {
        "id": "7mlblRSe7WuR"
      }
    },
    {
      "cell_type": "markdown",
      "source": [
        "## **Selección de método**\n",
        "Antes de commenzar a construir el modelo final, seleccionaremos el mejor método de los evaluados en los puntos anteriores de la práctica."
      ],
      "metadata": {
        "id": "v3KvWvsRjUoG"
      }
    },
    {
      "cell_type": "code",
      "source": [],
      "metadata": {
        "id": "WYwibg2llFxA"
      },
      "execution_count": null,
      "outputs": []
    },
    {
      "cell_type": "markdown",
      "source": [
        "## **Evaluación del método**\n",
        "Una vez hemos seleccionado el método, usaremos la partición de test para **evaluar** el método elegido. Destacar que esta será una estimación de cómo se desempeárá el modelo en la competición o, cómo debería hacerlo."
      ],
      "metadata": {
        "id": "hrqezR0QjU4_"
      }
    },
    {
      "cell_type": "code",
      "source": [],
      "metadata": {
        "id": "cbhMFG4alFbv"
      },
      "execution_count": null,
      "outputs": []
    },
    {
      "cell_type": "markdown",
      "source": [
        "## **Entrenamiento modelo final**\n",
        "Una vez seleccionado y evaluado el método, **entrenamos** el método y lo guardamos en un fichero *modelo_final.pkl*."
      ],
      "metadata": {
        "id": "CaFKysBnj-QL"
      }
    },
    {
      "cell_type": "code",
      "source": [
        "# Creación del modelo final.\n",
        "final_clf = tree.DecisionTreeClassifier()\n",
        "np.random.seed(13)\n",
        "\n",
        "# Entrenamos el modelo final.\n",
        "final_clf.fit(X, y)"
      ],
      "metadata": {
        "id": "nWvoT-v4bxjD"
      },
      "execution_count": null,
      "outputs": []
    },
    {
      "cell_type": "code",
      "source": [
        "from joblib import dump, load\n",
        "\n",
        "# Guardamos el modelo final en un archivo.\n",
        "dump(final_clf, 'modelo_final.pkl')\n",
        "\n",
        "# Cargamos el modelo desde el archivo.\n",
        "final_clf_reloaded = load('modelo_final.pkl')"
      ],
      "metadata": {
        "id": "07oSE7K2cIWD"
      },
      "execution_count": null,
      "outputs": []
    },
    {
      "cell_type": "markdown",
      "source": [
        "## **Predicciones**\n",
        "A continuación, utilizaremos el modelo final para obtener **predicciones** para el conjunto de datos de la competición. Además, guardaremos estas predicciones en un fichero llamado *predicciones.csv*."
      ],
      "metadata": {
        "id": "H3F1cCmakGWd"
      }
    },
    {
      "cell_type": "code",
      "source": [],
      "metadata": {
        "id": "v8aGWIA7lESp"
      },
      "execution_count": null,
      "outputs": []
    }
  ]
}