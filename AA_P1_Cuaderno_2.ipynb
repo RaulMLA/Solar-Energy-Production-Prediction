{
  "cells": [
    {
      "cell_type": "markdown",
      "metadata": {
        "id": "b5elMCCV7LHu"
      },
      "source": [
        "![LogoUC3M](https://upload.wikimedia.org/wikipedia/commons/4/47/Acronimo_y_nombre_uc3m.png)\n",
        "\n",
        "Aprendizaje Automático · Grado en Ingeniería Informática · Curso 2022/23\n",
        "---\n",
        "**Cuaderno 2** - Práctica 1: Predicción de la producción de energía solar\n",
        "<br><br>\n",
        "***Grupo Reducido 82 - Grupo de laboratorio 13***\n"
      ]
    },
    {
      "cell_type": "code",
      "execution_count": 3,
      "metadata": {
        "id": "ztEbfasbo6nd"
      },
      "outputs": [],
      "source": [
        "# Importaciones necesarias.\n",
        "import numpy as np\n",
        "import pandas as pd\n",
        "from sklearn.linear_model import LinearRegression\n",
        "from sklearn.preprocessing import MinMaxScaler\n",
        "import pickle\n",
        "from rich import print"
      ]
    },
    {
      "cell_type": "code",
      "execution_count": 4,
      "metadata": {
        "id": "wUAJH3Yyo_H3"
      },
      "outputs": [],
      "source": [
        "# Cargamos los datos de entrenamiento y competición.\n",
        "\n",
        "# Datos disponibles.\n",
        "disp_df = pd.read_csv(\"disp_st13ns1.txt.bz2\",\n",
        "                      compression=\"bz2\",\n",
        "                      index_col=0)\n",
        "\n",
        "# Datos competición.\n",
        "comp_df = pd.read_csv(\"comp_st13ns1.txt.bz2\",\n",
        "                      compression=\"bz2\",\n",
        "                      index_col=0)\n",
        "\n",
        "# Semilla para la reproducibilidad.\n",
        "np.random.seed(13)\n",
        "\n",
        "# Datos.\n",
        "X = disp_df.drop('salida', axis=1)\n",
        "\n",
        "# Etiquetas.\n",
        "y = disp_df.salida\n",
        "\n",
        "# Queremos entrenar el modelo con todos los datosdisponibles y predecir los datos de competición.\n",
        "X_train = X\n",
        "y_train = y\n",
        "X_test = comp_df\n",
        "\n",
        "# Normalizamos los datos.\n",
        "scaler = MinMaxScaler()\n",
        "scaler.fit(X_train)\n",
        "\n",
        "X_train_n = scaler.transform(X_train)\n",
        "X_test_n = scaler.transform(X_test)\n",
        "\n",
        "scaler = MinMaxScaler()\n",
        "scaler.fit(y_train.values.reshape(-1, 1))\n",
        "y_train_n = scaler.transform(y_train.values.reshape(-1, 1))"
      ]
    },
    {
      "cell_type": "markdown",
      "metadata": {
        "id": "CaFKysBnj-QL"
      },
      "source": [
        "## **Entrenamiento modelo final**\n",
        "Una vez seleccionado y evaluado el método, **entrenamos** el método y lo guardamos en un fichero *modelo_final.pkl*."
      ]
    },
    {
      "cell_type": "code",
      "execution_count": 5,
      "metadata": {
        "id": "07oSE7K2cIWD"
      },
      "outputs": [],
      "source": [
        "# Entrenamos el modelo y hacemos las predicciones sobre los datos de competición.\n",
        "model = LinearRegression()\n",
        "\n",
        "model.fit(X_train_n, y_train_n)\n",
        "\n",
        "# Guardamos el modelo entrenado final en el fichero modelo_final.pkl\n",
        "with open(\"modelo_final.pkl\", \"wb\") as f:\n",
        "    pickle.dump(model, f)"
      ]
    },
    {
      "cell_type": "markdown",
      "metadata": {
        "id": "H3F1cCmakGWd"
      },
      "source": [
        "## **Predicciones**\n",
        "A continuación, utilizaremos el modelo final para obtener **predicciones** para el conjunto de datos de la competición. Además, guardaremos estas predicciones en un fichero llamado *predicciones.csv*."
      ]
    },
    {
      "cell_type": "code",
      "execution_count": 6,
      "metadata": {
        "id": "v8aGWIA7lESp"
      },
      "outputs": [],
      "source": [
        "y_pred_n = model.predict(X_test_n)\n",
        "\n",
        "y_pred = scaler.inverse_transform(y_pred_n)\n",
        "\n",
        "# Truncamos los valores negativos a 0.\n",
        "y_pred[y_pred < 0] = 0\n",
        "\n",
        "# Guardamos las predicciones en el fichero predicciones.scv.\n",
        "pd.DataFrame(y_pred, index=X_test.index, columns=[\"salida\"]).to_csv(\"predicciones.csv\")"
      ]
    }
  ],
  "metadata": {
    "colab": {
      "provenance": []
    },
    "kernelspec": {
      "display_name": "Python 3",
      "name": "python3"
    },
    "language_info": {
      "name": "python",
      "version": "3.11.3"
    }
  },
  "nbformat": 4,
  "nbformat_minor": 0
}
